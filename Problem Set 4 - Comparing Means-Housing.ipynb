{
 "cells": [
  {
   "cell_type": "markdown",
   "metadata": {},
   "source": [
    "## Problem Set 4: Comparing Means - Housing\n",
    "\n",
    "### Gabriella Rivera \n",
    "\n",
    "#### Data Exploration\n",
    "\n",
    "1."
   ]
  },
  {
   "cell_type": "code",
   "execution_count": 212,
   "metadata": {},
   "outputs": [],
   "source": [
    "import numpy as np\n",
    "import pandas as pd\n",
    "import matplotlib.pyplot as plt\n",
    "import scipy"
   ]
  },
  {
   "cell_type": "code",
   "execution_count": 213,
   "metadata": {},
   "outputs": [
    {
     "data": {
      "text/html": [
       "<div>\n",
       "<style scoped>\n",
       "    .dataframe tbody tr th:only-of-type {\n",
       "        vertical-align: middle;\n",
       "    }\n",
       "\n",
       "    .dataframe tbody tr th {\n",
       "        vertical-align: top;\n",
       "    }\n",
       "\n",
       "    .dataframe thead th {\n",
       "        text-align: right;\n",
       "    }\n",
       "</style>\n",
       "<table border=\"1\" class=\"dataframe\">\n",
       "  <thead>\n",
       "    <tr style=\"text-align: right;\">\n",
       "      <th></th>\n",
       "      <th>city</th>\n",
       "      <th>price</th>\n",
       "    </tr>\n",
       "  </thead>\n",
       "  <tbody>\n",
       "    <tr>\n",
       "      <th>0</th>\n",
       "      <td>Beijing</td>\n",
       "      <td>401</td>\n",
       "    </tr>\n",
       "    <tr>\n",
       "      <th>1</th>\n",
       "      <td>Beijing</td>\n",
       "      <td>436</td>\n",
       "    </tr>\n",
       "    <tr>\n",
       "      <th>2</th>\n",
       "      <td>Beijing</td>\n",
       "      <td>479</td>\n",
       "    </tr>\n",
       "    <tr>\n",
       "      <th>3</th>\n",
       "      <td>Beijing</td>\n",
       "      <td>415</td>\n",
       "    </tr>\n",
       "    <tr>\n",
       "      <th>4</th>\n",
       "      <td>Beijing</td>\n",
       "      <td>317</td>\n",
       "    </tr>\n",
       "    <tr>\n",
       "      <th>...</th>\n",
       "      <td>...</td>\n",
       "      <td>...</td>\n",
       "    </tr>\n",
       "    <tr>\n",
       "      <th>990</th>\n",
       "      <td>Seattle</td>\n",
       "      <td>275</td>\n",
       "    </tr>\n",
       "    <tr>\n",
       "      <th>991</th>\n",
       "      <td>Seattle</td>\n",
       "      <td>75</td>\n",
       "    </tr>\n",
       "    <tr>\n",
       "      <th>992</th>\n",
       "      <td>Seattle</td>\n",
       "      <td>99</td>\n",
       "    </tr>\n",
       "    <tr>\n",
       "      <th>993</th>\n",
       "      <td>Seattle</td>\n",
       "      <td>140</td>\n",
       "    </tr>\n",
       "    <tr>\n",
       "      <th>994</th>\n",
       "      <td>Seattle</td>\n",
       "      <td>180</td>\n",
       "    </tr>\n",
       "  </tbody>\n",
       "</table>\n",
       "<p>995 rows × 2 columns</p>\n",
       "</div>"
      ],
      "text/plain": [
       "        city  price\n",
       "0    Beijing    401\n",
       "1    Beijing    436\n",
       "2    Beijing    479\n",
       "3    Beijing    415\n",
       "4    Beijing    317\n",
       "..       ...    ...\n",
       "990  Seattle    275\n",
       "991  Seattle     75\n",
       "992  Seattle     99\n",
       "993  Seattle    140\n",
       "994  Seattle    180\n",
       "\n",
       "[995 rows x 2 columns]"
      ]
     },
     "execution_count": 213,
     "metadata": {},
     "output_type": "execute_result"
    }
   ],
   "source": [
    "bs = pd.read_csv(\"beijing-seattle-airbnb-price.csv.bz2\", sep = \"\\t\")\n",
    "bs"
   ]
  },
  {
   "cell_type": "markdown",
   "metadata": {},
   "source": [
    "2."
   ]
  },
  {
   "cell_type": "code",
   "execution_count": 214,
   "metadata": {},
   "outputs": [
    {
     "name": "stdout",
     "output_type": "stream",
     "text": [
      "city     0\n",
      "price    0\n",
      "dtype: int64\n"
     ]
    }
   ],
   "source": [
    "print(bs.isna().sum())"
   ]
  },
  {
   "cell_type": "code",
   "execution_count": 215,
   "metadata": {},
   "outputs": [
    {
     "name": "stdout",
     "output_type": "stream",
     "text": [
      "(995, 2)\n"
     ]
    }
   ],
   "source": [
    "print(bs.shape)"
   ]
  },
  {
   "cell_type": "code",
   "execution_count": 216,
   "metadata": {},
   "outputs": [
    {
     "name": "stdout",
     "output_type": "stream",
     "text": [
      "city\n",
      "Beijing    729\n",
      "Seattle    266\n",
      "Name: count, dtype: int64\n"
     ]
    }
   ],
   "source": [
    "print(bs.city.value_counts())"
   ]
  },
  {
   "cell_type": "markdown",
   "metadata": {},
   "source": [
    "The total number of observations is 995, 729 of those are in Beijing and 266 of those are in Seattle. There doesn't seem to be any missing, invalid, or suspicious entries. \n",
    "\n",
    "3.\n",
    "\n",
    "(a)"
   ]
  },
  {
   "cell_type": "code",
   "execution_count": 217,
   "metadata": {},
   "outputs": [
    {
     "name": "stdout",
     "output_type": "stream",
     "text": [
      "             price\n",
      "count   995.000000\n",
      "mean    323.949749\n",
      "std     275.097893\n",
      "min      30.000000\n",
      "25%     176.000000\n",
      "50%     267.000000\n",
      "75%     401.000000\n",
      "max    4097.000000\n"
     ]
    }
   ],
   "source": [
    "print(bs.describe())"
   ]
  },
  {
   "cell_type": "code",
   "execution_count": 218,
   "metadata": {},
   "outputs": [
    {
     "name": "stdout",
     "output_type": "stream",
     "text": [
      "         price                                                           \n",
      "         count        mean         std   min    25%    50%    75%     max\n",
      "city                                                                     \n",
      "Beijing  729.0  365.292181  274.220866  77.0  218.0  296.0  422.0  4097.0\n",
      "Seattle  266.0  210.646617  244.335794  30.0   95.0  149.0  180.0  1002.0\n"
     ]
    }
   ],
   "source": [
    "print(bs.groupby('city').describe())"
   ]
  },
  {
   "cell_type": "markdown",
   "metadata": {},
   "source": [
    "(b)"
   ]
  },
  {
   "cell_type": "code",
   "execution_count": 219,
   "metadata": {},
   "outputs": [
    {
     "data": {
      "image/png": "[encoded data removed]",
      "text/plain": [
       "<Figure size 640x480 with 1 Axes>"
      ]
     },
     "metadata": {},
     "output_type": "display_data"
    }
   ],
   "source": [
    "binrange = np.linspace(0, 4100, 100)\n",
    "_ = plt.hist(bs[bs.city == \"Beijing\"].price, label=\"Beijing\", bins= binrange, color=\"purple\", density=True, alpha=0.5)\n",
    "_ = plt.hist(bs[bs.city == \"Seattle\"].price, label=\"Seattle\", bins= binrange, color=\"green\", density=True, alpha=0.5)\n",
    "_ = plt.legend()\n",
    "_ = plt.title('Density Distribution of Airbnb Price by City')\n",
    "_ = plt.xlabel('Price')\n",
    "_ = plt.ylabel('Density')"
   ]
  },
  {
   "cell_type": "markdown",
   "metadata": {},
   "source": [
    "(c) Beijing has more espensive AirBnBs. "
   ]
  },
  {
   "cell_type": "code",
   "execution_count": 220,
   "metadata": {},
   "outputs": [
    {
     "name": "stdout",
     "output_type": "stream",
     "text": [
      "154.65\n"
     ]
    }
   ],
   "source": [
    "mean_price_diff = bs[bs['city'] == 'Beijing'].price.mean() - bs[bs['city'] == 'Seattle'].price.mean()\n",
    "print(round(mean_price_diff, 2))"
   ]
  },
  {
   "cell_type": "markdown",
   "metadata": {},
   "source": [
    "(d) The price data shown in the histograms does not appear to be normally distributed. The distribution of Airbnb prices is heavily skewed to the right, meaning there's a long tail on the higher price end. The histograms show a high peak on the left, indicating that a large number of Airbnbs are available at lower prices, and then the frequency of occurrences falls off quickly as price increases. This type of distribution is more characteristic of a log-normal distribution."
   ]
  },
  {
   "cell_type": "markdown",
   "metadata": {},
   "source": [
    "#### Part Two: Data Trasnformation\n",
    "\n",
    "1."
   ]
  },
  {
   "cell_type": "code",
   "execution_count": 221,
   "metadata": {},
   "outputs": [
    {
     "name": "stdout",
     "output_type": "stream",
     "text": [
      "0      5.993961\n",
      "1      6.077642\n",
      "2      6.171701\n",
      "3      6.028279\n",
      "4      5.758902\n",
      "         ...   \n",
      "990    5.616771\n",
      "991    4.317488\n",
      "992    4.595120\n",
      "993    4.941642\n",
      "994    5.192957\n",
      "Name: price, Length: 995, dtype: float64\n"
     ]
    }
   ],
   "source": [
    "ln_price = np.log(bs['price'])\n",
    "print(ln_price)"
   ]
  },
  {
   "cell_type": "markdown",
   "metadata": {},
   "source": [
    "2."
   ]
  },
  {
   "cell_type": "code",
   "execution_count": 222,
   "metadata": {},
   "outputs": [
    {
     "name": "stdout",
     "output_type": "stream",
     "text": [
      "0      5.993961\n",
      "1      6.077642\n",
      "2      6.171701\n",
      "3      6.028279\n",
      "4      5.758902\n",
      "         ...   \n",
      "990    5.616771\n",
      "991    4.317488\n",
      "992    4.595120\n",
      "993    4.941642\n",
      "994    5.192957\n",
      "Name: price, Length: 995, dtype: float64\n"
     ]
    },
    {
     "data": {
      "text/plain": [
       "count    995.000000\n",
       "mean       5.563792\n",
       "std        0.641641\n",
       "min        3.401197\n",
       "25%        5.170484\n",
       "50%        5.587249\n",
       "75%        5.993961\n",
       "max        8.318010\n",
       "Name: price, dtype: float64"
      ]
     },
     "execution_count": 222,
     "metadata": {},
     "output_type": "execute_result"
    }
   ],
   "source": [
    "ln_price_combined = np.log(bs.price)\n",
    "print(ln_price_combined)\n",
    "ln_price_combined.describe()"
   ]
  },
  {
   "cell_type": "code",
   "execution_count": 223,
   "metadata": {},
   "outputs": [
    {
     "name": "stdout",
     "output_type": "stream",
     "text": [
      "0      5.993961\n",
      "1      6.077642\n",
      "2      6.171701\n",
      "3      6.028279\n",
      "4      5.758902\n",
      "         ...   \n",
      "724    5.283204\n",
      "725    5.476464\n",
      "726    5.958425\n",
      "727    5.283204\n",
      "728    5.170484\n",
      "Name: price, Length: 729, dtype: float64\n"
     ]
    },
    {
     "data": {
      "text/plain": [
       "count    729.000000\n",
       "mean       5.761401\n",
       "std        0.489774\n",
       "min        4.343805\n",
       "25%        5.384495\n",
       "50%        5.690359\n",
       "75%        6.045005\n",
       "max        8.318010\n",
       "Name: price, dtype: float64"
      ]
     },
     "execution_count": 223,
     "metadata": {},
     "output_type": "execute_result"
    }
   ],
   "source": [
    "ln_price_beijing = np.log(bs[bs['city'] == \"Beijing\"].price)\n",
    "print(ln_price_beijing)\n",
    "ln_price_beijing.describe()"
   ]
  },
  {
   "cell_type": "code",
   "execution_count": 224,
   "metadata": {},
   "outputs": [
    {
     "name": "stdout",
     "output_type": "stream",
     "text": [
      "729    4.330733\n",
      "730    4.382027\n",
      "731    4.595120\n",
      "732    4.442651\n",
      "733    4.553877\n",
      "         ...   \n",
      "990    5.616771\n",
      "991    4.317488\n",
      "992    4.595120\n",
      "993    4.941642\n",
      "994    5.192957\n",
      "Name: price, Length: 266, dtype: float64\n"
     ]
    },
    {
     "data": {
      "text/plain": [
       "count    266.000000\n",
       "mean       5.022227\n",
       "std        0.695318\n",
       "min        3.401197\n",
       "25%        4.553877\n",
       "50%        5.003946\n",
       "75%        5.192957\n",
       "max        6.909753\n",
       "Name: price, dtype: float64"
      ]
     },
     "execution_count": 224,
     "metadata": {},
     "output_type": "execute_result"
    }
   ],
   "source": [
    "ln_price_seattle = np.log(bs[bs['city'] == \"Seattle\"].price)\n",
    "print(ln_price_seattle)\n",
    "ln_price_seattle.describe()"
   ]
  },
  {
   "cell_type": "code",
   "execution_count": 225,
   "metadata": {},
   "outputs": [
    {
     "data": {
      "image/png": "[encoded data removed]",
      "text/plain": [
       "<Figure size 640x480 with 1 Axes>"
      ]
     },
     "metadata": {},
     "output_type": "display_data"
    }
   ],
   "source": [
    "binrange = np.linspace(2, 10, 100)\n",
    "_ = plt.hist(ln_price_combined, label=\"Combined\", bins= binrange, color=\"blue\", density=True, alpha=0.5)\n",
    "_ = plt.hist(ln_price_beijing, label=\"Beijing\", bins= binrange, color=\"purple\", density=True, alpha=0.5)\n",
    "_ = plt.hist(ln_price_seattle, label=\"Seattle\", bins= binrange, color=\"green\", density=True, alpha=0.5)\n",
    "_ = plt.legend()\n",
    "_ = plt.title('Density Distribution of Airbnb Price by City')\n",
    "_ = plt.xlabel('Log-Price')\n",
    "_ = plt.ylabel('Density')"
   ]
  },
  {
   "cell_type": "markdown",
   "metadata": {},
   "source": [
    "3."
   ]
  },
  {
   "cell_type": "code",
   "execution_count": 226,
   "metadata": {},
   "outputs": [
    {
     "name": "stdout",
     "output_type": "stream",
     "text": [
      "0.739\n"
     ]
    }
   ],
   "source": [
    "mean_ln_price_diff = ln_price_beijing.mean() - ln_price_seattle.mean()\n",
    "print(round(mean_ln_price_diff, 3))"
   ]
  },
  {
   "cell_type": "markdown",
   "metadata": {},
   "source": [
    "####   3 Brute-Force Approach\n",
    "\n",
    "1."
   ]
  },
  {
   "cell_type": "code",
   "execution_count": 227,
   "metadata": {},
   "outputs": [
    {
     "name": "stdout",
     "output_type": "stream",
     "text": [
      "5.564\n",
      "0.641\n"
     ]
    }
   ],
   "source": [
    "o_log_Mu = np.mean(ln_price_combined)\n",
    "o_log_Sd = np.std(ln_price_combined)\n",
    "print(round(o_log_Mu, 3))\n",
    "print(round(o_log_Sd, 3))"
   ]
  },
  {
   "cell_type": "markdown",
   "metadata": {},
   "source": [
    "2."
   ]
  },
  {
   "cell_type": "code",
   "execution_count": 228,
   "metadata": {},
   "outputs": [
    {
     "data": {
      "text/plain": [
       "array([5.93814551, 5.21475207, 5.46975086, 5.17072283, 6.36149186,\n",
       "       5.93238186, 6.52422893, 6.31222626, 5.91553473, 5.71601918,\n",
       "       5.03159879, 4.93303003, 4.48875687, 5.74038358, 6.6542079 ,\n",
       "       4.77966251, 5.15021237, 5.0176055 , 5.44490326, 5.47801541])"
      ]
     },
     "execution_count": 228,
     "metadata": {},
     "output_type": "execute_result"
    }
   ],
   "source": [
    "simulatedlogBeijing = np.random.normal(o_log_Mu, o_log_Sd, size=729) \n",
    "simulatedlogSeattle = np.random.normal(o_log_Mu, o_log_Sd, size=266) \n",
    "simulatedlogBeijing[:20]"
   ]
  },
  {
   "cell_type": "code",
   "execution_count": 229,
   "metadata": {},
   "outputs": [
    {
     "data": {
      "text/plain": [
       "array([6.40185356, 5.16794261, 5.33964034, 4.98773691, 6.13027912,\n",
       "       5.73963695, 5.37042349, 5.64085602, 4.71721428, 5.90139525,\n",
       "       5.77382526, 5.60334475, 5.7336866 , 7.22071698, 5.7540476 ,\n",
       "       5.9551681 , 5.59122177, 4.76622157, 4.76973156, 6.33551569])"
      ]
     },
     "execution_count": 229,
     "metadata": {},
     "output_type": "execute_result"
    }
   ],
   "source": [
    "simulatedlogSeattle[:20]"
   ]
  },
  {
   "cell_type": "code",
   "execution_count": 230,
   "metadata": {},
   "outputs": [
    {
     "name": "stdout",
     "output_type": "stream",
     "text": [
      "-0.012\n"
     ]
    }
   ],
   "source": [
    "sim_log_price_mean_diff = simulatedlogBeijing.mean() - simulatedlogSeattle.mean()\n",
    "print(round(sim_log_price_mean_diff, 3))"
   ]
  },
  {
   "cell_type": "markdown",
   "metadata": {},
   "source": [
    "Question 2.3's mean price difference is 0.739 , which is greater than the simulated mean price difference, which is 0.093"
   ]
  },
  {
   "cell_type": "markdown",
   "metadata": {},
   "source": [
    "3."
   ]
  },
  {
   "cell_type": "code",
   "execution_count": 231,
   "metadata": {},
   "outputs": [
    {
     "name": "stdout",
     "output_type": "stream",
     "text": [
      "-9.708\n"
     ]
    }
   ],
   "source": [
    "converted_prices_b = np.exp(simulatedlogBeijing)\n",
    "converted_prices_s = np.exp(simulatedlogSeattle)\n",
    "mean_diff_converted = np.mean(converted_prices_b) - np.mean(converted_prices_s)\n",
    "print(round(mean_diff_converted, 3))"
   ]
  },
  {
   "cell_type": "markdown",
   "metadata": {},
   "source": [
    "4. The reason for this decision is tied to the null hypothesis, which states that there is no difference in the underlying population prices between the two cities. To test this, we simulate data under the assumption that this null hypothesis is correct — hence, both cities come from the same distribution, characterized by the same mean and variance. By using the same mean and variance, any differences observed in the simulated data can be attributed solely to random variation.  By keeping the mean and standard deviation constant, we control for variability between the two sets of data.\n",
    "\n",
    "5."
   ]
  },
  {
   "cell_type": "code",
   "execution_count": 232,
   "metadata": {},
   "outputs": [],
   "source": [
    "R = 1000\n",
    "diffs = np.empty(R)\n",
    "for i in range(R):\n",
    "    simulated_B = np.random.normal(o_log_Mu, o_log_Sd, size=729)\n",
    "    simulated_S = np.random.normal(o_log_Mu, o_log_Sd, size=266)\n",
    "    diffs[i] = np.mean(simulated_B) - np.mean(simulated_S)"
   ]
  },
  {
   "cell_type": "markdown",
   "metadata": {},
   "source": [
    "6."
   ]
  },
  {
   "cell_type": "code",
   "execution_count": 233,
   "metadata": {},
   "outputs": [
    {
     "name": "stdout",
     "output_type": "stream",
     "text": [
      "0.1548359254335745\n"
     ]
    }
   ],
   "source": [
    "print(abs(diffs).max())"
   ]
  },
  {
   "cell_type": "markdown",
   "metadata": {},
   "source": [
    "7."
   ]
  },
  {
   "cell_type": "code",
   "execution_count": 234,
   "metadata": {},
   "outputs": [
    {
     "data": {
      "text/plain": [
       "array([-0.12583127,  0.12240912])"
      ]
     },
     "execution_count": 234,
     "metadata": {},
     "output_type": "execute_result"
    }
   ],
   "source": [
    "np.percentile(diffs, [0.5, 99.5])"
   ]
  },
  {
   "cell_type": "markdown",
   "metadata": {},
   "source": [
    "8. No, the observed difference in log-price (Question 2.3) does not fall into that interval.\n",
    "\n",
    "9. If the actual observed difference in Airbnb prices between the two cities is less than or around the maximum difference seen in the simulations, it suggests that the observed difference could be due to sample variation — that is, it could occur by chance alone when drawing samples from populations with no true difference in means.\n",
    "However, if the actual observed difference is greater than the maximum difference seen in the simulations or lies outside the 99% confidence interval, it suggests that the observed difference is unlikely to be due to chance alone and that there might be a real difference in Airbnb prices between the two cities."
   ]
  },
  {
   "cell_type": "markdown",
   "metadata": {},
   "source": [
    "#### 4 Part Four: t-test\n",
    "\n",
    "1."
   ]
  },
  {
   "cell_type": "code",
   "execution_count": 235,
   "metadata": {},
   "outputs": [
    {
     "name": "stdout",
     "output_type": "stream",
     "text": [
      "0.046\n"
     ]
    }
   ],
   "source": [
    "ln_std_dev_beijing = np.std(ln_price_beijing)     # standard deviation for Beijing log-prices\n",
    "ln_std_dev_seattle = np.std(ln_price_seattle)     # standard deviation for Seattle log-prices\n",
    "n_beijing = 729                                   # sample size for Beijing\n",
    "n_seattle = 266                                   # sample size for Seattle\n",
    "\n",
    "sigma = np.sqrt((ln_std_dev_beijing ** 2 / n_beijing) + (ln_std_dev_seattle ** 2 / n_seattle))\n",
    "print(round(sigma, 3))"
   ]
  },
  {
   "cell_type": "markdown",
   "metadata": {},
   "source": [
    "2."
   ]
  },
  {
   "cell_type": "code",
   "execution_count": 236,
   "metadata": {},
   "outputs": [
    {
     "name": "stdout",
     "output_type": "stream",
     "text": [
      "The 99% CI is from -0.12 to 0.12\n"
     ]
    }
   ],
   "source": [
    "# degrees of freedom = min(n_beijing - 1, n_seattle - 1) = 265\n",
    "t_crit = 2.59\n",
    "\n",
    "# Option 1: Compute a 99% CI around H0 value and check if the apparent difference lies within that CI \n",
    "\n",
    "# Our null hypothesis H0 is that the difference in prices in the underlying population of AirBnBs in Beijing is 0\n",
    "lower_limit = 0 - (t_crit * sigma)\n",
    "upper_limit = 0 + (t_crit * sigma)\n",
    "\n",
    "print(f\"The 99% CI is from {round(lower_limit, 3)} to {round(upper_limit, 3)}\")"
   ]
  },
  {
   "cell_type": "code",
   "execution_count": 237,
   "metadata": {},
   "outputs": [],
   "source": [
    "# Our null hypothesis H0 is that the difference in prices in the underlying population of AirBnBs in Beijing is 0"
   ]
  },
  {
   "cell_type": "code",
   "execution_count": 238,
   "metadata": {},
   "outputs": [
    {
     "name": "stdout",
     "output_type": "stream",
     "text": [
      "The 99% CI is from 0.619 to 0.859\n"
     ]
    }
   ],
   "source": [
    "# Option 2: Compute a 99% CI around the apparent difference between cities, and check of H0 lies within that CI. \n",
    "\n",
    "lower_limit = mean_ln_price_diff - (t_crit * sigma)\n",
    "upper_limit = mean_ln_price_diff + (t_crit * sigma)\n",
    "\n",
    "print(f\"The 99% CI is from {round(lower_limit, 3)} to {round(upper_limit, 3)}\")"
   ]
  },
  {
   "cell_type": "markdown",
   "metadata": {},
   "source": [
    "3. Based on both CIs I calculated, I do feel comfortable rejecting the null hypothesis H0.\n",
    "\n",
    "4. Sigma is the standard error of of the difference of mean log-prices."
   ]
  },
  {
   "cell_type": "markdown",
   "metadata": {},
   "source": [
    "5."
   ]
  },
  {
   "cell_type": "code",
   "execution_count": 285,
   "metadata": {},
   "outputs": [
    {
     "name": "stdout",
     "output_type": "stream",
     "text": [
      "15.98\n"
     ]
    }
   ],
   "source": [
    "t_value = mean_ln_price_diff / sigma\n",
    "print(round(t_value, 2))"
   ]
  },
  {
   "cell_type": "markdown",
   "metadata": {},
   "source": [
    "6. A t-value of 15.98 would be beyond the values listed in typical t-tables, which means it would correspond to a p-value significantly smaller than the smallest p-values typically given in the table (often p < 0.0001). In practical terms, this t-value suggests that the likelihood of observing such a large difference in means, if the null hypothesis were true (meaning no actual difference), is extremely low. It is unlikely to see this value just by random chance. \n",
    "\n",
    "7. Given the t-value calculated and its associated very small p-value, you would reject the null hypothesis that there is no difference in prices. The conclusion is that it is very unlikely that the observed difference in mean log-prices between Beijing and Seattle is due to random chance. Therefore, based on this statistical evidence, it can be concluded that Beijing is more expensive than Seattle when it comes to Airbnb prices, according to the data analyzed."
   ]
  },
  {
   "cell_type": "markdown",
   "metadata": {},
   "source": [
    "#### 5 Canned t-test Function\n",
    "\n",
    "1. "
   ]
  },
  {
   "cell_type": "code",
   "execution_count": 252,
   "metadata": {},
   "outputs": [
    {
     "data": {
      "text/plain": [
       "TtestResult(statistic=15.954061957013737, pvalue=7.439441804547704e-44, df=365.2794634821374)"
      ]
     },
     "execution_count": 252,
     "metadata": {},
     "output_type": "execute_result"
    }
   ],
   "source": [
    "scipy.stats.ttest_ind(ln_price_beijing, ln_price_seattle, equal_var=False)"
   ]
  },
  {
   "cell_type": "code",
   "execution_count": 258,
   "metadata": {},
   "outputs": [
    {
     "name": "stdout",
     "output_type": "stream",
     "text": [
      "15.95 0.0\n"
     ]
    }
   ],
   "source": [
    "t_statistic, p_value = scipy.stats.ttest_ind(ln_price_beijing, ln_price_seattle, equal_var=False)\n",
    "print(round(t_statistic, 2), round(p_value, 3))"
   ]
  },
  {
   "cell_type": "markdown",
   "metadata": {},
   "source": [
    "2. In conclusion, all indicators seem to agree that there is a statistically significant difference in Airbnb log-prices between Beijing and Seattle. From the simulations, you found that the difference in mean log-prices could not be attributed to random chance alone. The 99% confidence interval did not contain the null value of zero, indicating a significant difference. The calculated t-value was much larger than any typical critical value for a t-distribution, suggesting a very low probability that such an extreme value could occur if the null hypothesis were true. Finally, the Python t-test yielded a p-value far below any conventional threshold for statistical significance, reinforcing the rejection of the null hypothesis."
   ]
  },
  {
   "cell_type": "markdown",
   "metadata": {},
   "source": [
    "#### 6 Challenge\n",
    "\n",
    "1."
   ]
  },
  {
   "cell_type": "code",
   "execution_count": 259,
   "metadata": {},
   "outputs": [],
   "source": [
    "R = 1000000\n",
    "diffs = np.empty(R)\n",
    "for i in range(R):\n",
    "    simulated_B = np.random.normal(o_log_Mu, o_log_Sd, size=729)\n",
    "    simulated_S = np.random.normal(o_log_Mu, o_log_Sd, size=266)\n",
    "    diffs[i] = np.mean(simulated_B) - np.mean(simulated_S)"
   ]
  },
  {
   "cell_type": "markdown",
   "metadata": {},
   "source": [
    "It took my computer 42 seconds to run 1000000 simulations"
   ]
  },
  {
   "cell_type": "code",
   "execution_count": 283,
   "metadata": {},
   "outputs": [
    {
     "name": "stdout",
     "output_type": "stream",
     "text": [
      "It would take approximately  486.11  days to run 10^12 or so experiments\n"
     ]
    }
   ],
   "source": [
    "time_per_simulation = 42 / 1000000\n",
    "\n",
    "time_for_10_12 = (time_per_simulation) * 10**12\n",
    "minutes = time_for_10_12 / 60\n",
    "hours = minutes / 60\n",
    "days = hours / 24\n",
    "print('It would take approximately ', round(days, 2), ' days to run 10^12 or so experiments')"
   ]
  },
  {
   "cell_type": "markdown",
   "metadata": {},
   "source": [
    "2."
   ]
  },
  {
   "cell_type": "code",
   "execution_count": 314,
   "metadata": {},
   "outputs": [
    {
     "name": "stdout",
     "output_type": "stream",
     "text": [
      "8.639329607955963e-58\n"
     ]
    }
   ],
   "source": [
    "from scipy import stats\n",
    "norm = stats.norm()\n",
    "p = norm.cdf(-t_value) \n",
    "print(p)"
   ]
  },
  {
   "cell_type": "markdown",
   "metadata": {},
   "source": [
    "In the example given, norm.cdf(-1.96) is used instead of norm.cdf(1.96) because the normal distribution is symmetric around zero, and the CDF is used to find the probability in the lower tail of the distribution. For a two-tailed test, you are interested in the probability of observing a value as extreme or more extreme in either direction. Since the normal distribution is symmetric, norm.cdf(-1.96) will give you the probability in the lower tail, and 1 - norm.cdf(1.96) would give you the probability in the upper tail. Both of these would be close to 0.025 when looking at a 95% confidence interval, because the 5% significance level is split into 2.5% in each tail of the distribution.\n",
    "\n",
    "If you have a t-value (let's call it t_val), you would want to find the probability of observing a t-value that extreme or more so. If t_val is positive, you would calculate 1 - norm.cdf(t_val) to get the upper tail probability. If t_val is negative, you would calculate norm.cdf(t_val) to get the lower tail probability. \n",
    "\n",
    "3."
   ]
  },
  {
   "cell_type": "code",
   "execution_count": 292,
   "metadata": {},
   "outputs": [
    {
     "name": "stdout",
     "output_type": "stream",
     "text": [
      "3.472491658655202e+57\n"
     ]
    }
   ],
   "source": [
    "iterations = 3 / p\n",
    "print(iterations)"
   ]
  },
  {
   "cell_type": "markdown",
   "metadata": {},
   "source": [
    "4."
   ]
  },
  {
   "cell_type": "code",
   "execution_count": 312,
   "metadata": {},
   "outputs": [
    {
     "name": "stdout",
     "output_type": "stream",
     "text": [
      "I have,  4.624703502775193e+45  to run the simulations\n"
     ]
    }
   ],
   "source": [
    "time = time_per_simulation * iterations\n",
    "minutes = time / 60\n",
    "hours = minutes / 60\n",
    "days = hours / 24\n",
    "years = days / 365\n",
    "print('I have, ', years, ' to run the simulations')\n",
    "# bajillion_yrs = years / 10000000000000000000000000000000000000000000000000\n",
    "# bajillion_yrs"
   ]
  },
  {
   "cell_type": "markdown",
   "metadata": {},
   "source": [
    "This is a crazy long amount of time. If the dinosaurs had started this simulation it still wouldn't be finished. "
   ]
  }
 ],
 "metadata": {
  "kernelspec": {
   "display_name": "Python 3",
   "language": "python",
   "name": "python3"
  },
  "language_info": {
   "codemirror_mode": {
    "name": "ipython",
    "version": 3
   },
   "file_extension": ".py",
   "mimetype": "text/x-python",
   "name": "python",
   "nbconvert_exporter": "python",
   "pygments_lexer": "ipython3",
   "version": "3.12.0"
  }
 },
 "nbformat": 4,
 "nbformat_minor": 2
}
