{
 "cells": [
  {
   "cell_type": "code",
   "execution_count": 99,
   "id": "6677ab53-24d8-4386-9a5d-42809b9aaacb",
   "metadata": {},
   "outputs": [],
   "source": [
    "import pandas as pd\n",
    "import numpy as np"
   ]
  },
  {
   "cell_type": "markdown",
   "id": "c3f3435d-cec0-4069-b5c4-35ac066eb2f4",
   "metadata": {},
   "source": [
    "## Lab - Data Frames \n",
    "\n",
    "# Name: Gabriella Rivera"
   ]
  },
  {
   "cell_type": "markdown",
   "id": "acd6a026-4c9f-4116-8213-45aaf2c5b28e",
   "metadata": {},
   "source": [
    "**code2** 2-letter country code\n",
    "\n",
    "**state** is missing for scandinavian countries\n",
    "\n",
    "**type** the count type (Deaths or Confirmed)\n",
    "\n",
    "**count** the count of the corresponding case types. This is a cumulative count, i.e. it is a count of all cases\n",
    "    from 2020 onward and it never goes down.\n",
    "\n",
    "**lockdown** the date when the country (largely) went to lockdown in 2020.\n",
    "\n",
    "**population** in late 2020.\n",
    "\n",
    "**countPC** count per capita\n",
    "\n",
    "**growth** daily growth of the count\n",
    "\n",
    "**growthPC** growth per capita"
   ]
  },
  {
   "cell_type": "markdown",
   "id": "9dc93b6a-54d1-4a5d-b7e6-5c1a510c2a4d",
   "metadata": {},
   "source": [
    "# 1 Loading Data and CSV Separator"
   ]
  },
  {
   "cell_type": "code",
   "execution_count": 100,
   "id": "2015eb84-441b-4d8d-9756-ed5c14da9691",
   "metadata": {},
   "outputs": [
    {
     "data": {
      "text/html": [
       "<div>\n",
       "<style scoped>\n",
       "    .dataframe tbody tr th:only-of-type {\n",
       "        vertical-align: middle;\n",
       "    }\n",
       "\n",
       "    .dataframe tbody tr th {\n",
       "        vertical-align: top;\n",
       "    }\n",
       "\n",
       "    .dataframe thead th {\n",
       "        text-align: right;\n",
       "    }\n",
       "</style>\n",
       "<table border=\"1\" class=\"dataframe\">\n",
       "  <thead>\n",
       "    <tr style=\"text-align: right;\">\n",
       "      <th></th>\n",
       "      <th>code2\\tcountry\\tstate\\tdate\\ttype\\tcount\\tlockdown\\tpopulation\\tcountPC\\tgrowth\\tgrowthPC</th>\n",
       "    </tr>\n",
       "  </thead>\n",
       "  <tbody>\n",
       "    <tr>\n",
       "      <th>0</th>\n",
       "      <td>DK\\tDenmark\\t\"\"\\t2020-01-22\\tConfirmed\\t0\\t202...</td>\n",
       "    </tr>\n",
       "    <tr>\n",
       "      <th>1</th>\n",
       "      <td>DK\\tDenmark\\t\"\"\\t2020-01-22\\tDeaths\\t0\\t2020-0...</td>\n",
       "    </tr>\n",
       "    <tr>\n",
       "      <th>2</th>\n",
       "      <td>DK\\tDenmark\\t\"\"\\t2020-01-23\\tConfirmed\\t0\\t202...</td>\n",
       "    </tr>\n",
       "    <tr>\n",
       "      <th>3</th>\n",
       "      <td>DK\\tDenmark\\t\"\"\\t2020-01-23\\tDeaths\\t0\\t2020-0...</td>\n",
       "    </tr>\n",
       "    <tr>\n",
       "      <th>4</th>\n",
       "      <td>DK\\tDenmark\\t\"\"\\t2020-01-24\\tConfirmed\\t0\\t202...</td>\n",
       "    </tr>\n",
       "    <tr>\n",
       "      <th>...</th>\n",
       "      <td>...</td>\n",
       "    </tr>\n",
       "    <tr>\n",
       "      <th>6523</th>\n",
       "      <td>SE\\tSweden\\t\"\"\\t2022-04-14\\tDeaths\\t18605\\t\\t1...</td>\n",
       "    </tr>\n",
       "    <tr>\n",
       "      <th>6524</th>\n",
       "      <td>SE\\tSweden\\t\"\"\\t2022-04-15\\tConfirmed\\t2495996...</td>\n",
       "    </tr>\n",
       "    <tr>\n",
       "      <th>6525</th>\n",
       "      <td>SE\\tSweden\\t\"\"\\t2022-04-15\\tDeaths\\t18605\\t\\t1...</td>\n",
       "    </tr>\n",
       "    <tr>\n",
       "      <th>6526</th>\n",
       "      <td>SE\\tSweden\\t\"\"\\t2022-04-16\\tConfirmed\\t2495996...</td>\n",
       "    </tr>\n",
       "    <tr>\n",
       "      <th>6527</th>\n",
       "      <td>SE\\tSweden\\t\"\"\\t2022-04-16\\tDeaths\\t18605\\t\\t1...</td>\n",
       "    </tr>\n",
       "  </tbody>\n",
       "</table>\n",
       "<p>6528 rows × 1 columns</p>\n",
       "</div>"
      ],
      "text/plain": [
       "     code2\\tcountry\\tstate\\tdate\\ttype\\tcount\\tlockdown\\tpopulation\\tcountPC\\tgrowth\\tgrowthPC\n",
       "0     DK\\tDenmark\\t\"\"\\t2020-01-22\\tConfirmed\\t0\\t202...                                       \n",
       "1     DK\\tDenmark\\t\"\"\\t2020-01-22\\tDeaths\\t0\\t2020-0...                                       \n",
       "2     DK\\tDenmark\\t\"\"\\t2020-01-23\\tConfirmed\\t0\\t202...                                       \n",
       "3     DK\\tDenmark\\t\"\"\\t2020-01-23\\tDeaths\\t0\\t2020-0...                                       \n",
       "4     DK\\tDenmark\\t\"\"\\t2020-01-24\\tConfirmed\\t0\\t202...                                       \n",
       "...                                                 ...                                       \n",
       "6523  SE\\tSweden\\t\"\"\\t2022-04-14\\tDeaths\\t18605\\t\\t1...                                       \n",
       "6524  SE\\tSweden\\t\"\"\\t2022-04-15\\tConfirmed\\t2495996...                                       \n",
       "6525  SE\\tSweden\\t\"\"\\t2022-04-15\\tDeaths\\t18605\\t\\t1...                                       \n",
       "6526  SE\\tSweden\\t\"\"\\t2022-04-16\\tConfirmed\\t2495996...                                       \n",
       "6527  SE\\tSweden\\t\"\"\\t2022-04-16\\tDeaths\\t18605\\t\\t1...                                       \n",
       "\n",
       "[6528 rows x 1 columns]"
      ]
     },
     "execution_count": 100,
     "metadata": {},
     "output_type": "execute_result"
    }
   ],
   "source": [
    "df = pd.read_csv('covid-scandinavia.csv.bz2')\n",
    "df"
   ]
  },
  {
   "cell_type": "code",
   "execution_count": 101,
   "id": "9611b8fe-4629-48f1-a476-174b3aafe813",
   "metadata": {},
   "outputs": [],
   "source": [
    "# this isn't helpful because the data appears to be smashed into one column"
   ]
  },
  {
   "cell_type": "code",
   "execution_count": 102,
   "id": "1d126e72-6650-449b-b220-f23185b25a71",
   "metadata": {},
   "outputs": [
    {
     "data": {
      "text/html": [
       "<div>\n",
       "<style scoped>\n",
       "    .dataframe tbody tr th:only-of-type {\n",
       "        vertical-align: middle;\n",
       "    }\n",
       "\n",
       "    .dataframe tbody tr th {\n",
       "        vertical-align: top;\n",
       "    }\n",
       "\n",
       "    .dataframe thead th {\n",
       "        text-align: right;\n",
       "    }\n",
       "</style>\n",
       "<table border=\"1\" class=\"dataframe\">\n",
       "  <thead>\n",
       "    <tr style=\"text-align: right;\">\n",
       "      <th></th>\n",
       "      <th>code2</th>\n",
       "      <th>country</th>\n",
       "      <th>state</th>\n",
       "      <th>date</th>\n",
       "      <th>type</th>\n",
       "      <th>count</th>\n",
       "      <th>lockdown</th>\n",
       "      <th>population</th>\n",
       "      <th>countPC</th>\n",
       "      <th>growth</th>\n",
       "      <th>growthPC</th>\n",
       "    </tr>\n",
       "  </thead>\n",
       "  <tbody>\n",
       "    <tr>\n",
       "      <th>0</th>\n",
       "      <td>DK</td>\n",
       "      <td>Denmark</td>\n",
       "      <td>NaN</td>\n",
       "      <td>2020-01-22</td>\n",
       "      <td>Confirmed</td>\n",
       "      <td>0</td>\n",
       "      <td>2020-03-11</td>\n",
       "      <td>5837213</td>\n",
       "      <td>0.000000</td>\n",
       "      <td>NaN</td>\n",
       "      <td>NaN</td>\n",
       "    </tr>\n",
       "    <tr>\n",
       "      <th>1</th>\n",
       "      <td>DK</td>\n",
       "      <td>Denmark</td>\n",
       "      <td>NaN</td>\n",
       "      <td>2020-01-22</td>\n",
       "      <td>Deaths</td>\n",
       "      <td>0</td>\n",
       "      <td>2020-03-11</td>\n",
       "      <td>5837213</td>\n",
       "      <td>0.000000</td>\n",
       "      <td>NaN</td>\n",
       "      <td>NaN</td>\n",
       "    </tr>\n",
       "    <tr>\n",
       "      <th>2</th>\n",
       "      <td>DK</td>\n",
       "      <td>Denmark</td>\n",
       "      <td>NaN</td>\n",
       "      <td>2020-01-23</td>\n",
       "      <td>Confirmed</td>\n",
       "      <td>0</td>\n",
       "      <td>2020-03-11</td>\n",
       "      <td>5837213</td>\n",
       "      <td>0.000000</td>\n",
       "      <td>0.0</td>\n",
       "      <td>0.00000</td>\n",
       "    </tr>\n",
       "    <tr>\n",
       "      <th>3</th>\n",
       "      <td>DK</td>\n",
       "      <td>Denmark</td>\n",
       "      <td>NaN</td>\n",
       "      <td>2020-01-23</td>\n",
       "      <td>Deaths</td>\n",
       "      <td>0</td>\n",
       "      <td>2020-03-11</td>\n",
       "      <td>5837213</td>\n",
       "      <td>0.000000</td>\n",
       "      <td>0.0</td>\n",
       "      <td>0.00000</td>\n",
       "    </tr>\n",
       "    <tr>\n",
       "      <th>4</th>\n",
       "      <td>DK</td>\n",
       "      <td>Denmark</td>\n",
       "      <td>NaN</td>\n",
       "      <td>2020-01-24</td>\n",
       "      <td>Confirmed</td>\n",
       "      <td>0</td>\n",
       "      <td>2020-03-11</td>\n",
       "      <td>5837213</td>\n",
       "      <td>0.000000</td>\n",
       "      <td>0.0</td>\n",
       "      <td>0.00000</td>\n",
       "    </tr>\n",
       "    <tr>\n",
       "      <th>...</th>\n",
       "      <td>...</td>\n",
       "      <td>...</td>\n",
       "      <td>...</td>\n",
       "      <td>...</td>\n",
       "      <td>...</td>\n",
       "      <td>...</td>\n",
       "      <td>...</td>\n",
       "      <td>...</td>\n",
       "      <td>...</td>\n",
       "      <td>...</td>\n",
       "      <td>...</td>\n",
       "    </tr>\n",
       "    <tr>\n",
       "      <th>6523</th>\n",
       "      <td>SE</td>\n",
       "      <td>Sweden</td>\n",
       "      <td>NaN</td>\n",
       "      <td>2022-04-14</td>\n",
       "      <td>Deaths</td>\n",
       "      <td>18605</td>\n",
       "      <td>NaN</td>\n",
       "      <td>10377781</td>\n",
       "      <td>0.001793</td>\n",
       "      <td>99.0</td>\n",
       "      <td>0.00001</td>\n",
       "    </tr>\n",
       "    <tr>\n",
       "      <th>6524</th>\n",
       "      <td>SE</td>\n",
       "      <td>Sweden</td>\n",
       "      <td>NaN</td>\n",
       "      <td>2022-04-15</td>\n",
       "      <td>Confirmed</td>\n",
       "      <td>2495996</td>\n",
       "      <td>NaN</td>\n",
       "      <td>10377781</td>\n",
       "      <td>0.240513</td>\n",
       "      <td>0.0</td>\n",
       "      <td>0.00000</td>\n",
       "    </tr>\n",
       "    <tr>\n",
       "      <th>6525</th>\n",
       "      <td>SE</td>\n",
       "      <td>Sweden</td>\n",
       "      <td>NaN</td>\n",
       "      <td>2022-04-15</td>\n",
       "      <td>Deaths</td>\n",
       "      <td>18605</td>\n",
       "      <td>NaN</td>\n",
       "      <td>10377781</td>\n",
       "      <td>0.001793</td>\n",
       "      <td>0.0</td>\n",
       "      <td>0.00000</td>\n",
       "    </tr>\n",
       "    <tr>\n",
       "      <th>6526</th>\n",
       "      <td>SE</td>\n",
       "      <td>Sweden</td>\n",
       "      <td>NaN</td>\n",
       "      <td>2022-04-16</td>\n",
       "      <td>Confirmed</td>\n",
       "      <td>2495996</td>\n",
       "      <td>NaN</td>\n",
       "      <td>10377781</td>\n",
       "      <td>0.240513</td>\n",
       "      <td>0.0</td>\n",
       "      <td>0.00000</td>\n",
       "    </tr>\n",
       "    <tr>\n",
       "      <th>6527</th>\n",
       "      <td>SE</td>\n",
       "      <td>Sweden</td>\n",
       "      <td>NaN</td>\n",
       "      <td>2022-04-16</td>\n",
       "      <td>Deaths</td>\n",
       "      <td>18605</td>\n",
       "      <td>NaN</td>\n",
       "      <td>10377781</td>\n",
       "      <td>0.001793</td>\n",
       "      <td>0.0</td>\n",
       "      <td>0.00000</td>\n",
       "    </tr>\n",
       "  </tbody>\n",
       "</table>\n",
       "<p>6528 rows × 11 columns</p>\n",
       "</div>"
      ],
      "text/plain": [
       "     code2  country  state        date       type    count    lockdown  \\\n",
       "0       DK  Denmark    NaN  2020-01-22  Confirmed        0  2020-03-11   \n",
       "1       DK  Denmark    NaN  2020-01-22     Deaths        0  2020-03-11   \n",
       "2       DK  Denmark    NaN  2020-01-23  Confirmed        0  2020-03-11   \n",
       "3       DK  Denmark    NaN  2020-01-23     Deaths        0  2020-03-11   \n",
       "4       DK  Denmark    NaN  2020-01-24  Confirmed        0  2020-03-11   \n",
       "...    ...      ...    ...         ...        ...      ...         ...   \n",
       "6523    SE   Sweden    NaN  2022-04-14     Deaths    18605         NaN   \n",
       "6524    SE   Sweden    NaN  2022-04-15  Confirmed  2495996         NaN   \n",
       "6525    SE   Sweden    NaN  2022-04-15     Deaths    18605         NaN   \n",
       "6526    SE   Sweden    NaN  2022-04-16  Confirmed  2495996         NaN   \n",
       "6527    SE   Sweden    NaN  2022-04-16     Deaths    18605         NaN   \n",
       "\n",
       "      population   countPC  growth  growthPC  \n",
       "0        5837213  0.000000     NaN       NaN  \n",
       "1        5837213  0.000000     NaN       NaN  \n",
       "2        5837213  0.000000     0.0   0.00000  \n",
       "3        5837213  0.000000     0.0   0.00000  \n",
       "4        5837213  0.000000     0.0   0.00000  \n",
       "...          ...       ...     ...       ...  \n",
       "6523    10377781  0.001793    99.0   0.00001  \n",
       "6524    10377781  0.240513     0.0   0.00000  \n",
       "6525    10377781  0.001793     0.0   0.00000  \n",
       "6526    10377781  0.240513     0.0   0.00000  \n",
       "6527    10377781  0.001793     0.0   0.00000  \n",
       "\n",
       "[6528 rows x 11 columns]"
      ]
     },
     "execution_count": 102,
     "metadata": {},
     "output_type": "execute_result"
    }
   ],
   "source": [
    "df = pd.read_csv('covid-scandinavia.csv.bz2', sep=\"\\t\")\n",
    "df"
   ]
  },
  {
   "cell_type": "code",
   "execution_count": 103,
   "id": "f3e2a062-5e28-433c-80d6-79082aa91dfa",
   "metadata": {},
   "outputs": [],
   "source": [
    "# now this data is separated into columns, as it should be"
   ]
  },
  {
   "cell_type": "markdown",
   "id": "38faafd3-9a34-4b1d-9bc1-44abb73ea915",
   "metadata": {},
   "source": [
    "# 2 Data Summary"
   ]
  },
  {
   "cell_type": "code",
   "execution_count": 104,
   "id": "394f3bf4-1c3b-4f30-871c-921e9ea7886c",
   "metadata": {},
   "outputs": [
    {
     "data": {
      "text/plain": [
       "code2          object\n",
       "country        object\n",
       "state         float64\n",
       "date           object\n",
       "type           object\n",
       "count           int64\n",
       "lockdown       object\n",
       "population      int64\n",
       "countPC       float64\n",
       "growth        float64\n",
       "growthPC      float64\n",
       "dtype: object"
      ]
     },
     "execution_count": 104,
     "metadata": {},
     "output_type": "execute_result"
    }
   ],
   "source": [
    "df.dtypes"
   ]
  },
  {
   "cell_type": "code",
   "execution_count": 105,
   "id": "d1a2d4c0-f865-465c-82f4-78a084dfcc99",
   "metadata": {},
   "outputs": [
    {
     "data": {
      "text/html": [
       "<div>\n",
       "<style scoped>\n",
       "    .dataframe tbody tr th:only-of-type {\n",
       "        vertical-align: middle;\n",
       "    }\n",
       "\n",
       "    .dataframe tbody tr th {\n",
       "        vertical-align: top;\n",
       "    }\n",
       "\n",
       "    .dataframe thead th {\n",
       "        text-align: right;\n",
       "    }\n",
       "</style>\n",
       "<table border=\"1\" class=\"dataframe\">\n",
       "  <thead>\n",
       "    <tr style=\"text-align: right;\">\n",
       "      <th></th>\n",
       "      <th>country</th>\n",
       "      <th>date</th>\n",
       "      <th>type</th>\n",
       "      <th>count</th>\n",
       "      <th>population</th>\n",
       "    </tr>\n",
       "  </thead>\n",
       "  <tbody>\n",
       "    <tr>\n",
       "      <th>0</th>\n",
       "      <td>Denmark</td>\n",
       "      <td>2020-01-22</td>\n",
       "      <td>Confirmed</td>\n",
       "      <td>0</td>\n",
       "      <td>5837213</td>\n",
       "    </tr>\n",
       "    <tr>\n",
       "      <th>1</th>\n",
       "      <td>Denmark</td>\n",
       "      <td>2020-01-22</td>\n",
       "      <td>Deaths</td>\n",
       "      <td>0</td>\n",
       "      <td>5837213</td>\n",
       "    </tr>\n",
       "    <tr>\n",
       "      <th>2</th>\n",
       "      <td>Denmark</td>\n",
       "      <td>2020-01-23</td>\n",
       "      <td>Confirmed</td>\n",
       "      <td>0</td>\n",
       "      <td>5837213</td>\n",
       "    </tr>\n",
       "    <tr>\n",
       "      <th>3</th>\n",
       "      <td>Denmark</td>\n",
       "      <td>2020-01-23</td>\n",
       "      <td>Deaths</td>\n",
       "      <td>0</td>\n",
       "      <td>5837213</td>\n",
       "    </tr>\n",
       "    <tr>\n",
       "      <th>4</th>\n",
       "      <td>Denmark</td>\n",
       "      <td>2020-01-24</td>\n",
       "      <td>Confirmed</td>\n",
       "      <td>0</td>\n",
       "      <td>5837213</td>\n",
       "    </tr>\n",
       "    <tr>\n",
       "      <th>...</th>\n",
       "      <td>...</td>\n",
       "      <td>...</td>\n",
       "      <td>...</td>\n",
       "      <td>...</td>\n",
       "      <td>...</td>\n",
       "    </tr>\n",
       "    <tr>\n",
       "      <th>6523</th>\n",
       "      <td>Sweden</td>\n",
       "      <td>2022-04-14</td>\n",
       "      <td>Deaths</td>\n",
       "      <td>18605</td>\n",
       "      <td>10377781</td>\n",
       "    </tr>\n",
       "    <tr>\n",
       "      <th>6524</th>\n",
       "      <td>Sweden</td>\n",
       "      <td>2022-04-15</td>\n",
       "      <td>Confirmed</td>\n",
       "      <td>2495996</td>\n",
       "      <td>10377781</td>\n",
       "    </tr>\n",
       "    <tr>\n",
       "      <th>6525</th>\n",
       "      <td>Sweden</td>\n",
       "      <td>2022-04-15</td>\n",
       "      <td>Deaths</td>\n",
       "      <td>18605</td>\n",
       "      <td>10377781</td>\n",
       "    </tr>\n",
       "    <tr>\n",
       "      <th>6526</th>\n",
       "      <td>Sweden</td>\n",
       "      <td>2022-04-16</td>\n",
       "      <td>Confirmed</td>\n",
       "      <td>2495996</td>\n",
       "      <td>10377781</td>\n",
       "    </tr>\n",
       "    <tr>\n",
       "      <th>6527</th>\n",
       "      <td>Sweden</td>\n",
       "      <td>2022-04-16</td>\n",
       "      <td>Deaths</td>\n",
       "      <td>18605</td>\n",
       "      <td>10377781</td>\n",
       "    </tr>\n",
       "  </tbody>\n",
       "</table>\n",
       "<p>6528 rows × 5 columns</p>\n",
       "</div>"
      ],
      "text/plain": [
       "      country        date       type    count  population\n",
       "0     Denmark  2020-01-22  Confirmed        0     5837213\n",
       "1     Denmark  2020-01-22     Deaths        0     5837213\n",
       "2     Denmark  2020-01-23  Confirmed        0     5837213\n",
       "3     Denmark  2020-01-23     Deaths        0     5837213\n",
       "4     Denmark  2020-01-24  Confirmed        0     5837213\n",
       "...       ...         ...        ...      ...         ...\n",
       "6523   Sweden  2022-04-14     Deaths    18605    10377781\n",
       "6524   Sweden  2022-04-15  Confirmed  2495996    10377781\n",
       "6525   Sweden  2022-04-15     Deaths    18605    10377781\n",
       "6526   Sweden  2022-04-16  Confirmed  2495996    10377781\n",
       "6527   Sweden  2022-04-16     Deaths    18605    10377781\n",
       "\n",
       "[6528 rows x 5 columns]"
      ]
     },
     "execution_count": 105,
     "metadata": {},
     "output_type": "execute_result"
    }
   ],
   "source": [
    "subset = df[['country', 'date', 'type', 'count', 'population']]\n",
    "subset\n",
    "# df.drop(labels = [\"code2\", \"state\", \"lockdown\"], axis = 1)"
   ]
  },
  {
   "cell_type": "markdown",
   "id": "618b56ba-d3b9-4896-a4d7-c3a848a5cfae",
   "metadata": {},
   "source": [
    "# 3 What kind of data do we have here? Do these make sense?"
   ]
  },
  {
   "cell_type": "markdown",
   "id": "c338cb68-d4d9-4b02-ae5c-f156a12dfe2f",
   "metadata": {},
   "source": [
    "(a) Find all the countries included in data. Are these all correct?"
   ]
  },
  {
   "cell_type": "code",
   "execution_count": 106,
   "id": "d84f1849-ada8-49fe-b81a-82bc69ce7591",
   "metadata": {},
   "outputs": [
    {
     "data": {
      "text/plain": [
       "array(['Denmark', 'Finland', 'Norway', 'Sweden'], dtype=object)"
      ]
     },
     "execution_count": 106,
     "metadata": {},
     "output_type": "execute_result"
    }
   ],
   "source": [
    "subset[\"country\"].unique()"
   ]
  },
  {
   "cell_type": "markdown",
   "id": "d41b488b-5e82-4c8f-8807-4d61b3ae737e",
   "metadata": {},
   "source": [
    "This is a list of Scandinavian countries, all the sovereign states that is, except Iceland.  "
   ]
  },
  {
   "cell_type": "markdown",
   "id": "327a11cf-9862-4f42-af23-0655bc1a7856",
   "metadata": {},
   "source": [
    "(b) Find the minimum and maximum date. Are these realistic?"
   ]
  },
  {
   "cell_type": "code",
   "execution_count": 107,
   "id": "80dfa3f3-d6db-46d7-a02d-6ca39b906773",
   "metadata": {},
   "outputs": [
    {
     "data": {
      "text/plain": [
       "'2020-01-22'"
      ]
     },
     "execution_count": 107,
     "metadata": {},
     "output_type": "execute_result"
    }
   ],
   "source": [
    "subset[\"date\"].min()"
   ]
  },
  {
   "cell_type": "code",
   "execution_count": 108,
   "id": "a969f67d-355e-4627-b85b-4dc3f5414bf8",
   "metadata": {},
   "outputs": [
    {
     "data": {
      "text/plain": [
       "'2022-04-16'"
      ]
     },
     "execution_count": 108,
     "metadata": {},
     "output_type": "execute_result"
    }
   ],
   "source": [
    "subset[\"date\"].max()"
   ]
  },
  {
   "cell_type": "markdown",
   "id": "ee36de65-fada-4c9e-8509-397d8d0b5661",
   "metadata": {},
   "source": [
    "Yes, these maximum and minimum dateas are realistic."
   ]
  },
  {
   "cell_type": "markdown",
   "id": "3adc1cb6-dce3-4748-a54f-6c299f6fa1b8",
   "metadata": {},
   "source": [
    "(c) Find the minimum and maximum count. Are these realistic?"
   ]
  },
  {
   "cell_type": "code",
   "execution_count": 109,
   "id": "ed1a6553-f86b-4219-a753-68eb22b6b162",
   "metadata": {},
   "outputs": [
    {
     "data": {
      "text/plain": [
       "0"
      ]
     },
     "execution_count": 109,
     "metadata": {},
     "output_type": "execute_result"
    }
   ],
   "source": [
    "subset[\"count\"].min()"
   ]
  },
  {
   "cell_type": "code",
   "execution_count": 110,
   "id": "f078cb65-c825-480b-80fb-7db6347136fe",
   "metadata": {},
   "outputs": [
    {
     "data": {
      "text/plain": [
       "3097015"
      ]
     },
     "execution_count": 110,
     "metadata": {},
     "output_type": "execute_result"
    }
   ],
   "source": [
    "subset[\"count\"].max()\n",
    "# max_count_id = subset[\"count\"].idxmax()\n",
    "# subset.loc[max_count_id, \"country\"]"
   ]
  },
  {
   "cell_type": "markdown",
   "id": "ce2398e2-ea79-484f-92ee-d40e054eebc5",
   "metadata": {},
   "source": [
    "The minimum count is realistic, but the maximum count isn't."
   ]
  },
  {
   "cell_type": "code",
   "execution_count": 111,
   "id": "4d29331a",
   "metadata": {},
   "outputs": [
    {
     "ename": "AttributeError",
     "evalue": "'function' object has no attribute 'min'",
     "output_type": "error",
     "traceback": [
      "\u001b[1;31m---------------------------------------------------------------------------\u001b[0m",
      "\u001b[1;31mAttributeError\u001b[0m                            Traceback (most recent call last)",
      "Cell \u001b[1;32mIn[111], line 1\u001b[0m\n\u001b[1;32m----> 1\u001b[0m \u001b[43msubset\u001b[49m\u001b[38;5;241;43m.\u001b[39;49m\u001b[43mcount\u001b[49m\u001b[38;5;241;43m.\u001b[39;49m\u001b[43mmin\u001b[49m()\n",
      "\u001b[1;31mAttributeError\u001b[0m: 'function' object has no attribute 'min'"
     ]
    }
   ],
   "source": [
    "subset.count.min()"
   ]
  },
  {
   "cell_type": "markdown",
   "id": "018eeaa5",
   "metadata": {},
   "source": [
    "I can compute it as   [\"count\"].min()   but I cannot compute this as   .count.min()   because subset.count is attempting to access a method or attribute named count on the DataFrame object. In pandas, DataFrame.count is a method that returns the count of non-NA/null observations over the requested axis. So, if we are to call subset.count(), it would return a Series with the number of non-NA/null values in each column of the DataFrame.\n",
    "\n",
    "However, if we do not follow count with parentheses, like this: subset.count, it won't execute the count() method, but will instead return a reference to the method itself, not the count of values. We cannot call min() on a reference to a method. "
   ]
  },
  {
   "cell_type": "markdown",
   "id": "b7acfdca",
   "metadata": {},
   "source": [
    "# 3 Text Question\n",
    "\n",
    "1. Why did you choose to take info370? What do you think, what are the most valuable skills you\n",
    "hope to learn here?\n",
    "\n",
    "I chose to take INFO 370 because I took CSE 163 and enjoyed it. I am looking to enter a career in data analytics and this class is a step in that direction. I hope to dive deeper into the statistical side of analytics. "
   ]
  },
  {
   "cell_type": "markdown",
   "id": "69214972",
   "metadata": {},
   "source": [
    "# 4 Cases per capita (not graded)"
   ]
  },
  {
   "cell_type": "markdown",
   "id": "d57f638f",
   "metadata": {},
   "source": [
    "1. Filter the data frame you created above and keep only the confirmed cases."
   ]
  },
  {
   "cell_type": "code",
   "execution_count": null,
   "id": "0e602843",
   "metadata": {},
   "outputs": [
    {
     "data": {
      "text/html": [
       "<div>\n",
       "<style scoped>\n",
       "    .dataframe tbody tr th:only-of-type {\n",
       "        vertical-align: middle;\n",
       "    }\n",
       "\n",
       "    .dataframe tbody tr th {\n",
       "        vertical-align: top;\n",
       "    }\n",
       "\n",
       "    .dataframe thead th {\n",
       "        text-align: right;\n",
       "    }\n",
       "</style>\n",
       "<table border=\"1\" class=\"dataframe\">\n",
       "  <thead>\n",
       "    <tr style=\"text-align: right;\">\n",
       "      <th></th>\n",
       "      <th>country</th>\n",
       "      <th>date</th>\n",
       "      <th>type</th>\n",
       "      <th>count</th>\n",
       "      <th>population</th>\n",
       "    </tr>\n",
       "  </thead>\n",
       "  <tbody>\n",
       "    <tr>\n",
       "      <th>0</th>\n",
       "      <td>Denmark</td>\n",
       "      <td>2020-01-22</td>\n",
       "      <td>Confirmed</td>\n",
       "      <td>0</td>\n",
       "      <td>5837213</td>\n",
       "    </tr>\n",
       "    <tr>\n",
       "      <th>2</th>\n",
       "      <td>Denmark</td>\n",
       "      <td>2020-01-23</td>\n",
       "      <td>Confirmed</td>\n",
       "      <td>0</td>\n",
       "      <td>5837213</td>\n",
       "    </tr>\n",
       "    <tr>\n",
       "      <th>4</th>\n",
       "      <td>Denmark</td>\n",
       "      <td>2020-01-24</td>\n",
       "      <td>Confirmed</td>\n",
       "      <td>0</td>\n",
       "      <td>5837213</td>\n",
       "    </tr>\n",
       "    <tr>\n",
       "      <th>6</th>\n",
       "      <td>Denmark</td>\n",
       "      <td>2020-01-25</td>\n",
       "      <td>Confirmed</td>\n",
       "      <td>0</td>\n",
       "      <td>5837213</td>\n",
       "    </tr>\n",
       "    <tr>\n",
       "      <th>8</th>\n",
       "      <td>Denmark</td>\n",
       "      <td>2020-01-26</td>\n",
       "      <td>Confirmed</td>\n",
       "      <td>0</td>\n",
       "      <td>5837213</td>\n",
       "    </tr>\n",
       "    <tr>\n",
       "      <th>...</th>\n",
       "      <td>...</td>\n",
       "      <td>...</td>\n",
       "      <td>...</td>\n",
       "      <td>...</td>\n",
       "      <td>...</td>\n",
       "    </tr>\n",
       "    <tr>\n",
       "      <th>6518</th>\n",
       "      <td>Sweden</td>\n",
       "      <td>2022-04-12</td>\n",
       "      <td>Confirmed</td>\n",
       "      <td>2491980</td>\n",
       "      <td>10377781</td>\n",
       "    </tr>\n",
       "    <tr>\n",
       "      <th>6520</th>\n",
       "      <td>Sweden</td>\n",
       "      <td>2022-04-13</td>\n",
       "      <td>Confirmed</td>\n",
       "      <td>2491980</td>\n",
       "      <td>10377781</td>\n",
       "    </tr>\n",
       "    <tr>\n",
       "      <th>6522</th>\n",
       "      <td>Sweden</td>\n",
       "      <td>2022-04-14</td>\n",
       "      <td>Confirmed</td>\n",
       "      <td>2495996</td>\n",
       "      <td>10377781</td>\n",
       "    </tr>\n",
       "    <tr>\n",
       "      <th>6524</th>\n",
       "      <td>Sweden</td>\n",
       "      <td>2022-04-15</td>\n",
       "      <td>Confirmed</td>\n",
       "      <td>2495996</td>\n",
       "      <td>10377781</td>\n",
       "    </tr>\n",
       "    <tr>\n",
       "      <th>6526</th>\n",
       "      <td>Sweden</td>\n",
       "      <td>2022-04-16</td>\n",
       "      <td>Confirmed</td>\n",
       "      <td>2495996</td>\n",
       "      <td>10377781</td>\n",
       "    </tr>\n",
       "  </tbody>\n",
       "</table>\n",
       "<p>3264 rows × 5 columns</p>\n",
       "</div>"
      ],
      "text/plain": [
       "      country        date       type    count  population\n",
       "0     Denmark  2020-01-22  Confirmed        0     5837213\n",
       "2     Denmark  2020-01-23  Confirmed        0     5837213\n",
       "4     Denmark  2020-01-24  Confirmed        0     5837213\n",
       "6     Denmark  2020-01-25  Confirmed        0     5837213\n",
       "8     Denmark  2020-01-26  Confirmed        0     5837213\n",
       "...       ...         ...        ...      ...         ...\n",
       "6518   Sweden  2022-04-12  Confirmed  2491980    10377781\n",
       "6520   Sweden  2022-04-13  Confirmed  2491980    10377781\n",
       "6522   Sweden  2022-04-14  Confirmed  2495996    10377781\n",
       "6524   Sweden  2022-04-15  Confirmed  2495996    10377781\n",
       "6526   Sweden  2022-04-16  Confirmed  2495996    10377781\n",
       "\n",
       "[3264 rows x 5 columns]"
      ]
     },
     "execution_count": 76,
     "metadata": {},
     "output_type": "execute_result"
    }
   ],
   "source": [
    "confirmed = subset[subset['type'] == 'Confirmed']\n",
    "confirmed"
   ]
  },
  {
   "cell_type": "markdown",
   "id": "55cfe5a5",
   "metadata": {},
   "source": [
    "How many cases do you have in the subset?\n",
    "3264"
   ]
  },
  {
   "cell_type": "markdown",
   "id": "75b379a4",
   "metadata": {},
   "source": [
    "2. Create a new variable, confirmed cases per capita, by dividing the confirmed cases’ count by population."
   ]
  },
  {
   "cell_type": "code",
   "execution_count": null,
   "id": "49c9faf3",
   "metadata": {},
   "outputs": [
    {
     "name": "stderr",
     "output_type": "stream",
     "text": [
      "C:\\Users\\Gabriella Rivera\\AppData\\Local\\Temp\\ipykernel_13536\\193692614.py:1: SettingWithCopyWarning: \n",
      "A value is trying to be set on a copy of a slice from a DataFrame.\n",
      "Try using .loc[row_indexer,col_indexer] = value instead\n",
      "\n",
      "See the caveats in the documentation: https://pandas.pydata.org/pandas-docs/stable/user_guide/indexing.html#returning-a-view-versus-a-copy\n",
      "  confirmed[\"confirmed_cases_per_capita\"] = confirmed[\"count\"]/confirmed[\"population\"]\n"
     ]
    }
   ],
   "source": [
    "confirmed[\"confirmed_cases_per_capita\"] = confirmed[\"count\"]/confirmed[\"population\"]"
   ]
  },
  {
   "cell_type": "markdown",
   "id": "1055ff7f",
   "metadata": {},
   "source": [
    "3. You may notice a warning: “A value is trying to be set on a copy of a slice...”. Why do we get this\n",
    "warning? How can we get rid of it? Repeat the previous steps in a way that you do not get the\n",
    "warning!\n",
    "\n",
    "We need to make an explicit copy with .copy method before we start any modifications:"
   ]
  },
  {
   "cell_type": "code",
   "execution_count": null,
   "id": "00ad4b11",
   "metadata": {},
   "outputs": [
    {
     "data": {
      "text/html": [
       "<div>\n",
       "<style scoped>\n",
       "    .dataframe tbody tr th:only-of-type {\n",
       "        vertical-align: middle;\n",
       "    }\n",
       "\n",
       "    .dataframe tbody tr th {\n",
       "        vertical-align: top;\n",
       "    }\n",
       "\n",
       "    .dataframe thead th {\n",
       "        text-align: right;\n",
       "    }\n",
       "</style>\n",
       "<table border=\"1\" class=\"dataframe\">\n",
       "  <thead>\n",
       "    <tr style=\"text-align: right;\">\n",
       "      <th></th>\n",
       "      <th>country</th>\n",
       "      <th>date</th>\n",
       "      <th>type</th>\n",
       "      <th>count</th>\n",
       "      <th>population</th>\n",
       "      <th>confirmed_cases_per_capita</th>\n",
       "    </tr>\n",
       "  </thead>\n",
       "  <tbody>\n",
       "    <tr>\n",
       "      <th>0</th>\n",
       "      <td>Denmark</td>\n",
       "      <td>2020-01-22</td>\n",
       "      <td>Confirmed</td>\n",
       "      <td>0</td>\n",
       "      <td>5837213</td>\n",
       "      <td>0.000000</td>\n",
       "    </tr>\n",
       "    <tr>\n",
       "      <th>2</th>\n",
       "      <td>Denmark</td>\n",
       "      <td>2020-01-23</td>\n",
       "      <td>Confirmed</td>\n",
       "      <td>0</td>\n",
       "      <td>5837213</td>\n",
       "      <td>0.000000</td>\n",
       "    </tr>\n",
       "    <tr>\n",
       "      <th>4</th>\n",
       "      <td>Denmark</td>\n",
       "      <td>2020-01-24</td>\n",
       "      <td>Confirmed</td>\n",
       "      <td>0</td>\n",
       "      <td>5837213</td>\n",
       "      <td>0.000000</td>\n",
       "    </tr>\n",
       "    <tr>\n",
       "      <th>6</th>\n",
       "      <td>Denmark</td>\n",
       "      <td>2020-01-25</td>\n",
       "      <td>Confirmed</td>\n",
       "      <td>0</td>\n",
       "      <td>5837213</td>\n",
       "      <td>0.000000</td>\n",
       "    </tr>\n",
       "    <tr>\n",
       "      <th>8</th>\n",
       "      <td>Denmark</td>\n",
       "      <td>2020-01-26</td>\n",
       "      <td>Confirmed</td>\n",
       "      <td>0</td>\n",
       "      <td>5837213</td>\n",
       "      <td>0.000000</td>\n",
       "    </tr>\n",
       "    <tr>\n",
       "      <th>...</th>\n",
       "      <td>...</td>\n",
       "      <td>...</td>\n",
       "      <td>...</td>\n",
       "      <td>...</td>\n",
       "      <td>...</td>\n",
       "      <td>...</td>\n",
       "    </tr>\n",
       "    <tr>\n",
       "      <th>6518</th>\n",
       "      <td>Sweden</td>\n",
       "      <td>2022-04-12</td>\n",
       "      <td>Confirmed</td>\n",
       "      <td>2491980</td>\n",
       "      <td>10377781</td>\n",
       "      <td>0.240126</td>\n",
       "    </tr>\n",
       "    <tr>\n",
       "      <th>6520</th>\n",
       "      <td>Sweden</td>\n",
       "      <td>2022-04-13</td>\n",
       "      <td>Confirmed</td>\n",
       "      <td>2491980</td>\n",
       "      <td>10377781</td>\n",
       "      <td>0.240126</td>\n",
       "    </tr>\n",
       "    <tr>\n",
       "      <th>6522</th>\n",
       "      <td>Sweden</td>\n",
       "      <td>2022-04-14</td>\n",
       "      <td>Confirmed</td>\n",
       "      <td>2495996</td>\n",
       "      <td>10377781</td>\n",
       "      <td>0.240513</td>\n",
       "    </tr>\n",
       "    <tr>\n",
       "      <th>6524</th>\n",
       "      <td>Sweden</td>\n",
       "      <td>2022-04-15</td>\n",
       "      <td>Confirmed</td>\n",
       "      <td>2495996</td>\n",
       "      <td>10377781</td>\n",
       "      <td>0.240513</td>\n",
       "    </tr>\n",
       "    <tr>\n",
       "      <th>6526</th>\n",
       "      <td>Sweden</td>\n",
       "      <td>2022-04-16</td>\n",
       "      <td>Confirmed</td>\n",
       "      <td>2495996</td>\n",
       "      <td>10377781</td>\n",
       "      <td>0.240513</td>\n",
       "    </tr>\n",
       "  </tbody>\n",
       "</table>\n",
       "<p>3264 rows × 6 columns</p>\n",
       "</div>"
      ],
      "text/plain": [
       "      country        date       type    count  population  \\\n",
       "0     Denmark  2020-01-22  Confirmed        0     5837213   \n",
       "2     Denmark  2020-01-23  Confirmed        0     5837213   \n",
       "4     Denmark  2020-01-24  Confirmed        0     5837213   \n",
       "6     Denmark  2020-01-25  Confirmed        0     5837213   \n",
       "8     Denmark  2020-01-26  Confirmed        0     5837213   \n",
       "...       ...         ...        ...      ...         ...   \n",
       "6518   Sweden  2022-04-12  Confirmed  2491980    10377781   \n",
       "6520   Sweden  2022-04-13  Confirmed  2491980    10377781   \n",
       "6522   Sweden  2022-04-14  Confirmed  2495996    10377781   \n",
       "6524   Sweden  2022-04-15  Confirmed  2495996    10377781   \n",
       "6526   Sweden  2022-04-16  Confirmed  2495996    10377781   \n",
       "\n",
       "      confirmed_cases_per_capita  \n",
       "0                       0.000000  \n",
       "2                       0.000000  \n",
       "4                       0.000000  \n",
       "6                       0.000000  \n",
       "8                       0.000000  \n",
       "...                          ...  \n",
       "6518                    0.240126  \n",
       "6520                    0.240126  \n",
       "6522                    0.240513  \n",
       "6524                    0.240513  \n",
       "6526                    0.240513  \n",
       "\n",
       "[3264 rows x 6 columns]"
      ]
     },
     "execution_count": 56,
     "metadata": {},
     "output_type": "execute_result"
    }
   ],
   "source": [
    "confirmed = subset[subset['type'] == 'Confirmed'].copy()     # explicit copy\n",
    "confirmed[\"confirmed_cases_per_capita\"] = confirmed[\"count\"]/confirmed[\"population\"]\n",
    "confirmed"
   ]
  },
  {
   "cell_type": "markdown",
   "id": "c3dc0217",
   "metadata": {},
   "source": [
    "4. Now extract the cases per capita variable your created for Sweden and Norway. You should create\n",
    "two new workspace variables and assign the corresponding columns to those."
   ]
  },
  {
   "cell_type": "code",
   "execution_count": null,
   "id": "7328168c",
   "metadata": {},
   "outputs": [
    {
     "data": {
      "text/plain": [
       "4896    0.000000\n",
       "4898    0.000000\n",
       "4900    0.000000\n",
       "4902    0.000000\n",
       "4904    0.000000\n",
       "          ...   \n",
       "6518    0.240126\n",
       "6520    0.240126\n",
       "6522    0.240513\n",
       "6524    0.240513\n",
       "6526    0.240513\n",
       "Name: confirmed_cases_per_capita, Length: 816, dtype: float64"
      ]
     },
     "execution_count": 96,
     "metadata": {},
     "output_type": "execute_result"
    }
   ],
   "source": [
    "# confirmed[\"country\"] == \"Sweden\"\n",
    "# Sweden = confirmed.loc[confirmed[\"country\"] == \"Sweden\", [\"country\", \"confirmed_cases_per_capita\"]]\n",
    "Sweden = confirmed[confirmed[\"country\"] == \"Sweden\"][\"confirmed_cases_per_capita\"]\n",
    "# Sweden = confirmed.loc[confirmed[\"country\"] == \"Sweden\", [\"confirmed_cases_per_capita\"]]\n",
    "Sweden"
   ]
  },
  {
   "cell_type": "code",
   "execution_count": null,
   "id": "07ca09ee",
   "metadata": {},
   "outputs": [
    {
     "data": {
      "text/html": [
       "<div>\n",
       "<style scoped>\n",
       "    .dataframe tbody tr th:only-of-type {\n",
       "        vertical-align: middle;\n",
       "    }\n",
       "\n",
       "    .dataframe tbody tr th {\n",
       "        vertical-align: top;\n",
       "    }\n",
       "\n",
       "    .dataframe thead th {\n",
       "        text-align: right;\n",
       "    }\n",
       "</style>\n",
       "<table border=\"1\" class=\"dataframe\">\n",
       "  <thead>\n",
       "    <tr style=\"text-align: right;\">\n",
       "      <th></th>\n",
       "      <th>confirmed_cases_per_capita</th>\n",
       "    </tr>\n",
       "  </thead>\n",
       "  <tbody>\n",
       "    <tr>\n",
       "      <th>3264</th>\n",
       "      <td>0.000000</td>\n",
       "    </tr>\n",
       "    <tr>\n",
       "      <th>3266</th>\n",
       "      <td>0.000000</td>\n",
       "    </tr>\n",
       "    <tr>\n",
       "      <th>3268</th>\n",
       "      <td>0.000000</td>\n",
       "    </tr>\n",
       "    <tr>\n",
       "      <th>3270</th>\n",
       "      <td>0.000000</td>\n",
       "    </tr>\n",
       "    <tr>\n",
       "      <th>3272</th>\n",
       "      <td>0.000000</td>\n",
       "    </tr>\n",
       "    <tr>\n",
       "      <th>...</th>\n",
       "      <td>...</td>\n",
       "    </tr>\n",
       "    <tr>\n",
       "      <th>4886</th>\n",
       "      <td>0.263276</td>\n",
       "    </tr>\n",
       "    <tr>\n",
       "      <th>4888</th>\n",
       "      <td>0.263425</td>\n",
       "    </tr>\n",
       "    <tr>\n",
       "      <th>4890</th>\n",
       "      <td>0.263496</td>\n",
       "    </tr>\n",
       "    <tr>\n",
       "      <th>4892</th>\n",
       "      <td>0.263548</td>\n",
       "    </tr>\n",
       "    <tr>\n",
       "      <th>4894</th>\n",
       "      <td>0.263625</td>\n",
       "    </tr>\n",
       "  </tbody>\n",
       "</table>\n",
       "<p>816 rows × 1 columns</p>\n",
       "</div>"
      ],
      "text/plain": [
       "      confirmed_cases_per_capita\n",
       "3264                    0.000000\n",
       "3266                    0.000000\n",
       "3268                    0.000000\n",
       "3270                    0.000000\n",
       "3272                    0.000000\n",
       "...                          ...\n",
       "4886                    0.263276\n",
       "4888                    0.263425\n",
       "4890                    0.263496\n",
       "4892                    0.263548\n",
       "4894                    0.263625\n",
       "\n",
       "[816 rows x 1 columns]"
      ]
     },
     "execution_count": 97,
     "metadata": {},
     "output_type": "execute_result"
    }
   ],
   "source": [
    "# Norway = confirmed[confirmed[\"country\"] == \"Norway\"][\"confirmed_cases_per_capita\"]\n",
    "Norway = confirmed.loc[confirmed[\"country\"] == \"Norway\", [\"confirmed_cases_per_capita\"]]\n",
    "Norway"
   ]
  },
  {
   "cell_type": "code",
   "execution_count": null,
   "id": "72056d7e",
   "metadata": {},
   "outputs": [
    {
     "name": "stdout",
     "output_type": "stream",
     "text": [
      "<class 'pandas.core.series.Series'>\n",
      "<class 'pandas.core.frame.DataFrame'>\n"
     ]
    }
   ],
   "source": [
    "print(type(Sweden))\n",
    "print(type(Norway))"
   ]
  },
  {
   "cell_type": "markdown",
   "id": "bd3a69a3",
   "metadata": {},
   "source": [
    "The type of the variable depends on how you create the variable"
   ]
  }
 ],
 "metadata": {
  "kernelspec": {
   "display_name": "Python 3 (ipykernel)",
   "language": "python",
   "name": "python3"
  },
  "language_info": {
   "codemirror_mode": {
    "name": "ipython",
    "version": 3
   },
   "file_extension": ".py",
   "mimetype": "text/x-python",
   "name": "python",
   "nbconvert_exporter": "python",
   "pygments_lexer": "ipython3",
   "version": "3.12.0"
  }
 },
 "nbformat": 4,
 "nbformat_minor": 5
}
