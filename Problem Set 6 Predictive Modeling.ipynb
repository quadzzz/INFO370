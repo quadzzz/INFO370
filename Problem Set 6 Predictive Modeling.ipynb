{
 "cells": [
  {
   "cell_type": "markdown",
   "metadata": {},
   "source": [
    "## Problem Set 6: Predictive Modeling\n",
    "\n",
    "### Name: Gabriella Rivera"
   ]
  },
  {
   "cell_type": "code",
   "execution_count": 7,
   "metadata": {},
   "outputs": [],
   "source": [
    "import pandas as pd\n",
    "import numpy as np\n",
    "import matplotlib.pyplot as plt\n",
    "import statsmodels.formula.api as smf\n",
    "import seaborn as sns\n",
    "from sklearn.linear_model import LogisticRegression"
   ]
  },
  {
   "cell_type": "markdown",
   "metadata": {},
   "source": [
    "#### 1 Predict Airbnb Price "
   ]
  },
  {
   "cell_type": "markdown",
   "metadata": {},
   "source": [
    "1."
   ]
  },
  {
   "cell_type": "code",
   "execution_count": 2,
   "metadata": {},
   "outputs": [
    {
     "data": {
      "text/html": [
       "<div>\n",
       "<style scoped>\n",
       "    .dataframe tbody tr th:only-of-type {\n",
       "        vertical-align: middle;\n",
       "    }\n",
       "\n",
       "    .dataframe tbody tr th {\n",
       "        vertical-align: top;\n",
       "    }\n",
       "\n",
       "    .dataframe thead th {\n",
       "        text-align: right;\n",
       "    }\n",
       "</style>\n",
       "<table border=\"1\" class=\"dataframe\">\n",
       "  <thead>\n",
       "    <tr style=\"text-align: right;\">\n",
       "      <th></th>\n",
       "      <th>room_type</th>\n",
       "      <th>accommodates</th>\n",
       "      <th>bedrooms</th>\n",
       "      <th>price</th>\n",
       "    </tr>\n",
       "  </thead>\n",
       "  <tbody>\n",
       "    <tr>\n",
       "      <th>0</th>\n",
       "      <td>Entire home/apt</td>\n",
       "      <td>3</td>\n",
       "      <td>1.0</td>\n",
       "      <td>$1,845.00</td>\n",
       "    </tr>\n",
       "    <tr>\n",
       "      <th>1</th>\n",
       "      <td>Private room</td>\n",
       "      <td>2</td>\n",
       "      <td>1.0</td>\n",
       "      <td>$1,275.00</td>\n",
       "    </tr>\n",
       "    <tr>\n",
       "      <th>2</th>\n",
       "      <td>Private room</td>\n",
       "      <td>2</td>\n",
       "      <td>1.0</td>\n",
       "      <td>$800.00</td>\n",
       "    </tr>\n",
       "    <tr>\n",
       "      <th>3</th>\n",
       "      <td>Private room</td>\n",
       "      <td>2</td>\n",
       "      <td>1.0</td>\n",
       "      <td>$800.00</td>\n",
       "    </tr>\n",
       "    <tr>\n",
       "      <th>4</th>\n",
       "      <td>Private room</td>\n",
       "      <td>2</td>\n",
       "      <td>1.0</td>\n",
       "      <td>$1,845.00</td>\n",
       "    </tr>\n",
       "  </tbody>\n",
       "</table>\n",
       "</div>"
      ],
      "text/plain": [
       "         room_type  accommodates  bedrooms      price\n",
       "0  Entire home/apt             3       1.0  $1,845.00\n",
       "1     Private room             2       1.0  $1,275.00\n",
       "2     Private room             2       1.0    $800.00\n",
       "3     Private room             2       1.0    $800.00\n",
       "4     Private room             2       1.0  $1,845.00"
      ]
     },
     "execution_count": 2,
     "metadata": {},
     "output_type": "execute_result"
    }
   ],
   "source": [
    "airbnb = pd.read_csv('airbnb-bangkok-listings.csv.bz2', sep=',', usecols=['bedrooms', 'price', 'accommodates', 'room_type'])\n",
    "airbnb.head()"
   ]
  },
  {
   "cell_type": "code",
   "execution_count": 3,
   "metadata": {},
   "outputs": [],
   "source": [
    "airbnb['price'] = airbnb['price'].str.replace('$', '')  # Remove dollar sign\n",
    "airbnb['price'] = airbnb['price'].str.replace(',', '')  # Remove commas\n",
    "\n",
    "airbnb['price'] = pd.to_numeric(airbnb['price'])"
   ]
  },
  {
   "cell_type": "code",
   "execution_count": 5,
   "metadata": {},
   "outputs": [],
   "source": [
    "clean_airbnb = airbnb.dropna(subset=['bedrooms', 'price', 'accommodates', 'room_type'])"
   ]
  },
  {
   "cell_type": "code",
   "execution_count": 6,
   "metadata": {},
   "outputs": [
    {
     "data": {
      "text/plain": [
       "room_type       False\n",
       "accommodates    False\n",
       "bedrooms        False\n",
       "price           False\n",
       "dtype: bool"
      ]
     },
     "execution_count": 6,
     "metadata": {},
     "output_type": "execute_result"
    }
   ],
   "source": [
    "clean_airbnb.isna().any()"
   ]
  },
  {
   "cell_type": "markdown",
   "metadata": {},
   "source": [
    "2."
   ]
  },
  {
   "cell_type": "code",
   "execution_count": 8,
   "metadata": {},
   "outputs": [
    {
     "name": "stderr",
     "output_type": "stream",
     "text": [
      "/var/folders/mj/sjlj3tpn0j799b38ldhrgyqh0000gn/T/ipykernel_63383/2925388353.py:1: SettingWithCopyWarning: \n",
      "A value is trying to be set on a copy of a slice from a DataFrame.\n",
      "Try using .loc[row_indexer,col_indexer] = value instead\n",
      "\n",
      "See the caveats in the documentation: https://pandas.pydata.org/pandas-docs/stable/user_guide/indexing.html#returning-a-view-versus-a-copy\n",
      "  clean_airbnb['bedrooms'] = clean_airbnb['bedrooms'].astype(int)\n"
     ]
    }
   ],
   "source": [
    "clean_airbnb['bedrooms'] = clean_airbnb['bedrooms'].astype(int)\n",
    "clean_airbnb.loc[clean_airbnb['bedrooms'] >= 4, 'bedrooms'] = 4"
   ]
  },
  {
   "cell_type": "code",
   "execution_count": 13,
   "metadata": {},
   "outputs": [
    {
     "data": {
      "text/html": [
       "<table class=\"simpletable\">\n",
       "<caption>OLS Regression Results</caption>\n",
       "<tr>\n",
       "  <th>Dep. Variable:</th>      <td>np.log(price)</td>  <th>  R-squared:         </th> <td>   0.237</td> \n",
       "</tr>\n",
       "<tr>\n",
       "  <th>Model:</th>                   <td>OLS</td>       <th>  Adj. R-squared:    </th> <td>   0.237</td> \n",
       "</tr>\n",
       "<tr>\n",
       "  <th>Method:</th>             <td>Least Squares</td>  <th>  F-statistic:       </th> <td>   945.5</td> \n",
       "</tr>\n",
       "<tr>\n",
       "  <th>Date:</th>             <td>Tue, 14 May 2024</td> <th>  Prob (F-statistic):</th>  <td>  0.00</td>  \n",
       "</tr>\n",
       "<tr>\n",
       "  <th>Time:</th>                 <td>20:54:32</td>     <th>  Log-Likelihood:    </th> <td> -16582.</td> \n",
       "</tr>\n",
       "<tr>\n",
       "  <th>No. Observations:</th>      <td> 15200</td>      <th>  AIC:               </th> <td>3.318e+04</td>\n",
       "</tr>\n",
       "<tr>\n",
       "  <th>Df Residuals:</th>          <td> 15194</td>      <th>  BIC:               </th> <td>3.322e+04</td>\n",
       "</tr>\n",
       "<tr>\n",
       "  <th>Df Model:</th>              <td>     5</td>      <th>                     </th>     <td> </td>    \n",
       "</tr>\n",
       "<tr>\n",
       "  <th>Covariance Type:</th>      <td>nonrobust</td>    <th>                     </th>     <td> </td>    \n",
       "</tr>\n",
       "</table>\n",
       "<table class=\"simpletable\">\n",
       "<tr>\n",
       "              <td></td>                 <th>coef</th>     <th>std err</th>      <th>t</th>      <th>P>|t|</th>  <th>[0.025</th>    <th>0.975]</th>  \n",
       "</tr>\n",
       "<tr>\n",
       "  <th>Intercept</th>                 <td>    6.5849</td> <td>    0.015</td> <td>  449.007</td> <td> 0.000</td> <td>    6.556</td> <td>    6.614</td>\n",
       "</tr>\n",
       "<tr>\n",
       "  <th>room_type[T.Hotel room]</th>   <td>    0.1047</td> <td>    0.028</td> <td>    3.799</td> <td> 0.000</td> <td>    0.051</td> <td>    0.159</td>\n",
       "</tr>\n",
       "<tr>\n",
       "  <th>room_type[T.Private room]</th> <td>   -0.0856</td> <td>    0.013</td> <td>   -6.745</td> <td> 0.000</td> <td>   -0.110</td> <td>   -0.061</td>\n",
       "</tr>\n",
       "<tr>\n",
       "  <th>room_type[T.Shared room]</th>  <td>   -0.7983</td> <td>    0.030</td> <td>  -26.701</td> <td> 0.000</td> <td>   -0.857</td> <td>   -0.740</td>\n",
       "</tr>\n",
       "<tr>\n",
       "  <th>bedrooms</th>                  <td>    0.4171</td> <td>    0.012</td> <td>   35.224</td> <td> 0.000</td> <td>    0.394</td> <td>    0.440</td>\n",
       "</tr>\n",
       "<tr>\n",
       "  <th>accommodates</th>              <td>    0.0394</td> <td>    0.004</td> <td>   11.136</td> <td> 0.000</td> <td>    0.032</td> <td>    0.046</td>\n",
       "</tr>\n",
       "</table>\n",
       "<table class=\"simpletable\">\n",
       "<tr>\n",
       "  <th>Omnibus:</th>       <td>4221.820</td> <th>  Durbin-Watson:     </th> <td>   1.636</td> \n",
       "</tr>\n",
       "<tr>\n",
       "  <th>Prob(Omnibus):</th>  <td> 0.000</td>  <th>  Jarque-Bera (JB):  </th> <td>22128.885</td>\n",
       "</tr>\n",
       "<tr>\n",
       "  <th>Skew:</th>           <td> 1.241</td>  <th>  Prob(JB):          </th> <td>    0.00</td> \n",
       "</tr>\n",
       "<tr>\n",
       "  <th>Kurtosis:</th>       <td> 8.365</td>  <th>  Cond. No.          </th> <td>    22.8</td> \n",
       "</tr>\n",
       "</table><br/><br/>Notes:<br/>[1] Standard Errors assume that the covariance matrix of the errors is correctly specified."
      ],
      "text/latex": [
       "\\begin{center}\n",
       "\\begin{tabular}{lclc}\n",
       "\\toprule\n",
       "\\textbf{Dep. Variable:}             &  np.log(price)   & \\textbf{  R-squared:         } &     0.237   \\\\\n",
       "\\textbf{Model:}                     &       OLS        & \\textbf{  Adj. R-squared:    } &     0.237   \\\\\n",
       "\\textbf{Method:}                    &  Least Squares   & \\textbf{  F-statistic:       } &     945.5   \\\\\n",
       "\\textbf{Date:}                      & Tue, 14 May 2024 & \\textbf{  Prob (F-statistic):} &     0.00    \\\\\n",
       "\\textbf{Time:}                      &     20:54:32     & \\textbf{  Log-Likelihood:    } &   -16582.   \\\\\n",
       "\\textbf{No. Observations:}          &       15200      & \\textbf{  AIC:               } & 3.318e+04   \\\\\n",
       "\\textbf{Df Residuals:}              &       15194      & \\textbf{  BIC:               } & 3.322e+04   \\\\\n",
       "\\textbf{Df Model:}                  &           5      & \\textbf{                     } &             \\\\\n",
       "\\textbf{Covariance Type:}           &    nonrobust     & \\textbf{                     } &             \\\\\n",
       "\\bottomrule\n",
       "\\end{tabular}\n",
       "\\begin{tabular}{lcccccc}\n",
       "                                    & \\textbf{coef} & \\textbf{std err} & \\textbf{t} & \\textbf{P$> |$t$|$} & \\textbf{[0.025} & \\textbf{0.975]}  \\\\\n",
       "\\midrule\n",
       "\\textbf{Intercept}                  &       6.5849  &        0.015     &   449.007  &         0.000        &        6.556    &        6.614     \\\\\n",
       "\\textbf{room\\_type[T.Hotel room]}   &       0.1047  &        0.028     &     3.799  &         0.000        &        0.051    &        0.159     \\\\\n",
       "\\textbf{room\\_type[T.Private room]} &      -0.0856  &        0.013     &    -6.745  &         0.000        &       -0.110    &       -0.061     \\\\\n",
       "\\textbf{room\\_type[T.Shared room]}  &      -0.7983  &        0.030     &   -26.701  &         0.000        &       -0.857    &       -0.740     \\\\\n",
       "\\textbf{bedrooms}                   &       0.4171  &        0.012     &    35.224  &         0.000        &        0.394    &        0.440     \\\\\n",
       "\\textbf{accommodates}               &       0.0394  &        0.004     &    11.136  &         0.000        &        0.032    &        0.046     \\\\\n",
       "\\bottomrule\n",
       "\\end{tabular}\n",
       "\\begin{tabular}{lclc}\n",
       "\\textbf{Omnibus:}       & 4221.820 & \\textbf{  Durbin-Watson:     } &     1.636  \\\\\n",
       "\\textbf{Prob(Omnibus):} &   0.000  & \\textbf{  Jarque-Bera (JB):  } & 22128.885  \\\\\n",
       "\\textbf{Skew:}          &   1.241  & \\textbf{  Prob(JB):          } &      0.00  \\\\\n",
       "\\textbf{Kurtosis:}      &   8.365  & \\textbf{  Cond. No.          } &      22.8  \\\\\n",
       "\\bottomrule\n",
       "\\end{tabular}\n",
       "%\\caption{OLS Regression Results}\n",
       "\\end{center}\n",
       "\n",
       "Notes: \\newline\n",
       " [1] Standard Errors assume that the covariance matrix of the errors is correctly specified."
      ],
      "text/plain": [
       "<class 'statsmodels.iolib.summary.Summary'>\n",
       "\"\"\"\n",
       "                            OLS Regression Results                            \n",
       "==============================================================================\n",
       "Dep. Variable:          np.log(price)   R-squared:                       0.237\n",
       "Model:                            OLS   Adj. R-squared:                  0.237\n",
       "Method:                 Least Squares   F-statistic:                     945.5\n",
       "Date:                Tue, 14 May 2024   Prob (F-statistic):               0.00\n",
       "Time:                        20:54:32   Log-Likelihood:                -16582.\n",
       "No. Observations:               15200   AIC:                         3.318e+04\n",
       "Df Residuals:                   15194   BIC:                         3.322e+04\n",
       "Df Model:                           5                                         \n",
       "Covariance Type:            nonrobust                                         \n",
       "=============================================================================================\n",
       "                                coef    std err          t      P>|t|      [0.025      0.975]\n",
       "---------------------------------------------------------------------------------------------\n",
       "Intercept                     6.5849      0.015    449.007      0.000       6.556       6.614\n",
       "room_type[T.Hotel room]       0.1047      0.028      3.799      0.000       0.051       0.159\n",
       "room_type[T.Private room]    -0.0856      0.013     -6.745      0.000      -0.110      -0.061\n",
       "room_type[T.Shared room]     -0.7983      0.030    -26.701      0.000      -0.857      -0.740\n",
       "bedrooms                      0.4171      0.012     35.224      0.000       0.394       0.440\n",
       "accommodates                  0.0394      0.004     11.136      0.000       0.032       0.046\n",
       "==============================================================================\n",
       "Omnibus:                     4221.820   Durbin-Watson:                   1.636\n",
       "Prob(Omnibus):                  0.000   Jarque-Bera (JB):            22128.885\n",
       "Skew:                           1.241   Prob(JB):                         0.00\n",
       "Kurtosis:                       8.365   Cond. No.                         22.8\n",
       "==============================================================================\n",
       "\n",
       "Notes:\n",
       "[1] Standard Errors assume that the covariance matrix of the errors is correctly specified.\n",
       "\"\"\""
      ]
     },
     "execution_count": 13,
     "metadata": {},
     "output_type": "execute_result"
    }
   ],
   "source": [
    "m = smf.ols('np.log(price) ~ bedrooms + room_type + accommodates', data = clean_airbnb).fit()\n",
    "m.summary()"
   ]
  },
  {
   "cell_type": "markdown",
   "metadata": {},
   "source": [
    "2."
   ]
  },
  {
   "cell_type": "code",
   "execution_count": 19,
   "metadata": {},
   "outputs": [
    {
     "data": {
      "text/plain": [
       "array([7.12010689, 6.995152  , 6.995152  , ..., 7.6159347 , 7.08074826,\n",
       "       7.12010689])"
      ]
     },
     "execution_count": 19,
     "metadata": {},
     "output_type": "execute_result"
    }
   ],
   "source": [
    "phat = m.predict()\n",
    "phat\n",
    "# phat[:10]"
   ]
  }
 ],
 "metadata": {
  "kernelspec": {
   "display_name": "Python 3",
   "language": "python",
   "name": "python3"
  },
  "language_info": {
   "codemirror_mode": {
    "name": "ipython",
    "version": 3
   },
   "file_extension": ".py",
   "mimetype": "text/x-python",
   "name": "python",
   "nbconvert_exporter": "python",
   "pygments_lexer": "ipython3",
   "version": "3.12.3"
  }
 },
 "nbformat": 4,
 "nbformat_minor": 2
}
