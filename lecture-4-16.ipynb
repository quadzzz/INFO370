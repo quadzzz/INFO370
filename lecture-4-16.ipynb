{
 "cells": [
  {
   "cell_type": "markdown",
   "metadata": {},
   "source": [
    "### 2024-04-16 Probability"
   ]
  },
  {
   "cell_type": "code",
   "execution_count": 1,
   "metadata": {},
   "outputs": [],
   "source": [
    "import numpy as np\n",
    "import matplotlib.pyplot as plt"
   ]
  },
  {
   "cell_type": "code",
   "execution_count": 2,
   "metadata": {},
   "outputs": [
    {
     "data": {
      "text/plain": [
       "array([-2.04214991,  0.08113256, -1.87107114, -0.82344947, -0.08280719,\n",
       "       -1.29072007,  0.35241581,  0.76473137, -0.17989931,  0.63714633])"
      ]
     },
     "execution_count": 2,
     "metadata": {},
     "output_type": "execute_result"
    }
   ],
   "source": [
    "np.random.normal(size = 10)"
   ]
  },
  {
   "cell_type": "code",
   "execution_count": 3,
   "metadata": {},
   "outputs": [
    {
     "data": {
      "text/plain": [
       "array([[ 0.33511681,  0.43350747,  1.43706252],\n",
       "       [-1.1261218 ,  1.60026788,  1.11068582],\n",
       "       [ 1.6766896 ,  1.161208  ,  0.04508046],\n",
       "       [-0.09616393,  1.83948878,  0.43135906]])"
      ]
     },
     "execution_count": 3,
     "metadata": {},
     "output_type": "execute_result"
    }
   ],
   "source": [
    "np.random.normal(size = (4,3))"
   ]
  },
  {
   "cell_type": "code",
   "execution_count": 4,
   "metadata": {},
   "outputs": [
    {
     "data": {
      "text/plain": [
       "array([3, 0, 3, 2, 3, 3, 4, 5, 1, 4])"
      ]
     },
     "execution_count": 4,
     "metadata": {},
     "output_type": "execute_result"
    }
   ],
   "source": [
    "np.random.choice(6, size = 10)"
   ]
  },
  {
   "cell_type": "code",
   "execution_count": 5,
   "metadata": {},
   "outputs": [
    {
     "data": {
      "text/plain": [
       "array([2, 5, 3, 4, 5, 3, 2, 2, 4, 4])"
      ]
     },
     "execution_count": 5,
     "metadata": {},
     "output_type": "execute_result"
    }
   ],
   "source": [
    "1 + np.random.choice(6, size = 10)"
   ]
  },
  {
   "cell_type": "code",
   "execution_count": 6,
   "metadata": {},
   "outputs": [
    {
     "data": {
      "text/plain": [
       "array([5, 2, 4, 4, 5, 2, 1, 2, 3, 3])"
      ]
     },
     "execution_count": 6,
     "metadata": {},
     "output_type": "execute_result"
    }
   ],
   "source": [
    "np.random.seed(7)\n",
    "1 + np.random.choice(6, size = 10)"
   ]
  },
  {
   "cell_type": "code",
   "execution_count": 7,
   "metadata": {},
   "outputs": [
    {
     "data": {
      "text/plain": [
       "array([[1, 5, 1],\n",
       "       [5, 1, 4],\n",
       "       [3, 4, 5],\n",
       "       [5, 6, 1],\n",
       "       [1, 6, 1],\n",
       "       [4, 6, 1],\n",
       "       [3, 1, 2],\n",
       "       [5, 2, 4],\n",
       "       [4, 1, 4],\n",
       "       [1, 2, 1]])"
      ]
     },
     "execution_count": 7,
     "metadata": {},
     "output_type": "execute_result"
    }
   ],
   "source": [
    "d = 1 + np.random.choice(6, size = (10, 3))\n",
    "d"
   ]
  },
  {
   "cell_type": "code",
   "execution_count": 8,
   "metadata": {},
   "outputs": [
    {
     "data": {
      "text/plain": [
       "[3.8,\n",
       " 3.7,\n",
       " 4.033333333333333,\n",
       " 3.8333333333333335,\n",
       " 3.6333333333333333,\n",
       " 3.1666666666666665,\n",
       " 3.2333333333333334,\n",
       " 3.433333333333333,\n",
       " 3.933333333333333,\n",
       " 3.9]"
      ]
     },
     "execution_count": 8,
     "metadata": {},
     "output_type": "execute_result"
    }
   ],
   "source": [
    "avgs = []\n",
    "for i in range(10):\n",
    "\troll = 1 + np.random.choice(6, size = (10, 3))\n",
    "\tavgs.append(np.mean(roll))\n",
    "\n",
    "avgs"
   ]
  },
  {
   "cell_type": "code",
   "execution_count": 9,
   "metadata": {},
   "outputs": [
    {
     "data": {
      "text/plain": [
       "[5.333333333333333,\n",
       " 3.0,\n",
       " 2.6666666666666665,\n",
       " 3.3333333333333335,\n",
       " 3.0,\n",
       " 2.6666666666666665,\n",
       " 2.6666666666666665,\n",
       " 4.0,\n",
       " 2.0,\n",
       " 4.0]"
      ]
     },
     "execution_count": 9,
     "metadata": {},
     "output_type": "execute_result"
    }
   ],
   "source": [
    "avgs = []\n",
    "for i in range(10):\n",
    "\troll = 1 + np.random.choice(6, size = (3))\n",
    "\tavgs.append(np.mean(roll))\n",
    "\n",
    "avgs"
   ]
  },
  {
   "cell_type": "code",
   "execution_count": 10,
   "metadata": {},
   "outputs": [
    {
     "data": {
      "text/plain": [
       "array([3.        , 4.        , 3.66666667, 3.        , 2.        ,\n",
       "       3.33333333, 4.        , 4.33333333, 4.33333333, 3.        ])"
      ]
     },
     "execution_count": 10,
     "metadata": {},
     "output_type": "execute_result"
    }
   ],
   "source": [
    "d = 1 + np.random.choice(6, size = (10, 3))\n",
    "np.mean(d, axis=1)"
   ]
  },
  {
   "cell_type": "code",
   "execution_count": 11,
   "metadata": {},
   "outputs": [
    {
     "data": {
      "text/plain": [
       "[0, 0, 1, 1, 0, 0, 1, 1, 0, 1]"
      ]
     },
     "execution_count": 11,
     "metadata": {},
     "output_type": "execute_result"
    }
   ],
   "source": [
    "R = 10\n",
    "six = []\n",
    "for i in range(R):\n",
    "\td = 1 + np.random.choice(6, size = 2)\n",
    "\ts = np.any(d == 6) + 0\n",
    "\tsix.append(s)\n",
    "six"
   ]
  },
  {
   "cell_type": "code",
   "execution_count": 12,
   "metadata": {},
   "outputs": [
    {
     "data": {
      "text/plain": [
       "0.1"
      ]
     },
     "execution_count": 12,
     "metadata": {},
     "output_type": "execute_result"
    }
   ],
   "source": [
    "R = 10\n",
    "six = []\n",
    "for i in range(R):\n",
    "\td = 1 + np.random.choice(6, size = 2)\n",
    "\ts = np.any(d == 6) + 0\n",
    "\tsix.append(s)\n",
    "np.mean(six)"
   ]
  },
  {
   "cell_type": "code",
   "execution_count": null,
   "metadata": {},
   "outputs": [],
   "source": []
  }
 ],
 "metadata": {
  "kernelspec": {
   "display_name": "Python 3",
   "language": "python",
   "name": "python3"
  },
  "language_info": {
   "codemirror_mode": {
    "name": "ipython",
    "version": 3
   },
   "file_extension": ".py",
   "mimetype": "text/x-python",
   "name": "python",
   "nbconvert_exporter": "python",
   "pygments_lexer": "ipython3",
   "version": "3.12.0"
  }
 },
 "nbformat": 4,
 "nbformat_minor": 2
}
