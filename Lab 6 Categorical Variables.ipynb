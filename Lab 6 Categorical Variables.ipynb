{
 "cells": [
  {
   "cell_type": "code",
   "execution_count": 2,
   "id": "c952c61e-ecae-4d81-b2a8-9612795fa626",
   "metadata": {},
   "outputs": [],
   "source": [
    "import pandas as pd\n",
    "import numpy as np\n",
    "import seaborn as sns\n",
    "import matplotlib.pyplot as plt\n",
    "import statsmodels.formula.api as smf"
   ]
  },
  {
   "cell_type": "markdown",
   "id": "d44539a3-f11d-453e-8496-74612e43f4c8",
   "metadata": {},
   "source": [
    "# 1. Diamonds data"
   ]
  },
  {
   "cell_type": "markdown",
   "id": "633d5b0c-daa9-457a-a4d5-52da88612845",
   "metadata": {},
   "source": [
    "1. Load the data and perform basic checks. How many diamonds do we have?"
   ]
  },
  {
   "cell_type": "code",
   "execution_count": 3,
   "id": "f60bd77a-84a8-49e7-8df3-bcdf79fce523",
   "metadata": {},
   "outputs": [],
   "source": [
    "df_diamonds = pd.read_csv('./diamonds.csv.bz2', sep='\\t')"
   ]
  },
  {
   "cell_type": "code",
   "execution_count": 4,
   "id": "ead56f81-55d1-4d9c-b349-8c117319af8c",
   "metadata": {},
   "outputs": [
    {
     "name": "stdout",
     "output_type": "stream",
     "text": [
      "(53940, 10)\n"
     ]
    },
    {
     "data": {
      "text/html": [
       "<div>\n",
       "<style scoped>\n",
       "    .dataframe tbody tr th:only-of-type {\n",
       "        vertical-align: middle;\n",
       "    }\n",
       "\n",
       "    .dataframe tbody tr th {\n",
       "        vertical-align: top;\n",
       "    }\n",
       "\n",
       "    .dataframe thead th {\n",
       "        text-align: right;\n",
       "    }\n",
       "</style>\n",
       "<table border=\"1\" class=\"dataframe\">\n",
       "  <thead>\n",
       "    <tr style=\"text-align: right;\">\n",
       "      <th></th>\n",
       "      <th>carat</th>\n",
       "      <th>cut</th>\n",
       "      <th>color</th>\n",
       "      <th>clarity</th>\n",
       "      <th>depth</th>\n",
       "      <th>table</th>\n",
       "      <th>price</th>\n",
       "      <th>x</th>\n",
       "      <th>y</th>\n",
       "      <th>z</th>\n",
       "    </tr>\n",
       "  </thead>\n",
       "  <tbody>\n",
       "    <tr>\n",
       "      <th>28860</th>\n",
       "      <td>0.30</td>\n",
       "      <td>Ideal</td>\n",
       "      <td>F</td>\n",
       "      <td>VVS2</td>\n",
       "      <td>62.3</td>\n",
       "      <td>54.0</td>\n",
       "      <td>684</td>\n",
       "      <td>4.32</td>\n",
       "      <td>4.35</td>\n",
       "      <td>2.70</td>\n",
       "    </tr>\n",
       "    <tr>\n",
       "      <th>50332</th>\n",
       "      <td>0.70</td>\n",
       "      <td>Very Good</td>\n",
       "      <td>D</td>\n",
       "      <td>SI1</td>\n",
       "      <td>64.0</td>\n",
       "      <td>53.0</td>\n",
       "      <td>2242</td>\n",
       "      <td>5.57</td>\n",
       "      <td>5.61</td>\n",
       "      <td>3.58</td>\n",
       "    </tr>\n",
       "    <tr>\n",
       "      <th>53780</th>\n",
       "      <td>0.80</td>\n",
       "      <td>Ideal</td>\n",
       "      <td>G</td>\n",
       "      <td>VS2</td>\n",
       "      <td>62.1</td>\n",
       "      <td>56.0</td>\n",
       "      <td>2728</td>\n",
       "      <td>5.94</td>\n",
       "      <td>6.00</td>\n",
       "      <td>3.71</td>\n",
       "    </tr>\n",
       "    <tr>\n",
       "      <th>49178</th>\n",
       "      <td>0.64</td>\n",
       "      <td>Premium</td>\n",
       "      <td>D</td>\n",
       "      <td>SI1</td>\n",
       "      <td>62.3</td>\n",
       "      <td>58.0</td>\n",
       "      <td>2074</td>\n",
       "      <td>5.53</td>\n",
       "      <td>5.49</td>\n",
       "      <td>3.43</td>\n",
       "    </tr>\n",
       "    <tr>\n",
       "      <th>28696</th>\n",
       "      <td>0.40</td>\n",
       "      <td>Ideal</td>\n",
       "      <td>E</td>\n",
       "      <td>SI2</td>\n",
       "      <td>61.8</td>\n",
       "      <td>55.2</td>\n",
       "      <td>679</td>\n",
       "      <td>4.75</td>\n",
       "      <td>4.77</td>\n",
       "      <td>2.94</td>\n",
       "    </tr>\n",
       "  </tbody>\n",
       "</table>\n",
       "</div>"
      ],
      "text/plain": [
       "       carat        cut color clarity  depth  table  price     x     y     z\n",
       "28860   0.30      Ideal     F    VVS2   62.3   54.0    684  4.32  4.35  2.70\n",
       "50332   0.70  Very Good     D     SI1   64.0   53.0   2242  5.57  5.61  3.58\n",
       "53780   0.80      Ideal     G     VS2   62.1   56.0   2728  5.94  6.00  3.71\n",
       "49178   0.64    Premium     D     SI1   62.3   58.0   2074  5.53  5.49  3.43\n",
       "28696   0.40      Ideal     E     SI2   61.8   55.2    679  4.75  4.77  2.94"
      ]
     },
     "execution_count": 4,
     "metadata": {},
     "output_type": "execute_result"
    }
   ],
   "source": [
    "print(df_diamonds.shape)\n",
    "df_diamonds.sample(5)"
   ]
  },
  {
   "cell_type": "markdown",
   "id": "5af169cb-18f6-4c58-ac11-1b3d86e177f1",
   "metadata": {},
   "source": [
    "2. Inspect the variable cut. What kind of different cuts are there? How frequent are those?\n",
    "Hint: remember the method value_counts?"
   ]
  },
  {
   "cell_type": "code",
   "execution_count": 5,
   "id": "b94c868b-98ef-4374-ac4e-8e645363b948",
   "metadata": {},
   "outputs": [
    {
     "data": {
      "text/plain": [
       "cut\n",
       "Ideal        21551\n",
       "Premium      13791\n",
       "Very Good    12082\n",
       "Good          4906\n",
       "Fair          1610\n",
       "Name: count, dtype: int64"
      ]
     },
     "execution_count": 5,
     "metadata": {},
     "output_type": "execute_result"
    }
   ],
   "source": [
    "df_diamonds['cut'].value_counts()"
   ]
  },
  {
   "cell_type": "markdown",
   "id": "c8261763-cdb1-4c62-a327-071809ba342f",
   "metadata": {},
   "source": [
    "# 2. Regression analysis"
   ]
  },
  {
   "cell_type": "markdown",
   "id": "76eff8ff-7d4e-4cd3-a259-993e8cb4830b",
   "metadata": {},
   "source": [
    "1. Perform a linear regression analysis where you include two variables: mass of diamonds (carat) and cut. Estimate model of a form\n",
    "\n",
    "pricei =β0 +β1carati +β2 ·cuti +εi\n",
    "\n",
    "Show the estimation results (the table).\n",
    "Note: in the notation above β2 is a vector of cut-related coefficients and cut is a vector of dummies. smf will do this automatically for you."
   ]
  },
  {
   "cell_type": "code",
   "execution_count": 6,
   "id": "d2560f74-a1f6-4516-8523-3dfc316e3c50",
   "metadata": {},
   "outputs": [
    {
     "data": {
      "text/html": [
       "<table class=\"simpletable\">\n",
       "<caption>OLS Regression Results</caption>\n",
       "<tr>\n",
       "  <th>Dep. Variable:</th>          <td>price</td>      <th>  R-squared:         </th>  <td>   0.856</td>  \n",
       "</tr>\n",
       "<tr>\n",
       "  <th>Model:</th>                   <td>OLS</td>       <th>  Adj. R-squared:    </th>  <td>   0.856</td>  \n",
       "</tr>\n",
       "<tr>\n",
       "  <th>Method:</th>             <td>Least Squares</td>  <th>  F-statistic:       </th>  <td>6.437e+04</td> \n",
       "</tr>\n",
       "<tr>\n",
       "  <th>Date:</th>             <td>Sat, 11 May 2024</td> <th>  Prob (F-statistic):</th>   <td>  0.00</td>   \n",
       "</tr>\n",
       "<tr>\n",
       "  <th>Time:</th>                 <td>12:42:28</td>     <th>  Log-Likelihood:    </th> <td>-4.7142e+05</td>\n",
       "</tr>\n",
       "<tr>\n",
       "  <th>No. Observations:</th>      <td> 53940</td>      <th>  AIC:               </th>  <td>9.429e+05</td> \n",
       "</tr>\n",
       "<tr>\n",
       "  <th>Df Residuals:</th>          <td> 53934</td>      <th>  BIC:               </th>  <td>9.429e+05</td> \n",
       "</tr>\n",
       "<tr>\n",
       "  <th>Df Model:</th>              <td>     5</td>      <th>                     </th>      <td> </td>     \n",
       "</tr>\n",
       "<tr>\n",
       "  <th>Covariance Type:</th>      <td>nonrobust</td>    <th>                     </th>      <td> </td>     \n",
       "</tr>\n",
       "</table>\n",
       "<table class=\"simpletable\">\n",
       "<tr>\n",
       "          <td></td>            <th>coef</th>     <th>std err</th>      <th>t</th>      <th>P>|t|</th>  <th>[0.025</th>    <th>0.975]</th>  \n",
       "</tr>\n",
       "<tr>\n",
       "  <th>Intercept</th>        <td>-3875.4697</td> <td>   40.408</td> <td>  -95.908</td> <td> 0.000</td> <td>-3954.670</td> <td>-3796.269</td>\n",
       "</tr>\n",
       "<tr>\n",
       "  <th>cut[T.Good]</th>      <td> 1120.3319</td> <td>   43.499</td> <td>   25.755</td> <td> 0.000</td> <td> 1035.073</td> <td> 1205.591</td>\n",
       "</tr>\n",
       "<tr>\n",
       "  <th>cut[T.Ideal]</th>     <td> 1800.9240</td> <td>   39.344</td> <td>   45.773</td> <td> 0.000</td> <td> 1723.809</td> <td> 1878.039</td>\n",
       "</tr>\n",
       "<tr>\n",
       "  <th>cut[T.Premium]</th>   <td> 1439.0771</td> <td>   39.865</td> <td>   36.098</td> <td> 0.000</td> <td> 1360.941</td> <td> 1517.214</td>\n",
       "</tr>\n",
       "<tr>\n",
       "  <th>cut[T.Very Good]</th> <td> 1510.1354</td> <td>   40.240</td> <td>   37.528</td> <td> 0.000</td> <td> 1431.265</td> <td> 1589.006</td>\n",
       "</tr>\n",
       "<tr>\n",
       "  <th>carat</th>            <td> 7871.0821</td> <td>   13.980</td> <td>  563.040</td> <td> 0.000</td> <td> 7843.682</td> <td> 7898.482</td>\n",
       "</tr>\n",
       "</table>\n",
       "<table class=\"simpletable\">\n",
       "<tr>\n",
       "  <th>Omnibus:</th>       <td>14616.138</td> <th>  Durbin-Watson:     </th>  <td>   1.027</td> \n",
       "</tr>\n",
       "<tr>\n",
       "  <th>Prob(Omnibus):</th>  <td> 0.000</td>   <th>  Jarque-Bera (JB):  </th> <td>150962.278</td>\n",
       "</tr>\n",
       "<tr>\n",
       "  <th>Skew:</th>           <td> 1.007</td>   <th>  Prob(JB):          </th>  <td>    0.00</td> \n",
       "</tr>\n",
       "<tr>\n",
       "  <th>Kurtosis:</th>       <td>10.944</td>   <th>  Cond. No.          </th>  <td>    18.7</td> \n",
       "</tr>\n",
       "</table><br/><br/>Notes:<br/>[1] Standard Errors assume that the covariance matrix of the errors is correctly specified."
      ],
      "text/latex": [
       "\\begin{center}\n",
       "\\begin{tabular}{lclc}\n",
       "\\toprule\n",
       "\\textbf{Dep. Variable:}    &      price       & \\textbf{  R-squared:         } &      0.856   \\\\\n",
       "\\textbf{Model:}            &       OLS        & \\textbf{  Adj. R-squared:    } &      0.856   \\\\\n",
       "\\textbf{Method:}           &  Least Squares   & \\textbf{  F-statistic:       } &  6.437e+04   \\\\\n",
       "\\textbf{Date:}             & Sat, 11 May 2024 & \\textbf{  Prob (F-statistic):} &      0.00    \\\\\n",
       "\\textbf{Time:}             &     12:42:28     & \\textbf{  Log-Likelihood:    } & -4.7142e+05  \\\\\n",
       "\\textbf{No. Observations:} &       53940      & \\textbf{  AIC:               } &  9.429e+05   \\\\\n",
       "\\textbf{Df Residuals:}     &       53934      & \\textbf{  BIC:               } &  9.429e+05   \\\\\n",
       "\\textbf{Df Model:}         &           5      & \\textbf{                     } &              \\\\\n",
       "\\textbf{Covariance Type:}  &    nonrobust     & \\textbf{                     } &              \\\\\n",
       "\\bottomrule\n",
       "\\end{tabular}\n",
       "\\begin{tabular}{lcccccc}\n",
       "                          & \\textbf{coef} & \\textbf{std err} & \\textbf{t} & \\textbf{P$> |$t$|$} & \\textbf{[0.025} & \\textbf{0.975]}  \\\\\n",
       "\\midrule\n",
       "\\textbf{Intercept}        &   -3875.4697  &       40.408     &   -95.908  &         0.000        &    -3954.670    &    -3796.269     \\\\\n",
       "\\textbf{cut[T.Good]}      &    1120.3319  &       43.499     &    25.755  &         0.000        &     1035.073    &     1205.591     \\\\\n",
       "\\textbf{cut[T.Ideal]}     &    1800.9240  &       39.344     &    45.773  &         0.000        &     1723.809    &     1878.039     \\\\\n",
       "\\textbf{cut[T.Premium]}   &    1439.0771  &       39.865     &    36.098  &         0.000        &     1360.941    &     1517.214     \\\\\n",
       "\\textbf{cut[T.Very Good]} &    1510.1354  &       40.240     &    37.528  &         0.000        &     1431.265    &     1589.006     \\\\\n",
       "\\textbf{carat}            &    7871.0821  &       13.980     &   563.040  &         0.000        &     7843.682    &     7898.482     \\\\\n",
       "\\bottomrule\n",
       "\\end{tabular}\n",
       "\\begin{tabular}{lclc}\n",
       "\\textbf{Omnibus:}       & 14616.138 & \\textbf{  Durbin-Watson:     } &     1.027   \\\\\n",
       "\\textbf{Prob(Omnibus):} &    0.000  & \\textbf{  Jarque-Bera (JB):  } & 150962.278  \\\\\n",
       "\\textbf{Skew:}          &    1.007  & \\textbf{  Prob(JB):          } &      0.00   \\\\\n",
       "\\textbf{Kurtosis:}      &   10.944  & \\textbf{  Cond. No.          } &      18.7   \\\\\n",
       "\\bottomrule\n",
       "\\end{tabular}\n",
       "%\\caption{OLS Regression Results}\n",
       "\\end{center}\n",
       "\n",
       "Notes: \\newline\n",
       " [1] Standard Errors assume that the covariance matrix of the errors is correctly specified."
      ],
      "text/plain": [
       "<class 'statsmodels.iolib.summary.Summary'>\n",
       "\"\"\"\n",
       "                            OLS Regression Results                            \n",
       "==============================================================================\n",
       "Dep. Variable:                  price   R-squared:                       0.856\n",
       "Model:                            OLS   Adj. R-squared:                  0.856\n",
       "Method:                 Least Squares   F-statistic:                 6.437e+04\n",
       "Date:                Sat, 11 May 2024   Prob (F-statistic):               0.00\n",
       "Time:                        12:42:28   Log-Likelihood:            -4.7142e+05\n",
       "No. Observations:               53940   AIC:                         9.429e+05\n",
       "Df Residuals:                   53934   BIC:                         9.429e+05\n",
       "Df Model:                           5                                         \n",
       "Covariance Type:            nonrobust                                         \n",
       "====================================================================================\n",
       "                       coef    std err          t      P>|t|      [0.025      0.975]\n",
       "------------------------------------------------------------------------------------\n",
       "Intercept        -3875.4697     40.408    -95.908      0.000   -3954.670   -3796.269\n",
       "cut[T.Good]       1120.3319     43.499     25.755      0.000    1035.073    1205.591\n",
       "cut[T.Ideal]      1800.9240     39.344     45.773      0.000    1723.809    1878.039\n",
       "cut[T.Premium]    1439.0771     39.865     36.098      0.000    1360.941    1517.214\n",
       "cut[T.Very Good]  1510.1354     40.240     37.528      0.000    1431.265    1589.006\n",
       "carat             7871.0821     13.980    563.040      0.000    7843.682    7898.482\n",
       "==============================================================================\n",
       "Omnibus:                    14616.138   Durbin-Watson:                   1.027\n",
       "Prob(Omnibus):                  0.000   Jarque-Bera (JB):           150962.278\n",
       "Skew:                           1.007   Prob(JB):                         0.00\n",
       "Kurtosis:                      10.944   Cond. No.                         18.7\n",
       "==============================================================================\n",
       "\n",
       "Notes:\n",
       "[1] Standard Errors assume that the covariance matrix of the errors is correctly specified.\n",
       "\"\"\""
      ]
     },
     "execution_count": 6,
     "metadata": {},
     "output_type": "execute_result"
    }
   ],
   "source": [
    "m = smf.ols(\"price ~ carat + cut\", data=df_diamonds).fit()\n",
    "m.summary()"
   ]
  },
  {
   "cell_type": "markdown",
   "id": "e7417ef1-b5d6-4dc8-9684-22a0695cd3d7",
   "metadata": {},
   "source": [
    "2. What is the reference category for cut?\n",
    "\n",
    "    Fair        "
   ]
  },
  {
   "cell_type": "markdown",
   "id": "ec009514-a944-4ed3-9a1f-2fbc4ef6543a",
   "metadata": {},
   "source": [
    "3. Interpret the following coefficients:\n",
    "   (a) What is “carat” (correct value should be 7871)?\n",
    "\n",
    "   (b) What is “cut[T:Ideal]” (correct value should be 1800)?\n",
    "\n",
    "   (c) How much more expensive are ideal-cut diamonds compared to very good-cut diamonds (in average) given they weight the same?\n",
    "   \n",
    "   (d) What does your model predict–what is be the (average) price for 1ct premium cut diamond?\n",
    "   Note: if you are wondering why do we have negative intercept here, then check out the Section 3 below."
   ]
  },
  {
   "cell_type": "markdown",
   "id": "34757fa9",
   "metadata": {},
   "source": [
    "a) 'carat' \n",
    "\n",
    "b) ideal cut 1800 higher than fair cut, the dummy variable \n",
    "\n",
    "c) ideal-cut diamonds are cut[T.Ideal] - cut[T.Good] = 1800.9240 - 1510.1354 =  290.7886\n",
    "\n",
    "d) the model is y-intercept + coefficient * variables "
   ]
  },
  {
   "cell_type": "markdown",
   "id": "9660fef9",
   "metadata": {},
   "source": [
    "price = intercept + cut[T.Premium] + 1 * carat"
   ]
  },
  {
   "cell_type": "code",
   "execution_count": 7,
   "id": "84284d7a",
   "metadata": {},
   "outputs": [
    {
     "name": "stdout",
     "output_type": "stream",
     "text": [
      "5434.6894999999995\n"
     ]
    }
   ],
   "source": [
    "price = -3875.4697 + 1439.0771 + 1 * 7871.0821\n",
    "print(price)"
   ]
  },
  {
   "cell_type": "code",
   "execution_count": 8,
   "id": "b9a70217",
   "metadata": {},
   "outputs": [
    {
     "name": "stdout",
     "output_type": "stream",
     "text": [
      "$ 5435\n"
     ]
    }
   ],
   "source": [
    "print('$', round(-3875.4697 + 1439.0771 + 1 * 7871.0821) )"
   ]
  },
  {
   "cell_type": "markdown",
   "id": "06666a90-b04a-49f4-99d1-57fffc2cda6c",
   "metadata": {},
   "source": [
    "# 3. Log transform"
   ]
  },
  {
   "cell_type": "markdown",
   "id": "8004a380-29cb-43c0-a880-caff4c75cdd9",
   "metadata": {},
   "source": [
    "Is pricei =β0+β1carati+β2·cuti+εi a good model?"
   ]
  },
  {
   "cell_type": "markdown",
   "id": "ead23443-20e1-4cef-90c1-06467e3a7430",
   "metadata": {},
   "source": [
    "1. Plot the price versus mass and add the regression line to it. Can you explain, using this plot, why did we get a negative intercept in the models above?\n",
    "\n",
    "Hint: use sns.regplot to achieve this.\n",
    "Hint 2: there are ∼ 50k diamonds and the plot will be slow and crowded. Plot only a subsample of data, something like\n",
    "`sns.regplot(..., data=diamonds.sample(1000))`"
   ]
  },
  {
   "cell_type": "markdown",
   "id": "75950a0d",
   "metadata": {},
   "source": [
    "A negative intercept often occurs in untransformed models due to data skewness and curvature."
   ]
  },
  {
   "cell_type": "code",
   "execution_count": 9,
   "id": "0640e29b-e866-4342-aa24-4c2a0728db03",
   "metadata": {},
   "outputs": [],
   "source": [
    "df_diamonds[\"log(price)\"] = np.log(df_diamonds['price'])\n",
    "df_diamonds[\"log(carat)\"] = np.log(df_diamonds['carat'])"
   ]
  },
  {
   "cell_type": "code",
   "execution_count": 10,
   "id": "eb1adb77-d43f-4588-b89b-c8ede5471ffa",
   "metadata": {},
   "outputs": [
    {
     "data": {
      "image/png": "[encoded data removed]",
      "text/plain": [
       "<Figure size 640x480 with 4 Axes>"
      ]
     },
     "metadata": {},
     "output_type": "display_data"
    }
   ],
   "source": [
    "fig, axes = plt.subplots(2, 2)\n",
    "\n",
    "_ = sns.regplot(ax = axes[0, 0],\n",
    "                x = \"carat\",\n",
    "                y = \"price\",\n",
    "                data = df_diamonds.sample(1000),\n",
    "                scatter_kws = {\"s\": 5, \"alpha\": 0.3},\n",
    "                line_kws = {\"color\": \"black\"})\n",
    "_ = sns.regplot(ax = axes[0, 1],\n",
    "                x = \"log(carat)\",\n",
    "                y = \"price\",\n",
    "                data = df_diamonds.sample(1000),\n",
    "                scatter_kws = {\"s\": 5, \"alpha\": 0.3},\n",
    "                line_kws = {\"color\": \"black\"})\n",
    "_ = sns.regplot(ax = axes[1, 0],\n",
    "                x = \"carat\",\n",
    "                y = \"log(price)\",\n",
    "                data = df_diamonds.sample(1000),\n",
    "                scatter_kws = {\"s\": 5, \"alpha\": 0.3},\n",
    "                line_kws = {\"color\": \"black\"})\n",
    "_ = sns.regplot(ax = axes[1, 1],\n",
    "                x = \"log(carat)\",\n",
    "                y = \"log(price)\",\n",
    "                data = df_diamonds.sample(1000),\n",
    "                scatter_kws = {\"s\": 5, \"alpha\": 0.3},\n",
    "                line_kws = {\"color\": \"black\"})"
   ]
  },
  {
   "cell_type": "markdown",
   "id": "1547b6e4-f964-420f-b6a8-ef19fb959a53",
   "metadata": {},
   "source": [
    "2. Experiment with log scale for a) price, b) carat, c) both. Which plot does look the best?\n",
    "\n",
    "    log scale fits the best"
   ]
  },
  {
   "cell_type": "markdown",
   "id": "51d05e58-314f-401b-9a8d-7cec1c0f764b",
   "metadata": {},
   "source": [
    "3. Add the corresponding log-transform to your model. You can run log-transformed models just like\n",
    "smf.ols(\"np.log(price)~np.log(carat)\", ...)."
   ]
  },
  {
   "cell_type": "code",
   "execution_count": 11,
   "id": "ee1bc468",
   "metadata": {},
   "outputs": [],
   "source": [
    "m = smf.ols(\"np.log(price) ~ np.log(carat) + cut\", data=df_diamonds).fit()"
   ]
  },
  {
   "cell_type": "code",
   "execution_count": 12,
   "id": "281fe6aa-19b3-409e-8465-70ed4f528fce",
   "metadata": {},
   "outputs": [
    {
     "data": {
      "text/html": [
       "<table class=\"simpletable\">\n",
       "<caption>OLS Regression Results</caption>\n",
       "<tr>\n",
       "  <th>Dep. Variable:</th>     <td>Q('log(price)')</td> <th>  R-squared:         </th> <td>   0.937</td> \n",
       "</tr>\n",
       "<tr>\n",
       "  <th>Model:</th>                   <td>OLS</td>       <th>  Adj. R-squared:    </th> <td>   0.937</td> \n",
       "</tr>\n",
       "<tr>\n",
       "  <th>Method:</th>             <td>Least Squares</td>  <th>  F-statistic:       </th> <td>1.607e+05</td>\n",
       "</tr>\n",
       "<tr>\n",
       "  <th>Date:</th>             <td>Sat, 11 May 2024</td> <th>  Prob (F-statistic):</th>  <td>  0.00</td>  \n",
       "</tr>\n",
       "<tr>\n",
       "  <th>Time:</th>                 <td>12:42:29</td>     <th>  Log-Likelihood:    </th> <td> -2716.7</td> \n",
       "</tr>\n",
       "<tr>\n",
       "  <th>No. Observations:</th>      <td> 53940</td>      <th>  AIC:               </th> <td>   5445.</td> \n",
       "</tr>\n",
       "<tr>\n",
       "  <th>Df Residuals:</th>          <td> 53934</td>      <th>  BIC:               </th> <td>   5499.</td> \n",
       "</tr>\n",
       "<tr>\n",
       "  <th>Df Model:</th>              <td>     5</td>      <th>                     </th>     <td> </td>    \n",
       "</tr>\n",
       "<tr>\n",
       "  <th>Covariance Type:</th>      <td>nonrobust</td>    <th>                     </th>     <td> </td>    \n",
       "</tr>\n",
       "</table>\n",
       "<table class=\"simpletable\">\n",
       "<tr>\n",
       "          <td></td>            <th>coef</th>     <th>std err</th>      <th>t</th>      <th>P>|t|</th>  <th>[0.025</th>    <th>0.975]</th>  \n",
       "</tr>\n",
       "<tr>\n",
       "  <th>Intercept</th>        <td>    8.2001</td> <td>    0.006</td> <td> 1292.692</td> <td> 0.000</td> <td>    8.188</td> <td>    8.213</td>\n",
       "</tr>\n",
       "<tr>\n",
       "  <th>cut[T.Good]</th>      <td>    0.1632</td> <td>    0.007</td> <td>   22.289</td> <td> 0.000</td> <td>    0.149</td> <td>    0.178</td>\n",
       "</tr>\n",
       "<tr>\n",
       "  <th>cut[T.Ideal]</th>     <td>    0.3172</td> <td>    0.007</td> <td>   47.830</td> <td> 0.000</td> <td>    0.304</td> <td>    0.330</td>\n",
       "</tr>\n",
       "<tr>\n",
       "  <th>cut[T.Premium]</th>   <td>    0.2382</td> <td>    0.007</td> <td>   35.470</td> <td> 0.000</td> <td>    0.225</td> <td>    0.251</td>\n",
       "</tr>\n",
       "<tr>\n",
       "  <th>cut[T.Very Good]</th> <td>    0.2408</td> <td>    0.007</td> <td>   35.517</td> <td> 0.000</td> <td>    0.227</td> <td>    0.254</td>\n",
       "</tr>\n",
       "<tr>\n",
       "  <th>Q('log(carat)')</th>  <td>    1.6958</td> <td>    0.002</td> <td>  887.679</td> <td> 0.000</td> <td>    1.692</td> <td>    1.700</td>\n",
       "</tr>\n",
       "</table>\n",
       "<table class=\"simpletable\">\n",
       "<tr>\n",
       "  <th>Omnibus:</th>       <td>845.283</td> <th>  Durbin-Watson:     </th> <td>   1.275</td> \n",
       "</tr>\n",
       "<tr>\n",
       "  <th>Prob(Omnibus):</th> <td> 0.000</td>  <th>  Jarque-Bera (JB):  </th> <td>1407.337</td> \n",
       "</tr>\n",
       "<tr>\n",
       "  <th>Skew:</th>          <td> 0.137</td>  <th>  Prob(JB):          </th> <td>2.52e-306</td>\n",
       "</tr>\n",
       "<tr>\n",
       "  <th>Kurtosis:</th>      <td> 3.742</td>  <th>  Cond. No.          </th> <td>    16.1</td> \n",
       "</tr>\n",
       "</table><br/><br/>Notes:<br/>[1] Standard Errors assume that the covariance matrix of the errors is correctly specified."
      ],
      "text/latex": [
       "\\begin{center}\n",
       "\\begin{tabular}{lclc}\n",
       "\\toprule\n",
       "\\textbf{Dep. Variable:}    & Q('log(price)')  & \\textbf{  R-squared:         } &     0.937   \\\\\n",
       "\\textbf{Model:}            &       OLS        & \\textbf{  Adj. R-squared:    } &     0.937   \\\\\n",
       "\\textbf{Method:}           &  Least Squares   & \\textbf{  F-statistic:       } & 1.607e+05   \\\\\n",
       "\\textbf{Date:}             & Sat, 11 May 2024 & \\textbf{  Prob (F-statistic):} &     0.00    \\\\\n",
       "\\textbf{Time:}             &     12:42:29     & \\textbf{  Log-Likelihood:    } &   -2716.7   \\\\\n",
       "\\textbf{No. Observations:} &       53940      & \\textbf{  AIC:               } &     5445.   \\\\\n",
       "\\textbf{Df Residuals:}     &       53934      & \\textbf{  BIC:               } &     5499.   \\\\\n",
       "\\textbf{Df Model:}         &           5      & \\textbf{                     } &             \\\\\n",
       "\\textbf{Covariance Type:}  &    nonrobust     & \\textbf{                     } &             \\\\\n",
       "\\bottomrule\n",
       "\\end{tabular}\n",
       "\\begin{tabular}{lcccccc}\n",
       "                          & \\textbf{coef} & \\textbf{std err} & \\textbf{t} & \\textbf{P$> |$t$|$} & \\textbf{[0.025} & \\textbf{0.975]}  \\\\\n",
       "\\midrule\n",
       "\\textbf{Intercept}        &       8.2001  &        0.006     &  1292.692  &         0.000        &        8.188    &        8.213     \\\\\n",
       "\\textbf{cut[T.Good]}      &       0.1632  &        0.007     &    22.289  &         0.000        &        0.149    &        0.178     \\\\\n",
       "\\textbf{cut[T.Ideal]}     &       0.3172  &        0.007     &    47.830  &         0.000        &        0.304    &        0.330     \\\\\n",
       "\\textbf{cut[T.Premium]}   &       0.2382  &        0.007     &    35.470  &         0.000        &        0.225    &        0.251     \\\\\n",
       "\\textbf{cut[T.Very Good]} &       0.2408  &        0.007     &    35.517  &         0.000        &        0.227    &        0.254     \\\\\n",
       "\\textbf{Q('log(carat)')}  &       1.6958  &        0.002     &   887.679  &         0.000        &        1.692    &        1.700     \\\\\n",
       "\\bottomrule\n",
       "\\end{tabular}\n",
       "\\begin{tabular}{lclc}\n",
       "\\textbf{Omnibus:}       & 845.283 & \\textbf{  Durbin-Watson:     } &     1.275  \\\\\n",
       "\\textbf{Prob(Omnibus):} &   0.000 & \\textbf{  Jarque-Bera (JB):  } &  1407.337  \\\\\n",
       "\\textbf{Skew:}          &   0.137 & \\textbf{  Prob(JB):          } & 2.52e-306  \\\\\n",
       "\\textbf{Kurtosis:}      &   3.742 & \\textbf{  Cond. No.          } &      16.1  \\\\\n",
       "\\bottomrule\n",
       "\\end{tabular}\n",
       "%\\caption{OLS Regression Results}\n",
       "\\end{center}\n",
       "\n",
       "Notes: \\newline\n",
       " [1] Standard Errors assume that the covariance matrix of the errors is correctly specified."
      ],
      "text/plain": [
       "<class 'statsmodels.iolib.summary.Summary'>\n",
       "\"\"\"\n",
       "                            OLS Regression Results                            \n",
       "==============================================================================\n",
       "Dep. Variable:        Q('log(price)')   R-squared:                       0.937\n",
       "Model:                            OLS   Adj. R-squared:                  0.937\n",
       "Method:                 Least Squares   F-statistic:                 1.607e+05\n",
       "Date:                Sat, 11 May 2024   Prob (F-statistic):               0.00\n",
       "Time:                        12:42:29   Log-Likelihood:                -2716.7\n",
       "No. Observations:               53940   AIC:                             5445.\n",
       "Df Residuals:                   53934   BIC:                             5499.\n",
       "Df Model:                           5                                         \n",
       "Covariance Type:            nonrobust                                         \n",
       "====================================================================================\n",
       "                       coef    std err          t      P>|t|      [0.025      0.975]\n",
       "------------------------------------------------------------------------------------\n",
       "Intercept            8.2001      0.006   1292.692      0.000       8.188       8.213\n",
       "cut[T.Good]          0.1632      0.007     22.289      0.000       0.149       0.178\n",
       "cut[T.Ideal]         0.3172      0.007     47.830      0.000       0.304       0.330\n",
       "cut[T.Premium]       0.2382      0.007     35.470      0.000       0.225       0.251\n",
       "cut[T.Very Good]     0.2408      0.007     35.517      0.000       0.227       0.254\n",
       "Q('log(carat)')      1.6958      0.002    887.679      0.000       1.692       1.700\n",
       "==============================================================================\n",
       "Omnibus:                      845.283   Durbin-Watson:                   1.275\n",
       "Prob(Omnibus):                  0.000   Jarque-Bera (JB):             1407.337\n",
       "Skew:                           0.137   Prob(JB):                    2.52e-306\n",
       "Kurtosis:                       3.742   Cond. No.                         16.1\n",
       "==============================================================================\n",
       "\n",
       "Notes:\n",
       "[1] Standard Errors assume that the covariance matrix of the errors is correctly specified.\n",
       "\"\"\""
      ]
     },
     "execution_count": 12,
     "metadata": {},
     "output_type": "execute_result"
    }
   ],
   "source": [
    "m = smf.ols(\"Q('log(price)')~ Q('log(carat)') + cut\", data=df_diamonds).fit()\n",
    "m.summary()"
   ]
  },
  {
   "cell_type": "markdown",
   "id": "b88d79aa",
   "metadata": {},
   "source": [
    ".937 is higher than the value from the previous and therefore is the better fitting model "
   ]
  },
  {
   "cell_type": "code",
   "execution_count": 13,
   "id": "5bc24dda-8181-4c8e-b323-5536fb7e8e53",
   "metadata": {},
   "outputs": [
    {
     "data": {
      "text/html": [
       "<table class=\"simpletable\">\n",
       "<caption>OLS Regression Results</caption>\n",
       "<tr>\n",
       "  <th>Dep. Variable:</th>      <td>np.log(price)</td>  <th>  R-squared:         </th> <td>   0.937</td> \n",
       "</tr>\n",
       "<tr>\n",
       "  <th>Model:</th>                   <td>OLS</td>       <th>  Adj. R-squared:    </th> <td>   0.937</td> \n",
       "</tr>\n",
       "<tr>\n",
       "  <th>Method:</th>             <td>Least Squares</td>  <th>  F-statistic:       </th> <td>1.607e+05</td>\n",
       "</tr>\n",
       "<tr>\n",
       "  <th>Date:</th>             <td>Sat, 11 May 2024</td> <th>  Prob (F-statistic):</th>  <td>  0.00</td>  \n",
       "</tr>\n",
       "<tr>\n",
       "  <th>Time:</th>                 <td>12:42:29</td>     <th>  Log-Likelihood:    </th> <td> -2716.7</td> \n",
       "</tr>\n",
       "<tr>\n",
       "  <th>No. Observations:</th>      <td> 53940</td>      <th>  AIC:               </th> <td>   5445.</td> \n",
       "</tr>\n",
       "<tr>\n",
       "  <th>Df Residuals:</th>          <td> 53934</td>      <th>  BIC:               </th> <td>   5499.</td> \n",
       "</tr>\n",
       "<tr>\n",
       "  <th>Df Model:</th>              <td>     5</td>      <th>                     </th>     <td> </td>    \n",
       "</tr>\n",
       "<tr>\n",
       "  <th>Covariance Type:</th>      <td>nonrobust</td>    <th>                     </th>     <td> </td>    \n",
       "</tr>\n",
       "</table>\n",
       "<table class=\"simpletable\">\n",
       "<tr>\n",
       "          <td></td>            <th>coef</th>     <th>std err</th>      <th>t</th>      <th>P>|t|</th>  <th>[0.025</th>    <th>0.975]</th>  \n",
       "</tr>\n",
       "<tr>\n",
       "  <th>Intercept</th>        <td>    8.2001</td> <td>    0.006</td> <td> 1292.692</td> <td> 0.000</td> <td>    8.188</td> <td>    8.213</td>\n",
       "</tr>\n",
       "<tr>\n",
       "  <th>cut[T.Good]</th>      <td>    0.1632</td> <td>    0.007</td> <td>   22.289</td> <td> 0.000</td> <td>    0.149</td> <td>    0.178</td>\n",
       "</tr>\n",
       "<tr>\n",
       "  <th>cut[T.Ideal]</th>     <td>    0.3172</td> <td>    0.007</td> <td>   47.830</td> <td> 0.000</td> <td>    0.304</td> <td>    0.330</td>\n",
       "</tr>\n",
       "<tr>\n",
       "  <th>cut[T.Premium]</th>   <td>    0.2382</td> <td>    0.007</td> <td>   35.470</td> <td> 0.000</td> <td>    0.225</td> <td>    0.251</td>\n",
       "</tr>\n",
       "<tr>\n",
       "  <th>cut[T.Very Good]</th> <td>    0.2408</td> <td>    0.007</td> <td>   35.517</td> <td> 0.000</td> <td>    0.227</td> <td>    0.254</td>\n",
       "</tr>\n",
       "<tr>\n",
       "  <th>np.log(carat)</th>    <td>    1.6958</td> <td>    0.002</td> <td>  887.679</td> <td> 0.000</td> <td>    1.692</td> <td>    1.700</td>\n",
       "</tr>\n",
       "</table>\n",
       "<table class=\"simpletable\">\n",
       "<tr>\n",
       "  <th>Omnibus:</th>       <td>845.283</td> <th>  Durbin-Watson:     </th> <td>   1.275</td> \n",
       "</tr>\n",
       "<tr>\n",
       "  <th>Prob(Omnibus):</th> <td> 0.000</td>  <th>  Jarque-Bera (JB):  </th> <td>1407.337</td> \n",
       "</tr>\n",
       "<tr>\n",
       "  <th>Skew:</th>          <td> 0.137</td>  <th>  Prob(JB):          </th> <td>2.52e-306</td>\n",
       "</tr>\n",
       "<tr>\n",
       "  <th>Kurtosis:</th>      <td> 3.742</td>  <th>  Cond. No.          </th> <td>    16.1</td> \n",
       "</tr>\n",
       "</table><br/><br/>Notes:<br/>[1] Standard Errors assume that the covariance matrix of the errors is correctly specified."
      ],
      "text/latex": [
       "\\begin{center}\n",
       "\\begin{tabular}{lclc}\n",
       "\\toprule\n",
       "\\textbf{Dep. Variable:}    &  np.log(price)   & \\textbf{  R-squared:         } &     0.937   \\\\\n",
       "\\textbf{Model:}            &       OLS        & \\textbf{  Adj. R-squared:    } &     0.937   \\\\\n",
       "\\textbf{Method:}           &  Least Squares   & \\textbf{  F-statistic:       } & 1.607e+05   \\\\\n",
       "\\textbf{Date:}             & Sat, 11 May 2024 & \\textbf{  Prob (F-statistic):} &     0.00    \\\\\n",
       "\\textbf{Time:}             &     12:42:29     & \\textbf{  Log-Likelihood:    } &   -2716.7   \\\\\n",
       "\\textbf{No. Observations:} &       53940      & \\textbf{  AIC:               } &     5445.   \\\\\n",
       "\\textbf{Df Residuals:}     &       53934      & \\textbf{  BIC:               } &     5499.   \\\\\n",
       "\\textbf{Df Model:}         &           5      & \\textbf{                     } &             \\\\\n",
       "\\textbf{Covariance Type:}  &    nonrobust     & \\textbf{                     } &             \\\\\n",
       "\\bottomrule\n",
       "\\end{tabular}\n",
       "\\begin{tabular}{lcccccc}\n",
       "                          & \\textbf{coef} & \\textbf{std err} & \\textbf{t} & \\textbf{P$> |$t$|$} & \\textbf{[0.025} & \\textbf{0.975]}  \\\\\n",
       "\\midrule\n",
       "\\textbf{Intercept}        &       8.2001  &        0.006     &  1292.692  &         0.000        &        8.188    &        8.213     \\\\\n",
       "\\textbf{cut[T.Good]}      &       0.1632  &        0.007     &    22.289  &         0.000        &        0.149    &        0.178     \\\\\n",
       "\\textbf{cut[T.Ideal]}     &       0.3172  &        0.007     &    47.830  &         0.000        &        0.304    &        0.330     \\\\\n",
       "\\textbf{cut[T.Premium]}   &       0.2382  &        0.007     &    35.470  &         0.000        &        0.225    &        0.251     \\\\\n",
       "\\textbf{cut[T.Very Good]} &       0.2408  &        0.007     &    35.517  &         0.000        &        0.227    &        0.254     \\\\\n",
       "\\textbf{np.log(carat)}    &       1.6958  &        0.002     &   887.679  &         0.000        &        1.692    &        1.700     \\\\\n",
       "\\bottomrule\n",
       "\\end{tabular}\n",
       "\\begin{tabular}{lclc}\n",
       "\\textbf{Omnibus:}       & 845.283 & \\textbf{  Durbin-Watson:     } &     1.275  \\\\\n",
       "\\textbf{Prob(Omnibus):} &   0.000 & \\textbf{  Jarque-Bera (JB):  } &  1407.337  \\\\\n",
       "\\textbf{Skew:}          &   0.137 & \\textbf{  Prob(JB):          } & 2.52e-306  \\\\\n",
       "\\textbf{Kurtosis:}      &   3.742 & \\textbf{  Cond. No.          } &      16.1  \\\\\n",
       "\\bottomrule\n",
       "\\end{tabular}\n",
       "%\\caption{OLS Regression Results}\n",
       "\\end{center}\n",
       "\n",
       "Notes: \\newline\n",
       " [1] Standard Errors assume that the covariance matrix of the errors is correctly specified."
      ],
      "text/plain": [
       "<class 'statsmodels.iolib.summary.Summary'>\n",
       "\"\"\"\n",
       "                            OLS Regression Results                            \n",
       "==============================================================================\n",
       "Dep. Variable:          np.log(price)   R-squared:                       0.937\n",
       "Model:                            OLS   Adj. R-squared:                  0.937\n",
       "Method:                 Least Squares   F-statistic:                 1.607e+05\n",
       "Date:                Sat, 11 May 2024   Prob (F-statistic):               0.00\n",
       "Time:                        12:42:29   Log-Likelihood:                -2716.7\n",
       "No. Observations:               53940   AIC:                             5445.\n",
       "Df Residuals:                   53934   BIC:                             5499.\n",
       "Df Model:                           5                                         \n",
       "Covariance Type:            nonrobust                                         \n",
       "====================================================================================\n",
       "                       coef    std err          t      P>|t|      [0.025      0.975]\n",
       "------------------------------------------------------------------------------------\n",
       "Intercept            8.2001      0.006   1292.692      0.000       8.188       8.213\n",
       "cut[T.Good]          0.1632      0.007     22.289      0.000       0.149       0.178\n",
       "cut[T.Ideal]         0.3172      0.007     47.830      0.000       0.304       0.330\n",
       "cut[T.Premium]       0.2382      0.007     35.470      0.000       0.225       0.251\n",
       "cut[T.Very Good]     0.2408      0.007     35.517      0.000       0.227       0.254\n",
       "np.log(carat)        1.6958      0.002    887.679      0.000       1.692       1.700\n",
       "==============================================================================\n",
       "Omnibus:                      845.283   Durbin-Watson:                   1.275\n",
       "Prob(Omnibus):                  0.000   Jarque-Bera (JB):             1407.337\n",
       "Skew:                           0.137   Prob(JB):                    2.52e-306\n",
       "Kurtosis:                       3.742   Cond. No.                         16.1\n",
       "==============================================================================\n",
       "\n",
       "Notes:\n",
       "[1] Standard Errors assume that the covariance matrix of the errors is correctly specified.\n",
       "\"\"\""
      ]
     },
     "execution_count": 13,
     "metadata": {},
     "output_type": "execute_result"
    }
   ],
   "source": [
    "m = smf.ols(\"np.log(price) ~ np.log(carat) + cut\", data=df_diamonds).fit()\n",
    "m.summary()"
   ]
  },
  {
   "cell_type": "markdown",
   "id": "b811508f-90c5-4431-9c0f-4c04a74ec254",
   "metadata": {},
   "source": [
    "4. What does R2 suggest: is log-transformed model better than non-log transformed?\n",
    "If you have time, then add cut to this model and interpret the coefficients.\n",
    "See Lecture Notes Section 2.1.8 Feature Transformations."
   ]
  },
  {
   "cell_type": "markdown",
   "id": "c390c4ab",
   "metadata": {},
   "source": [
    "Log-transformed model is better than non-log transformed. Log transformation helps stabilize variance and reduce skewness, creating a more linear relationship between log(price) and log(carat)."
   ]
  }
 ],
 "metadata": {
  "kernelspec": {
   "display_name": "Python 3",
   "language": "python",
   "name": "python3"
  },
  "language_info": {
   "codemirror_mode": {
    "name": "ipython",
    "version": 3
   },
   "file_extension": ".py",
   "mimetype": "text/x-python",
   "name": "python",
   "nbconvert_exporter": "python",
   "pygments_lexer": "ipython3",
   "version": "3.12.3"
  }
 },
 "nbformat": 4,
 "nbformat_minor": 5
}
