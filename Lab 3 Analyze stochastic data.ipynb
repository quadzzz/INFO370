{
 "cells": [
  {
   "cell_type": "markdown",
   "metadata": {},
   "source": [
    "## Lab 3: Analyze Stochastic Data \n",
    "\n",
    "### Name: Gabriella Rivera\n",
    "\n",
    "#### 1 Toss two coins\n",
    "\n",
    "1. I am flipping two quarters\n",
    "\n",
    "2."
   ]
  },
  {
   "cell_type": "markdown",
   "metadata": {},
   "source": [
    "| Trial | Heads |\n",
    "| :----:| :----: |\n",
    "| 1 | 0 |\n",
    "| 2 | 1 |\n",
    "| 3 | 2 |\n",
    "| 4 | 1 |\n",
    "| 5 | 1 |\n",
    "| 6 | 2 |\n",
    "| 7 | 0 |\n",
    "| 8 | 1 |\n",
    "| 9 | 0 |\n",
    "| 10 | 2 |\n",
    "| 11 | 2 |\n",
    "| 12 | 1 |\n",
    "| 13 | 0 |\n",
    "| 14 | 1 |\n",
    "| 15 | 1 |\n",
    "| 16 | 2 |\n",
    "| 17 | 2 |\n",
    "| 18 | 0 |\n",
    "| 19 | 2 |\n",
    "| 20 | 1 |"
   ]
  },
  {
   "cell_type": "markdown",
   "metadata": {},
   "source": [
    "3. \n",
    "Summary:\n",
    "\n",
    "0 heads -> 5\n",
    "\n",
    "1 head -> 8\n",
    "\n",
    "2 heads -> 7 \n",
    "\n",
    "4."
   ]
  },
  {
   "cell_type": "code",
   "execution_count": 1,
   "metadata": {},
   "outputs": [
    {
     "data": {
      "text/plain": [
       "0.75"
      ]
     },
     "execution_count": 1,
     "metadata": {},
     "output_type": "execute_result"
    }
   ],
   "source": [
    "mean = (8 + 7) / 20 \n",
    "print(mean)"
   ]
  },
  {
   "cell_type": "markdown",
   "metadata": {},
   "source": [
    "5."
   ]
  },
  {
   "cell_type": "code",
   "execution_count": 11,
   "metadata": {},
   "outputs": [],
   "source": [
    "results = [0, 0, 0, 0, 0, 1, 1, 1, 1, 1, 1, 1, 1, 2, 2, 2, 2, 2, 2, 2]"
   ]
  },
  {
   "cell_type": "markdown",
   "metadata": {},
   "source": [
    "Median, the 0.5th quantile, is the midpoint between the lower tertile (q1/3 = 1) and the upper tertile (q2/3 = 1). Hence the median is 1 as well.\n",
    "\n",
    "6.   variance = sum((data_point - mean)^2) / N"
   ]
  },
  {
   "cell_type": "code",
   "execution_count": 9,
   "metadata": {},
   "outputs": [
    {
     "name": "stdout",
     "output_type": "stream",
     "text": [
      "0.7125\n"
     ]
    }
   ],
   "source": [
    "dp1 = (0 - 0.75) ** 2\n",
    "dp2 = (1 - 0.75) ** 2\n",
    "dp3 = (2 - 0.75) ** 2\n",
    "dp4 = (1 - 0.75) ** 2\n",
    "dp5 = (1 - 0.75) ** 2\n",
    "dp6 = (2 - 0.75) ** 2\n",
    "dp7 = (0 - 0.75) ** 2\n",
    "dp8 = (1 - 0.75) ** 2\n",
    "dp9 = (0 - 0.75) ** 2\n",
    "dp10 = (2 - 0.75) ** 2\n",
    "dp11 = (2 - 0.75) ** 2\n",
    "dp12 = (1 - 0.75) ** 2\n",
    "dp13 = (0 - 0.75) ** 2\n",
    "dp14 = (1 - 0.75) ** 2\n",
    "dp15 = (1 - 0.75) ** 2\n",
    "dp16 = (2 - 0.75) ** 2\n",
    "dp17 = (2 - 0.75) ** 2\n",
    "dp18 = (0 - 0.75) ** 2\n",
    "dp19 = (2 - 0.75) ** 2\n",
    "dp20 = (1 - 0.75) ** 2\n",
    "\n",
    "variance = (dp1 + dp2 + dp3 + dp4 + dp5 + dp6 + dp7 + dp8 + dp9 + dp10 + dp11 + dp12 + dp13 + dp14 + dp15 + dp16 + dp17 + dp18 + dp19 + dp20) / 20\n",
    "\n",
    "print(variance)"
   ]
  },
  {
   "cell_type": "markdown",
   "metadata": {},
   "source": [
    "7."
   ]
  },
  {
   "cell_type": "code",
   "execution_count": 13,
   "metadata": {},
   "outputs": [
    {
     "name": "stdout",
     "output_type": "stream",
     "text": [
      "0.7681145747868608\n"
     ]
    }
   ],
   "source": [
    "import numpy as np\n",
    "import matplotlib \n",
    "\n",
    "print(np.std(results))"
   ]
  },
  {
   "cell_type": "markdown",
   "metadata": {},
   "source": [
    "8."
   ]
  },
  {
   "cell_type": "code",
   "execution_count": 18,
   "metadata": {},
   "outputs": [
    {
     "data": {
      "image/png": "[encoded data removed]",
      "text/plain": [
       "<Figure size 640x480 with 1 Axes>"
      ]
     },
     "metadata": {},
     "output_type": "display_data"
    }
   ],
   "source": [
    "import matplotlib.pyplot as plt\n",
    "\n",
    "_ = plt.hist(results, bins=100)"
   ]
  },
  {
   "cell_type": "markdown",
   "metadata": {},
   "source": [
    "9. No, the data does not contain outliers, nor can it contain outliers. \n",
    "\n",
    "10. 20th percentile is 1/5. There are 20 datapoints, and therefore the 1/5th mark is the fourth data point. When we look at the ordered datapoints (which we need when we compute quantiles), the fourth data point is 0. Therefore the 20th percentile, or q(1/5) quantile is 0.\n",
    "\n",
    "11. 80th percentile is 4/5. The 4/5th mark is the sixteenth data point, which is 2, so the 80th percentile (upper quintile), or q(4/5) quantile is 2.\n",
    "\n",
    "12.  The quantile share ration (QSR) can be computed as a sum of all values above the 0.8-th percentile, divided by the sum of values below 0.2-th percentile\n"
   ]
  },
  {
   "cell_type": "code",
   "execution_count": 19,
   "metadata": {},
   "outputs": [
    {
     "ename": "ZeroDivisionError",
     "evalue": "division by zero",
     "output_type": "error",
     "traceback": [
      "\u001b[1;31m---------------------------------------------------------------------------\u001b[0m",
      "\u001b[1;31mZeroDivisionError\u001b[0m                         Traceback (most recent call last)",
      "Cell \u001b[1;32mIn[19], line 3\u001b[0m\n\u001b[0;32m      1\u001b[0m value_sum_80th \u001b[38;5;241m=\u001b[39m \u001b[38;5;241m2\u001b[39m \u001b[38;5;241m+\u001b[39m \u001b[38;5;241m2\u001b[39m \u001b[38;5;241m+\u001b[39m \u001b[38;5;241m2\u001b[39m \u001b[38;5;241m+\u001b[39m \u001b[38;5;241m2\u001b[39m\n\u001b[0;32m      2\u001b[0m value_sum_20th \u001b[38;5;241m=\u001b[39m \u001b[38;5;241m0\u001b[39m \u001b[38;5;241m+\u001b[39m \u001b[38;5;241m0\u001b[39m \u001b[38;5;241m+\u001b[39m \u001b[38;5;241m0\u001b[39m \u001b[38;5;241m+\u001b[39m \u001b[38;5;241m0\u001b[39m\n\u001b[1;32m----> 3\u001b[0m qsr \u001b[38;5;241m=\u001b[39m \u001b[43mvalue_sum_80th\u001b[49m\u001b[43m \u001b[49m\u001b[38;5;241;43m/\u001b[39;49m\u001b[43m \u001b[49m\u001b[43mvalue_sum_20th\u001b[49m \n",
      "\u001b[1;31mZeroDivisionError\u001b[0m: division by zero"
     ]
    }
   ],
   "source": [
    "value_sum_80th = 2 + 2 + 2 + 2\n",
    "value_sum_20th = 0 + 0 + 0 + 0\n",
    "qsr = value_sum_80th / value_sum_20th "
   ]
  },
  {
   "cell_type": "markdown",
   "metadata": {},
   "source": [
    "This cannot be done, for we cannot divide by 0"
   ]
  }
 ],
 "metadata": {
  "kernelspec": {
   "display_name": "Python 3",
   "language": "python",
   "name": "python3"
  },
  "language_info": {
   "codemirror_mode": {
    "name": "ipython",
    "version": 3
   },
   "file_extension": ".py",
   "mimetype": "text/x-python",
   "name": "python",
   "nbconvert_exporter": "python",
   "pygments_lexer": "ipython3",
   "version": "3.12.0"
  }
 },
 "nbformat": 4,
 "nbformat_minor": 2
}
