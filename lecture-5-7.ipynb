{
 "cells": [
  {
   "cell_type": "markdown",
   "metadata": {},
   "source": [
    "### 2024-05-07 Categorical variables"
   ]
  },
  {
   "cell_type": "code",
   "execution_count": 2,
   "metadata": {},
   "outputs": [],
   "source": [
    "import pandas as pd\n",
    "import numpy as np\n",
    "import matplotlib.pyplot as plt"
   ]
  },
  {
   "cell_type": "code",
   "execution_count": 3,
   "metadata": {},
   "outputs": [
    {
     "data": {
      "text/html": [
       "<div>\n",
       "<style scoped>\n",
       "    .dataframe tbody tr th:only-of-type {\n",
       "        vertical-align: middle;\n",
       "    }\n",
       "\n",
       "    .dataframe tbody tr th {\n",
       "        vertical-align: top;\n",
       "    }\n",
       "\n",
       "    .dataframe thead th {\n",
       "        text-align: right;\n",
       "    }\n",
       "</style>\n",
       "<table border=\"1\" class=\"dataframe\">\n",
       "  <thead>\n",
       "    <tr style=\"text-align: right;\">\n",
       "      <th></th>\n",
       "      <th>income</th>\n",
       "      <th>height</th>\n",
       "      <th>weight</th>\n",
       "      <th>age</th>\n",
       "      <th>marital</th>\n",
       "      <th>sex</th>\n",
       "      <th>education</th>\n",
       "      <th>afqt</th>\n",
       "    </tr>\n",
       "  </thead>\n",
       "  <tbody>\n",
       "    <tr>\n",
       "      <th>0</th>\n",
       "      <td>19000</td>\n",
       "      <td>60</td>\n",
       "      <td>155.0</td>\n",
       "      <td>53</td>\n",
       "      <td>married</td>\n",
       "      <td>female</td>\n",
       "      <td>13.0</td>\n",
       "      <td>6.841</td>\n",
       "    </tr>\n",
       "    <tr>\n",
       "      <th>1</th>\n",
       "      <td>35000</td>\n",
       "      <td>70</td>\n",
       "      <td>156.0</td>\n",
       "      <td>51</td>\n",
       "      <td>married</td>\n",
       "      <td>female</td>\n",
       "      <td>10.0</td>\n",
       "      <td>49.444</td>\n",
       "    </tr>\n",
       "    <tr>\n",
       "      <th>2</th>\n",
       "      <td>105000</td>\n",
       "      <td>65</td>\n",
       "      <td>195.0</td>\n",
       "      <td>52</td>\n",
       "      <td>married</td>\n",
       "      <td>male</td>\n",
       "      <td>16.0</td>\n",
       "      <td>99.393</td>\n",
       "    </tr>\n",
       "  </tbody>\n",
       "</table>\n",
       "</div>"
      ],
      "text/plain": [
       "   income  height  weight  age  marital     sex  education    afqt\n",
       "0   19000      60   155.0   53  married  female       13.0   6.841\n",
       "1   35000      70   156.0   51  married  female       10.0  49.444\n",
       "2  105000      65   195.0   52  married    male       16.0  99.393"
      ]
     },
     "execution_count": 3,
     "metadata": {},
     "output_type": "execute_result"
    }
   ],
   "source": [
    "ih = pd.read_csv(\"income-height.csv.bz2\", sep = \"\\t\")\n",
    "ih.head(3)"
   ]
  },
  {
   "cell_type": "code",
   "execution_count": 4,
   "metadata": {},
   "outputs": [
    {
     "data": {
      "text/plain": [
       "sex\n",
       "female    3604\n",
       "male      3402\n",
       "Name: count, dtype: int64"
      ]
     },
     "execution_count": 4,
     "metadata": {},
     "output_type": "execute_result"
    }
   ],
   "source": [
    "ih.sex.value_counts()"
   ]
  },
  {
   "cell_type": "code",
   "execution_count": 5,
   "metadata": {},
   "outputs": [
    {
     "data": {
      "text/plain": [
       "sex\n",
       "female    29587.564095\n",
       "male      53510.055850\n",
       "Name: income, dtype: float64"
      ]
     },
     "execution_count": 5,
     "metadata": {},
     "output_type": "execute_result"
    }
   ],
   "source": [
    "ih.groupby(\"sex\").income.mean()"
   ]
  },
  {
   "cell_type": "code",
   "execution_count": 6,
   "metadata": {},
   "outputs": [
    {
     "data": {
      "text/html": [
       "<div>\n",
       "<style scoped>\n",
       "    .dataframe tbody tr th:only-of-type {\n",
       "        vertical-align: middle;\n",
       "    }\n",
       "\n",
       "    .dataframe tbody tr th {\n",
       "        vertical-align: top;\n",
       "    }\n",
       "\n",
       "    .dataframe thead th {\n",
       "        text-align: right;\n",
       "    }\n",
       "</style>\n",
       "<table border=\"1\" class=\"dataframe\">\n",
       "  <thead>\n",
       "    <tr style=\"text-align: right;\">\n",
       "      <th></th>\n",
       "      <th>income</th>\n",
       "      <th>height</th>\n",
       "      <th>weight</th>\n",
       "      <th>age</th>\n",
       "      <th>marital</th>\n",
       "      <th>sex</th>\n",
       "      <th>education</th>\n",
       "      <th>afqt</th>\n",
       "      <th>female</th>\n",
       "    </tr>\n",
       "  </thead>\n",
       "  <tbody>\n",
       "    <tr>\n",
       "      <th>0</th>\n",
       "      <td>19000</td>\n",
       "      <td>60</td>\n",
       "      <td>155.0</td>\n",
       "      <td>53</td>\n",
       "      <td>married</td>\n",
       "      <td>female</td>\n",
       "      <td>13.0</td>\n",
       "      <td>6.841</td>\n",
       "      <td>1</td>\n",
       "    </tr>\n",
       "    <tr>\n",
       "      <th>1</th>\n",
       "      <td>35000</td>\n",
       "      <td>70</td>\n",
       "      <td>156.0</td>\n",
       "      <td>51</td>\n",
       "      <td>married</td>\n",
       "      <td>female</td>\n",
       "      <td>10.0</td>\n",
       "      <td>49.444</td>\n",
       "      <td>1</td>\n",
       "    </tr>\n",
       "    <tr>\n",
       "      <th>2</th>\n",
       "      <td>105000</td>\n",
       "      <td>65</td>\n",
       "      <td>195.0</td>\n",
       "      <td>52</td>\n",
       "      <td>married</td>\n",
       "      <td>male</td>\n",
       "      <td>16.0</td>\n",
       "      <td>99.393</td>\n",
       "      <td>0</td>\n",
       "    </tr>\n",
       "  </tbody>\n",
       "</table>\n",
       "</div>"
      ],
      "text/plain": [
       "   income  height  weight  age  marital     sex  education    afqt  female\n",
       "0   19000      60   155.0   53  married  female       13.0   6.841       1\n",
       "1   35000      70   156.0   51  married  female       10.0  49.444       1\n",
       "2  105000      65   195.0   52  married    male       16.0  99.393       0"
      ]
     },
     "execution_count": 6,
     "metadata": {},
     "output_type": "execute_result"
    }
   ],
   "source": [
    "ih[\"female\"] = (ih.sex == \"female\").astype(int)\n",
    "ih.head(3)"
   ]
  },
  {
   "cell_type": "code",
   "execution_count": 7,
   "metadata": {},
   "outputs": [],
   "source": [
    "import statsmodels.formula.api as smf"
   ]
  },
  {
   "cell_type": "code",
   "execution_count": 8,
   "metadata": {},
   "outputs": [
    {
     "data": {
      "text/html": [
       "<table class=\"simpletable\">\n",
       "<caption>OLS Regression Results</caption>\n",
       "<tr>\n",
       "  <th>Dep. Variable:</th>         <td>income</td>      <th>  R-squared:         </th> <td>   0.046</td> \n",
       "</tr>\n",
       "<tr>\n",
       "  <th>Model:</th>                   <td>OLS</td>       <th>  Adj. R-squared:    </th> <td>   0.046</td> \n",
       "</tr>\n",
       "<tr>\n",
       "  <th>Method:</th>             <td>Least Squares</td>  <th>  F-statistic:       </th> <td>   335.9</td> \n",
       "</tr>\n",
       "<tr>\n",
       "  <th>Date:</th>             <td>Tue, 07 May 2024</td> <th>  Prob (F-statistic):</th> <td>2.50e-73</td> \n",
       "</tr>\n",
       "<tr>\n",
       "  <th>Time:</th>                 <td>14:59:41</td>     <th>  Log-Likelihood:    </th> <td> -86360.</td> \n",
       "</tr>\n",
       "<tr>\n",
       "  <th>No. Observations:</th>      <td>  7006</td>      <th>  AIC:               </th> <td>1.727e+05</td>\n",
       "</tr>\n",
       "<tr>\n",
       "  <th>Df Residuals:</th>          <td>  7004</td>      <th>  BIC:               </th> <td>1.727e+05</td>\n",
       "</tr>\n",
       "<tr>\n",
       "  <th>Df Model:</th>              <td>     1</td>      <th>                     </th>     <td> </td>    \n",
       "</tr>\n",
       "<tr>\n",
       "  <th>Covariance Type:</th>      <td>nonrobust</td>    <th>                     </th>     <td> </td>    \n",
       "</tr>\n",
       "</table>\n",
       "<table class=\"simpletable\">\n",
       "<tr>\n",
       "      <td></td>         <th>coef</th>     <th>std err</th>      <th>t</th>      <th>P>|t|</th>  <th>[0.025</th>    <th>0.975]</th>  \n",
       "</tr>\n",
       "<tr>\n",
       "  <th>Intercept</th> <td> 5.351e+04</td> <td>  936.142</td> <td>   57.160</td> <td> 0.000</td> <td> 5.17e+04</td> <td> 5.53e+04</td>\n",
       "</tr>\n",
       "<tr>\n",
       "  <th>female</th>    <td>-2.392e+04</td> <td> 1305.222</td> <td>  -18.328</td> <td> 0.000</td> <td>-2.65e+04</td> <td>-2.14e+04</td>\n",
       "</tr>\n",
       "</table>\n",
       "<table class=\"simpletable\">\n",
       "<tr>\n",
       "  <th>Omnibus:</th>       <td>4908.306</td> <th>  Durbin-Watson:     </th> <td>   1.731</td> \n",
       "</tr>\n",
       "<tr>\n",
       "  <th>Prob(Omnibus):</th>  <td> 0.000</td>  <th>  Jarque-Bera (JB):  </th> <td>73316.159</td>\n",
       "</tr>\n",
       "<tr>\n",
       "  <th>Skew:</th>           <td> 3.259</td>  <th>  Prob(JB):          </th> <td>    0.00</td> \n",
       "</tr>\n",
       "<tr>\n",
       "  <th>Kurtosis:</th>       <td>17.446</td>  <th>  Cond. No.          </th> <td>    2.65</td> \n",
       "</tr>\n",
       "</table><br/><br/>Notes:<br/>[1] Standard Errors assume that the covariance matrix of the errors is correctly specified."
      ],
      "text/latex": [
       "\\begin{center}\n",
       "\\begin{tabular}{lclc}\n",
       "\\toprule\n",
       "\\textbf{Dep. Variable:}    &      income      & \\textbf{  R-squared:         } &     0.046   \\\\\n",
       "\\textbf{Model:}            &       OLS        & \\textbf{  Adj. R-squared:    } &     0.046   \\\\\n",
       "\\textbf{Method:}           &  Least Squares   & \\textbf{  F-statistic:       } &     335.9   \\\\\n",
       "\\textbf{Date:}             & Tue, 07 May 2024 & \\textbf{  Prob (F-statistic):} &  2.50e-73   \\\\\n",
       "\\textbf{Time:}             &     14:59:41     & \\textbf{  Log-Likelihood:    } &   -86360.   \\\\\n",
       "\\textbf{No. Observations:} &        7006      & \\textbf{  AIC:               } & 1.727e+05   \\\\\n",
       "\\textbf{Df Residuals:}     &        7004      & \\textbf{  BIC:               } & 1.727e+05   \\\\\n",
       "\\textbf{Df Model:}         &           1      & \\textbf{                     } &             \\\\\n",
       "\\textbf{Covariance Type:}  &    nonrobust     & \\textbf{                     } &             \\\\\n",
       "\\bottomrule\n",
       "\\end{tabular}\n",
       "\\begin{tabular}{lcccccc}\n",
       "                   & \\textbf{coef} & \\textbf{std err} & \\textbf{t} & \\textbf{P$> |$t$|$} & \\textbf{[0.025} & \\textbf{0.975]}  \\\\\n",
       "\\midrule\n",
       "\\textbf{Intercept} &    5.351e+04  &      936.142     &    57.160  &         0.000        &     5.17e+04    &     5.53e+04     \\\\\n",
       "\\textbf{female}    &   -2.392e+04  &     1305.222     &   -18.328  &         0.000        &    -2.65e+04    &    -2.14e+04     \\\\\n",
       "\\bottomrule\n",
       "\\end{tabular}\n",
       "\\begin{tabular}{lclc}\n",
       "\\textbf{Omnibus:}       & 4908.306 & \\textbf{  Durbin-Watson:     } &     1.731  \\\\\n",
       "\\textbf{Prob(Omnibus):} &   0.000  & \\textbf{  Jarque-Bera (JB):  } & 73316.159  \\\\\n",
       "\\textbf{Skew:}          &   3.259  & \\textbf{  Prob(JB):          } &      0.00  \\\\\n",
       "\\textbf{Kurtosis:}      &  17.446  & \\textbf{  Cond. No.          } &      2.65  \\\\\n",
       "\\bottomrule\n",
       "\\end{tabular}\n",
       "%\\caption{OLS Regression Results}\n",
       "\\end{center}\n",
       "\n",
       "Notes: \\newline\n",
       " [1] Standard Errors assume that the covariance matrix of the errors is correctly specified."
      ],
      "text/plain": [
       "<class 'statsmodels.iolib.summary.Summary'>\n",
       "\"\"\"\n",
       "                            OLS Regression Results                            \n",
       "==============================================================================\n",
       "Dep. Variable:                 income   R-squared:                       0.046\n",
       "Model:                            OLS   Adj. R-squared:                  0.046\n",
       "Method:                 Least Squares   F-statistic:                     335.9\n",
       "Date:                Tue, 07 May 2024   Prob (F-statistic):           2.50e-73\n",
       "Time:                        14:59:41   Log-Likelihood:                -86360.\n",
       "No. Observations:                7006   AIC:                         1.727e+05\n",
       "Df Residuals:                    7004   BIC:                         1.727e+05\n",
       "Df Model:                           1                                         \n",
       "Covariance Type:            nonrobust                                         \n",
       "==============================================================================\n",
       "                 coef    std err          t      P>|t|      [0.025      0.975]\n",
       "------------------------------------------------------------------------------\n",
       "Intercept   5.351e+04    936.142     57.160      0.000    5.17e+04    5.53e+04\n",
       "female     -2.392e+04   1305.222    -18.328      0.000   -2.65e+04   -2.14e+04\n",
       "==============================================================================\n",
       "Omnibus:                     4908.306   Durbin-Watson:                   1.731\n",
       "Prob(Omnibus):                  0.000   Jarque-Bera (JB):            73316.159\n",
       "Skew:                           3.259   Prob(JB):                         0.00\n",
       "Kurtosis:                      17.446   Cond. No.                         2.65\n",
       "==============================================================================\n",
       "\n",
       "Notes:\n",
       "[1] Standard Errors assume that the covariance matrix of the errors is correctly specified.\n",
       "\"\"\""
      ]
     },
     "execution_count": 8,
     "metadata": {},
     "output_type": "execute_result"
    }
   ],
   "source": [
    "m = smf.ols(\"income ~ female\", data = ih).fit()\n",
    "m.summary()"
   ]
  },
  {
   "cell_type": "code",
   "execution_count": 9,
   "metadata": {},
   "outputs": [
    {
     "data": {
      "text/html": [
       "<table class=\"simpletable\">\n",
       "<caption>OLS Regression Results</caption>\n",
       "<tr>\n",
       "  <th>Dep. Variable:</th>         <td>income</td>      <th>  R-squared:         </th> <td>   0.046</td> \n",
       "</tr>\n",
       "<tr>\n",
       "  <th>Model:</th>                   <td>OLS</td>       <th>  Adj. R-squared:    </th> <td>   0.046</td> \n",
       "</tr>\n",
       "<tr>\n",
       "  <th>Method:</th>             <td>Least Squares</td>  <th>  F-statistic:       </th> <td>   335.9</td> \n",
       "</tr>\n",
       "<tr>\n",
       "  <th>Date:</th>             <td>Tue, 07 May 2024</td> <th>  Prob (F-statistic):</th> <td>2.50e-73</td> \n",
       "</tr>\n",
       "<tr>\n",
       "  <th>Time:</th>                 <td>14:59:41</td>     <th>  Log-Likelihood:    </th> <td> -86360.</td> \n",
       "</tr>\n",
       "<tr>\n",
       "  <th>No. Observations:</th>      <td>  7006</td>      <th>  AIC:               </th> <td>1.727e+05</td>\n",
       "</tr>\n",
       "<tr>\n",
       "  <th>Df Residuals:</th>          <td>  7004</td>      <th>  BIC:               </th> <td>1.727e+05</td>\n",
       "</tr>\n",
       "<tr>\n",
       "  <th>Df Model:</th>              <td>     1</td>      <th>                     </th>     <td> </td>    \n",
       "</tr>\n",
       "<tr>\n",
       "  <th>Covariance Type:</th>      <td>nonrobust</td>    <th>                     </th>     <td> </td>    \n",
       "</tr>\n",
       "</table>\n",
       "<table class=\"simpletable\">\n",
       "<tr>\n",
       "       <td></td>          <th>coef</th>     <th>std err</th>      <th>t</th>      <th>P>|t|</th>  <th>[0.025</th>    <th>0.975]</th>  \n",
       "</tr>\n",
       "<tr>\n",
       "  <th>Intercept</th>   <td> 2.959e+04</td> <td>  909.529</td> <td>   32.531</td> <td> 0.000</td> <td> 2.78e+04</td> <td> 3.14e+04</td>\n",
       "</tr>\n",
       "<tr>\n",
       "  <th>sex[T.male]</th> <td> 2.392e+04</td> <td> 1305.222</td> <td>   18.328</td> <td> 0.000</td> <td> 2.14e+04</td> <td> 2.65e+04</td>\n",
       "</tr>\n",
       "</table>\n",
       "<table class=\"simpletable\">\n",
       "<tr>\n",
       "  <th>Omnibus:</th>       <td>4908.306</td> <th>  Durbin-Watson:     </th> <td>   1.731</td> \n",
       "</tr>\n",
       "<tr>\n",
       "  <th>Prob(Omnibus):</th>  <td> 0.000</td>  <th>  Jarque-Bera (JB):  </th> <td>73316.159</td>\n",
       "</tr>\n",
       "<tr>\n",
       "  <th>Skew:</th>           <td> 3.259</td>  <th>  Prob(JB):          </th> <td>    0.00</td> \n",
       "</tr>\n",
       "<tr>\n",
       "  <th>Kurtosis:</th>       <td>17.446</td>  <th>  Cond. No.          </th> <td>    2.59</td> \n",
       "</tr>\n",
       "</table><br/><br/>Notes:<br/>[1] Standard Errors assume that the covariance matrix of the errors is correctly specified."
      ],
      "text/latex": [
       "\\begin{center}\n",
       "\\begin{tabular}{lclc}\n",
       "\\toprule\n",
       "\\textbf{Dep. Variable:}    &      income      & \\textbf{  R-squared:         } &     0.046   \\\\\n",
       "\\textbf{Model:}            &       OLS        & \\textbf{  Adj. R-squared:    } &     0.046   \\\\\n",
       "\\textbf{Method:}           &  Least Squares   & \\textbf{  F-statistic:       } &     335.9   \\\\\n",
       "\\textbf{Date:}             & Tue, 07 May 2024 & \\textbf{  Prob (F-statistic):} &  2.50e-73   \\\\\n",
       "\\textbf{Time:}             &     14:59:41     & \\textbf{  Log-Likelihood:    } &   -86360.   \\\\\n",
       "\\textbf{No. Observations:} &        7006      & \\textbf{  AIC:               } & 1.727e+05   \\\\\n",
       "\\textbf{Df Residuals:}     &        7004      & \\textbf{  BIC:               } & 1.727e+05   \\\\\n",
       "\\textbf{Df Model:}         &           1      & \\textbf{                     } &             \\\\\n",
       "\\textbf{Covariance Type:}  &    nonrobust     & \\textbf{                     } &             \\\\\n",
       "\\bottomrule\n",
       "\\end{tabular}\n",
       "\\begin{tabular}{lcccccc}\n",
       "                     & \\textbf{coef} & \\textbf{std err} & \\textbf{t} & \\textbf{P$> |$t$|$} & \\textbf{[0.025} & \\textbf{0.975]}  \\\\\n",
       "\\midrule\n",
       "\\textbf{Intercept}   &    2.959e+04  &      909.529     &    32.531  &         0.000        &     2.78e+04    &     3.14e+04     \\\\\n",
       "\\textbf{sex[T.male]} &    2.392e+04  &     1305.222     &    18.328  &         0.000        &     2.14e+04    &     2.65e+04     \\\\\n",
       "\\bottomrule\n",
       "\\end{tabular}\n",
       "\\begin{tabular}{lclc}\n",
       "\\textbf{Omnibus:}       & 4908.306 & \\textbf{  Durbin-Watson:     } &     1.731  \\\\\n",
       "\\textbf{Prob(Omnibus):} &   0.000  & \\textbf{  Jarque-Bera (JB):  } & 73316.159  \\\\\n",
       "\\textbf{Skew:}          &   3.259  & \\textbf{  Prob(JB):          } &      0.00  \\\\\n",
       "\\textbf{Kurtosis:}      &  17.446  & \\textbf{  Cond. No.          } &      2.59  \\\\\n",
       "\\bottomrule\n",
       "\\end{tabular}\n",
       "%\\caption{OLS Regression Results}\n",
       "\\end{center}\n",
       "\n",
       "Notes: \\newline\n",
       " [1] Standard Errors assume that the covariance matrix of the errors is correctly specified."
      ],
      "text/plain": [
       "<class 'statsmodels.iolib.summary.Summary'>\n",
       "\"\"\"\n",
       "                            OLS Regression Results                            \n",
       "==============================================================================\n",
       "Dep. Variable:                 income   R-squared:                       0.046\n",
       "Model:                            OLS   Adj. R-squared:                  0.046\n",
       "Method:                 Least Squares   F-statistic:                     335.9\n",
       "Date:                Tue, 07 May 2024   Prob (F-statistic):           2.50e-73\n",
       "Time:                        14:59:41   Log-Likelihood:                -86360.\n",
       "No. Observations:                7006   AIC:                         1.727e+05\n",
       "Df Residuals:                    7004   BIC:                         1.727e+05\n",
       "Df Model:                           1                                         \n",
       "Covariance Type:            nonrobust                                         \n",
       "===============================================================================\n",
       "                  coef    std err          t      P>|t|      [0.025      0.975]\n",
       "-------------------------------------------------------------------------------\n",
       "Intercept    2.959e+04    909.529     32.531      0.000    2.78e+04    3.14e+04\n",
       "sex[T.male]  2.392e+04   1305.222     18.328      0.000    2.14e+04    2.65e+04\n",
       "==============================================================================\n",
       "Omnibus:                     4908.306   Durbin-Watson:                   1.731\n",
       "Prob(Omnibus):                  0.000   Jarque-Bera (JB):            73316.159\n",
       "Skew:                           3.259   Prob(JB):                         0.00\n",
       "Kurtosis:                      17.446   Cond. No.                         2.59\n",
       "==============================================================================\n",
       "\n",
       "Notes:\n",
       "[1] Standard Errors assume that the covariance matrix of the errors is correctly specified.\n",
       "\"\"\""
      ]
     },
     "execution_count": 9,
     "metadata": {},
     "output_type": "execute_result"
    }
   ],
   "source": [
    "m = smf.ols(\"income ~ sex\", data = ih).fit()\n",
    "m.summary()"
   ]
  },
  {
   "cell_type": "code",
   "execution_count": 10,
   "metadata": {},
   "outputs": [
    {
     "data": {
      "text/plain": [
       "sex\n",
       "female    0.276082\n",
       "male      0.218989\n",
       "Name: income, dtype: float64"
      ]
     },
     "execution_count": 10,
     "metadata": {},
     "output_type": "execute_result"
    }
   ],
   "source": [
    "ih.groupby(\"sex\").income.agg(lambda x: np.mean(x == 0))"
   ]
  },
  {
   "cell_type": "code",
   "execution_count": 11,
   "metadata": {},
   "outputs": [
    {
     "data": {
      "text/plain": [
       "marital\n",
       "married      3806\n",
       "divorced     1549\n",
       "single       1124\n",
       "separated     366\n",
       "widowed       161\n",
       "Name: count, dtype: int64"
      ]
     },
     "execution_count": 11,
     "metadata": {},
     "output_type": "execute_result"
    }
   ],
   "source": [
    "ih.marital.value_counts()"
   ]
  },
  {
   "cell_type": "code",
   "execution_count": 12,
   "metadata": {},
   "outputs": [
    {
     "data": {
      "text/plain": [
       "marital\n",
       "divorced     33441.393802\n",
       "married      51273.746978\n",
       "separated    21276.453552\n",
       "single       26719.613879\n",
       "widowed      24261.881988\n",
       "Name: income, dtype: float64"
      ]
     },
     "execution_count": 12,
     "metadata": {},
     "output_type": "execute_result"
    }
   ],
   "source": [
    "ih.groupby(\"marital\").income.mean()"
   ]
  },
  {
   "cell_type": "code",
   "execution_count": 13,
   "metadata": {},
   "outputs": [
    {
     "data": {
      "text/plain": [
       "marital\n",
       "divorced     33441.393802\n",
       "married      51273.746978\n",
       "separated    21276.453552\n",
       "single       26719.613879\n",
       "widowed      24261.881988\n",
       "Name: income, dtype: float64"
      ]
     },
     "execution_count": 13,
     "metadata": {},
     "output_type": "execute_result"
    }
   ],
   "source": [
    "ih.groupby(\"marital\").income.mean()"
   ]
  },
  {
   "cell_type": "code",
   "execution_count": 14,
   "metadata": {},
   "outputs": [
    {
     "data": {
      "text/html": [
       "<table class=\"simpletable\">\n",
       "<caption>OLS Regression Results</caption>\n",
       "<tr>\n",
       "  <th>Dep. Variable:</th>         <td>income</td>      <th>  R-squared:         </th> <td>   0.041</td> \n",
       "</tr>\n",
       "<tr>\n",
       "  <th>Model:</th>                   <td>OLS</td>       <th>  Adj. R-squared:    </th> <td>   0.041</td> \n",
       "</tr>\n",
       "<tr>\n",
       "  <th>Method:</th>             <td>Least Squares</td>  <th>  F-statistic:       </th> <td>   75.65</td> \n",
       "</tr>\n",
       "<tr>\n",
       "  <th>Date:</th>             <td>Tue, 07 May 2024</td> <th>  Prob (F-statistic):</th> <td>6.88e-63</td> \n",
       "</tr>\n",
       "<tr>\n",
       "  <th>Time:</th>                 <td>15:01:00</td>     <th>  Log-Likelihood:    </th> <td> -86376.</td> \n",
       "</tr>\n",
       "<tr>\n",
       "  <th>No. Observations:</th>      <td>  7006</td>      <th>  AIC:               </th> <td>1.728e+05</td>\n",
       "</tr>\n",
       "<tr>\n",
       "  <th>Df Residuals:</th>          <td>  7001</td>      <th>  BIC:               </th> <td>1.728e+05</td>\n",
       "</tr>\n",
       "<tr>\n",
       "  <th>Df Model:</th>              <td>     4</td>      <th>                     </th>     <td> </td>    \n",
       "</tr>\n",
       "<tr>\n",
       "  <th>Covariance Type:</th>      <td>nonrobust</td>    <th>                     </th>     <td> </td>    \n",
       "</tr>\n",
       "</table>\n",
       "<table class=\"simpletable\">\n",
       "<tr>\n",
       "            <td></td>              <th>coef</th>     <th>std err</th>      <th>t</th>      <th>P>|t|</th>  <th>[0.025</th>    <th>0.975]</th>  \n",
       "</tr>\n",
       "<tr>\n",
       "  <th>Intercept</th>            <td> 3.344e+04</td> <td> 1390.787</td> <td>   24.045</td> <td> 0.000</td> <td> 3.07e+04</td> <td> 3.62e+04</td>\n",
       "</tr>\n",
       "<tr>\n",
       "  <th>marital[T.married]</th>   <td> 1.783e+04</td> <td> 1649.704</td> <td>   10.809</td> <td> 0.000</td> <td> 1.46e+04</td> <td> 2.11e+04</td>\n",
       "</tr>\n",
       "<tr>\n",
       "  <th>marital[T.separated]</th> <td>-1.216e+04</td> <td> 3181.299</td> <td>   -3.824</td> <td> 0.000</td> <td>-1.84e+04</td> <td>-5928.631</td>\n",
       "</tr>\n",
       "<tr>\n",
       "  <th>marital[T.single]</th>    <td>-6721.7799</td> <td> 2144.751</td> <td>   -3.134</td> <td> 0.002</td> <td>-1.09e+04</td> <td>-2517.418</td>\n",
       "</tr>\n",
       "<tr>\n",
       "  <th>marital[T.widowed]</th>   <td>-9179.5118</td> <td> 4532.583</td> <td>   -2.025</td> <td> 0.043</td> <td>-1.81e+04</td> <td> -294.277</td>\n",
       "</tr>\n",
       "</table>\n",
       "<table class=\"simpletable\">\n",
       "<tr>\n",
       "  <th>Omnibus:</th>       <td>5063.277</td> <th>  Durbin-Watson:     </th> <td>   1.784</td> \n",
       "</tr>\n",
       "<tr>\n",
       "  <th>Prob(Omnibus):</th>  <td> 0.000</td>  <th>  Jarque-Bera (JB):  </th> <td>80910.389</td>\n",
       "</tr>\n",
       "<tr>\n",
       "  <th>Skew:</th>           <td> 3.381</td>  <th>  Prob(JB):          </th> <td>    0.00</td> \n",
       "</tr>\n",
       "<tr>\n",
       "  <th>Kurtosis:</th>       <td>18.213</td>  <th>  Cond. No.          </th> <td>    8.41</td> \n",
       "</tr>\n",
       "</table><br/><br/>Notes:<br/>[1] Standard Errors assume that the covariance matrix of the errors is correctly specified."
      ],
      "text/latex": [
       "\\begin{center}\n",
       "\\begin{tabular}{lclc}\n",
       "\\toprule\n",
       "\\textbf{Dep. Variable:}       &      income      & \\textbf{  R-squared:         } &     0.041   \\\\\n",
       "\\textbf{Model:}               &       OLS        & \\textbf{  Adj. R-squared:    } &     0.041   \\\\\n",
       "\\textbf{Method:}              &  Least Squares   & \\textbf{  F-statistic:       } &     75.65   \\\\\n",
       "\\textbf{Date:}                & Tue, 07 May 2024 & \\textbf{  Prob (F-statistic):} &  6.88e-63   \\\\\n",
       "\\textbf{Time:}                &     15:01:00     & \\textbf{  Log-Likelihood:    } &   -86376.   \\\\\n",
       "\\textbf{No. Observations:}    &        7006      & \\textbf{  AIC:               } & 1.728e+05   \\\\\n",
       "\\textbf{Df Residuals:}        &        7001      & \\textbf{  BIC:               } & 1.728e+05   \\\\\n",
       "\\textbf{Df Model:}            &           4      & \\textbf{                     } &             \\\\\n",
       "\\textbf{Covariance Type:}     &    nonrobust     & \\textbf{                     } &             \\\\\n",
       "\\bottomrule\n",
       "\\end{tabular}\n",
       "\\begin{tabular}{lcccccc}\n",
       "                              & \\textbf{coef} & \\textbf{std err} & \\textbf{t} & \\textbf{P$> |$t$|$} & \\textbf{[0.025} & \\textbf{0.975]}  \\\\\n",
       "\\midrule\n",
       "\\textbf{Intercept}            &    3.344e+04  &     1390.787     &    24.045  &         0.000        &     3.07e+04    &     3.62e+04     \\\\\n",
       "\\textbf{marital[T.married]}   &    1.783e+04  &     1649.704     &    10.809  &         0.000        &     1.46e+04    &     2.11e+04     \\\\\n",
       "\\textbf{marital[T.separated]} &   -1.216e+04  &     3181.299     &    -3.824  &         0.000        &    -1.84e+04    &    -5928.631     \\\\\n",
       "\\textbf{marital[T.single]}    &   -6721.7799  &     2144.751     &    -3.134  &         0.002        &    -1.09e+04    &    -2517.418     \\\\\n",
       "\\textbf{marital[T.widowed]}   &   -9179.5118  &     4532.583     &    -2.025  &         0.043        &    -1.81e+04    &     -294.277     \\\\\n",
       "\\bottomrule\n",
       "\\end{tabular}\n",
       "\\begin{tabular}{lclc}\n",
       "\\textbf{Omnibus:}       & 5063.277 & \\textbf{  Durbin-Watson:     } &     1.784  \\\\\n",
       "\\textbf{Prob(Omnibus):} &   0.000  & \\textbf{  Jarque-Bera (JB):  } & 80910.389  \\\\\n",
       "\\textbf{Skew:}          &   3.381  & \\textbf{  Prob(JB):          } &      0.00  \\\\\n",
       "\\textbf{Kurtosis:}      &  18.213  & \\textbf{  Cond. No.          } &      8.41  \\\\\n",
       "\\bottomrule\n",
       "\\end{tabular}\n",
       "%\\caption{OLS Regression Results}\n",
       "\\end{center}\n",
       "\n",
       "Notes: \\newline\n",
       " [1] Standard Errors assume that the covariance matrix of the errors is correctly specified."
      ],
      "text/plain": [
       "<class 'statsmodels.iolib.summary.Summary'>\n",
       "\"\"\"\n",
       "                            OLS Regression Results                            \n",
       "==============================================================================\n",
       "Dep. Variable:                 income   R-squared:                       0.041\n",
       "Model:                            OLS   Adj. R-squared:                  0.041\n",
       "Method:                 Least Squares   F-statistic:                     75.65\n",
       "Date:                Tue, 07 May 2024   Prob (F-statistic):           6.88e-63\n",
       "Time:                        15:01:00   Log-Likelihood:                -86376.\n",
       "No. Observations:                7006   AIC:                         1.728e+05\n",
       "Df Residuals:                    7001   BIC:                         1.728e+05\n",
       "Df Model:                           4                                         \n",
       "Covariance Type:            nonrobust                                         \n",
       "========================================================================================\n",
       "                           coef    std err          t      P>|t|      [0.025      0.975]\n",
       "----------------------------------------------------------------------------------------\n",
       "Intercept             3.344e+04   1390.787     24.045      0.000    3.07e+04    3.62e+04\n",
       "marital[T.married]    1.783e+04   1649.704     10.809      0.000    1.46e+04    2.11e+04\n",
       "marital[T.separated] -1.216e+04   3181.299     -3.824      0.000   -1.84e+04   -5928.631\n",
       "marital[T.single]    -6721.7799   2144.751     -3.134      0.002   -1.09e+04   -2517.418\n",
       "marital[T.widowed]   -9179.5118   4532.583     -2.025      0.043   -1.81e+04    -294.277\n",
       "==============================================================================\n",
       "Omnibus:                     5063.277   Durbin-Watson:                   1.784\n",
       "Prob(Omnibus):                  0.000   Jarque-Bera (JB):            80910.389\n",
       "Skew:                           3.381   Prob(JB):                         0.00\n",
       "Kurtosis:                      18.213   Cond. No.                         8.41\n",
       "==============================================================================\n",
       "\n",
       "Notes:\n",
       "[1] Standard Errors assume that the covariance matrix of the errors is correctly specified.\n",
       "\"\"\""
      ]
     },
     "execution_count": 14,
     "metadata": {},
     "output_type": "execute_result"
    }
   ],
   "source": [
    "m = smf.ols(\"income ~ marital\", data = ih).fit()\n",
    "m.summary()"
   ]
  }
 ],
 "metadata": {
  "kernelspec": {
   "display_name": "Python 3",
   "language": "python",
   "name": "python3"
  },
  "language_info": {
   "codemirror_mode": {
    "name": "ipython",
    "version": 3
   },
   "file_extension": ".py",
   "mimetype": "text/x-python",
   "name": "python",
   "nbconvert_exporter": "python",
   "pygments_lexer": "ipython3",
   "version": "3.9.0"
  }
 },
 "nbformat": 4,
 "nbformat_minor": 2
}
