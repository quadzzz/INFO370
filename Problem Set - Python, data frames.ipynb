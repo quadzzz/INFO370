{
 "cells": [
  {
   "cell_type": "markdown",
   "metadata": {},
   "source": [
    "# INFO370 Problem Set: Python, data frames\n",
    "\n",
    "## Name: Gabriella Rivera\n",
    "\n",
    "\n",
    "### 1 Base python\n",
    "#### 1.1 Computing\n",
    "Compute the following numbers, assign those to suitable names variables, and print:\n",
    "\n",
    "\n",
    "1. "
   ]
  },
  {
   "cell_type": "code",
   "execution_count": 2,
   "metadata": {},
   "outputs": [
    {
     "name": "stdout",
     "output_type": "stream",
     "text": [
      "31536000\n"
     ]
    }
   ],
   "source": [
    "days_per_year = 365\n",
    "hours_per_day = 24\n",
    "minutes_per_hour = 60\n",
    "seconds_per_minute = 60\n",
    "seconds_per_year = days_per_year * hours_per_day * minutes_per_hour * seconds_per_minute\n",
    "print(seconds_per_year)"
   ]
  },
  {
   "cell_type": "markdown",
   "metadata": {},
   "source": [
    "2."
   ]
  },
  {
   "cell_type": "code",
   "execution_count": 3,
   "metadata": {},
   "outputs": [
    {
     "name": "stdout",
     "output_type": "stream",
     "text": [
      "1024920000.0\n"
     ]
    }
   ],
   "source": [
    "age_in_years = 32.5\n",
    "age_in_seconds = age_in_years * days_per_year * hours_per_day * minutes_per_hour * seconds_per_minute\n",
    "print(age_in_seconds)"
   ]
  },
  {
   "cell_type": "markdown",
   "metadata": {},
   "source": [
    "3."
   ]
  },
  {
   "cell_type": "code",
   "execution_count": 4,
   "metadata": {},
   "outputs": [
    {
     "name": "stdout",
     "output_type": "stream",
     "text": [
      "True\n"
     ]
    }
   ],
   "source": [
    "logical_variable = age_in_seconds > 700000000\n",
    "print(logical_variable)"
   ]
  },
  {
   "cell_type": "markdown",
   "metadata": {},
   "source": [
    "4."
   ]
  },
  {
   "cell_type": "code",
   "execution_count": 5,
   "metadata": {},
   "outputs": [
    {
     "name": "stdout",
     "output_type": "stream",
     "text": [
      "0.24\n"
     ]
    }
   ],
   "source": [
    "p = 0.4\n",
    "q = p * (1 - p)\n",
    "print(q)"
   ]
  },
  {
   "cell_type": "code",
   "execution_count": 6,
   "metadata": {},
   "outputs": [
    {
     "name": "stdout",
     "output_type": "stream",
     "text": [
      "0.058527663465935076\n"
     ]
    }
   ],
   "source": [
    "a = 3\n",
    "x0 = 2\n",
    "x = 2.5\n",
    "y = (a/x0) * ((1 + (x/x0))**(-a - 1))\n",
    "print(y)"
   ]
  },
  {
   "cell_type": "markdown",
   "metadata": {},
   "source": [
    "#### 1.2 Lists\n",
    "\n",
    "1."
   ]
  },
  {
   "cell_type": "code",
   "execution_count": 7,
   "metadata": {},
   "outputs": [
    {
     "data": {
      "text/plain": [
       "['Nacho Libre',\n",
       " 'Pirates of the Caribbean',\n",
       " 'Talk To Me',\n",
       " 'Leave the World Behind',\n",
       " 'Mad Max',\n",
       " 'Just Married']"
      ]
     },
     "execution_count": 7,
     "metadata": {},
     "output_type": "execute_result"
    }
   ],
   "source": [
    "movie_list = [\"Nacho Libre\", \"Pirates of the Caribbean\", \"Talk To Me\", \"Leave the World Behind\", \"Mad Max\", \"Just Married\"]\n",
    "movie_list"
   ]
  },
  {
   "cell_type": "markdown",
   "metadata": {},
   "source": [
    "2."
   ]
  },
  {
   "cell_type": "code",
   "execution_count": 8,
   "metadata": {},
   "outputs": [
    {
     "data": {
      "text/plain": [
       "['Nacho Libre', 'Pirates of the Caribbean', 'Talk To Me']"
      ]
     },
     "execution_count": 8,
     "metadata": {},
     "output_type": "execute_result"
    }
   ],
   "source": [
    "three_movies = movie_list[: 3]\n",
    "three_movies"
   ]
  },
  {
   "cell_type": "markdown",
   "metadata": {},
   "source": [
    "3."
   ]
  },
  {
   "cell_type": "code",
   "execution_count": 9,
   "metadata": {},
   "outputs": [
    {
     "data": {
      "text/plain": [
       "['Nacho Libre', 'Pirates of the Caribbean', 'Mad Max', 'Just Married']"
      ]
     },
     "execution_count": 9,
     "metadata": {},
     "output_type": "execute_result"
    }
   ],
   "source": [
    "first2 = movie_list[:2]\n",
    "last2 = movie_list[4:]\n",
    "first_and_last = first2 + last2\n",
    "first_and_last"
   ]
  },
  {
   "cell_type": "markdown",
   "metadata": {},
   "source": [
    "4."
   ]
  },
  {
   "cell_type": "code",
   "execution_count": 10,
   "metadata": {},
   "outputs": [
    {
     "data": {
      "text/plain": [
       "['Just Married',\n",
       " 'Mad Max',\n",
       " 'Leave the World Behind',\n",
       " 'Talk To Me',\n",
       " 'Pirates of the Caribbean',\n",
       " 'Nacho Libre']"
      ]
     },
     "execution_count": 10,
     "metadata": {},
     "output_type": "execute_result"
    }
   ],
   "source": [
    "opposite_order = movie_list[::-1]\n",
    "opposite_order"
   ]
  },
  {
   "cell_type": "markdown",
   "metadata": {},
   "source": [
    "#### 1.3 Loops/dicts\n",
    "\n",
    "1."
   ]
  },
  {
   "cell_type": "code",
   "execution_count": 11,
   "metadata": {},
   "outputs": [
    {
     "data": {
      "text/plain": [
       "[70, 71, 72, 73, 74, 75, 76, 77, 78, 79]"
      ]
     },
     "execution_count": 11,
     "metadata": {},
     "output_type": "execute_result"
    }
   ],
   "source": [
    "numbers = []\n",
    "n = 70\n",
    "for i in range(10):\n",
    "    numbers.append(n + i)\n",
    "numbers"
   ]
  },
  {
   "cell_type": "markdown",
   "metadata": {},
   "source": [
    "2."
   ]
  },
  {
   "cell_type": "code",
   "execution_count": 12,
   "metadata": {},
   "outputs": [
    {
     "data": {
      "text/plain": [
       "74.5"
      ]
     },
     "execution_count": 12,
     "metadata": {},
     "output_type": "execute_result"
    }
   ],
   "source": [
    "sum = 0\n",
    "for i in numbers:\n",
    "    sum += i\n",
    "mean = sum / len(numbers)\n",
    "mean"
   ]
  },
  {
   "cell_type": "markdown",
   "metadata": {},
   "source": [
    "3."
   ]
  },
  {
   "cell_type": "code",
   "execution_count": 13,
   "metadata": {},
   "outputs": [
    {
     "data": {
      "text/plain": [
       "5050"
      ]
     },
     "execution_count": 13,
     "metadata": {},
     "output_type": "execute_result"
    }
   ],
   "source": [
    "sum100 = 0\n",
    "for i in range(101):\n",
    "    sum100 += i\n",
    "sum100"
   ]
  },
  {
   "cell_type": "markdown",
   "metadata": {},
   "source": [
    "4."
   ]
  },
  {
   "cell_type": "code",
   "execution_count": 14,
   "metadata": {},
   "outputs": [
    {
     "name": "stdout",
     "output_type": "stream",
     "text": [
      "Adam: 33\n",
      "Ashin: 12\n",
      "Inukai: 45\n",
      "Tanaka: 2\n",
      "Ikki: 17\n"
     ]
    },
    {
     "data": {
      "text/plain": [
       "{'Adam': 33, 'Ashin': 12, 'Inukai': 45, 'Tanaka': 2}"
      ]
     },
     "execution_count": 14,
     "metadata": {},
     "output_type": "execute_result"
    }
   ],
   "source": [
    "seat_dict = {'Adam' : 33, 'Ashin' : 12, 'Inukai' : 45, 'Tanaka' : 2, 'Ikki': 17}\n",
    "for i in seat_dict:\n",
    "    print(i + \":\", seat_dict[i])\n",
    "    \n",
    "\n",
    "people = ['Adam' , 'Ashin', 'Inukai', 'Tanaka', 'Ikki']\n",
    "seats = [33, 12, 45, 2, 17]\n",
    "dic = {}\n",
    "for i in range(4):\n",
    "    dic[people[i]] = seats[i]\n",
    "dic\n",
    "\n",
    "# I'm confused as to what the exact answer is supposed to look like so I included two attemps "
   ]
  },
  {
   "cell_type": "markdown",
   "metadata": {},
   "source": [
    "5."
   ]
  },
  {
   "cell_type": "code",
   "execution_count": 15,
   "metadata": {},
   "outputs": [
    {
     "data": {
      "text/plain": [
       "{1: 1, 3: 9, 5: 25, 7: 49, 11: 121, 13: 169, 17: 289, 19: 361}"
      ]
     },
     "execution_count": 15,
     "metadata": {},
     "output_type": "execute_result"
    }
   ],
   "source": [
    "l = [1, 3, 5, 7, 11, 13, 17, 19]\n",
    "squares = {}\n",
    "for i in l:\n",
    "    squares[i] = i * i\n",
    "squares"
   ]
  },
  {
   "cell_type": "markdown",
   "metadata": {},
   "source": [
    "6."
   ]
  },
  {
   "cell_type": "code",
   "execution_count": 16,
   "metadata": {},
   "outputs": [
    {
     "data": {
      "text/plain": [
       "1024"
      ]
     },
     "execution_count": 16,
     "metadata": {},
     "output_type": "execute_result"
    }
   ],
   "source": [
    "sum_values = 0\n",
    "for i in squares.values():\n",
    "    sum_values += i\n",
    "sum_values"
   ]
  },
  {
   "cell_type": "markdown",
   "metadata": {},
   "source": [
    "#### 1.4 Functions\n",
    "\n",
    "1."
   ]
  },
  {
   "cell_type": "code",
   "execution_count": 17,
   "metadata": {},
   "outputs": [],
   "source": [
    "import numpy as np"
   ]
  },
  {
   "cell_type": "code",
   "execution_count": 18,
   "metadata": {},
   "outputs": [
    {
     "data": {
      "text/plain": [
       "-22.0"
      ]
     },
     "execution_count": 18,
     "metadata": {},
     "output_type": "execute_result"
    }
   ],
   "source": [
    "def numeric_form(time): \n",
    "    minutes_per_hour = 60\n",
    "    hours = time // 100\n",
    "    minutes = time % 100\n",
    "    fraction_of_hours = minutes / minutes_per_hour\n",
    "    result = hours + fraction_of_hours\n",
    "    return result\n",
    "    # return round(result, 2)  # Round to the tenths place\n",
    "\n",
    "numeric_form(1015)\n",
    "numeric_form(345)\n",
    "numeric_form(-2200)"
   ]
  },
  {
   "cell_type": "markdown",
   "metadata": {},
   "source": [
    "### Basic data frames \n",
    "\n",
    "#### 2.1 Setup\n",
    "\n",
    "1."
   ]
  },
  {
   "cell_type": "code",
   "execution_count": 19,
   "metadata": {},
   "outputs": [],
   "source": [
    "import pandas as pd\n",
    "\n",
    "df = pd.read_csv('nycflights13.csv.bz2', sep=\"\\t\")"
   ]
  },
  {
   "cell_type": "markdown",
   "metadata": {},
   "source": [
    "2."
   ]
  },
  {
   "cell_type": "code",
   "execution_count": 20,
   "metadata": {},
   "outputs": [
    {
     "name": "stdout",
     "output_type": "stream",
     "text": [
      "<class 'pandas.core.frame.DataFrame'>\n",
      "RangeIndex: 336776 entries, 0 to 336775\n",
      "Data columns (total 19 columns):\n",
      " #   Column          Non-Null Count   Dtype  \n",
      "---  ------          --------------   -----  \n",
      " 0   year            336776 non-null  int64  \n",
      " 1   month           336776 non-null  int64  \n",
      " 2   day             336776 non-null  int64  \n",
      " 3   dep_time        328521 non-null  float64\n",
      " 4   sched_dep_time  336776 non-null  int64  \n",
      " 5   dep_delay       328521 non-null  float64\n",
      " 6   arr_time        328063 non-null  float64\n",
      " 7   sched_arr_time  336776 non-null  int64  \n",
      " 8   arr_delay       327346 non-null  float64\n",
      " 9   carrier         336776 non-null  object \n",
      " 10  flight          336776 non-null  int64  \n",
      " 11  tailnum         334264 non-null  object \n",
      " 12  origin          336776 non-null  object \n",
      " 13  dest            336776 non-null  object \n",
      " 14  air_time        327346 non-null  float64\n",
      " 15  distance        336776 non-null  int64  \n",
      " 16  hour            336776 non-null  int64  \n",
      " 17  minute          336776 non-null  int64  \n",
      " 18  time_hour       336776 non-null  object \n",
      "dtypes: float64(5), int64(9), object(5)\n",
      "memory usage: 48.8+ MB\n"
     ]
    },
    {
     "data": {
      "text/html": [
       "<div>\n",
       "<style scoped>\n",
       "    .dataframe tbody tr th:only-of-type {\n",
       "        vertical-align: middle;\n",
       "    }\n",
       "\n",
       "    .dataframe tbody tr th {\n",
       "        vertical-align: top;\n",
       "    }\n",
       "\n",
       "    .dataframe thead th {\n",
       "        text-align: right;\n",
       "    }\n",
       "</style>\n",
       "<table border=\"1\" class=\"dataframe\">\n",
       "  <thead>\n",
       "    <tr style=\"text-align: right;\">\n",
       "      <th></th>\n",
       "      <th>year</th>\n",
       "      <th>month</th>\n",
       "      <th>day</th>\n",
       "      <th>dep_time</th>\n",
       "      <th>sched_dep_time</th>\n",
       "      <th>dep_delay</th>\n",
       "      <th>arr_time</th>\n",
       "      <th>sched_arr_time</th>\n",
       "      <th>arr_delay</th>\n",
       "      <th>carrier</th>\n",
       "      <th>flight</th>\n",
       "      <th>tailnum</th>\n",
       "      <th>origin</th>\n",
       "      <th>dest</th>\n",
       "      <th>air_time</th>\n",
       "      <th>distance</th>\n",
       "      <th>hour</th>\n",
       "      <th>minute</th>\n",
       "      <th>time_hour</th>\n",
       "    </tr>\n",
       "  </thead>\n",
       "  <tbody>\n",
       "    <tr>\n",
       "      <th>0</th>\n",
       "      <td>2013</td>\n",
       "      <td>1</td>\n",
       "      <td>1</td>\n",
       "      <td>517.0</td>\n",
       "      <td>515</td>\n",
       "      <td>2.0</td>\n",
       "      <td>830.0</td>\n",
       "      <td>819</td>\n",
       "      <td>11.0</td>\n",
       "      <td>UA</td>\n",
       "      <td>1545</td>\n",
       "      <td>N14228</td>\n",
       "      <td>EWR</td>\n",
       "      <td>IAH</td>\n",
       "      <td>227.0</td>\n",
       "      <td>1400</td>\n",
       "      <td>5</td>\n",
       "      <td>15</td>\n",
       "      <td>2013-01-01T10:00:00Z</td>\n",
       "    </tr>\n",
       "    <tr>\n",
       "      <th>1</th>\n",
       "      <td>2013</td>\n",
       "      <td>1</td>\n",
       "      <td>1</td>\n",
       "      <td>533.0</td>\n",
       "      <td>529</td>\n",
       "      <td>4.0</td>\n",
       "      <td>850.0</td>\n",
       "      <td>830</td>\n",
       "      <td>20.0</td>\n",
       "      <td>UA</td>\n",
       "      <td>1714</td>\n",
       "      <td>N24211</td>\n",
       "      <td>LGA</td>\n",
       "      <td>IAH</td>\n",
       "      <td>227.0</td>\n",
       "      <td>1416</td>\n",
       "      <td>5</td>\n",
       "      <td>29</td>\n",
       "      <td>2013-01-01T10:00:00Z</td>\n",
       "    </tr>\n",
       "    <tr>\n",
       "      <th>2</th>\n",
       "      <td>2013</td>\n",
       "      <td>1</td>\n",
       "      <td>1</td>\n",
       "      <td>542.0</td>\n",
       "      <td>540</td>\n",
       "      <td>2.0</td>\n",
       "      <td>923.0</td>\n",
       "      <td>850</td>\n",
       "      <td>33.0</td>\n",
       "      <td>AA</td>\n",
       "      <td>1141</td>\n",
       "      <td>N619AA</td>\n",
       "      <td>JFK</td>\n",
       "      <td>MIA</td>\n",
       "      <td>160.0</td>\n",
       "      <td>1089</td>\n",
       "      <td>5</td>\n",
       "      <td>40</td>\n",
       "      <td>2013-01-01T10:00:00Z</td>\n",
       "    </tr>\n",
       "    <tr>\n",
       "      <th>3</th>\n",
       "      <td>2013</td>\n",
       "      <td>1</td>\n",
       "      <td>1</td>\n",
       "      <td>544.0</td>\n",
       "      <td>545</td>\n",
       "      <td>-1.0</td>\n",
       "      <td>1004.0</td>\n",
       "      <td>1022</td>\n",
       "      <td>-18.0</td>\n",
       "      <td>B6</td>\n",
       "      <td>725</td>\n",
       "      <td>N804JB</td>\n",
       "      <td>JFK</td>\n",
       "      <td>BQN</td>\n",
       "      <td>183.0</td>\n",
       "      <td>1576</td>\n",
       "      <td>5</td>\n",
       "      <td>45</td>\n",
       "      <td>2013-01-01T10:00:00Z</td>\n",
       "    </tr>\n",
       "    <tr>\n",
       "      <th>4</th>\n",
       "      <td>2013</td>\n",
       "      <td>1</td>\n",
       "      <td>1</td>\n",
       "      <td>554.0</td>\n",
       "      <td>600</td>\n",
       "      <td>-6.0</td>\n",
       "      <td>812.0</td>\n",
       "      <td>837</td>\n",
       "      <td>-25.0</td>\n",
       "      <td>DL</td>\n",
       "      <td>461</td>\n",
       "      <td>N668DN</td>\n",
       "      <td>LGA</td>\n",
       "      <td>ATL</td>\n",
       "      <td>116.0</td>\n",
       "      <td>762</td>\n",
       "      <td>6</td>\n",
       "      <td>0</td>\n",
       "      <td>2013-01-01T11:00:00Z</td>\n",
       "    </tr>\n",
       "    <tr>\n",
       "      <th>...</th>\n",
       "      <td>...</td>\n",
       "      <td>...</td>\n",
       "      <td>...</td>\n",
       "      <td>...</td>\n",
       "      <td>...</td>\n",
       "      <td>...</td>\n",
       "      <td>...</td>\n",
       "      <td>...</td>\n",
       "      <td>...</td>\n",
       "      <td>...</td>\n",
       "      <td>...</td>\n",
       "      <td>...</td>\n",
       "      <td>...</td>\n",
       "      <td>...</td>\n",
       "      <td>...</td>\n",
       "      <td>...</td>\n",
       "      <td>...</td>\n",
       "      <td>...</td>\n",
       "      <td>...</td>\n",
       "    </tr>\n",
       "    <tr>\n",
       "      <th>336771</th>\n",
       "      <td>2013</td>\n",
       "      <td>9</td>\n",
       "      <td>30</td>\n",
       "      <td>NaN</td>\n",
       "      <td>1455</td>\n",
       "      <td>NaN</td>\n",
       "      <td>NaN</td>\n",
       "      <td>1634</td>\n",
       "      <td>NaN</td>\n",
       "      <td>9E</td>\n",
       "      <td>3393</td>\n",
       "      <td>NaN</td>\n",
       "      <td>JFK</td>\n",
       "      <td>DCA</td>\n",
       "      <td>NaN</td>\n",
       "      <td>213</td>\n",
       "      <td>14</td>\n",
       "      <td>55</td>\n",
       "      <td>2013-09-30T18:00:00Z</td>\n",
       "    </tr>\n",
       "    <tr>\n",
       "      <th>336772</th>\n",
       "      <td>2013</td>\n",
       "      <td>9</td>\n",
       "      <td>30</td>\n",
       "      <td>NaN</td>\n",
       "      <td>2200</td>\n",
       "      <td>NaN</td>\n",
       "      <td>NaN</td>\n",
       "      <td>2312</td>\n",
       "      <td>NaN</td>\n",
       "      <td>9E</td>\n",
       "      <td>3525</td>\n",
       "      <td>NaN</td>\n",
       "      <td>LGA</td>\n",
       "      <td>SYR</td>\n",
       "      <td>NaN</td>\n",
       "      <td>198</td>\n",
       "      <td>22</td>\n",
       "      <td>0</td>\n",
       "      <td>2013-10-01T02:00:00Z</td>\n",
       "    </tr>\n",
       "    <tr>\n",
       "      <th>336773</th>\n",
       "      <td>2013</td>\n",
       "      <td>9</td>\n",
       "      <td>30</td>\n",
       "      <td>NaN</td>\n",
       "      <td>1210</td>\n",
       "      <td>NaN</td>\n",
       "      <td>NaN</td>\n",
       "      <td>1330</td>\n",
       "      <td>NaN</td>\n",
       "      <td>MQ</td>\n",
       "      <td>3461</td>\n",
       "      <td>N535MQ</td>\n",
       "      <td>LGA</td>\n",
       "      <td>BNA</td>\n",
       "      <td>NaN</td>\n",
       "      <td>764</td>\n",
       "      <td>12</td>\n",
       "      <td>10</td>\n",
       "      <td>2013-09-30T16:00:00Z</td>\n",
       "    </tr>\n",
       "    <tr>\n",
       "      <th>336774</th>\n",
       "      <td>2013</td>\n",
       "      <td>9</td>\n",
       "      <td>30</td>\n",
       "      <td>NaN</td>\n",
       "      <td>1159</td>\n",
       "      <td>NaN</td>\n",
       "      <td>NaN</td>\n",
       "      <td>1344</td>\n",
       "      <td>NaN</td>\n",
       "      <td>MQ</td>\n",
       "      <td>3572</td>\n",
       "      <td>N511MQ</td>\n",
       "      <td>LGA</td>\n",
       "      <td>CLE</td>\n",
       "      <td>NaN</td>\n",
       "      <td>419</td>\n",
       "      <td>11</td>\n",
       "      <td>59</td>\n",
       "      <td>2013-09-30T15:00:00Z</td>\n",
       "    </tr>\n",
       "    <tr>\n",
       "      <th>336775</th>\n",
       "      <td>2013</td>\n",
       "      <td>9</td>\n",
       "      <td>30</td>\n",
       "      <td>NaN</td>\n",
       "      <td>840</td>\n",
       "      <td>NaN</td>\n",
       "      <td>NaN</td>\n",
       "      <td>1020</td>\n",
       "      <td>NaN</td>\n",
       "      <td>MQ</td>\n",
       "      <td>3531</td>\n",
       "      <td>N839MQ</td>\n",
       "      <td>LGA</td>\n",
       "      <td>RDU</td>\n",
       "      <td>NaN</td>\n",
       "      <td>431</td>\n",
       "      <td>8</td>\n",
       "      <td>40</td>\n",
       "      <td>2013-09-30T12:00:00Z</td>\n",
       "    </tr>\n",
       "  </tbody>\n",
       "</table>\n",
       "<p>336776 rows × 19 columns</p>\n",
       "</div>"
      ],
      "text/plain": [
       "        year  month  day  dep_time  sched_dep_time  dep_delay  arr_time  \\\n",
       "0       2013      1    1     517.0             515        2.0     830.0   \n",
       "1       2013      1    1     533.0             529        4.0     850.0   \n",
       "2       2013      1    1     542.0             540        2.0     923.0   \n",
       "3       2013      1    1     544.0             545       -1.0    1004.0   \n",
       "4       2013      1    1     554.0             600       -6.0     812.0   \n",
       "...      ...    ...  ...       ...             ...        ...       ...   \n",
       "336771  2013      9   30       NaN            1455        NaN       NaN   \n",
       "336772  2013      9   30       NaN            2200        NaN       NaN   \n",
       "336773  2013      9   30       NaN            1210        NaN       NaN   \n",
       "336774  2013      9   30       NaN            1159        NaN       NaN   \n",
       "336775  2013      9   30       NaN             840        NaN       NaN   \n",
       "\n",
       "        sched_arr_time  arr_delay carrier  flight tailnum origin dest  \\\n",
       "0                  819       11.0      UA    1545  N14228    EWR  IAH   \n",
       "1                  830       20.0      UA    1714  N24211    LGA  IAH   \n",
       "2                  850       33.0      AA    1141  N619AA    JFK  MIA   \n",
       "3                 1022      -18.0      B6     725  N804JB    JFK  BQN   \n",
       "4                  837      -25.0      DL     461  N668DN    LGA  ATL   \n",
       "...                ...        ...     ...     ...     ...    ...  ...   \n",
       "336771            1634        NaN      9E    3393     NaN    JFK  DCA   \n",
       "336772            2312        NaN      9E    3525     NaN    LGA  SYR   \n",
       "336773            1330        NaN      MQ    3461  N535MQ    LGA  BNA   \n",
       "336774            1344        NaN      MQ    3572  N511MQ    LGA  CLE   \n",
       "336775            1020        NaN      MQ    3531  N839MQ    LGA  RDU   \n",
       "\n",
       "        air_time  distance  hour  minute             time_hour  \n",
       "0          227.0      1400     5      15  2013-01-01T10:00:00Z  \n",
       "1          227.0      1416     5      29  2013-01-01T10:00:00Z  \n",
       "2          160.0      1089     5      40  2013-01-01T10:00:00Z  \n",
       "3          183.0      1576     5      45  2013-01-01T10:00:00Z  \n",
       "4          116.0       762     6       0  2013-01-01T11:00:00Z  \n",
       "...          ...       ...   ...     ...                   ...  \n",
       "336771       NaN       213    14      55  2013-09-30T18:00:00Z  \n",
       "336772       NaN       198    22       0  2013-10-01T02:00:00Z  \n",
       "336773       NaN       764    12      10  2013-09-30T16:00:00Z  \n",
       "336774       NaN       419    11      59  2013-09-30T15:00:00Z  \n",
       "336775       NaN       431     8      40  2013-09-30T12:00:00Z  \n",
       "\n",
       "[336776 rows x 19 columns]"
      ]
     },
     "execution_count": 20,
     "metadata": {},
     "output_type": "execute_result"
    }
   ],
   "source": [
    "df.info()\n",
    "df"
   ]
  },
  {
   "cell_type": "markdown",
   "metadata": {},
   "source": [
    "#### Basic data exploration\n",
    "\n",
    "1."
   ]
  },
  {
   "cell_type": "code",
   "execution_count": 21,
   "metadata": {},
   "outputs": [
    {
     "data": {
      "text/plain": [
       "3"
      ]
     },
     "execution_count": 21,
     "metadata": {},
     "output_type": "execute_result"
    }
   ],
   "source": [
    "num_nyc_airports = df.origin.nunique()\n",
    "num_nyc_airports"
   ]
  },
  {
   "cell_type": "code",
   "execution_count": 22,
   "metadata": {},
   "outputs": [
    {
     "data": {
      "text/plain": [
       "origin\n",
       "EWR    120835\n",
       "JFK    111279\n",
       "LGA    104662\n",
       "Name: count, dtype: int64"
      ]
     },
     "execution_count": 22,
     "metadata": {},
     "output_type": "execute_result"
    }
   ],
   "source": [
    "nyc_airports = df.origin.value_counts()\n",
    "nyc_airports"
   ]
  },
  {
   "cell_type": "markdown",
   "metadata": {},
   "source": [
    "2."
   ]
  },
  {
   "cell_type": "code",
   "execution_count": 23,
   "metadata": {},
   "outputs": [
    {
     "data": {
      "text/plain": [
       "105"
      ]
     },
     "execution_count": 23,
     "metadata": {},
     "output_type": "execute_result"
    }
   ],
   "source": [
    "num_dest_airports_2013 = df.dest.nunique()\n",
    "num_dest_airports_2013"
   ]
  },
  {
   "cell_type": "markdown",
   "metadata": {},
   "source": [
    "3."
   ]
  },
  {
   "cell_type": "code",
   "execution_count": 24,
   "metadata": {},
   "outputs": [
    {
     "data": {
      "text/plain": [
       "3923"
      ]
     },
     "execution_count": 24,
     "metadata": {},
     "output_type": "execute_result"
    }
   ],
   "source": [
    "sea = df[df.dest == 'SEA']\n",
    "flights_nyc_sea = sea.flight.count()\n",
    "flights_nyc_sea"
   ]
  },
  {
   "cell_type": "markdown",
   "metadata": {},
   "source": [
    "4."
   ]
  },
  {
   "cell_type": "code",
   "execution_count": 25,
   "metadata": {},
   "outputs": [
    {
     "data": {
      "text/plain": [
       "0"
      ]
     },
     "execution_count": 25,
     "metadata": {},
     "output_type": "execute_result"
    }
   ],
   "source": [
    "spokane = df[df.dest == 'GEG']\n",
    "flights_nyc_spokane = spokane.flight.count()\n",
    "flights_nyc_spokane"
   ]
  },
  {
   "cell_type": "markdown",
   "metadata": {},
   "source": [
    "No, there were no flights from NYC to GEG in 2013\n",
    "\n",
    "5."
   ]
  },
  {
   "cell_type": "code",
   "execution_count": 26,
   "metadata": {},
   "outputs": [
    {
     "data": {
      "text/plain": [
       "39.37323252771895"
      ]
     },
     "execution_count": 26,
     "metadata": {},
     "output_type": "execute_result"
    }
   ],
   "source": [
    "dep_delays = df[df.dep_delay > 0]\n",
    "sum_dep_delays = dep_delays.dep_delay.sum()\n",
    "avg_dep_delay = sum_dep_delays / dep_delays.dep_delay.count()\n",
    "avg_dep_delay"
   ]
  },
  {
   "cell_type": "code",
   "execution_count": 27,
   "metadata": {},
   "outputs": [
    {
     "data": {
      "text/plain": [
       "16.39156733242502"
      ]
     },
     "execution_count": 27,
     "metadata": {},
     "output_type": "execute_result"
    }
   ],
   "source": [
    "arr_delays = df[df.arr_delay > 0]\n",
    "sum_arr_delays = arr_delays.arr_delay.sum()\n",
    "avg_arr_delay = sum_arr_delays / df.arr_delay.count()\n",
    "avg_arr_delay"
   ]
  },
  {
   "cell_type": "markdown",
   "metadata": {},
   "source": [
    "The typical departure delay out of NYC during 2013 was 39.37323252771895 minutes. The typical arrival delay from NYC was 16.39156733242502 minutes. This is a suitable measure for both types of delays becuase I filtered negative delays out of the equation (flights that left and arrived early), summed the total delays for each type of delay, and computed the average by dividing by the count of delays. "
   ]
  },
  {
   "cell_type": "markdown",
   "metadata": {},
   "source": [
    "6."
   ]
  },
  {
   "cell_type": "markdown",
   "metadata": {},
   "source": [
    "Yes I did check the validity of the delay data. Like I said, I filtered out negative valued since those do not constitute delays. The sum funtion excludes NaN values by default."
   ]
  },
  {
   "cell_type": "markdown",
   "metadata": {},
   "source": [
    "#### 2.3 Let's fly to Austin!\n",
    "\n",
    "1."
   ]
  },
  {
   "cell_type": "code",
   "execution_count": 28,
   "metadata": {},
   "outputs": [
    {
     "data": {
      "text/plain": [
       "2439"
      ]
     },
     "execution_count": 28,
     "metadata": {},
     "output_type": "execute_result"
    }
   ],
   "source": [
    "austin_df = df[df.dest == 'AUS']\n",
    "len(austin_df.index)"
   ]
  },
  {
   "cell_type": "markdown",
   "metadata": {},
   "source": [
    "2."
   ]
  },
  {
   "cell_type": "code",
   "execution_count": 29,
   "metadata": {},
   "outputs": [
    {
     "data": {
      "text/html": [
       "<div>\n",
       "<style scoped>\n",
       "    .dataframe tbody tr th:only-of-type {\n",
       "        vertical-align: middle;\n",
       "    }\n",
       "\n",
       "    .dataframe tbody tr th {\n",
       "        vertical-align: top;\n",
       "    }\n",
       "\n",
       "    .dataframe thead th {\n",
       "        text-align: right;\n",
       "    }\n",
       "</style>\n",
       "<table border=\"1\" class=\"dataframe\">\n",
       "  <thead>\n",
       "    <tr style=\"text-align: right;\">\n",
       "      <th></th>\n",
       "      <th>year</th>\n",
       "      <th>month</th>\n",
       "      <th>day</th>\n",
       "      <th>dep_time</th>\n",
       "      <th>sched_dep_time</th>\n",
       "      <th>dep_delay</th>\n",
       "      <th>arr_time</th>\n",
       "      <th>sched_arr_time</th>\n",
       "      <th>arr_delay</th>\n",
       "      <th>carrier</th>\n",
       "      <th>flight</th>\n",
       "      <th>tailnum</th>\n",
       "      <th>origin</th>\n",
       "      <th>dest</th>\n",
       "      <th>air_time</th>\n",
       "      <th>distance</th>\n",
       "      <th>hour</th>\n",
       "      <th>minute</th>\n",
       "      <th>time_hour</th>\n",
       "    </tr>\n",
       "  </thead>\n",
       "  <tbody>\n",
       "    <tr>\n",
       "      <th>173</th>\n",
       "      <td>2013</td>\n",
       "      <td>1</td>\n",
       "      <td>1</td>\n",
       "      <td>905.0</td>\n",
       "      <td>905</td>\n",
       "      <td>0.0</td>\n",
       "      <td>1309.0</td>\n",
       "      <td>1229</td>\n",
       "      <td>40.0</td>\n",
       "      <td>B6</td>\n",
       "      <td>1061</td>\n",
       "      <td>N281JB</td>\n",
       "      <td>JFK</td>\n",
       "      <td>AUS</td>\n",
       "      <td>263.0</td>\n",
       "      <td>1521</td>\n",
       "      <td>9</td>\n",
       "      <td>5</td>\n",
       "      <td>2013-01-01T14:00:00Z</td>\n",
       "    </tr>\n",
       "    <tr>\n",
       "      <th>439</th>\n",
       "      <td>2013</td>\n",
       "      <td>1</td>\n",
       "      <td>1</td>\n",
       "      <td>1456.0</td>\n",
       "      <td>1455</td>\n",
       "      <td>1.0</td>\n",
       "      <td>1830.0</td>\n",
       "      <td>1813</td>\n",
       "      <td>17.0</td>\n",
       "      <td>UA</td>\n",
       "      <td>1134</td>\n",
       "      <td>N24212</td>\n",
       "      <td>EWR</td>\n",
       "      <td>AUS</td>\n",
       "      <td>252.0</td>\n",
       "      <td>1504</td>\n",
       "      <td>14</td>\n",
       "      <td>55</td>\n",
       "      <td>2013-01-01T19:00:00Z</td>\n",
       "    </tr>\n",
       "    <tr>\n",
       "      <th>568</th>\n",
       "      <td>2013</td>\n",
       "      <td>1</td>\n",
       "      <td>1</td>\n",
       "      <td>1654.0</td>\n",
       "      <td>1700</td>\n",
       "      <td>-6.0</td>\n",
       "      <td>2020.0</td>\n",
       "      <td>2034</td>\n",
       "      <td>-14.0</td>\n",
       "      <td>DL</td>\n",
       "      <td>706</td>\n",
       "      <td>N320NB</td>\n",
       "      <td>JFK</td>\n",
       "      <td>AUS</td>\n",
       "      <td>251.0</td>\n",
       "      <td>1521</td>\n",
       "      <td>17</td>\n",
       "      <td>0</td>\n",
       "      <td>2013-01-01T22:00:00Z</td>\n",
       "    </tr>\n",
       "    <tr>\n",
       "      <th>577</th>\n",
       "      <td>2013</td>\n",
       "      <td>1</td>\n",
       "      <td>1</td>\n",
       "      <td>1701.0</td>\n",
       "      <td>1710</td>\n",
       "      <td>-9.0</td>\n",
       "      <td>2026.0</td>\n",
       "      <td>2015</td>\n",
       "      <td>11.0</td>\n",
       "      <td>AA</td>\n",
       "      <td>695</td>\n",
       "      <td>N3FUAA</td>\n",
       "      <td>JFK</td>\n",
       "      <td>AUS</td>\n",
       "      <td>247.0</td>\n",
       "      <td>1521</td>\n",
       "      <td>17</td>\n",
       "      <td>10</td>\n",
       "      <td>2013-01-01T22:00:00Z</td>\n",
       "    </tr>\n",
       "    <tr>\n",
       "      <th>760</th>\n",
       "      <td>2013</td>\n",
       "      <td>1</td>\n",
       "      <td>1</td>\n",
       "      <td>2021.0</td>\n",
       "      <td>2025</td>\n",
       "      <td>-4.0</td>\n",
       "      <td>2351.0</td>\n",
       "      <td>2341</td>\n",
       "      <td>10.0</td>\n",
       "      <td>B6</td>\n",
       "      <td>1069</td>\n",
       "      <td>N203JB</td>\n",
       "      <td>JFK</td>\n",
       "      <td>AUS</td>\n",
       "      <td>255.0</td>\n",
       "      <td>1521</td>\n",
       "      <td>20</td>\n",
       "      <td>25</td>\n",
       "      <td>2013-01-02T01:00:00Z</td>\n",
       "    </tr>\n",
       "    <tr>\n",
       "      <th>...</th>\n",
       "      <td>...</td>\n",
       "      <td>...</td>\n",
       "      <td>...</td>\n",
       "      <td>...</td>\n",
       "      <td>...</td>\n",
       "      <td>...</td>\n",
       "      <td>...</td>\n",
       "      <td>...</td>\n",
       "      <td>...</td>\n",
       "      <td>...</td>\n",
       "      <td>...</td>\n",
       "      <td>...</td>\n",
       "      <td>...</td>\n",
       "      <td>...</td>\n",
       "      <td>...</td>\n",
       "      <td>...</td>\n",
       "      <td>...</td>\n",
       "      <td>...</td>\n",
       "      <td>...</td>\n",
       "    </tr>\n",
       "    <tr>\n",
       "      <th>336360</th>\n",
       "      <td>2013</td>\n",
       "      <td>9</td>\n",
       "      <td>30</td>\n",
       "      <td>1504.0</td>\n",
       "      <td>1510</td>\n",
       "      <td>-6.0</td>\n",
       "      <td>1738.0</td>\n",
       "      <td>1812</td>\n",
       "      <td>-34.0</td>\n",
       "      <td>UA</td>\n",
       "      <td>1483</td>\n",
       "      <td>N73256</td>\n",
       "      <td>EWR</td>\n",
       "      <td>AUS</td>\n",
       "      <td>184.0</td>\n",
       "      <td>1504</td>\n",
       "      <td>15</td>\n",
       "      <td>10</td>\n",
       "      <td>2013-09-30T19:00:00Z</td>\n",
       "    </tr>\n",
       "    <tr>\n",
       "      <th>336425</th>\n",
       "      <td>2013</td>\n",
       "      <td>9</td>\n",
       "      <td>30</td>\n",
       "      <td>1606.0</td>\n",
       "      <td>1605</td>\n",
       "      <td>1.0</td>\n",
       "      <td>1844.0</td>\n",
       "      <td>1918</td>\n",
       "      <td>-34.0</td>\n",
       "      <td>DL</td>\n",
       "      <td>706</td>\n",
       "      <td>N389DA</td>\n",
       "      <td>JFK</td>\n",
       "      <td>AUS</td>\n",
       "      <td>186.0</td>\n",
       "      <td>1521</td>\n",
       "      <td>16</td>\n",
       "      <td>5</td>\n",
       "      <td>2013-09-30T20:00:00Z</td>\n",
       "    </tr>\n",
       "    <tr>\n",
       "      <th>336510</th>\n",
       "      <td>2013</td>\n",
       "      <td>9</td>\n",
       "      <td>30</td>\n",
       "      <td>1720.0</td>\n",
       "      <td>1720</td>\n",
       "      <td>0.0</td>\n",
       "      <td>1944.0</td>\n",
       "      <td>2030</td>\n",
       "      <td>-46.0</td>\n",
       "      <td>AA</td>\n",
       "      <td>291</td>\n",
       "      <td>N3LBAA</td>\n",
       "      <td>JFK</td>\n",
       "      <td>AUS</td>\n",
       "      <td>184.0</td>\n",
       "      <td>1521</td>\n",
       "      <td>17</td>\n",
       "      <td>20</td>\n",
       "      <td>2013-09-30T21:00:00Z</td>\n",
       "    </tr>\n",
       "    <tr>\n",
       "      <th>336714</th>\n",
       "      <td>2013</td>\n",
       "      <td>9</td>\n",
       "      <td>30</td>\n",
       "      <td>2035.0</td>\n",
       "      <td>2029</td>\n",
       "      <td>6.0</td>\n",
       "      <td>2318.0</td>\n",
       "      <td>2337</td>\n",
       "      <td>-19.0</td>\n",
       "      <td>UA</td>\n",
       "      <td>1039</td>\n",
       "      <td>N78524</td>\n",
       "      <td>EWR</td>\n",
       "      <td>AUS</td>\n",
       "      <td>191.0</td>\n",
       "      <td>1504</td>\n",
       "      <td>20</td>\n",
       "      <td>29</td>\n",
       "      <td>2013-10-01T00:00:00Z</td>\n",
       "    </tr>\n",
       "    <tr>\n",
       "      <th>336722</th>\n",
       "      <td>2013</td>\n",
       "      <td>9</td>\n",
       "      <td>30</td>\n",
       "      <td>2052.0</td>\n",
       "      <td>2054</td>\n",
       "      <td>-2.0</td>\n",
       "      <td>2306.0</td>\n",
       "      <td>2358</td>\n",
       "      <td>-52.0</td>\n",
       "      <td>B6</td>\n",
       "      <td>1295</td>\n",
       "      <td>N588JB</td>\n",
       "      <td>JFK</td>\n",
       "      <td>AUS</td>\n",
       "      <td>175.0</td>\n",
       "      <td>1521</td>\n",
       "      <td>20</td>\n",
       "      <td>54</td>\n",
       "      <td>2013-10-01T00:00:00Z</td>\n",
       "    </tr>\n",
       "  </tbody>\n",
       "</table>\n",
       "<p>2439 rows × 19 columns</p>\n",
       "</div>"
      ],
      "text/plain": [
       "        year  month  day  dep_time  sched_dep_time  dep_delay  arr_time  \\\n",
       "173     2013      1    1     905.0             905        0.0    1309.0   \n",
       "439     2013      1    1    1456.0            1455        1.0    1830.0   \n",
       "568     2013      1    1    1654.0            1700       -6.0    2020.0   \n",
       "577     2013      1    1    1701.0            1710       -9.0    2026.0   \n",
       "760     2013      1    1    2021.0            2025       -4.0    2351.0   \n",
       "...      ...    ...  ...       ...             ...        ...       ...   \n",
       "336360  2013      9   30    1504.0            1510       -6.0    1738.0   \n",
       "336425  2013      9   30    1606.0            1605        1.0    1844.0   \n",
       "336510  2013      9   30    1720.0            1720        0.0    1944.0   \n",
       "336714  2013      9   30    2035.0            2029        6.0    2318.0   \n",
       "336722  2013      9   30    2052.0            2054       -2.0    2306.0   \n",
       "\n",
       "        sched_arr_time  arr_delay carrier  flight tailnum origin dest  \\\n",
       "173               1229       40.0      B6    1061  N281JB    JFK  AUS   \n",
       "439               1813       17.0      UA    1134  N24212    EWR  AUS   \n",
       "568               2034      -14.0      DL     706  N320NB    JFK  AUS   \n",
       "577               2015       11.0      AA     695  N3FUAA    JFK  AUS   \n",
       "760               2341       10.0      B6    1069  N203JB    JFK  AUS   \n",
       "...                ...        ...     ...     ...     ...    ...  ...   \n",
       "336360            1812      -34.0      UA    1483  N73256    EWR  AUS   \n",
       "336425            1918      -34.0      DL     706  N389DA    JFK  AUS   \n",
       "336510            2030      -46.0      AA     291  N3LBAA    JFK  AUS   \n",
       "336714            2337      -19.0      UA    1039  N78524    EWR  AUS   \n",
       "336722            2358      -52.0      B6    1295  N588JB    JFK  AUS   \n",
       "\n",
       "        air_time  distance  hour  minute             time_hour  \n",
       "173        263.0      1521     9       5  2013-01-01T14:00:00Z  \n",
       "439        252.0      1504    14      55  2013-01-01T19:00:00Z  \n",
       "568        251.0      1521    17       0  2013-01-01T22:00:00Z  \n",
       "577        247.0      1521    17      10  2013-01-01T22:00:00Z  \n",
       "760        255.0      1521    20      25  2013-01-02T01:00:00Z  \n",
       "...          ...       ...   ...     ...                   ...  \n",
       "336360     184.0      1504    15      10  2013-09-30T19:00:00Z  \n",
       "336425     186.0      1521    16       5  2013-09-30T20:00:00Z  \n",
       "336510     184.0      1521    17      20  2013-09-30T21:00:00Z  \n",
       "336714     191.0      1504    20      29  2013-10-01T00:00:00Z  \n",
       "336722     175.0      1521    20      54  2013-10-01T00:00:00Z  \n",
       "\n",
       "[2439 rows x 19 columns]"
      ]
     },
     "execution_count": 29,
     "metadata": {},
     "output_type": "execute_result"
    }
   ],
   "source": [
    "austin_df"
   ]
  },
  {
   "cell_type": "markdown",
   "metadata": {},
   "source": [
    "2."
   ]
  },
  {
   "cell_type": "code",
   "execution_count": 30,
   "metadata": {},
   "outputs": [
    {
     "data": {
      "text/plain": [
       "6"
      ]
     },
     "execution_count": 30,
     "metadata": {},
     "output_type": "execute_result"
    }
   ],
   "source": [
    "airlines_nyc_aus = austin_df.carrier.nunique()\n",
    "airlines_nyc_aus"
   ]
  },
  {
   "cell_type": "markdown",
   "metadata": {},
   "source": [
    "3."
   ]
  },
  {
   "cell_type": "code",
   "execution_count": 31,
   "metadata": {},
   "outputs": [
    {
     "data": {
      "text/plain": [
       "carrier\n",
       "B6    747\n",
       "UA    670\n",
       "AA    365\n",
       "DL    357\n",
       "WN    298\n",
       "9E      2\n",
       "Name: count, dtype: int64"
      ]
     },
     "execution_count": 31,
     "metadata": {},
     "output_type": "execute_result"
    }
   ],
   "source": [
    "airlines_nyc_aus = austin_df.carrier.value_counts()\n",
    "airlines_nyc_aus"
   ]
  },
  {
   "cell_type": "markdown",
   "metadata": {},
   "source": [
    "4."
   ]
  },
  {
   "cell_type": "code",
   "execution_count": 32,
   "metadata": {},
   "outputs": [
    {
     "data": {
      "text/plain": [
       "0.24641246412464124"
      ]
     },
     "execution_count": 32,
     "metadata": {},
     "output_type": "execute_result"
    }
   ],
   "source": [
    "flights2_aus = len(austin_df.index)\n",
    "delay_15 = austin_df[austin_df.arr_delay > 15]\n",
    "num_delayed = len(delay_15.index)\n",
    "percent_delay = num_delayed / flights2_aus\n",
    "percent_delay"
   ]
  },
  {
   "cell_type": "markdown",
   "metadata": {},
   "source": [
    "5."
   ]
  },
  {
   "cell_type": "code",
   "execution_count": 33,
   "metadata": {},
   "outputs": [
    {
     "data": {
      "text/plain": [
       "20.366666666666667"
      ]
     },
     "execution_count": 33,
     "metadata": {},
     "output_type": "execute_result"
    }
   ],
   "source": [
    "numeric_form(2022)"
   ]
  },
  {
   "cell_type": "code",
   "execution_count": 37,
   "metadata": {},
   "outputs": [
    {
     "data": {
      "text/html": [
       "<div>\n",
       "<style scoped>\n",
       "    .dataframe tbody tr th:only-of-type {\n",
       "        vertical-align: middle;\n",
       "    }\n",
       "\n",
       "    .dataframe tbody tr th {\n",
       "        vertical-align: top;\n",
       "    }\n",
       "\n",
       "    .dataframe thead th {\n",
       "        text-align: right;\n",
       "    }\n",
       "</style>\n",
       "<table border=\"1\" class=\"dataframe\">\n",
       "  <thead>\n",
       "    <tr style=\"text-align: right;\">\n",
       "      <th></th>\n",
       "      <th>year</th>\n",
       "      <th>month</th>\n",
       "      <th>day</th>\n",
       "      <th>dep_time</th>\n",
       "      <th>sched_dep_time</th>\n",
       "      <th>dep_delay</th>\n",
       "      <th>arr_time</th>\n",
       "      <th>sched_arr_time</th>\n",
       "      <th>arr_delay</th>\n",
       "      <th>carrier</th>\n",
       "      <th>flight</th>\n",
       "      <th>tailnum</th>\n",
       "      <th>origin</th>\n",
       "      <th>dest</th>\n",
       "      <th>air_time</th>\n",
       "      <th>distance</th>\n",
       "      <th>hour</th>\n",
       "      <th>minute</th>\n",
       "      <th>time_hour</th>\n",
       "      <th>flight_duration_in_hours</th>\n",
       "    </tr>\n",
       "  </thead>\n",
       "  <tbody>\n",
       "    <tr>\n",
       "      <th>173</th>\n",
       "      <td>2013</td>\n",
       "      <td>1</td>\n",
       "      <td>1</td>\n",
       "      <td>905.0</td>\n",
       "      <td>905</td>\n",
       "      <td>0.0</td>\n",
       "      <td>1309.0</td>\n",
       "      <td>1229</td>\n",
       "      <td>40.0</td>\n",
       "      <td>B6</td>\n",
       "      <td>1061</td>\n",
       "      <td>N281JB</td>\n",
       "      <td>JFK</td>\n",
       "      <td>AUS</td>\n",
       "      <td>263.0</td>\n",
       "      <td>1521</td>\n",
       "      <td>9</td>\n",
       "      <td>5</td>\n",
       "      <td>2013-01-01T14:00:00Z</td>\n",
       "      <td>4.066667</td>\n",
       "    </tr>\n",
       "    <tr>\n",
       "      <th>439</th>\n",
       "      <td>2013</td>\n",
       "      <td>1</td>\n",
       "      <td>1</td>\n",
       "      <td>1456.0</td>\n",
       "      <td>1455</td>\n",
       "      <td>1.0</td>\n",
       "      <td>1830.0</td>\n",
       "      <td>1813</td>\n",
       "      <td>17.0</td>\n",
       "      <td>UA</td>\n",
       "      <td>1134</td>\n",
       "      <td>N24212</td>\n",
       "      <td>EWR</td>\n",
       "      <td>AUS</td>\n",
       "      <td>252.0</td>\n",
       "      <td>1504</td>\n",
       "      <td>14</td>\n",
       "      <td>55</td>\n",
       "      <td>2013-01-01T19:00:00Z</td>\n",
       "      <td>4.233333</td>\n",
       "    </tr>\n",
       "    <tr>\n",
       "      <th>568</th>\n",
       "      <td>2013</td>\n",
       "      <td>1</td>\n",
       "      <td>1</td>\n",
       "      <td>1654.0</td>\n",
       "      <td>1700</td>\n",
       "      <td>-6.0</td>\n",
       "      <td>2020.0</td>\n",
       "      <td>2034</td>\n",
       "      <td>-14.0</td>\n",
       "      <td>DL</td>\n",
       "      <td>706</td>\n",
       "      <td>N320NB</td>\n",
       "      <td>JFK</td>\n",
       "      <td>AUS</td>\n",
       "      <td>251.0</td>\n",
       "      <td>1521</td>\n",
       "      <td>17</td>\n",
       "      <td>0</td>\n",
       "      <td>2013-01-01T22:00:00Z</td>\n",
       "      <td>4.100000</td>\n",
       "    </tr>\n",
       "    <tr>\n",
       "      <th>577</th>\n",
       "      <td>2013</td>\n",
       "      <td>1</td>\n",
       "      <td>1</td>\n",
       "      <td>1701.0</td>\n",
       "      <td>1710</td>\n",
       "      <td>-9.0</td>\n",
       "      <td>2026.0</td>\n",
       "      <td>2015</td>\n",
       "      <td>11.0</td>\n",
       "      <td>AA</td>\n",
       "      <td>695</td>\n",
       "      <td>N3FUAA</td>\n",
       "      <td>JFK</td>\n",
       "      <td>AUS</td>\n",
       "      <td>247.0</td>\n",
       "      <td>1521</td>\n",
       "      <td>17</td>\n",
       "      <td>10</td>\n",
       "      <td>2013-01-01T22:00:00Z</td>\n",
       "      <td>3.416667</td>\n",
       "    </tr>\n",
       "    <tr>\n",
       "      <th>760</th>\n",
       "      <td>2013</td>\n",
       "      <td>1</td>\n",
       "      <td>1</td>\n",
       "      <td>2021.0</td>\n",
       "      <td>2025</td>\n",
       "      <td>-4.0</td>\n",
       "      <td>2351.0</td>\n",
       "      <td>2341</td>\n",
       "      <td>10.0</td>\n",
       "      <td>B6</td>\n",
       "      <td>1069</td>\n",
       "      <td>N203JB</td>\n",
       "      <td>JFK</td>\n",
       "      <td>AUS</td>\n",
       "      <td>255.0</td>\n",
       "      <td>1521</td>\n",
       "      <td>20</td>\n",
       "      <td>25</td>\n",
       "      <td>2013-01-02T01:00:00Z</td>\n",
       "      <td>3.500000</td>\n",
       "    </tr>\n",
       "    <tr>\n",
       "      <th>...</th>\n",
       "      <td>...</td>\n",
       "      <td>...</td>\n",
       "      <td>...</td>\n",
       "      <td>...</td>\n",
       "      <td>...</td>\n",
       "      <td>...</td>\n",
       "      <td>...</td>\n",
       "      <td>...</td>\n",
       "      <td>...</td>\n",
       "      <td>...</td>\n",
       "      <td>...</td>\n",
       "      <td>...</td>\n",
       "      <td>...</td>\n",
       "      <td>...</td>\n",
       "      <td>...</td>\n",
       "      <td>...</td>\n",
       "      <td>...</td>\n",
       "      <td>...</td>\n",
       "      <td>...</td>\n",
       "      <td>...</td>\n",
       "    </tr>\n",
       "    <tr>\n",
       "      <th>336360</th>\n",
       "      <td>2013</td>\n",
       "      <td>9</td>\n",
       "      <td>30</td>\n",
       "      <td>1504.0</td>\n",
       "      <td>1510</td>\n",
       "      <td>-6.0</td>\n",
       "      <td>1738.0</td>\n",
       "      <td>1812</td>\n",
       "      <td>-34.0</td>\n",
       "      <td>UA</td>\n",
       "      <td>1483</td>\n",
       "      <td>N73256</td>\n",
       "      <td>EWR</td>\n",
       "      <td>AUS</td>\n",
       "      <td>184.0</td>\n",
       "      <td>1504</td>\n",
       "      <td>15</td>\n",
       "      <td>10</td>\n",
       "      <td>2013-09-30T19:00:00Z</td>\n",
       "      <td>2.566667</td>\n",
       "    </tr>\n",
       "    <tr>\n",
       "      <th>336425</th>\n",
       "      <td>2013</td>\n",
       "      <td>9</td>\n",
       "      <td>30</td>\n",
       "      <td>1606.0</td>\n",
       "      <td>1605</td>\n",
       "      <td>1.0</td>\n",
       "      <td>1844.0</td>\n",
       "      <td>1918</td>\n",
       "      <td>-34.0</td>\n",
       "      <td>DL</td>\n",
       "      <td>706</td>\n",
       "      <td>N389DA</td>\n",
       "      <td>JFK</td>\n",
       "      <td>AUS</td>\n",
       "      <td>186.0</td>\n",
       "      <td>1521</td>\n",
       "      <td>16</td>\n",
       "      <td>5</td>\n",
       "      <td>2013-09-30T20:00:00Z</td>\n",
       "      <td>2.633333</td>\n",
       "    </tr>\n",
       "    <tr>\n",
       "      <th>336510</th>\n",
       "      <td>2013</td>\n",
       "      <td>9</td>\n",
       "      <td>30</td>\n",
       "      <td>1720.0</td>\n",
       "      <td>1720</td>\n",
       "      <td>0.0</td>\n",
       "      <td>1944.0</td>\n",
       "      <td>2030</td>\n",
       "      <td>-46.0</td>\n",
       "      <td>AA</td>\n",
       "      <td>291</td>\n",
       "      <td>N3LBAA</td>\n",
       "      <td>JFK</td>\n",
       "      <td>AUS</td>\n",
       "      <td>184.0</td>\n",
       "      <td>1521</td>\n",
       "      <td>17</td>\n",
       "      <td>20</td>\n",
       "      <td>2013-09-30T21:00:00Z</td>\n",
       "      <td>2.400000</td>\n",
       "    </tr>\n",
       "    <tr>\n",
       "      <th>336714</th>\n",
       "      <td>2013</td>\n",
       "      <td>9</td>\n",
       "      <td>30</td>\n",
       "      <td>2035.0</td>\n",
       "      <td>2029</td>\n",
       "      <td>6.0</td>\n",
       "      <td>2318.0</td>\n",
       "      <td>2337</td>\n",
       "      <td>-19.0</td>\n",
       "      <td>UA</td>\n",
       "      <td>1039</td>\n",
       "      <td>N78524</td>\n",
       "      <td>EWR</td>\n",
       "      <td>AUS</td>\n",
       "      <td>191.0</td>\n",
       "      <td>1504</td>\n",
       "      <td>20</td>\n",
       "      <td>29</td>\n",
       "      <td>2013-10-01T00:00:00Z</td>\n",
       "      <td>3.383333</td>\n",
       "    </tr>\n",
       "    <tr>\n",
       "      <th>336722</th>\n",
       "      <td>2013</td>\n",
       "      <td>9</td>\n",
       "      <td>30</td>\n",
       "      <td>2052.0</td>\n",
       "      <td>2054</td>\n",
       "      <td>-2.0</td>\n",
       "      <td>2306.0</td>\n",
       "      <td>2358</td>\n",
       "      <td>-52.0</td>\n",
       "      <td>B6</td>\n",
       "      <td>1295</td>\n",
       "      <td>N588JB</td>\n",
       "      <td>JFK</td>\n",
       "      <td>AUS</td>\n",
       "      <td>175.0</td>\n",
       "      <td>1521</td>\n",
       "      <td>20</td>\n",
       "      <td>54</td>\n",
       "      <td>2013-10-01T00:00:00Z</td>\n",
       "      <td>2.900000</td>\n",
       "    </tr>\n",
       "  </tbody>\n",
       "</table>\n",
       "<p>2439 rows × 20 columns</p>\n",
       "</div>"
      ],
      "text/plain": [
       "        year  month  day  dep_time  sched_dep_time  dep_delay  arr_time  \\\n",
       "173     2013      1    1     905.0             905        0.0    1309.0   \n",
       "439     2013      1    1    1456.0            1455        1.0    1830.0   \n",
       "568     2013      1    1    1654.0            1700       -6.0    2020.0   \n",
       "577     2013      1    1    1701.0            1710       -9.0    2026.0   \n",
       "760     2013      1    1    2021.0            2025       -4.0    2351.0   \n",
       "...      ...    ...  ...       ...             ...        ...       ...   \n",
       "336360  2013      9   30    1504.0            1510       -6.0    1738.0   \n",
       "336425  2013      9   30    1606.0            1605        1.0    1844.0   \n",
       "336510  2013      9   30    1720.0            1720        0.0    1944.0   \n",
       "336714  2013      9   30    2035.0            2029        6.0    2318.0   \n",
       "336722  2013      9   30    2052.0            2054       -2.0    2306.0   \n",
       "\n",
       "        sched_arr_time  arr_delay carrier  flight tailnum origin dest  \\\n",
       "173               1229       40.0      B6    1061  N281JB    JFK  AUS   \n",
       "439               1813       17.0      UA    1134  N24212    EWR  AUS   \n",
       "568               2034      -14.0      DL     706  N320NB    JFK  AUS   \n",
       "577               2015       11.0      AA     695  N3FUAA    JFK  AUS   \n",
       "760               2341       10.0      B6    1069  N203JB    JFK  AUS   \n",
       "...                ...        ...     ...     ...     ...    ...  ...   \n",
       "336360            1812      -34.0      UA    1483  N73256    EWR  AUS   \n",
       "336425            1918      -34.0      DL     706  N389DA    JFK  AUS   \n",
       "336510            2030      -46.0      AA     291  N3LBAA    JFK  AUS   \n",
       "336714            2337      -19.0      UA    1039  N78524    EWR  AUS   \n",
       "336722            2358      -52.0      B6    1295  N588JB    JFK  AUS   \n",
       "\n",
       "        air_time  distance  hour  minute             time_hour  \\\n",
       "173        263.0      1521     9       5  2013-01-01T14:00:00Z   \n",
       "439        252.0      1504    14      55  2013-01-01T19:00:00Z   \n",
       "568        251.0      1521    17       0  2013-01-01T22:00:00Z   \n",
       "577        247.0      1521    17      10  2013-01-01T22:00:00Z   \n",
       "760        255.0      1521    20      25  2013-01-02T01:00:00Z   \n",
       "...          ...       ...   ...     ...                   ...   \n",
       "336360     184.0      1504    15      10  2013-09-30T19:00:00Z   \n",
       "336425     186.0      1521    16       5  2013-09-30T20:00:00Z   \n",
       "336510     184.0      1521    17      20  2013-09-30T21:00:00Z   \n",
       "336714     191.0      1504    20      29  2013-10-01T00:00:00Z   \n",
       "336722     175.0      1521    20      54  2013-10-01T00:00:00Z   \n",
       "\n",
       "        flight_duration_in_hours  \n",
       "173                     4.066667  \n",
       "439                     4.233333  \n",
       "568                     4.100000  \n",
       "577                     3.416667  \n",
       "760                     3.500000  \n",
       "...                          ...  \n",
       "336360                  2.566667  \n",
       "336425                  2.633333  \n",
       "336510                  2.400000  \n",
       "336714                  3.383333  \n",
       "336722                  2.900000  \n",
       "\n",
       "[2439 rows x 20 columns]"
      ]
     },
     "execution_count": 37,
     "metadata": {},
     "output_type": "execute_result"
    }
   ],
   "source": [
    "# pd.set_option('display.max_rows', None)\n",
    "duration = austin_df.arr_time - austin_df.dep_time\n",
    "austin_df.loc[:, 'flight_duration_in_hours'] = numeric_form(duration)\n",
    "austin_df"
   ]
  },
  {
   "cell_type": "markdown",
   "metadata": {},
   "source": [
    "6."
   ]
  },
  {
   "cell_type": "code",
   "execution_count": 35,
   "metadata": {},
   "outputs": [
    {
     "data": {
      "text/plain": [
       "-21.75"
      ]
     },
     "execution_count": 35,
     "metadata": {},
     "output_type": "execute_result"
    }
   ],
   "source": [
    "austin_df.flight_duration_in_hours.min()"
   ]
  },
  {
   "cell_type": "markdown",
   "metadata": {},
   "source": [
    "We might get negative values because there are cases in which a flight left an airport in NYC at 2030.0 at night, 10:30 pm, (row id# 1702 in austin_df) and got into Austin at 8.0, 8:00 am, because it had a connection with a layover, or even two connections (who knows why on earth anyone would select such a flight). Anyhow, (arr_time - dep_time) for this flight would be -2022, resulting in a negative number being used as a parameter in the numeric_form() function, resulting in a negative output."
   ]
  },
  {
   "cell_type": "markdown",
   "metadata": {},
   "source": [
    "7."
   ]
  },
  {
   "cell_type": "code",
   "execution_count": 38,
   "metadata": {},
   "outputs": [
    {
     "data": {
      "text/html": [
       "<div>\n",
       "<style scoped>\n",
       "    .dataframe tbody tr th:only-of-type {\n",
       "        vertical-align: middle;\n",
       "    }\n",
       "\n",
       "    .dataframe tbody tr th {\n",
       "        vertical-align: top;\n",
       "    }\n",
       "\n",
       "    .dataframe thead th {\n",
       "        text-align: right;\n",
       "    }\n",
       "</style>\n",
       "<table border=\"1\" class=\"dataframe\">\n",
       "  <thead>\n",
       "    <tr style=\"text-align: right;\">\n",
       "      <th></th>\n",
       "      <th>year</th>\n",
       "      <th>month</th>\n",
       "      <th>day</th>\n",
       "      <th>dep_time</th>\n",
       "      <th>sched_dep_time</th>\n",
       "      <th>dep_delay</th>\n",
       "      <th>arr_time</th>\n",
       "      <th>sched_arr_time</th>\n",
       "      <th>arr_delay</th>\n",
       "      <th>carrier</th>\n",
       "      <th>flight</th>\n",
       "      <th>tailnum</th>\n",
       "      <th>origin</th>\n",
       "      <th>dest</th>\n",
       "      <th>air_time</th>\n",
       "      <th>distance</th>\n",
       "      <th>hour</th>\n",
       "      <th>minute</th>\n",
       "      <th>time_hour</th>\n",
       "      <th>flight_duration_in_hours</th>\n",
       "    </tr>\n",
       "  </thead>\n",
       "  <tbody>\n",
       "    <tr>\n",
       "      <th>173</th>\n",
       "      <td>2013</td>\n",
       "      <td>1</td>\n",
       "      <td>1</td>\n",
       "      <td>905.0</td>\n",
       "      <td>905</td>\n",
       "      <td>0.0</td>\n",
       "      <td>1309.0</td>\n",
       "      <td>1229</td>\n",
       "      <td>40.0</td>\n",
       "      <td>B6</td>\n",
       "      <td>1061</td>\n",
       "      <td>N281JB</td>\n",
       "      <td>JFK</td>\n",
       "      <td>AUS</td>\n",
       "      <td>263.0</td>\n",
       "      <td>1521</td>\n",
       "      <td>9</td>\n",
       "      <td>5</td>\n",
       "      <td>2013-01-01T14:00:00Z</td>\n",
       "      <td>4.066667</td>\n",
       "    </tr>\n",
       "    <tr>\n",
       "      <th>439</th>\n",
       "      <td>2013</td>\n",
       "      <td>1</td>\n",
       "      <td>1</td>\n",
       "      <td>1456.0</td>\n",
       "      <td>1455</td>\n",
       "      <td>1.0</td>\n",
       "      <td>1830.0</td>\n",
       "      <td>1813</td>\n",
       "      <td>17.0</td>\n",
       "      <td>UA</td>\n",
       "      <td>1134</td>\n",
       "      <td>N24212</td>\n",
       "      <td>EWR</td>\n",
       "      <td>AUS</td>\n",
       "      <td>252.0</td>\n",
       "      <td>1504</td>\n",
       "      <td>14</td>\n",
       "      <td>55</td>\n",
       "      <td>2013-01-01T19:00:00Z</td>\n",
       "      <td>4.233333</td>\n",
       "    </tr>\n",
       "    <tr>\n",
       "      <th>568</th>\n",
       "      <td>2013</td>\n",
       "      <td>1</td>\n",
       "      <td>1</td>\n",
       "      <td>1654.0</td>\n",
       "      <td>1700</td>\n",
       "      <td>-6.0</td>\n",
       "      <td>2020.0</td>\n",
       "      <td>2034</td>\n",
       "      <td>-14.0</td>\n",
       "      <td>DL</td>\n",
       "      <td>706</td>\n",
       "      <td>N320NB</td>\n",
       "      <td>JFK</td>\n",
       "      <td>AUS</td>\n",
       "      <td>251.0</td>\n",
       "      <td>1521</td>\n",
       "      <td>17</td>\n",
       "      <td>0</td>\n",
       "      <td>2013-01-01T22:00:00Z</td>\n",
       "      <td>4.100000</td>\n",
       "    </tr>\n",
       "    <tr>\n",
       "      <th>577</th>\n",
       "      <td>2013</td>\n",
       "      <td>1</td>\n",
       "      <td>1</td>\n",
       "      <td>1701.0</td>\n",
       "      <td>1710</td>\n",
       "      <td>-9.0</td>\n",
       "      <td>2026.0</td>\n",
       "      <td>2015</td>\n",
       "      <td>11.0</td>\n",
       "      <td>AA</td>\n",
       "      <td>695</td>\n",
       "      <td>N3FUAA</td>\n",
       "      <td>JFK</td>\n",
       "      <td>AUS</td>\n",
       "      <td>247.0</td>\n",
       "      <td>1521</td>\n",
       "      <td>17</td>\n",
       "      <td>10</td>\n",
       "      <td>2013-01-01T22:00:00Z</td>\n",
       "      <td>3.416667</td>\n",
       "    </tr>\n",
       "    <tr>\n",
       "      <th>760</th>\n",
       "      <td>2013</td>\n",
       "      <td>1</td>\n",
       "      <td>1</td>\n",
       "      <td>2021.0</td>\n",
       "      <td>2025</td>\n",
       "      <td>-4.0</td>\n",
       "      <td>2351.0</td>\n",
       "      <td>2341</td>\n",
       "      <td>10.0</td>\n",
       "      <td>B6</td>\n",
       "      <td>1069</td>\n",
       "      <td>N203JB</td>\n",
       "      <td>JFK</td>\n",
       "      <td>AUS</td>\n",
       "      <td>255.0</td>\n",
       "      <td>1521</td>\n",
       "      <td>20</td>\n",
       "      <td>25</td>\n",
       "      <td>2013-01-02T01:00:00Z</td>\n",
       "      <td>3.500000</td>\n",
       "    </tr>\n",
       "    <tr>\n",
       "      <th>...</th>\n",
       "      <td>...</td>\n",
       "      <td>...</td>\n",
       "      <td>...</td>\n",
       "      <td>...</td>\n",
       "      <td>...</td>\n",
       "      <td>...</td>\n",
       "      <td>...</td>\n",
       "      <td>...</td>\n",
       "      <td>...</td>\n",
       "      <td>...</td>\n",
       "      <td>...</td>\n",
       "      <td>...</td>\n",
       "      <td>...</td>\n",
       "      <td>...</td>\n",
       "      <td>...</td>\n",
       "      <td>...</td>\n",
       "      <td>...</td>\n",
       "      <td>...</td>\n",
       "      <td>...</td>\n",
       "      <td>...</td>\n",
       "    </tr>\n",
       "    <tr>\n",
       "      <th>336360</th>\n",
       "      <td>2013</td>\n",
       "      <td>9</td>\n",
       "      <td>30</td>\n",
       "      <td>1504.0</td>\n",
       "      <td>1510</td>\n",
       "      <td>-6.0</td>\n",
       "      <td>1738.0</td>\n",
       "      <td>1812</td>\n",
       "      <td>-34.0</td>\n",
       "      <td>UA</td>\n",
       "      <td>1483</td>\n",
       "      <td>N73256</td>\n",
       "      <td>EWR</td>\n",
       "      <td>AUS</td>\n",
       "      <td>184.0</td>\n",
       "      <td>1504</td>\n",
       "      <td>15</td>\n",
       "      <td>10</td>\n",
       "      <td>2013-09-30T19:00:00Z</td>\n",
       "      <td>2.566667</td>\n",
       "    </tr>\n",
       "    <tr>\n",
       "      <th>336425</th>\n",
       "      <td>2013</td>\n",
       "      <td>9</td>\n",
       "      <td>30</td>\n",
       "      <td>1606.0</td>\n",
       "      <td>1605</td>\n",
       "      <td>1.0</td>\n",
       "      <td>1844.0</td>\n",
       "      <td>1918</td>\n",
       "      <td>-34.0</td>\n",
       "      <td>DL</td>\n",
       "      <td>706</td>\n",
       "      <td>N389DA</td>\n",
       "      <td>JFK</td>\n",
       "      <td>AUS</td>\n",
       "      <td>186.0</td>\n",
       "      <td>1521</td>\n",
       "      <td>16</td>\n",
       "      <td>5</td>\n",
       "      <td>2013-09-30T20:00:00Z</td>\n",
       "      <td>2.633333</td>\n",
       "    </tr>\n",
       "    <tr>\n",
       "      <th>336510</th>\n",
       "      <td>2013</td>\n",
       "      <td>9</td>\n",
       "      <td>30</td>\n",
       "      <td>1720.0</td>\n",
       "      <td>1720</td>\n",
       "      <td>0.0</td>\n",
       "      <td>1944.0</td>\n",
       "      <td>2030</td>\n",
       "      <td>-46.0</td>\n",
       "      <td>AA</td>\n",
       "      <td>291</td>\n",
       "      <td>N3LBAA</td>\n",
       "      <td>JFK</td>\n",
       "      <td>AUS</td>\n",
       "      <td>184.0</td>\n",
       "      <td>1521</td>\n",
       "      <td>17</td>\n",
       "      <td>20</td>\n",
       "      <td>2013-09-30T21:00:00Z</td>\n",
       "      <td>2.400000</td>\n",
       "    </tr>\n",
       "    <tr>\n",
       "      <th>336714</th>\n",
       "      <td>2013</td>\n",
       "      <td>9</td>\n",
       "      <td>30</td>\n",
       "      <td>2035.0</td>\n",
       "      <td>2029</td>\n",
       "      <td>6.0</td>\n",
       "      <td>2318.0</td>\n",
       "      <td>2337</td>\n",
       "      <td>-19.0</td>\n",
       "      <td>UA</td>\n",
       "      <td>1039</td>\n",
       "      <td>N78524</td>\n",
       "      <td>EWR</td>\n",
       "      <td>AUS</td>\n",
       "      <td>191.0</td>\n",
       "      <td>1504</td>\n",
       "      <td>20</td>\n",
       "      <td>29</td>\n",
       "      <td>2013-10-01T00:00:00Z</td>\n",
       "      <td>3.383333</td>\n",
       "    </tr>\n",
       "    <tr>\n",
       "      <th>336722</th>\n",
       "      <td>2013</td>\n",
       "      <td>9</td>\n",
       "      <td>30</td>\n",
       "      <td>2052.0</td>\n",
       "      <td>2054</td>\n",
       "      <td>-2.0</td>\n",
       "      <td>2306.0</td>\n",
       "      <td>2358</td>\n",
       "      <td>-52.0</td>\n",
       "      <td>B6</td>\n",
       "      <td>1295</td>\n",
       "      <td>N588JB</td>\n",
       "      <td>JFK</td>\n",
       "      <td>AUS</td>\n",
       "      <td>175.0</td>\n",
       "      <td>1521</td>\n",
       "      <td>20</td>\n",
       "      <td>54</td>\n",
       "      <td>2013-10-01T00:00:00Z</td>\n",
       "      <td>2.900000</td>\n",
       "    </tr>\n",
       "  </tbody>\n",
       "</table>\n",
       "<p>2439 rows × 20 columns</p>\n",
       "</div>"
      ],
      "text/plain": [
       "        year  month  day  dep_time  sched_dep_time  dep_delay  arr_time  \\\n",
       "173     2013      1    1     905.0             905        0.0    1309.0   \n",
       "439     2013      1    1    1456.0            1455        1.0    1830.0   \n",
       "568     2013      1    1    1654.0            1700       -6.0    2020.0   \n",
       "577     2013      1    1    1701.0            1710       -9.0    2026.0   \n",
       "760     2013      1    1    2021.0            2025       -4.0    2351.0   \n",
       "...      ...    ...  ...       ...             ...        ...       ...   \n",
       "336360  2013      9   30    1504.0            1510       -6.0    1738.0   \n",
       "336425  2013      9   30    1606.0            1605        1.0    1844.0   \n",
       "336510  2013      9   30    1720.0            1720        0.0    1944.0   \n",
       "336714  2013      9   30    2035.0            2029        6.0    2318.0   \n",
       "336722  2013      9   30    2052.0            2054       -2.0    2306.0   \n",
       "\n",
       "        sched_arr_time  arr_delay carrier  flight tailnum origin dest  \\\n",
       "173               1229       40.0      B6    1061  N281JB    JFK  AUS   \n",
       "439               1813       17.0      UA    1134  N24212    EWR  AUS   \n",
       "568               2034      -14.0      DL     706  N320NB    JFK  AUS   \n",
       "577               2015       11.0      AA     695  N3FUAA    JFK  AUS   \n",
       "760               2341       10.0      B6    1069  N203JB    JFK  AUS   \n",
       "...                ...        ...     ...     ...     ...    ...  ...   \n",
       "336360            1812      -34.0      UA    1483  N73256    EWR  AUS   \n",
       "336425            1918      -34.0      DL     706  N389DA    JFK  AUS   \n",
       "336510            2030      -46.0      AA     291  N3LBAA    JFK  AUS   \n",
       "336714            2337      -19.0      UA    1039  N78524    EWR  AUS   \n",
       "336722            2358      -52.0      B6    1295  N588JB    JFK  AUS   \n",
       "\n",
       "        air_time  distance  hour  minute             time_hour  \\\n",
       "173        263.0      1521     9       5  2013-01-01T14:00:00Z   \n",
       "439        252.0      1504    14      55  2013-01-01T19:00:00Z   \n",
       "568        251.0      1521    17       0  2013-01-01T22:00:00Z   \n",
       "577        247.0      1521    17      10  2013-01-01T22:00:00Z   \n",
       "760        255.0      1521    20      25  2013-01-02T01:00:00Z   \n",
       "...          ...       ...   ...     ...                   ...   \n",
       "336360     184.0      1504    15      10  2013-09-30T19:00:00Z   \n",
       "336425     186.0      1521    16       5  2013-09-30T20:00:00Z   \n",
       "336510     184.0      1521    17      20  2013-09-30T21:00:00Z   \n",
       "336714     191.0      1504    20      29  2013-10-01T00:00:00Z   \n",
       "336722     175.0      1521    20      54  2013-10-01T00:00:00Z   \n",
       "\n",
       "        flight_duration_in_hours  \n",
       "173                     4.066667  \n",
       "439                     4.233333  \n",
       "568                     4.100000  \n",
       "577                     3.416667  \n",
       "760                     3.500000  \n",
       "...                          ...  \n",
       "336360                  2.566667  \n",
       "336425                  2.633333  \n",
       "336510                  2.400000  \n",
       "336714                  3.383333  \n",
       "336722                  2.900000  \n",
       "\n",
       "[2439 rows x 20 columns]"
      ]
     },
     "execution_count": 38,
     "metadata": {},
     "output_type": "execute_result"
    }
   ],
   "source": [
    "duration = austin_df.arr_time - austin_df.dep_time\n",
    "duration = np.where(duration < 0, duration + 2400, duration)\n",
    "austin_df.loc[:, 'flight_duration_in_hours'] = numeric_form(duration)\n",
    "austin_df"
   ]
  },
  {
   "cell_type": "code",
   "execution_count": 39,
   "metadata": {},
   "outputs": [
    {
     "data": {
      "text/plain": [
       "2.2333333333333334"
      ]
     },
     "execution_count": 39,
     "metadata": {},
     "output_type": "execute_result"
    }
   ],
   "source": [
    "austin_df.flight_duration_in_hours.min()"
   ]
  },
  {
   "cell_type": "markdown",
   "metadata": {},
   "source": [
    "8."
   ]
  },
  {
   "cell_type": "markdown",
   "metadata": {},
   "source": [
    "Yes, my computed results are comparable to what I found after Googling flights from NYC to Austin. I get results shorter than what the flight plans show because airlines overestimate their flight times. They add some extra time to the schedule in the event of unexpected delays."
   ]
  },
  {
   "cell_type": "markdown",
   "metadata": {},
   "source": [
    "#### 2.4 Think About All This\n",
    "\n",
    "1. I am still concerned that the flight_duration_in_hours was not computed correctly. The methodology I was able to use may have been lacking. The data seemed pretty accurate though. "
   ]
  },
  {
   "cell_type": "markdown",
   "metadata": {},
   "source": [
    "2. I can absolutely envision business-relevant analysis I could do using this data. I would love to work for an airline, not in the airport per say, but I would like to work for corporate. I love travel and I think workign with airline databases would be interesting. "
   ]
  },
  {
   "cell_type": "markdown",
   "metadata": {},
   "source": [
    "3. I don't see any ethical concerns with this analysis. I don't think anyone would check my computations if they were considering purchasing a flight.\n"
   ]
  },
  {
   "cell_type": "code",
   "execution_count": null,
   "metadata": {},
   "outputs": [],
   "source": []
  }
 ],
 "metadata": {
  "kernelspec": {
   "display_name": "Python 3",
   "language": "python",
   "name": "python3"
  },
  "language_info": {
   "codemirror_mode": {
    "name": "ipython",
    "version": 3
   },
   "file_extension": ".py",
   "mimetype": "text/x-python",
   "name": "python",
   "nbconvert_exporter": "python",
   "pygments_lexer": "ipython3",
   "version": "3.12.0"
  }
 },
 "nbformat": 4,
 "nbformat_minor": 2
}
