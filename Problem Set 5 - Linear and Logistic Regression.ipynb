{
 "cells": [
  {
   "cell_type": "markdown",
   "metadata": {},
   "source": [
    "## Problem Set 5: Linear and Logistic Regression\n",
    "\n",
    "### Name: Gabriella Rivera\n",
    "\n",
    "### 1 How is a Basketball Game Score Calculated?"
   ]
  },
  {
   "cell_type": "code",
   "execution_count": 61,
   "metadata": {},
   "outputs": [],
   "source": [
    "import pandas as pd\n",
    "import numpy as np\n",
    "import matplotlib.pyplot as plt\n",
    "import statsmodels.formula.api as smf"
   ]
  },
  {
   "cell_type": "markdown",
   "metadata": {},
   "source": [
    "1."
   ]
  },
  {
   "cell_type": "code",
   "execution_count": 62,
   "metadata": {},
   "outputs": [
    {
     "data": {
      "text/html": [
       "<div>\n",
       "<style scoped>\n",
       "    .dataframe tbody tr th:only-of-type {\n",
       "        vertical-align: middle;\n",
       "    }\n",
       "\n",
       "    .dataframe tbody tr th {\n",
       "        vertical-align: top;\n",
       "    }\n",
       "\n",
       "    .dataframe thead th {\n",
       "        text-align: right;\n",
       "    }\n",
       "</style>\n",
       "<table border=\"1\" class=\"dataframe\">\n",
       "  <thead>\n",
       "    <tr style=\"text-align: right;\">\n",
       "      <th></th>\n",
       "      <th>Rk</th>\n",
       "      <th>G</th>\n",
       "      <th>Date</th>\n",
       "      <th>Age</th>\n",
       "      <th>Tm</th>\n",
       "      <th>Unnamed: 5</th>\n",
       "      <th>Opp</th>\n",
       "      <th>Unnamed: 7</th>\n",
       "      <th>GS</th>\n",
       "      <th>MP</th>\n",
       "      <th>...</th>\n",
       "      <th>DRB</th>\n",
       "      <th>TRB</th>\n",
       "      <th>AST</th>\n",
       "      <th>STL</th>\n",
       "      <th>BLK</th>\n",
       "      <th>TOV</th>\n",
       "      <th>PF</th>\n",
       "      <th>PTS</th>\n",
       "      <th>GmSc</th>\n",
       "      <th>+/-</th>\n",
       "    </tr>\n",
       "  </thead>\n",
       "  <tbody>\n",
       "    <tr>\n",
       "      <th>0</th>\n",
       "      <td>1</td>\n",
       "      <td>1.0</td>\n",
       "      <td>2023-10-25</td>\n",
       "      <td>25-309</td>\n",
       "      <td>SAC</td>\n",
       "      <td>@</td>\n",
       "      <td>UTA</td>\n",
       "      <td>W (+16)</td>\n",
       "      <td>1</td>\n",
       "      <td>32:57</td>\n",
       "      <td>...</td>\n",
       "      <td>3</td>\n",
       "      <td>5</td>\n",
       "      <td>6</td>\n",
       "      <td>1</td>\n",
       "      <td>1</td>\n",
       "      <td>3</td>\n",
       "      <td>4</td>\n",
       "      <td>18</td>\n",
       "      <td>11.0</td>\n",
       "      <td>+14</td>\n",
       "    </tr>\n",
       "    <tr>\n",
       "      <th>1</th>\n",
       "      <td>2</td>\n",
       "      <td>2.0</td>\n",
       "      <td>2023-10-27</td>\n",
       "      <td>25-311</td>\n",
       "      <td>SAC</td>\n",
       "      <td>NaN</td>\n",
       "      <td>GSW</td>\n",
       "      <td>L (-8)</td>\n",
       "      <td>1</td>\n",
       "      <td>39:09</td>\n",
       "      <td>...</td>\n",
       "      <td>4</td>\n",
       "      <td>4</td>\n",
       "      <td>4</td>\n",
       "      <td>2</td>\n",
       "      <td>0</td>\n",
       "      <td>2</td>\n",
       "      <td>3</td>\n",
       "      <td>39</td>\n",
       "      <td>27.4</td>\n",
       "      <td>+1</td>\n",
       "    </tr>\n",
       "    <tr>\n",
       "      <th>2</th>\n",
       "      <td>3</td>\n",
       "      <td>3.0</td>\n",
       "      <td>2023-10-29</td>\n",
       "      <td>25-313</td>\n",
       "      <td>SAC</td>\n",
       "      <td>NaN</td>\n",
       "      <td>LAL</td>\n",
       "      <td>W (+5)</td>\n",
       "      <td>1</td>\n",
       "      <td>34:15</td>\n",
       "      <td>...</td>\n",
       "      <td>3</td>\n",
       "      <td>4</td>\n",
       "      <td>8</td>\n",
       "      <td>1</td>\n",
       "      <td>1</td>\n",
       "      <td>3</td>\n",
       "      <td>5</td>\n",
       "      <td>37</td>\n",
       "      <td>28.9</td>\n",
       "      <td>+15</td>\n",
       "    </tr>\n",
       "    <tr>\n",
       "      <th>3</th>\n",
       "      <td>4</td>\n",
       "      <td>NaN</td>\n",
       "      <td>2023-11-01</td>\n",
       "      <td>25-316</td>\n",
       "      <td>SAC</td>\n",
       "      <td>@</td>\n",
       "      <td>GSW</td>\n",
       "      <td>L (-1)</td>\n",
       "      <td>Inactive</td>\n",
       "      <td>Inactive</td>\n",
       "      <td>...</td>\n",
       "      <td>Inactive</td>\n",
       "      <td>Inactive</td>\n",
       "      <td>Inactive</td>\n",
       "      <td>Inactive</td>\n",
       "      <td>Inactive</td>\n",
       "      <td>Inactive</td>\n",
       "      <td>Inactive</td>\n",
       "      <td>Inactive</td>\n",
       "      <td>Inactive</td>\n",
       "      <td>Inactive</td>\n",
       "    </tr>\n",
       "    <tr>\n",
       "      <th>4</th>\n",
       "      <td>5</td>\n",
       "      <td>NaN</td>\n",
       "      <td>2023-11-04</td>\n",
       "      <td>25-319</td>\n",
       "      <td>SAC</td>\n",
       "      <td>@</td>\n",
       "      <td>HOU</td>\n",
       "      <td>L (-18)</td>\n",
       "      <td>Inactive</td>\n",
       "      <td>Inactive</td>\n",
       "      <td>...</td>\n",
       "      <td>Inactive</td>\n",
       "      <td>Inactive</td>\n",
       "      <td>Inactive</td>\n",
       "      <td>Inactive</td>\n",
       "      <td>Inactive</td>\n",
       "      <td>Inactive</td>\n",
       "      <td>Inactive</td>\n",
       "      <td>Inactive</td>\n",
       "      <td>Inactive</td>\n",
       "      <td>Inactive</td>\n",
       "    </tr>\n",
       "  </tbody>\n",
       "</table>\n",
       "<p>5 rows × 30 columns</p>\n",
       "</div>"
      ],
      "text/plain": [
       "   Rk    G        Date     Age   Tm Unnamed: 5  Opp Unnamed: 7        GS  \\\n",
       "0   1  1.0  2023-10-25  25-309  SAC          @  UTA    W (+16)         1   \n",
       "1   2  2.0  2023-10-27  25-311  SAC        NaN  GSW     L (-8)         1   \n",
       "2   3  3.0  2023-10-29  25-313  SAC        NaN  LAL     W (+5)         1   \n",
       "3   4  NaN  2023-11-01  25-316  SAC          @  GSW     L (-1)  Inactive   \n",
       "4   5  NaN  2023-11-04  25-319  SAC          @  HOU    L (-18)  Inactive   \n",
       "\n",
       "         MP  ...       DRB       TRB       AST       STL       BLK       TOV  \\\n",
       "0     32:57  ...         3         5         6         1         1         3   \n",
       "1     39:09  ...         4         4         4         2         0         2   \n",
       "2     34:15  ...         3         4         8         1         1         3   \n",
       "3  Inactive  ...  Inactive  Inactive  Inactive  Inactive  Inactive  Inactive   \n",
       "4  Inactive  ...  Inactive  Inactive  Inactive  Inactive  Inactive  Inactive   \n",
       "\n",
       "         PF       PTS      GmSc       +/-  \n",
       "0         4        18      11.0       +14  \n",
       "1         3        39      27.4        +1  \n",
       "2         5        37      28.9       +15  \n",
       "3  Inactive  Inactive  Inactive  Inactive  \n",
       "4  Inactive  Inactive  Inactive  Inactive  \n",
       "\n",
       "[5 rows x 30 columns]"
      ]
     },
     "execution_count": 62,
     "metadata": {},
     "output_type": "execute_result"
    }
   ],
   "source": [
    "basketball = pd.read_csv(\"fox-deaaron_23-24.csv.bz2\", sep = \",\")\n",
    "basketball.head()"
   ]
  },
  {
   "cell_type": "code",
   "execution_count": 63,
   "metadata": {},
   "outputs": [
    {
     "data": {
      "text/html": [
       "<div>\n",
       "<style scoped>\n",
       "    .dataframe tbody tr th:only-of-type {\n",
       "        vertical-align: middle;\n",
       "    }\n",
       "\n",
       "    .dataframe tbody tr th {\n",
       "        vertical-align: top;\n",
       "    }\n",
       "\n",
       "    .dataframe thead th {\n",
       "        text-align: right;\n",
       "    }\n",
       "</style>\n",
       "<table border=\"1\" class=\"dataframe\">\n",
       "  <thead>\n",
       "    <tr style=\"text-align: right;\">\n",
       "      <th></th>\n",
       "      <th>Rk</th>\n",
       "      <th>G</th>\n",
       "      <th>Date</th>\n",
       "      <th>Age</th>\n",
       "      <th>Tm</th>\n",
       "      <th>Unnamed: 5</th>\n",
       "      <th>Opp</th>\n",
       "      <th>Unnamed: 7</th>\n",
       "      <th>GS</th>\n",
       "      <th>MP</th>\n",
       "      <th>...</th>\n",
       "      <th>DRB</th>\n",
       "      <th>TRB</th>\n",
       "      <th>AST</th>\n",
       "      <th>STL</th>\n",
       "      <th>BLK</th>\n",
       "      <th>TOV</th>\n",
       "      <th>PF</th>\n",
       "      <th>PTS</th>\n",
       "      <th>GmSc</th>\n",
       "      <th>+/-</th>\n",
       "    </tr>\n",
       "  </thead>\n",
       "  <tbody>\n",
       "    <tr>\n",
       "      <th>0</th>\n",
       "      <td>1</td>\n",
       "      <td>1.0</td>\n",
       "      <td>2023-10-25</td>\n",
       "      <td>25-309</td>\n",
       "      <td>SAC</td>\n",
       "      <td>@</td>\n",
       "      <td>UTA</td>\n",
       "      <td>W (+16)</td>\n",
       "      <td>1</td>\n",
       "      <td>32:57</td>\n",
       "      <td>...</td>\n",
       "      <td>3</td>\n",
       "      <td>5</td>\n",
       "      <td>6</td>\n",
       "      <td>1</td>\n",
       "      <td>1</td>\n",
       "      <td>3</td>\n",
       "      <td>4</td>\n",
       "      <td>18</td>\n",
       "      <td>11.0</td>\n",
       "      <td>+14</td>\n",
       "    </tr>\n",
       "    <tr>\n",
       "      <th>1</th>\n",
       "      <td>2</td>\n",
       "      <td>2.0</td>\n",
       "      <td>2023-10-27</td>\n",
       "      <td>25-311</td>\n",
       "      <td>SAC</td>\n",
       "      <td>NaN</td>\n",
       "      <td>GSW</td>\n",
       "      <td>L (-8)</td>\n",
       "      <td>1</td>\n",
       "      <td>39:09</td>\n",
       "      <td>...</td>\n",
       "      <td>4</td>\n",
       "      <td>4</td>\n",
       "      <td>4</td>\n",
       "      <td>2</td>\n",
       "      <td>0</td>\n",
       "      <td>2</td>\n",
       "      <td>3</td>\n",
       "      <td>39</td>\n",
       "      <td>27.4</td>\n",
       "      <td>+1</td>\n",
       "    </tr>\n",
       "    <tr>\n",
       "      <th>2</th>\n",
       "      <td>3</td>\n",
       "      <td>3.0</td>\n",
       "      <td>2023-10-29</td>\n",
       "      <td>25-313</td>\n",
       "      <td>SAC</td>\n",
       "      <td>NaN</td>\n",
       "      <td>LAL</td>\n",
       "      <td>W (+5)</td>\n",
       "      <td>1</td>\n",
       "      <td>34:15</td>\n",
       "      <td>...</td>\n",
       "      <td>3</td>\n",
       "      <td>4</td>\n",
       "      <td>8</td>\n",
       "      <td>1</td>\n",
       "      <td>1</td>\n",
       "      <td>3</td>\n",
       "      <td>5</td>\n",
       "      <td>37</td>\n",
       "      <td>28.9</td>\n",
       "      <td>+15</td>\n",
       "    </tr>\n",
       "    <tr>\n",
       "      <th>3</th>\n",
       "      <td>4</td>\n",
       "      <td>NaN</td>\n",
       "      <td>2023-11-01</td>\n",
       "      <td>25-316</td>\n",
       "      <td>SAC</td>\n",
       "      <td>@</td>\n",
       "      <td>GSW</td>\n",
       "      <td>L (-1)</td>\n",
       "      <td>Inactive</td>\n",
       "      <td>Inactive</td>\n",
       "      <td>...</td>\n",
       "      <td>Inactive</td>\n",
       "      <td>Inactive</td>\n",
       "      <td>Inactive</td>\n",
       "      <td>Inactive</td>\n",
       "      <td>Inactive</td>\n",
       "      <td>Inactive</td>\n",
       "      <td>Inactive</td>\n",
       "      <td>Inactive</td>\n",
       "      <td>Inactive</td>\n",
       "      <td>Inactive</td>\n",
       "    </tr>\n",
       "    <tr>\n",
       "      <th>4</th>\n",
       "      <td>5</td>\n",
       "      <td>NaN</td>\n",
       "      <td>2023-11-04</td>\n",
       "      <td>25-319</td>\n",
       "      <td>SAC</td>\n",
       "      <td>@</td>\n",
       "      <td>HOU</td>\n",
       "      <td>L (-18)</td>\n",
       "      <td>Inactive</td>\n",
       "      <td>Inactive</td>\n",
       "      <td>...</td>\n",
       "      <td>Inactive</td>\n",
       "      <td>Inactive</td>\n",
       "      <td>Inactive</td>\n",
       "      <td>Inactive</td>\n",
       "      <td>Inactive</td>\n",
       "      <td>Inactive</td>\n",
       "      <td>Inactive</td>\n",
       "      <td>Inactive</td>\n",
       "      <td>Inactive</td>\n",
       "      <td>Inactive</td>\n",
       "    </tr>\n",
       "    <tr>\n",
       "      <th>...</th>\n",
       "      <td>...</td>\n",
       "      <td>...</td>\n",
       "      <td>...</td>\n",
       "      <td>...</td>\n",
       "      <td>...</td>\n",
       "      <td>...</td>\n",
       "      <td>...</td>\n",
       "      <td>...</td>\n",
       "      <td>...</td>\n",
       "      <td>...</td>\n",
       "      <td>...</td>\n",
       "      <td>...</td>\n",
       "      <td>...</td>\n",
       "      <td>...</td>\n",
       "      <td>...</td>\n",
       "      <td>...</td>\n",
       "      <td>...</td>\n",
       "      <td>...</td>\n",
       "      <td>...</td>\n",
       "      <td>...</td>\n",
       "      <td>...</td>\n",
       "    </tr>\n",
       "    <tr>\n",
       "      <th>77</th>\n",
       "      <td>78</td>\n",
       "      <td>70.0</td>\n",
       "      <td>2024-04-07</td>\n",
       "      <td>26-109</td>\n",
       "      <td>SAC</td>\n",
       "      <td>@</td>\n",
       "      <td>BRK</td>\n",
       "      <td>W (+30)</td>\n",
       "      <td>1</td>\n",
       "      <td>33:50</td>\n",
       "      <td>...</td>\n",
       "      <td>4</td>\n",
       "      <td>5</td>\n",
       "      <td>3</td>\n",
       "      <td>1</td>\n",
       "      <td>0</td>\n",
       "      <td>1</td>\n",
       "      <td>3</td>\n",
       "      <td>20</td>\n",
       "      <td>11.6</td>\n",
       "      <td>+16</td>\n",
       "    </tr>\n",
       "    <tr>\n",
       "      <th>78</th>\n",
       "      <td>79</td>\n",
       "      <td>71.0</td>\n",
       "      <td>2024-04-09</td>\n",
       "      <td>26-111</td>\n",
       "      <td>SAC</td>\n",
       "      <td>@</td>\n",
       "      <td>OKC</td>\n",
       "      <td>L (-7)</td>\n",
       "      <td>1</td>\n",
       "      <td>42:42</td>\n",
       "      <td>...</td>\n",
       "      <td>8</td>\n",
       "      <td>8</td>\n",
       "      <td>6</td>\n",
       "      <td>2</td>\n",
       "      <td>0</td>\n",
       "      <td>2</td>\n",
       "      <td>2</td>\n",
       "      <td>33</td>\n",
       "      <td>22.5</td>\n",
       "      <td>-3</td>\n",
       "    </tr>\n",
       "    <tr>\n",
       "      <th>79</th>\n",
       "      <td>80</td>\n",
       "      <td>72.0</td>\n",
       "      <td>2024-04-11</td>\n",
       "      <td>26-113</td>\n",
       "      <td>SAC</td>\n",
       "      <td>NaN</td>\n",
       "      <td>NOP</td>\n",
       "      <td>L (-12)</td>\n",
       "      <td>1</td>\n",
       "      <td>40:45</td>\n",
       "      <td>...</td>\n",
       "      <td>5</td>\n",
       "      <td>5</td>\n",
       "      <td>8</td>\n",
       "      <td>2</td>\n",
       "      <td>0</td>\n",
       "      <td>6</td>\n",
       "      <td>3</td>\n",
       "      <td>33</td>\n",
       "      <td>25.9</td>\n",
       "      <td>+3</td>\n",
       "    </tr>\n",
       "    <tr>\n",
       "      <th>80</th>\n",
       "      <td>81</td>\n",
       "      <td>73.0</td>\n",
       "      <td>2024-04-12</td>\n",
       "      <td>26-114</td>\n",
       "      <td>SAC</td>\n",
       "      <td>NaN</td>\n",
       "      <td>PHO</td>\n",
       "      <td>L (-1)</td>\n",
       "      <td>1</td>\n",
       "      <td>41:00</td>\n",
       "      <td>...</td>\n",
       "      <td>5</td>\n",
       "      <td>5</td>\n",
       "      <td>6</td>\n",
       "      <td>4</td>\n",
       "      <td>0</td>\n",
       "      <td>2</td>\n",
       "      <td>4</td>\n",
       "      <td>23</td>\n",
       "      <td>16.6</td>\n",
       "      <td>+3</td>\n",
       "    </tr>\n",
       "    <tr>\n",
       "      <th>81</th>\n",
       "      <td>82</td>\n",
       "      <td>74.0</td>\n",
       "      <td>2024-04-14</td>\n",
       "      <td>26-116</td>\n",
       "      <td>SAC</td>\n",
       "      <td>NaN</td>\n",
       "      <td>POR</td>\n",
       "      <td>W (+39)</td>\n",
       "      <td>1</td>\n",
       "      <td>25:31</td>\n",
       "      <td>...</td>\n",
       "      <td>2</td>\n",
       "      <td>2</td>\n",
       "      <td>3</td>\n",
       "      <td>3</td>\n",
       "      <td>1</td>\n",
       "      <td>1</td>\n",
       "      <td>1</td>\n",
       "      <td>24</td>\n",
       "      <td>23.2</td>\n",
       "      <td>+13</td>\n",
       "    </tr>\n",
       "  </tbody>\n",
       "</table>\n",
       "<p>82 rows × 30 columns</p>\n",
       "</div>"
      ],
      "text/plain": [
       "    Rk     G        Date     Age   Tm Unnamed: 5  Opp Unnamed: 7        GS  \\\n",
       "0    1   1.0  2023-10-25  25-309  SAC          @  UTA    W (+16)         1   \n",
       "1    2   2.0  2023-10-27  25-311  SAC        NaN  GSW     L (-8)         1   \n",
       "2    3   3.0  2023-10-29  25-313  SAC        NaN  LAL     W (+5)         1   \n",
       "3    4   NaN  2023-11-01  25-316  SAC          @  GSW     L (-1)  Inactive   \n",
       "4    5   NaN  2023-11-04  25-319  SAC          @  HOU    L (-18)  Inactive   \n",
       "..  ..   ...         ...     ...  ...        ...  ...        ...       ...   \n",
       "77  78  70.0  2024-04-07  26-109  SAC          @  BRK    W (+30)         1   \n",
       "78  79  71.0  2024-04-09  26-111  SAC          @  OKC     L (-7)         1   \n",
       "79  80  72.0  2024-04-11  26-113  SAC        NaN  NOP    L (-12)         1   \n",
       "80  81  73.0  2024-04-12  26-114  SAC        NaN  PHO     L (-1)         1   \n",
       "81  82  74.0  2024-04-14  26-116  SAC        NaN  POR    W (+39)         1   \n",
       "\n",
       "          MP  ...       DRB       TRB       AST       STL       BLK       TOV  \\\n",
       "0      32:57  ...         3         5         6         1         1         3   \n",
       "1      39:09  ...         4         4         4         2         0         2   \n",
       "2      34:15  ...         3         4         8         1         1         3   \n",
       "3   Inactive  ...  Inactive  Inactive  Inactive  Inactive  Inactive  Inactive   \n",
       "4   Inactive  ...  Inactive  Inactive  Inactive  Inactive  Inactive  Inactive   \n",
       "..       ...  ...       ...       ...       ...       ...       ...       ...   \n",
       "77     33:50  ...         4         5         3         1         0         1   \n",
       "78     42:42  ...         8         8         6         2         0         2   \n",
       "79     40:45  ...         5         5         8         2         0         6   \n",
       "80     41:00  ...         5         5         6         4         0         2   \n",
       "81     25:31  ...         2         2         3         3         1         1   \n",
       "\n",
       "          PF       PTS      GmSc       +/-  \n",
       "0          4        18      11.0       +14  \n",
       "1          3        39      27.4        +1  \n",
       "2          5        37      28.9       +15  \n",
       "3   Inactive  Inactive  Inactive  Inactive  \n",
       "4   Inactive  Inactive  Inactive  Inactive  \n",
       "..       ...       ...       ...       ...  \n",
       "77         3        20      11.6       +16  \n",
       "78         2        33      22.5        -3  \n",
       "79         3        33      25.9        +3  \n",
       "80         4        23      16.6        +3  \n",
       "81         1        24      23.2       +13  \n",
       "\n",
       "[82 rows x 30 columns]"
      ]
     },
     "execution_count": 63,
     "metadata": {},
     "output_type": "execute_result"
    }
   ],
   "source": [
    "basketball"
   ]
  },
  {
   "cell_type": "markdown",
   "metadata": {},
   "source": [
    "2."
   ]
  },
  {
   "cell_type": "code",
   "execution_count": 64,
   "metadata": {},
   "outputs": [
    {
     "data": {
      "text/html": [
       "<div>\n",
       "<style scoped>\n",
       "    .dataframe tbody tr th:only-of-type {\n",
       "        vertical-align: middle;\n",
       "    }\n",
       "\n",
       "    .dataframe tbody tr th {\n",
       "        vertical-align: top;\n",
       "    }\n",
       "\n",
       "    .dataframe thead th {\n",
       "        text-align: right;\n",
       "    }\n",
       "</style>\n",
       "<table border=\"1\" class=\"dataframe\">\n",
       "  <thead>\n",
       "    <tr style=\"text-align: right;\">\n",
       "      <th></th>\n",
       "      <th>Rk</th>\n",
       "      <th>G</th>\n",
       "      <th>Date</th>\n",
       "      <th>Age</th>\n",
       "      <th>Tm</th>\n",
       "      <th>Unnamed: 5</th>\n",
       "      <th>Opp</th>\n",
       "      <th>Unnamed: 7</th>\n",
       "      <th>GS</th>\n",
       "      <th>MP</th>\n",
       "      <th>...</th>\n",
       "      <th>DRB</th>\n",
       "      <th>TRB</th>\n",
       "      <th>AST</th>\n",
       "      <th>STL</th>\n",
       "      <th>BLK</th>\n",
       "      <th>TOV</th>\n",
       "      <th>PF</th>\n",
       "      <th>PTS</th>\n",
       "      <th>GmSc</th>\n",
       "      <th>+/-</th>\n",
       "    </tr>\n",
       "  </thead>\n",
       "  <tbody>\n",
       "    <tr>\n",
       "      <th>3</th>\n",
       "      <td>4</td>\n",
       "      <td>NaN</td>\n",
       "      <td>2023-11-01</td>\n",
       "      <td>25-316</td>\n",
       "      <td>SAC</td>\n",
       "      <td>@</td>\n",
       "      <td>GSW</td>\n",
       "      <td>L (-1)</td>\n",
       "      <td>Inactive</td>\n",
       "      <td>Inactive</td>\n",
       "      <td>...</td>\n",
       "      <td>Inactive</td>\n",
       "      <td>Inactive</td>\n",
       "      <td>Inactive</td>\n",
       "      <td>Inactive</td>\n",
       "      <td>Inactive</td>\n",
       "      <td>Inactive</td>\n",
       "      <td>Inactive</td>\n",
       "      <td>Inactive</td>\n",
       "      <td>Inactive</td>\n",
       "      <td>Inactive</td>\n",
       "    </tr>\n",
       "    <tr>\n",
       "      <th>4</th>\n",
       "      <td>5</td>\n",
       "      <td>NaN</td>\n",
       "      <td>2023-11-04</td>\n",
       "      <td>25-319</td>\n",
       "      <td>SAC</td>\n",
       "      <td>@</td>\n",
       "      <td>HOU</td>\n",
       "      <td>L (-18)</td>\n",
       "      <td>Inactive</td>\n",
       "      <td>Inactive</td>\n",
       "      <td>...</td>\n",
       "      <td>Inactive</td>\n",
       "      <td>Inactive</td>\n",
       "      <td>Inactive</td>\n",
       "      <td>Inactive</td>\n",
       "      <td>Inactive</td>\n",
       "      <td>Inactive</td>\n",
       "      <td>Inactive</td>\n",
       "      <td>Inactive</td>\n",
       "      <td>Inactive</td>\n",
       "      <td>Inactive</td>\n",
       "    </tr>\n",
       "    <tr>\n",
       "      <th>5</th>\n",
       "      <td>6</td>\n",
       "      <td>NaN</td>\n",
       "      <td>2023-11-06</td>\n",
       "      <td>25-321</td>\n",
       "      <td>SAC</td>\n",
       "      <td>@</td>\n",
       "      <td>HOU</td>\n",
       "      <td>L (-25)</td>\n",
       "      <td>Inactive</td>\n",
       "      <td>Inactive</td>\n",
       "      <td>...</td>\n",
       "      <td>Inactive</td>\n",
       "      <td>Inactive</td>\n",
       "      <td>Inactive</td>\n",
       "      <td>Inactive</td>\n",
       "      <td>Inactive</td>\n",
       "      <td>Inactive</td>\n",
       "      <td>Inactive</td>\n",
       "      <td>Inactive</td>\n",
       "      <td>Inactive</td>\n",
       "      <td>Inactive</td>\n",
       "    </tr>\n",
       "    <tr>\n",
       "      <th>6</th>\n",
       "      <td>7</td>\n",
       "      <td>NaN</td>\n",
       "      <td>2023-11-08</td>\n",
       "      <td>25-323</td>\n",
       "      <td>SAC</td>\n",
       "      <td>NaN</td>\n",
       "      <td>POR</td>\n",
       "      <td>W (+3)</td>\n",
       "      <td>Inactive</td>\n",
       "      <td>Inactive</td>\n",
       "      <td>...</td>\n",
       "      <td>Inactive</td>\n",
       "      <td>Inactive</td>\n",
       "      <td>Inactive</td>\n",
       "      <td>Inactive</td>\n",
       "      <td>Inactive</td>\n",
       "      <td>Inactive</td>\n",
       "      <td>Inactive</td>\n",
       "      <td>Inactive</td>\n",
       "      <td>Inactive</td>\n",
       "      <td>Inactive</td>\n",
       "    </tr>\n",
       "    <tr>\n",
       "      <th>7</th>\n",
       "      <td>8</td>\n",
       "      <td>NaN</td>\n",
       "      <td>2023-11-10</td>\n",
       "      <td>25-325</td>\n",
       "      <td>SAC</td>\n",
       "      <td>NaN</td>\n",
       "      <td>OKC</td>\n",
       "      <td>W (+7)</td>\n",
       "      <td>Inactive</td>\n",
       "      <td>Inactive</td>\n",
       "      <td>...</td>\n",
       "      <td>Inactive</td>\n",
       "      <td>Inactive</td>\n",
       "      <td>Inactive</td>\n",
       "      <td>Inactive</td>\n",
       "      <td>Inactive</td>\n",
       "      <td>Inactive</td>\n",
       "      <td>Inactive</td>\n",
       "      <td>Inactive</td>\n",
       "      <td>Inactive</td>\n",
       "      <td>Inactive</td>\n",
       "    </tr>\n",
       "    <tr>\n",
       "      <th>23</th>\n",
       "      <td>24</td>\n",
       "      <td>NaN</td>\n",
       "      <td>2023-12-16</td>\n",
       "      <td>25-361</td>\n",
       "      <td>SAC</td>\n",
       "      <td>NaN</td>\n",
       "      <td>UTA</td>\n",
       "      <td>W (+21)</td>\n",
       "      <td>Inactive</td>\n",
       "      <td>Inactive</td>\n",
       "      <td>...</td>\n",
       "      <td>Inactive</td>\n",
       "      <td>Inactive</td>\n",
       "      <td>Inactive</td>\n",
       "      <td>Inactive</td>\n",
       "      <td>Inactive</td>\n",
       "      <td>Inactive</td>\n",
       "      <td>Inactive</td>\n",
       "      <td>Inactive</td>\n",
       "      <td>Inactive</td>\n",
       "      <td>Inactive</td>\n",
       "    </tr>\n",
       "    <tr>\n",
       "      <th>57</th>\n",
       "      <td>58</td>\n",
       "      <td>NaN</td>\n",
       "      <td>2024-02-28</td>\n",
       "      <td>26-070</td>\n",
       "      <td>SAC</td>\n",
       "      <td>@</td>\n",
       "      <td>DEN</td>\n",
       "      <td>L (-21)</td>\n",
       "      <td>Inactive</td>\n",
       "      <td>Inactive</td>\n",
       "      <td>...</td>\n",
       "      <td>Inactive</td>\n",
       "      <td>Inactive</td>\n",
       "      <td>Inactive</td>\n",
       "      <td>Inactive</td>\n",
       "      <td>Inactive</td>\n",
       "      <td>Inactive</td>\n",
       "      <td>Inactive</td>\n",
       "      <td>Inactive</td>\n",
       "      <td>Inactive</td>\n",
       "      <td>Inactive</td>\n",
       "    </tr>\n",
       "    <tr>\n",
       "      <th>58</th>\n",
       "      <td>59</td>\n",
       "      <td>NaN</td>\n",
       "      <td>2024-03-01</td>\n",
       "      <td>26-072</td>\n",
       "      <td>SAC</td>\n",
       "      <td>@</td>\n",
       "      <td>MIN</td>\n",
       "      <td>W (+4)</td>\n",
       "      <td>Inactive</td>\n",
       "      <td>Inactive</td>\n",
       "      <td>...</td>\n",
       "      <td>Inactive</td>\n",
       "      <td>Inactive</td>\n",
       "      <td>Inactive</td>\n",
       "      <td>Inactive</td>\n",
       "      <td>Inactive</td>\n",
       "      <td>Inactive</td>\n",
       "      <td>Inactive</td>\n",
       "      <td>Inactive</td>\n",
       "      <td>Inactive</td>\n",
       "      <td>Inactive</td>\n",
       "    </tr>\n",
       "  </tbody>\n",
       "</table>\n",
       "<p>8 rows × 30 columns</p>\n",
       "</div>"
      ],
      "text/plain": [
       "    Rk   G        Date     Age   Tm Unnamed: 5  Opp Unnamed: 7        GS  \\\n",
       "3    4 NaN  2023-11-01  25-316  SAC          @  GSW     L (-1)  Inactive   \n",
       "4    5 NaN  2023-11-04  25-319  SAC          @  HOU    L (-18)  Inactive   \n",
       "5    6 NaN  2023-11-06  25-321  SAC          @  HOU    L (-25)  Inactive   \n",
       "6    7 NaN  2023-11-08  25-323  SAC        NaN  POR     W (+3)  Inactive   \n",
       "7    8 NaN  2023-11-10  25-325  SAC        NaN  OKC     W (+7)  Inactive   \n",
       "23  24 NaN  2023-12-16  25-361  SAC        NaN  UTA    W (+21)  Inactive   \n",
       "57  58 NaN  2024-02-28  26-070  SAC          @  DEN    L (-21)  Inactive   \n",
       "58  59 NaN  2024-03-01  26-072  SAC          @  MIN     W (+4)  Inactive   \n",
       "\n",
       "          MP  ...       DRB       TRB       AST       STL       BLK       TOV  \\\n",
       "3   Inactive  ...  Inactive  Inactive  Inactive  Inactive  Inactive  Inactive   \n",
       "4   Inactive  ...  Inactive  Inactive  Inactive  Inactive  Inactive  Inactive   \n",
       "5   Inactive  ...  Inactive  Inactive  Inactive  Inactive  Inactive  Inactive   \n",
       "6   Inactive  ...  Inactive  Inactive  Inactive  Inactive  Inactive  Inactive   \n",
       "7   Inactive  ...  Inactive  Inactive  Inactive  Inactive  Inactive  Inactive   \n",
       "23  Inactive  ...  Inactive  Inactive  Inactive  Inactive  Inactive  Inactive   \n",
       "57  Inactive  ...  Inactive  Inactive  Inactive  Inactive  Inactive  Inactive   \n",
       "58  Inactive  ...  Inactive  Inactive  Inactive  Inactive  Inactive  Inactive   \n",
       "\n",
       "          PF       PTS      GmSc       +/-  \n",
       "3   Inactive  Inactive  Inactive  Inactive  \n",
       "4   Inactive  Inactive  Inactive  Inactive  \n",
       "5   Inactive  Inactive  Inactive  Inactive  \n",
       "6   Inactive  Inactive  Inactive  Inactive  \n",
       "7   Inactive  Inactive  Inactive  Inactive  \n",
       "23  Inactive  Inactive  Inactive  Inactive  \n",
       "57  Inactive  Inactive  Inactive  Inactive  \n",
       "58  Inactive  Inactive  Inactive  Inactive  \n",
       "\n",
       "[8 rows x 30 columns]"
      ]
     },
     "execution_count": 64,
     "metadata": {},
     "output_type": "execute_result"
    }
   ],
   "source": [
    "basketball[basketball['G'].isna()] "
   ]
  },
  {
   "cell_type": "code",
   "execution_count": 65,
   "metadata": {},
   "outputs": [
    {
     "data": {
      "text/html": [
       "<div>\n",
       "<style scoped>\n",
       "    .dataframe tbody tr th:only-of-type {\n",
       "        vertical-align: middle;\n",
       "    }\n",
       "\n",
       "    .dataframe tbody tr th {\n",
       "        vertical-align: top;\n",
       "    }\n",
       "\n",
       "    .dataframe thead th {\n",
       "        text-align: right;\n",
       "    }\n",
       "</style>\n",
       "<table border=\"1\" class=\"dataframe\">\n",
       "  <thead>\n",
       "    <tr style=\"text-align: right;\">\n",
       "      <th></th>\n",
       "      <th>Rk</th>\n",
       "      <th>G</th>\n",
       "      <th>Date</th>\n",
       "      <th>Age</th>\n",
       "      <th>Tm</th>\n",
       "      <th>Unnamed: 5</th>\n",
       "      <th>Opp</th>\n",
       "      <th>Unnamed: 7</th>\n",
       "      <th>GS</th>\n",
       "      <th>MP</th>\n",
       "      <th>...</th>\n",
       "      <th>DRB</th>\n",
       "      <th>TRB</th>\n",
       "      <th>AST</th>\n",
       "      <th>STL</th>\n",
       "      <th>BLK</th>\n",
       "      <th>TOV</th>\n",
       "      <th>PF</th>\n",
       "      <th>PTS</th>\n",
       "      <th>GmSc</th>\n",
       "      <th>+/-</th>\n",
       "    </tr>\n",
       "  </thead>\n",
       "  <tbody>\n",
       "    <tr>\n",
       "      <th>0</th>\n",
       "      <td>1</td>\n",
       "      <td>1.0</td>\n",
       "      <td>2023-10-25</td>\n",
       "      <td>25-309</td>\n",
       "      <td>SAC</td>\n",
       "      <td>@</td>\n",
       "      <td>UTA</td>\n",
       "      <td>W (+16)</td>\n",
       "      <td>1</td>\n",
       "      <td>32:57</td>\n",
       "      <td>...</td>\n",
       "      <td>3</td>\n",
       "      <td>5</td>\n",
       "      <td>6</td>\n",
       "      <td>1</td>\n",
       "      <td>1</td>\n",
       "      <td>3</td>\n",
       "      <td>4</td>\n",
       "      <td>18</td>\n",
       "      <td>11.0</td>\n",
       "      <td>+14</td>\n",
       "    </tr>\n",
       "    <tr>\n",
       "      <th>1</th>\n",
       "      <td>2</td>\n",
       "      <td>2.0</td>\n",
       "      <td>2023-10-27</td>\n",
       "      <td>25-311</td>\n",
       "      <td>SAC</td>\n",
       "      <td>NaN</td>\n",
       "      <td>GSW</td>\n",
       "      <td>L (-8)</td>\n",
       "      <td>1</td>\n",
       "      <td>39:09</td>\n",
       "      <td>...</td>\n",
       "      <td>4</td>\n",
       "      <td>4</td>\n",
       "      <td>4</td>\n",
       "      <td>2</td>\n",
       "      <td>0</td>\n",
       "      <td>2</td>\n",
       "      <td>3</td>\n",
       "      <td>39</td>\n",
       "      <td>27.4</td>\n",
       "      <td>+1</td>\n",
       "    </tr>\n",
       "    <tr>\n",
       "      <th>2</th>\n",
       "      <td>3</td>\n",
       "      <td>3.0</td>\n",
       "      <td>2023-10-29</td>\n",
       "      <td>25-313</td>\n",
       "      <td>SAC</td>\n",
       "      <td>NaN</td>\n",
       "      <td>LAL</td>\n",
       "      <td>W (+5)</td>\n",
       "      <td>1</td>\n",
       "      <td>34:15</td>\n",
       "      <td>...</td>\n",
       "      <td>3</td>\n",
       "      <td>4</td>\n",
       "      <td>8</td>\n",
       "      <td>1</td>\n",
       "      <td>1</td>\n",
       "      <td>3</td>\n",
       "      <td>5</td>\n",
       "      <td>37</td>\n",
       "      <td>28.9</td>\n",
       "      <td>+15</td>\n",
       "    </tr>\n",
       "    <tr>\n",
       "      <th>8</th>\n",
       "      <td>9</td>\n",
       "      <td>4.0</td>\n",
       "      <td>2023-11-13</td>\n",
       "      <td>25-328</td>\n",
       "      <td>SAC</td>\n",
       "      <td>NaN</td>\n",
       "      <td>CLE</td>\n",
       "      <td>W (+12)</td>\n",
       "      <td>1</td>\n",
       "      <td>35:52</td>\n",
       "      <td>...</td>\n",
       "      <td>1</td>\n",
       "      <td>2</td>\n",
       "      <td>6</td>\n",
       "      <td>1</td>\n",
       "      <td>0</td>\n",
       "      <td>1</td>\n",
       "      <td>2</td>\n",
       "      <td>28</td>\n",
       "      <td>21.6</td>\n",
       "      <td>+17</td>\n",
       "    </tr>\n",
       "    <tr>\n",
       "      <th>9</th>\n",
       "      <td>10</td>\n",
       "      <td>5.0</td>\n",
       "      <td>2023-11-15</td>\n",
       "      <td>25-330</td>\n",
       "      <td>SAC</td>\n",
       "      <td>@</td>\n",
       "      <td>LAL</td>\n",
       "      <td>W (+15)</td>\n",
       "      <td>1</td>\n",
       "      <td>38:20</td>\n",
       "      <td>...</td>\n",
       "      <td>2</td>\n",
       "      <td>5</td>\n",
       "      <td>5</td>\n",
       "      <td>4</td>\n",
       "      <td>0</td>\n",
       "      <td>3</td>\n",
       "      <td>3</td>\n",
       "      <td>28</td>\n",
       "      <td>21.8</td>\n",
       "      <td>+15</td>\n",
       "    </tr>\n",
       "  </tbody>\n",
       "</table>\n",
       "<p>5 rows × 30 columns</p>\n",
       "</div>"
      ],
      "text/plain": [
       "   Rk    G        Date     Age   Tm Unnamed: 5  Opp Unnamed: 7 GS     MP  ...  \\\n",
       "0   1  1.0  2023-10-25  25-309  SAC          @  UTA    W (+16)  1  32:57  ...   \n",
       "1   2  2.0  2023-10-27  25-311  SAC        NaN  GSW     L (-8)  1  39:09  ...   \n",
       "2   3  3.0  2023-10-29  25-313  SAC        NaN  LAL     W (+5)  1  34:15  ...   \n",
       "8   9  4.0  2023-11-13  25-328  SAC        NaN  CLE    W (+12)  1  35:52  ...   \n",
       "9  10  5.0  2023-11-15  25-330  SAC          @  LAL    W (+15)  1  38:20  ...   \n",
       "\n",
       "  DRB TRB AST STL BLK TOV PF PTS  GmSc  +/-  \n",
       "0   3   5   6   1   1   3  4  18  11.0  +14  \n",
       "1   4   4   4   2   0   2  3  39  27.4   +1  \n",
       "2   3   4   8   1   1   3  5  37  28.9  +15  \n",
       "8   1   2   6   1   0   1  2  28  21.6  +17  \n",
       "9   2   5   5   4   0   3  3  28  21.8  +15  \n",
       "\n",
       "[5 rows x 30 columns]"
      ]
     },
     "execution_count": 65,
     "metadata": {},
     "output_type": "execute_result"
    }
   ],
   "source": [
    "basketball = basketball[~basketball['G'].isna()]\n",
    "basketball.head()"
   ]
  },
  {
   "cell_type": "code",
   "execution_count": 66,
   "metadata": {},
   "outputs": [
    {
     "data": {
      "text/plain": [
       "(74, 30)"
      ]
     },
     "execution_count": 66,
     "metadata": {},
     "output_type": "execute_result"
    }
   ],
   "source": [
    "basketball.shape"
   ]
  },
  {
   "cell_type": "markdown",
   "metadata": {},
   "source": [
    "DeAron Fox played 74 games\n",
    "\n",
    "3."
   ]
  },
  {
   "cell_type": "code",
   "execution_count": 67,
   "metadata": {},
   "outputs": [
    {
     "name": "stdout",
     "output_type": "stream",
     "text": [
      "<class 'numpy.float64'>\n",
      "<class 'str'>\n",
      "<class 'str'>\n",
      "<class 'str'>\n",
      "<class 'str'>\n",
      "<class 'str'>\n",
      "<class 'str'>\n",
      "<class 'str'>\n"
     ]
    }
   ],
   "source": [
    "print(type(basketball.G[1]))\n",
    "print(type(basketball.PTS[1]))\n",
    "print(type(basketball.DRB[1]))\n",
    "print(type(basketball.TRB[1]))\n",
    "print(type(basketball.AST[1]))\n",
    "print(type(basketball.GmSc[1]))\n",
    "print(type(basketball.FTA[1]))\n",
    "print(type(basketball.FG[1]))"
   ]
  },
  {
   "cell_type": "code",
   "execution_count": 68,
   "metadata": {},
   "outputs": [
    {
     "name": "stderr",
     "output_type": "stream",
     "text": [
      "C:\\Users\\Gabriella Rivera\\AppData\\Local\\Temp\\ipykernel_1336\\970031929.py:4: SettingWithCopyWarning: \n",
      "A value is trying to be set on a copy of a slice from a DataFrame.\n",
      "Try using .loc[row_indexer,col_indexer] = value instead\n",
      "\n",
      "See the caveats in the documentation: https://pandas.pydata.org/pandas-docs/stable/user_guide/indexing.html#returning-a-view-versus-a-copy\n",
      "  basketball[columns_to_convert] = basketball[columns_to_convert].apply(pd.to_numeric, errors='coerce')\n"
     ]
    }
   ],
   "source": [
    "columns_to_convert = ['PTS', 'DRB', 'TRB', 'AST', 'STL', 'BLK', 'TOV', 'PF', 'GmSc', 'FGA', 'FG', '3P', '3PA', 'FT', 'FTA', 'ORB'] \n",
    "\n",
    "# Applying pd.to_numeric to each column in the list\n",
    "basketball[columns_to_convert] = basketball[columns_to_convert].apply(pd.to_numeric, errors='coerce')"
   ]
  },
  {
   "cell_type": "markdown",
   "metadata": {},
   "source": [
    "4."
   ]
  },
  {
   "cell_type": "code",
   "execution_count": 69,
   "metadata": {},
   "outputs": [
    {
     "data": {
      "text/plain": [
       "count    74.000000\n",
       "mean     19.556757\n",
       "std       8.337916\n",
       "min      -5.400000\n",
       "25%      14.900000\n",
       "50%      20.150000\n",
       "75%      26.500000\n",
       "max      37.800000\n",
       "Name: GmSc, dtype: float64"
      ]
     },
     "execution_count": 69,
     "metadata": {},
     "output_type": "execute_result"
    }
   ],
   "source": [
    "basketball['GmSc'].describe()"
   ]
  },
  {
   "cell_type": "code",
   "execution_count": 70,
   "metadata": {},
   "outputs": [
    {
     "data": {
      "text/plain": [
       "array([[<Axes: title={'center': 'GmSc'}>]], dtype=object)"
      ]
     },
     "execution_count": 70,
     "metadata": {},
     "output_type": "execute_result"
    },
    {
     "data": {
      "image/png": "[encoded data removed]",
      "text/plain": [
       "<Figure size 640x480 with 1 Axes>"
      ]
     },
     "metadata": {},
     "output_type": "display_data"
    }
   ],
   "source": [
    "basketball.hist(column='GmSc')"
   ]
  },
  {
   "cell_type": "markdown",
   "metadata": {},
   "source": [
    "The histogram resembles a normal distribution\n",
    "\n",
    "5."
   ]
  },
  {
   "cell_type": "code",
   "execution_count": 71,
   "metadata": {},
   "outputs": [
    {
     "data": {
      "text/html": [
       "<table class=\"simpletable\">\n",
       "<caption>OLS Regression Results</caption>\n",
       "<tr>\n",
       "  <th>Dep. Variable:</th>          <td>GmSc</td>       <th>  R-squared:         </th> <td>   0.245</td>\n",
       "</tr>\n",
       "<tr>\n",
       "  <th>Model:</th>                   <td>OLS</td>       <th>  Adj. R-squared:    </th> <td>   0.234</td>\n",
       "</tr>\n",
       "<tr>\n",
       "  <th>Method:</th>             <td>Least Squares</td>  <th>  F-statistic:       </th> <td>   23.31</td>\n",
       "</tr>\n",
       "<tr>\n",
       "  <th>Date:</th>             <td>Wed, 15 May 2024</td> <th>  Prob (F-statistic):</th> <td>7.51e-06</td>\n",
       "</tr>\n",
       "<tr>\n",
       "  <th>Time:</th>                 <td>19:45:17</td>     <th>  Log-Likelihood:    </th> <td> -251.06</td>\n",
       "</tr>\n",
       "<tr>\n",
       "  <th>No. Observations:</th>      <td>    74</td>      <th>  AIC:               </th> <td>   506.1</td>\n",
       "</tr>\n",
       "<tr>\n",
       "  <th>Df Residuals:</th>          <td>    72</td>      <th>  BIC:               </th> <td>   510.7</td>\n",
       "</tr>\n",
       "<tr>\n",
       "  <th>Df Model:</th>              <td>     1</td>      <th>                     </th>     <td> </td>   \n",
       "</tr>\n",
       "<tr>\n",
       "  <th>Covariance Type:</th>      <td>nonrobust</td>    <th>                     </th>     <td> </td>   \n",
       "</tr>\n",
       "</table>\n",
       "<table class=\"simpletable\">\n",
       "<tr>\n",
       "      <td></td>         <th>coef</th>     <th>std err</th>      <th>t</th>      <th>P>|t|</th>  <th>[0.025</th>    <th>0.975]</th>  \n",
       "</tr>\n",
       "<tr>\n",
       "  <th>Intercept</th> <td>    1.8292</td> <td>    3.768</td> <td>    0.485</td> <td> 0.629</td> <td>   -5.683</td> <td>    9.341</td>\n",
       "</tr>\n",
       "<tr>\n",
       "  <th>FGA</th>       <td>    0.8469</td> <td>    0.175</td> <td>    4.828</td> <td> 0.000</td> <td>    0.497</td> <td>    1.197</td>\n",
       "</tr>\n",
       "</table>\n",
       "<table class=\"simpletable\">\n",
       "<tr>\n",
       "  <th>Omnibus:</th>       <td> 2.998</td> <th>  Durbin-Watson:     </th> <td>   2.050</td>\n",
       "</tr>\n",
       "<tr>\n",
       "  <th>Prob(Omnibus):</th> <td> 0.223</td> <th>  Jarque-Bera (JB):  </th> <td>   2.152</td>\n",
       "</tr>\n",
       "<tr>\n",
       "  <th>Skew:</th>          <td>-0.244</td> <th>  Prob(JB):          </th> <td>   0.341</td>\n",
       "</tr>\n",
       "<tr>\n",
       "  <th>Kurtosis:</th>      <td> 2.321</td> <th>  Cond. No.          </th> <td>    95.6</td>\n",
       "</tr>\n",
       "</table><br/><br/>Notes:<br/>[1] Standard Errors assume that the covariance matrix of the errors is correctly specified."
      ],
      "text/latex": [
       "\\begin{center}\n",
       "\\begin{tabular}{lclc}\n",
       "\\toprule\n",
       "\\textbf{Dep. Variable:}    &       GmSc       & \\textbf{  R-squared:         } &     0.245   \\\\\n",
       "\\textbf{Model:}            &       OLS        & \\textbf{  Adj. R-squared:    } &     0.234   \\\\\n",
       "\\textbf{Method:}           &  Least Squares   & \\textbf{  F-statistic:       } &     23.31   \\\\\n",
       "\\textbf{Date:}             & Wed, 15 May 2024 & \\textbf{  Prob (F-statistic):} &  7.51e-06   \\\\\n",
       "\\textbf{Time:}             &     19:45:17     & \\textbf{  Log-Likelihood:    } &   -251.06   \\\\\n",
       "\\textbf{No. Observations:} &          74      & \\textbf{  AIC:               } &     506.1   \\\\\n",
       "\\textbf{Df Residuals:}     &          72      & \\textbf{  BIC:               } &     510.7   \\\\\n",
       "\\textbf{Df Model:}         &           1      & \\textbf{                     } &             \\\\\n",
       "\\textbf{Covariance Type:}  &    nonrobust     & \\textbf{                     } &             \\\\\n",
       "\\bottomrule\n",
       "\\end{tabular}\n",
       "\\begin{tabular}{lcccccc}\n",
       "                   & \\textbf{coef} & \\textbf{std err} & \\textbf{t} & \\textbf{P$> |$t$|$} & \\textbf{[0.025} & \\textbf{0.975]}  \\\\\n",
       "\\midrule\n",
       "\\textbf{Intercept} &       1.8292  &        3.768     &     0.485  &         0.629        &       -5.683    &        9.341     \\\\\n",
       "\\textbf{FGA}       &       0.8469  &        0.175     &     4.828  &         0.000        &        0.497    &        1.197     \\\\\n",
       "\\bottomrule\n",
       "\\end{tabular}\n",
       "\\begin{tabular}{lclc}\n",
       "\\textbf{Omnibus:}       &  2.998 & \\textbf{  Durbin-Watson:     } &    2.050  \\\\\n",
       "\\textbf{Prob(Omnibus):} &  0.223 & \\textbf{  Jarque-Bera (JB):  } &    2.152  \\\\\n",
       "\\textbf{Skew:}          & -0.244 & \\textbf{  Prob(JB):          } &    0.341  \\\\\n",
       "\\textbf{Kurtosis:}      &  2.321 & \\textbf{  Cond. No.          } &     95.6  \\\\\n",
       "\\bottomrule\n",
       "\\end{tabular}\n",
       "%\\caption{OLS Regression Results}\n",
       "\\end{center}\n",
       "\n",
       "Notes: \\newline\n",
       " [1] Standard Errors assume that the covariance matrix of the errors is correctly specified."
      ],
      "text/plain": [
       "<class 'statsmodels.iolib.summary.Summary'>\n",
       "\"\"\"\n",
       "                            OLS Regression Results                            \n",
       "==============================================================================\n",
       "Dep. Variable:                   GmSc   R-squared:                       0.245\n",
       "Model:                            OLS   Adj. R-squared:                  0.234\n",
       "Method:                 Least Squares   F-statistic:                     23.31\n",
       "Date:                Wed, 15 May 2024   Prob (F-statistic):           7.51e-06\n",
       "Time:                        19:45:17   Log-Likelihood:                -251.06\n",
       "No. Observations:                  74   AIC:                             506.1\n",
       "Df Residuals:                      72   BIC:                             510.7\n",
       "Df Model:                           1                                         \n",
       "Covariance Type:            nonrobust                                         \n",
       "==============================================================================\n",
       "                 coef    std err          t      P>|t|      [0.025      0.975]\n",
       "------------------------------------------------------------------------------\n",
       "Intercept      1.8292      3.768      0.485      0.629      -5.683       9.341\n",
       "FGA            0.8469      0.175      4.828      0.000       0.497       1.197\n",
       "==============================================================================\n",
       "Omnibus:                        2.998   Durbin-Watson:                   2.050\n",
       "Prob(Omnibus):                  0.223   Jarque-Bera (JB):                2.152\n",
       "Skew:                          -0.244   Prob(JB):                        0.341\n",
       "Kurtosis:                       2.321   Cond. No.                         95.6\n",
       "==============================================================================\n",
       "\n",
       "Notes:\n",
       "[1] Standard Errors assume that the covariance matrix of the errors is correctly specified.\n",
       "\"\"\""
      ]
     },
     "execution_count": 71,
     "metadata": {},
     "output_type": "execute_result"
    }
   ],
   "source": [
    "m1 = smf.ols(\"GmSc ~ FGA\", data = basketball).fit()\n",
    "m1.summary()"
   ]
  },
  {
   "cell_type": "markdown",
   "metadata": {},
   "source": [
    "a) This value represents the estimated game score when the number of field goal attempts (FGA) is zero.  The p-value associated with the intercept is 0.629, indicating that the intercept is not statistically significant at common significance levels \n",
    "\n",
    "b) This coefficient means that, on average, each additional field goal attempt is associated with an increase of about 0.847 points in the game score. This suggests a positive relationship between the number of shots attempted and the overall game score. The p-value for FGA is 0.000, indicating that the number of field goal attempts is statistically significant in predicting the game score."
   ]
  },
  {
   "cell_type": "markdown",
   "metadata": {},
   "source": [
    "6."
   ]
  },
  {
   "cell_type": "code",
   "execution_count": 72,
   "metadata": {},
   "outputs": [
    {
     "data": {
      "text/html": [
       "<table class=\"simpletable\">\n",
       "<caption>OLS Regression Results</caption>\n",
       "<tr>\n",
       "  <th>Dep. Variable:</th>          <td>GmSc</td>       <th>  R-squared:         </th> <td>   0.752</td>\n",
       "</tr>\n",
       "<tr>\n",
       "  <th>Model:</th>                   <td>OLS</td>       <th>  Adj. R-squared:    </th> <td>   0.745</td>\n",
       "</tr>\n",
       "<tr>\n",
       "  <th>Method:</th>             <td>Least Squares</td>  <th>  F-statistic:       </th> <td>   107.9</td>\n",
       "</tr>\n",
       "<tr>\n",
       "  <th>Date:</th>             <td>Wed, 15 May 2024</td> <th>  Prob (F-statistic):</th> <td>3.01e-22</td>\n",
       "</tr>\n",
       "<tr>\n",
       "  <th>Time:</th>                 <td>19:45:17</td>     <th>  Log-Likelihood:    </th> <td> -209.79</td>\n",
       "</tr>\n",
       "<tr>\n",
       "  <th>No. Observations:</th>      <td>    74</td>      <th>  AIC:               </th> <td>   425.6</td>\n",
       "</tr>\n",
       "<tr>\n",
       "  <th>Df Residuals:</th>          <td>    71</td>      <th>  BIC:               </th> <td>   432.5</td>\n",
       "</tr>\n",
       "<tr>\n",
       "  <th>Df Model:</th>              <td>     2</td>      <th>                     </th>     <td> </td>   \n",
       "</tr>\n",
       "<tr>\n",
       "  <th>Covariance Type:</th>      <td>nonrobust</td>    <th>                     </th>     <td> </td>   \n",
       "</tr>\n",
       "</table>\n",
       "<table class=\"simpletable\">\n",
       "<tr>\n",
       "      <td></td>         <th>coef</th>     <th>std err</th>      <th>t</th>      <th>P>|t|</th>  <th>[0.025</th>    <th>0.975]</th>  \n",
       "</tr>\n",
       "<tr>\n",
       "  <th>Intercept</th> <td>    4.5109</td> <td>    2.184</td> <td>    2.066</td> <td> 0.043</td> <td>    0.156</td> <td>    8.866</td>\n",
       "</tr>\n",
       "<tr>\n",
       "  <th>FG</th>        <td>    2.9093</td> <td>    0.241</td> <td>   12.067</td> <td> 0.000</td> <td>    2.429</td> <td>    3.390</td>\n",
       "</tr>\n",
       "<tr>\n",
       "  <th>FGA</th>       <td>   -0.6335</td> <td>    0.159</td> <td>   -3.985</td> <td> 0.000</td> <td>   -0.951</td> <td>   -0.317</td>\n",
       "</tr>\n",
       "</table>\n",
       "<table class=\"simpletable\">\n",
       "<tr>\n",
       "  <th>Omnibus:</th>       <td> 0.881</td> <th>  Durbin-Watson:     </th> <td>   1.945</td>\n",
       "</tr>\n",
       "<tr>\n",
       "  <th>Prob(Omnibus):</th> <td> 0.644</td> <th>  Jarque-Bera (JB):  </th> <td>   0.968</td>\n",
       "</tr>\n",
       "<tr>\n",
       "  <th>Skew:</th>          <td> 0.179</td> <th>  Prob(JB):          </th> <td>   0.616</td>\n",
       "</tr>\n",
       "<tr>\n",
       "  <th>Kurtosis:</th>      <td> 2.568</td> <th>  Cond. No.          </th> <td>    106.</td>\n",
       "</tr>\n",
       "</table><br/><br/>Notes:<br/>[1] Standard Errors assume that the covariance matrix of the errors is correctly specified."
      ],
      "text/latex": [
       "\\begin{center}\n",
       "\\begin{tabular}{lclc}\n",
       "\\toprule\n",
       "\\textbf{Dep. Variable:}    &       GmSc       & \\textbf{  R-squared:         } &     0.752   \\\\\n",
       "\\textbf{Model:}            &       OLS        & \\textbf{  Adj. R-squared:    } &     0.745   \\\\\n",
       "\\textbf{Method:}           &  Least Squares   & \\textbf{  F-statistic:       } &     107.9   \\\\\n",
       "\\textbf{Date:}             & Wed, 15 May 2024 & \\textbf{  Prob (F-statistic):} &  3.01e-22   \\\\\n",
       "\\textbf{Time:}             &     19:45:17     & \\textbf{  Log-Likelihood:    } &   -209.79   \\\\\n",
       "\\textbf{No. Observations:} &          74      & \\textbf{  AIC:               } &     425.6   \\\\\n",
       "\\textbf{Df Residuals:}     &          71      & \\textbf{  BIC:               } &     432.5   \\\\\n",
       "\\textbf{Df Model:}         &           2      & \\textbf{                     } &             \\\\\n",
       "\\textbf{Covariance Type:}  &    nonrobust     & \\textbf{                     } &             \\\\\n",
       "\\bottomrule\n",
       "\\end{tabular}\n",
       "\\begin{tabular}{lcccccc}\n",
       "                   & \\textbf{coef} & \\textbf{std err} & \\textbf{t} & \\textbf{P$> |$t$|$} & \\textbf{[0.025} & \\textbf{0.975]}  \\\\\n",
       "\\midrule\n",
       "\\textbf{Intercept} &       4.5109  &        2.184     &     2.066  &         0.043        &        0.156    &        8.866     \\\\\n",
       "\\textbf{FG}        &       2.9093  &        0.241     &    12.067  &         0.000        &        2.429    &        3.390     \\\\\n",
       "\\textbf{FGA}       &      -0.6335  &        0.159     &    -3.985  &         0.000        &       -0.951    &       -0.317     \\\\\n",
       "\\bottomrule\n",
       "\\end{tabular}\n",
       "\\begin{tabular}{lclc}\n",
       "\\textbf{Omnibus:}       &  0.881 & \\textbf{  Durbin-Watson:     } &    1.945  \\\\\n",
       "\\textbf{Prob(Omnibus):} &  0.644 & \\textbf{  Jarque-Bera (JB):  } &    0.968  \\\\\n",
       "\\textbf{Skew:}          &  0.179 & \\textbf{  Prob(JB):          } &    0.616  \\\\\n",
       "\\textbf{Kurtosis:}      &  2.568 & \\textbf{  Cond. No.          } &     106.  \\\\\n",
       "\\bottomrule\n",
       "\\end{tabular}\n",
       "%\\caption{OLS Regression Results}\n",
       "\\end{center}\n",
       "\n",
       "Notes: \\newline\n",
       " [1] Standard Errors assume that the covariance matrix of the errors is correctly specified."
      ],
      "text/plain": [
       "<class 'statsmodels.iolib.summary.Summary'>\n",
       "\"\"\"\n",
       "                            OLS Regression Results                            \n",
       "==============================================================================\n",
       "Dep. Variable:                   GmSc   R-squared:                       0.752\n",
       "Model:                            OLS   Adj. R-squared:                  0.745\n",
       "Method:                 Least Squares   F-statistic:                     107.9\n",
       "Date:                Wed, 15 May 2024   Prob (F-statistic):           3.01e-22\n",
       "Time:                        19:45:17   Log-Likelihood:                -209.79\n",
       "No. Observations:                  74   AIC:                             425.6\n",
       "Df Residuals:                      71   BIC:                             432.5\n",
       "Df Model:                           2                                         \n",
       "Covariance Type:            nonrobust                                         \n",
       "==============================================================================\n",
       "                 coef    std err          t      P>|t|      [0.025      0.975]\n",
       "------------------------------------------------------------------------------\n",
       "Intercept      4.5109      2.184      2.066      0.043       0.156       8.866\n",
       "FG             2.9093      0.241     12.067      0.000       2.429       3.390\n",
       "FGA           -0.6335      0.159     -3.985      0.000      -0.951      -0.317\n",
       "==============================================================================\n",
       "Omnibus:                        0.881   Durbin-Watson:                   1.945\n",
       "Prob(Omnibus):                  0.644   Jarque-Bera (JB):                0.968\n",
       "Skew:                           0.179   Prob(JB):                        0.616\n",
       "Kurtosis:                       2.568   Cond. No.                         106.\n",
       "==============================================================================\n",
       "\n",
       "Notes:\n",
       "[1] Standard Errors assume that the covariance matrix of the errors is correctly specified.\n",
       "\"\"\""
      ]
     },
     "execution_count": 72,
     "metadata": {},
     "output_type": "execute_result"
    }
   ],
   "source": [
    "m2 = smf.ols('GmSc ~ FG + FGA', data = basketball).fit()\n",
    "m2.summary()"
   ]
  },
  {
   "cell_type": "markdown",
   "metadata": {},
   "source": [
    "a) Yes, FG is statistically significant. This coefficient means that, on average, each additional field goal is associated with an increase of about 2.9093 points in the game score. The p-value for FG is 0.000, indicating that the number of field goal attempts is statistically significant in predicting the game score.\n",
    "\n",
    "b) This coefficient means that, on average, each additional field goal attempt is associated with an decrease of about 0.6335 points in the game score, assuming the number of successful field goals is held constant.This suggests a negative relationship between the number of shots attempted and the overall game score. The p-value for FGA is 0.000, indicating that the number of field goal attempts is statistically significant in predicting the game score.\n",
    "\n",
    "c) In simple regression (model 1), FGA might show a positive coefficient if not controlling for FG because attempts are generally correlated with scoring. More attempts might correlate with more scoring opportunities overall. However, in multiple regression (model 2), when controlling for the actual successful shots (FG), the mere attempts (FGA) show a negative impact. This indicates that attempts without success (inefficient shooting) negatively impact the game score. \n",
    "\n",
    "d) R2 of model 1 is .245  whereas  R2 of model 2 is .752 . This indicated that model 2 is a more accurate interpretation of game score and factors that affect it. An increased R2 value suggests a more accurate fit.\n",
    " 0.752 indicates that about 75.2% of the variance in the game score is explained by the number of field goals made and the number of attempts, whereas 0.245 indicates that approximately 24.5% of the variability in the game score is explained by the number of field goal attempts alone."
   ]
  },
  {
   "cell_type": "markdown",
   "metadata": {},
   "source": [
    "7."
   ]
  },
  {
   "cell_type": "code",
   "execution_count": 73,
   "metadata": {},
   "outputs": [
    {
     "data": {
      "text/html": [
       "<table class=\"simpletable\">\n",
       "<caption>OLS Regression Results</caption>\n",
       "<tr>\n",
       "  <th>Dep. Variable:</th>          <td>GmSc</td>       <th>  R-squared:         </th> <td>   1.000</td> \n",
       "</tr>\n",
       "<tr>\n",
       "  <th>Model:</th>                   <td>OLS</td>       <th>  Adj. R-squared:    </th> <td>   1.000</td> \n",
       "</tr>\n",
       "<tr>\n",
       "  <th>Method:</th>             <td>Least Squares</td>  <th>  F-statistic:       </th> <td>1.771e+29</td>\n",
       "</tr>\n",
       "<tr>\n",
       "  <th>Date:</th>             <td>Wed, 15 May 2024</td> <th>  Prob (F-statistic):</th>  <td>  0.00</td>  \n",
       "</tr>\n",
       "<tr>\n",
       "  <th>Time:</th>                 <td>19:45:17</td>     <th>  Log-Likelihood:    </th> <td>  2173.8</td> \n",
       "</tr>\n",
       "<tr>\n",
       "  <th>No. Observations:</th>      <td>    74</td>      <th>  AIC:               </th> <td>  -4320.</td> \n",
       "</tr>\n",
       "<tr>\n",
       "  <th>Df Residuals:</th>          <td>    60</td>      <th>  BIC:               </th> <td>  -4287.</td> \n",
       "</tr>\n",
       "<tr>\n",
       "  <th>Df Model:</th>              <td>    13</td>      <th>                     </th>     <td> </td>    \n",
       "</tr>\n",
       "<tr>\n",
       "  <th>Covariance Type:</th>      <td>nonrobust</td>    <th>                     </th>     <td> </td>    \n",
       "</tr>\n",
       "</table>\n",
       "<table class=\"simpletable\">\n",
       "<tr>\n",
       "      <td></td>         <th>coef</th>     <th>std err</th>      <th>t</th>      <th>P>|t|</th>  <th>[0.025</th>    <th>0.975]</th>  \n",
       "</tr>\n",
       "<tr>\n",
       "  <th>Intercept</th> <td> 1.377e-14</td> <td> 3.06e-14</td> <td>    0.450</td> <td> 0.654</td> <td>-4.75e-14</td> <td>  7.5e-14</td>\n",
       "</tr>\n",
       "<tr>\n",
       "  <th>FG</th>        <td>    2.4000</td> <td> 3.81e-15</td> <td> 6.29e+14</td> <td> 0.000</td> <td>    2.400</td> <td>    2.400</td>\n",
       "</tr>\n",
       "<tr>\n",
       "  <th>FGA</th>       <td>   -0.7000</td> <td> 2.72e-15</td> <td>-2.57e+14</td> <td> 0.000</td> <td>   -0.700</td> <td>   -0.700</td>\n",
       "</tr>\n",
       "<tr>\n",
       "  <th>Q(\"3P\")</th>   <td>    1.0000</td> <td> 6.36e-15</td> <td> 1.57e+14</td> <td> 0.000</td> <td>    1.000</td> <td>    1.000</td>\n",
       "</tr>\n",
       "<tr>\n",
       "  <th>Q(\"3PA\")</th>  <td>-1.443e-15</td> <td> 4.06e-15</td> <td>   -0.355</td> <td> 0.724</td> <td>-9.57e-15</td> <td> 6.69e-15</td>\n",
       "</tr>\n",
       "<tr>\n",
       "  <th>FT</th>        <td>    1.4000</td> <td> 5.68e-15</td> <td> 2.47e+14</td> <td> 0.000</td> <td>    1.400</td> <td>    1.400</td>\n",
       "</tr>\n",
       "<tr>\n",
       "  <th>FTA</th>       <td>   -0.4000</td> <td> 4.44e-15</td> <td>-9.02e+13</td> <td> 0.000</td> <td>   -0.400</td> <td>   -0.400</td>\n",
       "</tr>\n",
       "<tr>\n",
       "  <th>ORB</th>       <td>    0.7000</td> <td> 6.55e-15</td> <td> 1.07e+14</td> <td> 0.000</td> <td>    0.700</td> <td>    0.700</td>\n",
       "</tr>\n",
       "<tr>\n",
       "  <th>DRB</th>       <td>    0.3000</td> <td> 3.32e-15</td> <td> 9.05e+13</td> <td> 0.000</td> <td>    0.300</td> <td>    0.300</td>\n",
       "</tr>\n",
       "<tr>\n",
       "  <th>AST</th>       <td>    0.7000</td> <td> 2.29e-15</td> <td> 3.06e+14</td> <td> 0.000</td> <td>    0.700</td> <td>    0.700</td>\n",
       "</tr>\n",
       "<tr>\n",
       "  <th>STL</th>       <td>    1.0000</td> <td> 4.42e-15</td> <td> 2.26e+14</td> <td> 0.000</td> <td>    1.000</td> <td>    1.000</td>\n",
       "</tr>\n",
       "<tr>\n",
       "  <th>BLK</th>       <td>    0.7000</td> <td> 1.08e-14</td> <td> 6.51e+13</td> <td> 0.000</td> <td>    0.700</td> <td>    0.700</td>\n",
       "</tr>\n",
       "<tr>\n",
       "  <th>TOV</th>       <td>   -1.0000</td> <td> 3.74e-15</td> <td>-2.67e+14</td> <td> 0.000</td> <td>   -1.000</td> <td>   -1.000</td>\n",
       "</tr>\n",
       "<tr>\n",
       "  <th>PF</th>        <td>   -0.4000</td> <td> 4.86e-15</td> <td>-8.23e+13</td> <td> 0.000</td> <td>   -0.400</td> <td>   -0.400</td>\n",
       "</tr>\n",
       "</table>\n",
       "<table class=\"simpletable\">\n",
       "<tr>\n",
       "  <th>Omnibus:</th>       <td> 1.523</td> <th>  Durbin-Watson:     </th> <td>   0.156</td>\n",
       "</tr>\n",
       "<tr>\n",
       "  <th>Prob(Omnibus):</th> <td> 0.467</td> <th>  Jarque-Bera (JB):  </th> <td>   1.294</td>\n",
       "</tr>\n",
       "<tr>\n",
       "  <th>Skew:</th>          <td> 0.323</td> <th>  Prob(JB):          </th> <td>   0.524</td>\n",
       "</tr>\n",
       "<tr>\n",
       "  <th>Kurtosis:</th>      <td> 2.950</td> <th>  Cond. No.          </th> <td>    155.</td>\n",
       "</tr>\n",
       "</table><br/><br/>Notes:<br/>[1] Standard Errors assume that the covariance matrix of the errors is correctly specified."
      ],
      "text/latex": [
       "\\begin{center}\n",
       "\\begin{tabular}{lclc}\n",
       "\\toprule\n",
       "\\textbf{Dep. Variable:}    &       GmSc       & \\textbf{  R-squared:         } &     1.000   \\\\\n",
       "\\textbf{Model:}            &       OLS        & \\textbf{  Adj. R-squared:    } &     1.000   \\\\\n",
       "\\textbf{Method:}           &  Least Squares   & \\textbf{  F-statistic:       } & 1.771e+29   \\\\\n",
       "\\textbf{Date:}             & Wed, 15 May 2024 & \\textbf{  Prob (F-statistic):} &     0.00    \\\\\n",
       "\\textbf{Time:}             &     19:45:17     & \\textbf{  Log-Likelihood:    } &    2173.8   \\\\\n",
       "\\textbf{No. Observations:} &          74      & \\textbf{  AIC:               } &    -4320.   \\\\\n",
       "\\textbf{Df Residuals:}     &          60      & \\textbf{  BIC:               } &    -4287.   \\\\\n",
       "\\textbf{Df Model:}         &          13      & \\textbf{                     } &             \\\\\n",
       "\\textbf{Covariance Type:}  &    nonrobust     & \\textbf{                     } &             \\\\\n",
       "\\bottomrule\n",
       "\\end{tabular}\n",
       "\\begin{tabular}{lcccccc}\n",
       "                   & \\textbf{coef} & \\textbf{std err} & \\textbf{t} & \\textbf{P$> |$t$|$} & \\textbf{[0.025} & \\textbf{0.975]}  \\\\\n",
       "\\midrule\n",
       "\\textbf{Intercept} &    1.377e-14  &     3.06e-14     &     0.450  &         0.654        &    -4.75e-14    &      7.5e-14     \\\\\n",
       "\\textbf{FG}        &       2.4000  &     3.81e-15     &  6.29e+14  &         0.000        &        2.400    &        2.400     \\\\\n",
       "\\textbf{FGA}       &      -0.7000  &     2.72e-15     & -2.57e+14  &         0.000        &       -0.700    &       -0.700     \\\\\n",
       "\\textbf{Q(\"3P\")}   &       1.0000  &     6.36e-15     &  1.57e+14  &         0.000        &        1.000    &        1.000     \\\\\n",
       "\\textbf{Q(\"3PA\")}  &   -1.443e-15  &     4.06e-15     &    -0.355  &         0.724        &    -9.57e-15    &     6.69e-15     \\\\\n",
       "\\textbf{FT}        &       1.4000  &     5.68e-15     &  2.47e+14  &         0.000        &        1.400    &        1.400     \\\\\n",
       "\\textbf{FTA}       &      -0.4000  &     4.44e-15     & -9.02e+13  &         0.000        &       -0.400    &       -0.400     \\\\\n",
       "\\textbf{ORB}       &       0.7000  &     6.55e-15     &  1.07e+14  &         0.000        &        0.700    &        0.700     \\\\\n",
       "\\textbf{DRB}       &       0.3000  &     3.32e-15     &  9.05e+13  &         0.000        &        0.300    &        0.300     \\\\\n",
       "\\textbf{AST}       &       0.7000  &     2.29e-15     &  3.06e+14  &         0.000        &        0.700    &        0.700     \\\\\n",
       "\\textbf{STL}       &       1.0000  &     4.42e-15     &  2.26e+14  &         0.000        &        1.000    &        1.000     \\\\\n",
       "\\textbf{BLK}       &       0.7000  &     1.08e-14     &  6.51e+13  &         0.000        &        0.700    &        0.700     \\\\\n",
       "\\textbf{TOV}       &      -1.0000  &     3.74e-15     & -2.67e+14  &         0.000        &       -1.000    &       -1.000     \\\\\n",
       "\\textbf{PF}        &      -0.4000  &     4.86e-15     & -8.23e+13  &         0.000        &       -0.400    &       -0.400     \\\\\n",
       "\\bottomrule\n",
       "\\end{tabular}\n",
       "\\begin{tabular}{lclc}\n",
       "\\textbf{Omnibus:}       &  1.523 & \\textbf{  Durbin-Watson:     } &    0.156  \\\\\n",
       "\\textbf{Prob(Omnibus):} &  0.467 & \\textbf{  Jarque-Bera (JB):  } &    1.294  \\\\\n",
       "\\textbf{Skew:}          &  0.323 & \\textbf{  Prob(JB):          } &    0.524  \\\\\n",
       "\\textbf{Kurtosis:}      &  2.950 & \\textbf{  Cond. No.          } &     155.  \\\\\n",
       "\\bottomrule\n",
       "\\end{tabular}\n",
       "%\\caption{OLS Regression Results}\n",
       "\\end{center}\n",
       "\n",
       "Notes: \\newline\n",
       " [1] Standard Errors assume that the covariance matrix of the errors is correctly specified."
      ],
      "text/plain": [
       "<class 'statsmodels.iolib.summary.Summary'>\n",
       "\"\"\"\n",
       "                            OLS Regression Results                            \n",
       "==============================================================================\n",
       "Dep. Variable:                   GmSc   R-squared:                       1.000\n",
       "Model:                            OLS   Adj. R-squared:                  1.000\n",
       "Method:                 Least Squares   F-statistic:                 1.771e+29\n",
       "Date:                Wed, 15 May 2024   Prob (F-statistic):               0.00\n",
       "Time:                        19:45:17   Log-Likelihood:                 2173.8\n",
       "No. Observations:                  74   AIC:                            -4320.\n",
       "Df Residuals:                      60   BIC:                            -4287.\n",
       "Df Model:                          13                                         \n",
       "Covariance Type:            nonrobust                                         \n",
       "==============================================================================\n",
       "                 coef    std err          t      P>|t|      [0.025      0.975]\n",
       "------------------------------------------------------------------------------\n",
       "Intercept   1.377e-14   3.06e-14      0.450      0.654   -4.75e-14     7.5e-14\n",
       "FG             2.4000   3.81e-15   6.29e+14      0.000       2.400       2.400\n",
       "FGA           -0.7000   2.72e-15  -2.57e+14      0.000      -0.700      -0.700\n",
       "Q(\"3P\")        1.0000   6.36e-15   1.57e+14      0.000       1.000       1.000\n",
       "Q(\"3PA\")   -1.443e-15   4.06e-15     -0.355      0.724   -9.57e-15    6.69e-15\n",
       "FT             1.4000   5.68e-15   2.47e+14      0.000       1.400       1.400\n",
       "FTA           -0.4000   4.44e-15  -9.02e+13      0.000      -0.400      -0.400\n",
       "ORB            0.7000   6.55e-15   1.07e+14      0.000       0.700       0.700\n",
       "DRB            0.3000   3.32e-15   9.05e+13      0.000       0.300       0.300\n",
       "AST            0.7000   2.29e-15   3.06e+14      0.000       0.700       0.700\n",
       "STL            1.0000   4.42e-15   2.26e+14      0.000       1.000       1.000\n",
       "BLK            0.7000   1.08e-14   6.51e+13      0.000       0.700       0.700\n",
       "TOV           -1.0000   3.74e-15  -2.67e+14      0.000      -1.000      -1.000\n",
       "PF            -0.4000   4.86e-15  -8.23e+13      0.000      -0.400      -0.400\n",
       "==============================================================================\n",
       "Omnibus:                        1.523   Durbin-Watson:                   0.156\n",
       "Prob(Omnibus):                  0.467   Jarque-Bera (JB):                1.294\n",
       "Skew:                           0.323   Prob(JB):                        0.524\n",
       "Kurtosis:                       2.950   Cond. No.                         155.\n",
       "==============================================================================\n",
       "\n",
       "Notes:\n",
       "[1] Standard Errors assume that the covariance matrix of the errors is correctly specified.\n",
       "\"\"\""
      ]
     },
     "execution_count": 73,
     "metadata": {},
     "output_type": "execute_result"
    }
   ],
   "source": [
    "m3 = smf.ols('GmSc ~ FG + FGA + Q(\"3P\") + Q(\"3PA\") + FT + FTA + ORB + DRB + AST + STL + BLK + TOV + PF', data = basketball).fit()\n",
    "m3.summary()"
   ]
  },
  {
   "cell_type": "markdown",
   "metadata": {},
   "source": [
    "a) Standard errors are significantly smaller in this model for most coefficients, suggesting that the estimates are precise. T values are significantly higher, yet quite varied. High absolute t-values (like those for FG, FGA, FT) indicate strong evidence against the null hypothesis for these predictors, suggesting they are significant contributors to the model.\n",
    "\n",
    "b) The R2 of this model is 1.00 which means that the model can predict everything. This tells us that game score can be calculated, predicted, more or less based upon multiple regression using these coefficients. R² = 1.00 implies perfect explanatory power of the model regarding the variability in the game score. This could suggest overfitting, especially in real-world data.\n",
    "\n",
    "c) TOV coefficient suggests that turnovers have a negative impact on the game score. -1.000 indicates that TOV results in the loss of 1 point per turnover,controlling for other factors. p-value of 0.000 indicates this is a reliable estimate."
   ]
  },
  {
   "cell_type": "markdown",
   "metadata": {},
   "source": [
    "8. \n",
    "\n",
    "Yes, I recovered the same formula :)"
   ]
  },
  {
   "cell_type": "markdown",
   "metadata": {},
   "source": [
    "### 2 Model AirBnB Price\n",
    "\n",
    "#### 2.1 Load and Clean \n",
    "\n",
    "1."
   ]
  },
  {
   "cell_type": "code",
   "execution_count": 74,
   "metadata": {},
   "outputs": [
    {
     "data": {
      "text/html": [
       "<div>\n",
       "<style scoped>\n",
       "    .dataframe tbody tr th:only-of-type {\n",
       "        vertical-align: middle;\n",
       "    }\n",
       "\n",
       "    .dataframe tbody tr th {\n",
       "        vertical-align: top;\n",
       "    }\n",
       "\n",
       "    .dataframe thead th {\n",
       "        text-align: right;\n",
       "    }\n",
       "</style>\n",
       "<table border=\"1\" class=\"dataframe\">\n",
       "  <thead>\n",
       "    <tr style=\"text-align: right;\">\n",
       "      <th></th>\n",
       "      <th>room_type</th>\n",
       "      <th>accommodates</th>\n",
       "      <th>bedrooms</th>\n",
       "      <th>price</th>\n",
       "    </tr>\n",
       "  </thead>\n",
       "  <tbody>\n",
       "    <tr>\n",
       "      <th>0</th>\n",
       "      <td>Entire home/apt</td>\n",
       "      <td>3</td>\n",
       "      <td>1.0</td>\n",
       "      <td>$1,845.00</td>\n",
       "    </tr>\n",
       "    <tr>\n",
       "      <th>1</th>\n",
       "      <td>Private room</td>\n",
       "      <td>2</td>\n",
       "      <td>1.0</td>\n",
       "      <td>$1,275.00</td>\n",
       "    </tr>\n",
       "    <tr>\n",
       "      <th>2</th>\n",
       "      <td>Private room</td>\n",
       "      <td>2</td>\n",
       "      <td>1.0</td>\n",
       "      <td>$800.00</td>\n",
       "    </tr>\n",
       "    <tr>\n",
       "      <th>3</th>\n",
       "      <td>Private room</td>\n",
       "      <td>2</td>\n",
       "      <td>1.0</td>\n",
       "      <td>$800.00</td>\n",
       "    </tr>\n",
       "    <tr>\n",
       "      <th>4</th>\n",
       "      <td>Private room</td>\n",
       "      <td>2</td>\n",
       "      <td>1.0</td>\n",
       "      <td>$1,845.00</td>\n",
       "    </tr>\n",
       "  </tbody>\n",
       "</table>\n",
       "</div>"
      ],
      "text/plain": [
       "         room_type  accommodates  bedrooms      price\n",
       "0  Entire home/apt             3       1.0  $1,845.00\n",
       "1     Private room             2       1.0  $1,275.00\n",
       "2     Private room             2       1.0    $800.00\n",
       "3     Private room             2       1.0    $800.00\n",
       "4     Private room             2       1.0  $1,845.00"
      ]
     },
     "execution_count": 74,
     "metadata": {},
     "output_type": "execute_result"
    }
   ],
   "source": [
    "airbnb = pd.read_csv('airbnb-bangkok-listings.csv.bz2', sep=',', usecols=['bedrooms', 'price', 'accommodates', 'room_type'])\n",
    "airbnb.head()"
   ]
  },
  {
   "cell_type": "markdown",
   "metadata": {},
   "source": [
    "2."
   ]
  },
  {
   "cell_type": "markdown",
   "metadata": {},
   "source": [
    "a)"
   ]
  },
  {
   "cell_type": "code",
   "execution_count": 75,
   "metadata": {},
   "outputs": [],
   "source": [
    "airbnb['price'] = airbnb['price'].str.replace('$', '')  # Remove dollar sign\n",
    "airbnb['price'] = airbnb['price'].str.replace(',', '')  # Remove commas\n",
    "\n",
    "airbnb['price'] = pd.to_numeric(airbnb['price'])"
   ]
  },
  {
   "cell_type": "code",
   "execution_count": 76,
   "metadata": {},
   "outputs": [
    {
     "name": "stdout",
     "output_type": "stream",
     "text": [
      "<class 'numpy.float64'>\n",
      "<class 'numpy.int64'>\n"
     ]
    }
   ],
   "source": [
    "# airbnb[['bedrooms', 'price', 'accommodates']]\n",
    "print(type(airbnb['bedrooms'][0]))\n",
    "print(type(airbnb['accommodates'][0]))"
   ]
  },
  {
   "cell_type": "markdown",
   "metadata": {},
   "source": [
    "b)"
   ]
  },
  {
   "cell_type": "code",
   "execution_count": 77,
   "metadata": {},
   "outputs": [],
   "source": [
    "clean_airbnb = airbnb.dropna(subset=['bedrooms', 'price', 'accommodates', 'room_type'])"
   ]
  },
  {
   "cell_type": "code",
   "execution_count": 78,
   "metadata": {},
   "outputs": [
    {
     "data": {
      "text/plain": [
       "room_type       False\n",
       "accommodates    False\n",
       "bedrooms        False\n",
       "price           False\n",
       "dtype: bool"
      ]
     },
     "execution_count": 78,
     "metadata": {},
     "output_type": "execute_result"
    }
   ],
   "source": [
    "clean_airbnb.isna().any()"
   ]
  },
  {
   "cell_type": "markdown",
   "metadata": {},
   "source": [
    "3."
   ]
  },
  {
   "cell_type": "code",
   "execution_count": 79,
   "metadata": {},
   "outputs": [
    {
     "data": {
      "text/plain": [
       "count     15200.000000\n",
       "mean       2283.865329\n",
       "std        7008.449939\n",
       "min           6.000000\n",
       "25%         772.000000\n",
       "50%        1200.000000\n",
       "75%        2000.000000\n",
       "max      335482.000000\n",
       "Name: price, dtype: float64"
      ]
     },
     "execution_count": 79,
     "metadata": {},
     "output_type": "execute_result"
    }
   ],
   "source": [
    "clean_airbnb['price'].describe()"
   ]
  },
  {
   "cell_type": "code",
   "execution_count": 80,
   "metadata": {},
   "outputs": [
    {
     "data": {
      "text/plain": [
       "array([[<Axes: title={'center': 'price'}>]], dtype=object)"
      ]
     },
     "execution_count": 80,
     "metadata": {},
     "output_type": "execute_result"
    },
    {
     "data": {
      "image/png": "[encoded data removed]",
      "text/plain": [
       "<Figure size 640x480 with 1 Axes>"
      ]
     },
     "metadata": {},
     "output_type": "display_data"
    }
   ],
   "source": [
    "clean_airbnb.hist(column='price', bins=100)\n",
    "# Setting the x-axis limit\n",
    "# plt.xlim(0, 150000) "
   ]
  },
  {
   "cell_type": "markdown",
   "metadata": {},
   "source": [
    "No, the distrubution does not look normal. It is heavily skewed to the right. This skewness implies that most of the Airbnb listings are priced at the lower end, with fewer listings at extremely high prices. A log transformation would be most appropriate as it would help in normalizing the distribution and reduce the effect of the outliers or extreme values."
   ]
  },
  {
   "cell_type": "markdown",
   "metadata": {},
   "source": [
    "4."
   ]
  },
  {
   "cell_type": "code",
   "execution_count": 81,
   "metadata": {},
   "outputs": [
    {
     "name": "stderr",
     "output_type": "stream",
     "text": [
      "C:\\Users\\Gabriella Rivera\\AppData\\Local\\Temp\\ipykernel_1336\\937070366.py:2: SettingWithCopyWarning: \n",
      "A value is trying to be set on a copy of a slice from a DataFrame.\n",
      "Try using .loc[row_indexer,col_indexer] = value instead\n",
      "\n",
      "See the caveats in the documentation: https://pandas.pydata.org/pandas-docs/stable/user_guide/indexing.html#returning-a-view-versus-a-copy\n",
      "  clean_airbnb['bedrooms'] = clean_airbnb['bedrooms'].astype(int)\n"
     ]
    }
   ],
   "source": [
    "clean_airbnb['bedrooms'].max()\n",
    "clean_airbnb['bedrooms'] = clean_airbnb['bedrooms'].astype(int)\n",
    "clean_airbnb.loc[clean_airbnb['bedrooms'] >= 4, 'bedrooms'] = 4"
   ]
  },
  {
   "cell_type": "code",
   "execution_count": 82,
   "metadata": {},
   "outputs": [
    {
     "name": "stdout",
     "output_type": "stream",
     "text": [
      "4\n"
     ]
    },
    {
     "data": {
      "text/html": [
       "<div>\n",
       "<style scoped>\n",
       "    .dataframe tbody tr th:only-of-type {\n",
       "        vertical-align: middle;\n",
       "    }\n",
       "\n",
       "    .dataframe tbody tr th {\n",
       "        vertical-align: top;\n",
       "    }\n",
       "\n",
       "    .dataframe thead th {\n",
       "        text-align: right;\n",
       "    }\n",
       "</style>\n",
       "<table border=\"1\" class=\"dataframe\">\n",
       "  <thead>\n",
       "    <tr style=\"text-align: right;\">\n",
       "      <th></th>\n",
       "      <th>room_type</th>\n",
       "      <th>accommodates</th>\n",
       "      <th>bedrooms</th>\n",
       "      <th>price</th>\n",
       "    </tr>\n",
       "  </thead>\n",
       "  <tbody>\n",
       "    <tr>\n",
       "      <th>0</th>\n",
       "      <td>Entire home/apt</td>\n",
       "      <td>3</td>\n",
       "      <td>1</td>\n",
       "      <td>1845.0</td>\n",
       "    </tr>\n",
       "    <tr>\n",
       "      <th>1</th>\n",
       "      <td>Private room</td>\n",
       "      <td>2</td>\n",
       "      <td>1</td>\n",
       "      <td>1275.0</td>\n",
       "    </tr>\n",
       "    <tr>\n",
       "      <th>2</th>\n",
       "      <td>Private room</td>\n",
       "      <td>2</td>\n",
       "      <td>1</td>\n",
       "      <td>800.0</td>\n",
       "    </tr>\n",
       "    <tr>\n",
       "      <th>3</th>\n",
       "      <td>Private room</td>\n",
       "      <td>2</td>\n",
       "      <td>1</td>\n",
       "      <td>800.0</td>\n",
       "    </tr>\n",
       "    <tr>\n",
       "      <th>4</th>\n",
       "      <td>Private room</td>\n",
       "      <td>2</td>\n",
       "      <td>1</td>\n",
       "      <td>1845.0</td>\n",
       "    </tr>\n",
       "    <tr>\n",
       "      <th>...</th>\n",
       "      <td>...</td>\n",
       "      <td>...</td>\n",
       "      <td>...</td>\n",
       "      <td>...</td>\n",
       "    </tr>\n",
       "    <tr>\n",
       "      <th>17035</th>\n",
       "      <td>Entire home/apt</td>\n",
       "      <td>4</td>\n",
       "      <td>1</td>\n",
       "      <td>664.0</td>\n",
       "    </tr>\n",
       "    <tr>\n",
       "      <th>17036</th>\n",
       "      <td>Entire home/apt</td>\n",
       "      <td>2</td>\n",
       "      <td>1</td>\n",
       "      <td>960.0</td>\n",
       "    </tr>\n",
       "    <tr>\n",
       "      <th>17037</th>\n",
       "      <td>Entire home/apt</td>\n",
       "      <td>5</td>\n",
       "      <td>2</td>\n",
       "      <td>3500.0</td>\n",
       "    </tr>\n",
       "    <tr>\n",
       "      <th>17038</th>\n",
       "      <td>Entire home/apt</td>\n",
       "      <td>2</td>\n",
       "      <td>1</td>\n",
       "      <td>1360.0</td>\n",
       "    </tr>\n",
       "    <tr>\n",
       "      <th>17039</th>\n",
       "      <td>Entire home/apt</td>\n",
       "      <td>3</td>\n",
       "      <td>1</td>\n",
       "      <td>1280.0</td>\n",
       "    </tr>\n",
       "  </tbody>\n",
       "</table>\n",
       "<p>15200 rows × 4 columns</p>\n",
       "</div>"
      ],
      "text/plain": [
       "             room_type  accommodates  bedrooms   price\n",
       "0      Entire home/apt             3         1  1845.0\n",
       "1         Private room             2         1  1275.0\n",
       "2         Private room             2         1   800.0\n",
       "3         Private room             2         1   800.0\n",
       "4         Private room             2         1  1845.0\n",
       "...                ...           ...       ...     ...\n",
       "17035  Entire home/apt             4         1   664.0\n",
       "17036  Entire home/apt             2         1   960.0\n",
       "17037  Entire home/apt             5         2  3500.0\n",
       "17038  Entire home/apt             2         1  1360.0\n",
       "17039  Entire home/apt             3         1  1280.0\n",
       "\n",
       "[15200 rows x 4 columns]"
      ]
     },
     "execution_count": 82,
     "metadata": {},
     "output_type": "execute_result"
    }
   ],
   "source": [
    "print(clean_airbnb['bedrooms'].max())\n",
    "clean_airbnb"
   ]
  },
  {
   "cell_type": "markdown",
   "metadata": {},
   "source": [
    "#### 2.2 Model"
   ]
  },
  {
   "cell_type": "code",
   "execution_count": 83,
   "metadata": {},
   "outputs": [
    {
     "data": {
      "text/html": [
       "<table class=\"simpletable\">\n",
       "<caption>OLS Regression Results</caption>\n",
       "<tr>\n",
       "  <th>Dep. Variable:</th>          <td>price</td>      <th>  R-squared:         </th>  <td>   0.034</td>  \n",
       "</tr>\n",
       "<tr>\n",
       "  <th>Model:</th>                   <td>OLS</td>       <th>  Adj. R-squared:    </th>  <td>   0.034</td>  \n",
       "</tr>\n",
       "<tr>\n",
       "  <th>Method:</th>             <td>Least Squares</td>  <th>  F-statistic:       </th>  <td>   541.0</td>  \n",
       "</tr>\n",
       "<tr>\n",
       "  <th>Date:</th>             <td>Wed, 15 May 2024</td> <th>  Prob (F-statistic):</th>  <td>1.25e-117</td> \n",
       "</tr>\n",
       "<tr>\n",
       "  <th>Time:</th>                 <td>19:45:20</td>     <th>  Log-Likelihood:    </th> <td>-1.5590e+05</td>\n",
       "</tr>\n",
       "<tr>\n",
       "  <th>No. Observations:</th>      <td> 15200</td>      <th>  AIC:               </th>  <td>3.118e+05</td> \n",
       "</tr>\n",
       "<tr>\n",
       "  <th>Df Residuals:</th>          <td> 15198</td>      <th>  BIC:               </th>  <td>3.118e+05</td> \n",
       "</tr>\n",
       "<tr>\n",
       "  <th>Df Model:</th>              <td>     1</td>      <th>                     </th>      <td> </td>     \n",
       "</tr>\n",
       "<tr>\n",
       "  <th>Covariance Type:</th>      <td>nonrobust</td>    <th>                     </th>      <td> </td>     \n",
       "</tr>\n",
       "</table>\n",
       "<table class=\"simpletable\">\n",
       "<tr>\n",
       "      <td></td>         <th>coef</th>     <th>std err</th>      <th>t</th>      <th>P>|t|</th>  <th>[0.025</th>    <th>0.975]</th>  \n",
       "</tr>\n",
       "<tr>\n",
       "  <th>Intercept</th> <td> -204.9594</td> <td>  120.703</td> <td>   -1.698</td> <td> 0.090</td> <td> -441.552</td> <td>   31.633</td>\n",
       "</tr>\n",
       "<tr>\n",
       "  <th>bedrooms</th>  <td> 1895.0126</td> <td>   81.469</td> <td>   23.260</td> <td> 0.000</td> <td> 1735.323</td> <td> 2054.702</td>\n",
       "</tr>\n",
       "</table>\n",
       "<table class=\"simpletable\">\n",
       "<tr>\n",
       "  <th>Omnibus:</th>       <td>36706.046</td> <th>  Durbin-Watson:     </th>   <td>   1.876</td>   \n",
       "</tr>\n",
       "<tr>\n",
       "  <th>Prob(Omnibus):</th>  <td> 0.000</td>   <th>  Jarque-Bera (JB):  </th> <td>554556741.282</td>\n",
       "</tr>\n",
       "<tr>\n",
       "  <th>Skew:</th>           <td>25.044</td>   <th>  Prob(JB):          </th>   <td>    0.00</td>   \n",
       "</tr>\n",
       "<tr>\n",
       "  <th>Kurtosis:</th>       <td>937.402</td>  <th>  Cond. No.          </th>   <td>    4.43</td>   \n",
       "</tr>\n",
       "</table><br/><br/>Notes:<br/>[1] Standard Errors assume that the covariance matrix of the errors is correctly specified."
      ],
      "text/latex": [
       "\\begin{center}\n",
       "\\begin{tabular}{lclc}\n",
       "\\toprule\n",
       "\\textbf{Dep. Variable:}    &      price       & \\textbf{  R-squared:         } &       0.034    \\\\\n",
       "\\textbf{Model:}            &       OLS        & \\textbf{  Adj. R-squared:    } &       0.034    \\\\\n",
       "\\textbf{Method:}           &  Least Squares   & \\textbf{  F-statistic:       } &       541.0    \\\\\n",
       "\\textbf{Date:}             & Wed, 15 May 2024 & \\textbf{  Prob (F-statistic):} &   1.25e-117    \\\\\n",
       "\\textbf{Time:}             &     19:45:20     & \\textbf{  Log-Likelihood:    } &  -1.5590e+05   \\\\\n",
       "\\textbf{No. Observations:} &       15200      & \\textbf{  AIC:               } &   3.118e+05    \\\\\n",
       "\\textbf{Df Residuals:}     &       15198      & \\textbf{  BIC:               } &   3.118e+05    \\\\\n",
       "\\textbf{Df Model:}         &           1      & \\textbf{                     } &                \\\\\n",
       "\\textbf{Covariance Type:}  &    nonrobust     & \\textbf{                     } &                \\\\\n",
       "\\bottomrule\n",
       "\\end{tabular}\n",
       "\\begin{tabular}{lcccccc}\n",
       "                   & \\textbf{coef} & \\textbf{std err} & \\textbf{t} & \\textbf{P$> |$t$|$} & \\textbf{[0.025} & \\textbf{0.975]}  \\\\\n",
       "\\midrule\n",
       "\\textbf{Intercept} &    -204.9594  &      120.703     &    -1.698  &         0.090        &     -441.552    &       31.633     \\\\\n",
       "\\textbf{bedrooms}  &    1895.0126  &       81.469     &    23.260  &         0.000        &     1735.323    &     2054.702     \\\\\n",
       "\\bottomrule\n",
       "\\end{tabular}\n",
       "\\begin{tabular}{lclc}\n",
       "\\textbf{Omnibus:}       & 36706.046 & \\textbf{  Durbin-Watson:     } &       1.876    \\\\\n",
       "\\textbf{Prob(Omnibus):} &    0.000  & \\textbf{  Jarque-Bera (JB):  } & 554556741.282  \\\\\n",
       "\\textbf{Skew:}          &   25.044  & \\textbf{  Prob(JB):          } &        0.00    \\\\\n",
       "\\textbf{Kurtosis:}      &  937.402  & \\textbf{  Cond. No.          } &        4.43    \\\\\n",
       "\\bottomrule\n",
       "\\end{tabular}\n",
       "%\\caption{OLS Regression Results}\n",
       "\\end{center}\n",
       "\n",
       "Notes: \\newline\n",
       " [1] Standard Errors assume that the covariance matrix of the errors is correctly specified."
      ],
      "text/plain": [
       "<class 'statsmodels.iolib.summary.Summary'>\n",
       "\"\"\"\n",
       "                            OLS Regression Results                            \n",
       "==============================================================================\n",
       "Dep. Variable:                  price   R-squared:                       0.034\n",
       "Model:                            OLS   Adj. R-squared:                  0.034\n",
       "Method:                 Least Squares   F-statistic:                     541.0\n",
       "Date:                Wed, 15 May 2024   Prob (F-statistic):          1.25e-117\n",
       "Time:                        19:45:20   Log-Likelihood:            -1.5590e+05\n",
       "No. Observations:               15200   AIC:                         3.118e+05\n",
       "Df Residuals:                   15198   BIC:                         3.118e+05\n",
       "Df Model:                           1                                         \n",
       "Covariance Type:            nonrobust                                         \n",
       "==============================================================================\n",
       "                 coef    std err          t      P>|t|      [0.025      0.975]\n",
       "------------------------------------------------------------------------------\n",
       "Intercept   -204.9594    120.703     -1.698      0.090    -441.552      31.633\n",
       "bedrooms    1895.0126     81.469     23.260      0.000    1735.323    2054.702\n",
       "==============================================================================\n",
       "Omnibus:                    36706.046   Durbin-Watson:                   1.876\n",
       "Prob(Omnibus):                  0.000   Jarque-Bera (JB):        554556741.282\n",
       "Skew:                          25.044   Prob(JB):                         0.00\n",
       "Kurtosis:                     937.402   Cond. No.                         4.43\n",
       "==============================================================================\n",
       "\n",
       "Notes:\n",
       "[1] Standard Errors assume that the covariance matrix of the errors is correctly specified.\n",
       "\"\"\""
      ]
     },
     "execution_count": 83,
     "metadata": {},
     "output_type": "execute_result"
    }
   ],
   "source": [
    "m1 = smf.ols('price ~ bedrooms', data = clean_airbnb).fit()\n",
    "m1.summary()"
   ]
  },
  {
   "cell_type": "markdown",
   "metadata": {},
   "source": [
    "The intercept value of -204.9594 suggests that when the bedrooms coefficient is at 0, the price of an airbnb is -$204.9594. The P value for the intercept is 0.090, indicating that the intercept is not statistically significant. The bedrooms coefficient value of $1895.0126 suggests that each additional bedroom is associated with an increase of approximately $1895 in the listing price. The t-statistic for bedrooms is 23.260 with a p-value close to 0.000, indicating that the effect of bedrooms on price is statistically significant. This r2 value of 0.034 indicates that the model explains about 3.4% of the variance in the price. This is relatively low, suggesting that the number of bedrooms alone does not significantly predict the price, and there are other factors at play that affect the price of a listing."
   ]
  },
  {
   "cell_type": "code",
   "execution_count": 84,
   "metadata": {},
   "outputs": [
    {
     "data": {
      "text/html": [
       "<table class=\"simpletable\">\n",
       "<caption>OLS Regression Results</caption>\n",
       "<tr>\n",
       "  <th>Dep. Variable:</th>      <td>np.log(price)</td>  <th>  R-squared:         </th> <td>   0.203</td> \n",
       "</tr>\n",
       "<tr>\n",
       "  <th>Model:</th>                   <td>OLS</td>       <th>  Adj. R-squared:    </th> <td>   0.203</td> \n",
       "</tr>\n",
       "<tr>\n",
       "  <th>Method:</th>             <td>Least Squares</td>  <th>  F-statistic:       </th> <td>   3879.</td> \n",
       "</tr>\n",
       "<tr>\n",
       "  <th>Date:</th>             <td>Wed, 15 May 2024</td> <th>  Prob (F-statistic):</th>  <td>  0.00</td>  \n",
       "</tr>\n",
       "<tr>\n",
       "  <th>Time:</th>                 <td>19:45:20</td>     <th>  Log-Likelihood:    </th> <td> -16913.</td> \n",
       "</tr>\n",
       "<tr>\n",
       "  <th>No. Observations:</th>      <td> 15200</td>      <th>  AIC:               </th> <td>3.383e+04</td>\n",
       "</tr>\n",
       "<tr>\n",
       "  <th>Df Residuals:</th>          <td> 15198</td>      <th>  BIC:               </th> <td>3.385e+04</td>\n",
       "</tr>\n",
       "<tr>\n",
       "  <th>Df Model:</th>              <td>     1</td>      <th>                     </th>     <td> </td>    \n",
       "</tr>\n",
       "<tr>\n",
       "  <th>Covariance Type:</th>      <td>nonrobust</td>    <th>                     </th>     <td> </td>    \n",
       "</tr>\n",
       "</table>\n",
       "<table class=\"simpletable\">\n",
       "<tr>\n",
       "          <td></td>            <th>coef</th>     <th>std err</th>      <th>t</th>      <th>P>|t|</th>  <th>[0.025</th>    <th>0.975]</th>  \n",
       "</tr>\n",
       "<tr>\n",
       "  <th>Intercept</th>        <td>    7.0144</td> <td>    0.007</td> <td> 1052.126</td> <td> 0.000</td> <td>    7.001</td> <td>    7.027</td>\n",
       "</tr>\n",
       "<tr>\n",
       "  <th>np.log(bedrooms)</th> <td>    0.9946</td> <td>    0.016</td> <td>   62.279</td> <td> 0.000</td> <td>    0.963</td> <td>    1.026</td>\n",
       "</tr>\n",
       "</table>\n",
       "<table class=\"simpletable\">\n",
       "<tr>\n",
       "  <th>Omnibus:</th>       <td>3639.718</td> <th>  Durbin-Watson:     </th> <td>   1.643</td> \n",
       "</tr>\n",
       "<tr>\n",
       "  <th>Prob(Omnibus):</th>  <td> 0.000</td>  <th>  Jarque-Bera (JB):  </th> <td>16168.457</td>\n",
       "</tr>\n",
       "<tr>\n",
       "  <th>Skew:</th>           <td> 1.107</td>  <th>  Prob(JB):          </th> <td>    0.00</td> \n",
       "</tr>\n",
       "<tr>\n",
       "  <th>Kurtosis:</th>       <td> 7.542</td>  <th>  Cond. No.          </th> <td>    2.78</td> \n",
       "</tr>\n",
       "</table><br/><br/>Notes:<br/>[1] Standard Errors assume that the covariance matrix of the errors is correctly specified."
      ],
      "text/latex": [
       "\\begin{center}\n",
       "\\begin{tabular}{lclc}\n",
       "\\toprule\n",
       "\\textbf{Dep. Variable:}    &  np.log(price)   & \\textbf{  R-squared:         } &     0.203   \\\\\n",
       "\\textbf{Model:}            &       OLS        & \\textbf{  Adj. R-squared:    } &     0.203   \\\\\n",
       "\\textbf{Method:}           &  Least Squares   & \\textbf{  F-statistic:       } &     3879.   \\\\\n",
       "\\textbf{Date:}             & Wed, 15 May 2024 & \\textbf{  Prob (F-statistic):} &     0.00    \\\\\n",
       "\\textbf{Time:}             &     19:45:20     & \\textbf{  Log-Likelihood:    } &   -16913.   \\\\\n",
       "\\textbf{No. Observations:} &       15200      & \\textbf{  AIC:               } & 3.383e+04   \\\\\n",
       "\\textbf{Df Residuals:}     &       15198      & \\textbf{  BIC:               } & 3.385e+04   \\\\\n",
       "\\textbf{Df Model:}         &           1      & \\textbf{                     } &             \\\\\n",
       "\\textbf{Covariance Type:}  &    nonrobust     & \\textbf{                     } &             \\\\\n",
       "\\bottomrule\n",
       "\\end{tabular}\n",
       "\\begin{tabular}{lcccccc}\n",
       "                          & \\textbf{coef} & \\textbf{std err} & \\textbf{t} & \\textbf{P$> |$t$|$} & \\textbf{[0.025} & \\textbf{0.975]}  \\\\\n",
       "\\midrule\n",
       "\\textbf{Intercept}        &       7.0144  &        0.007     &  1052.126  &         0.000        &        7.001    &        7.027     \\\\\n",
       "\\textbf{np.log(bedrooms)} &       0.9946  &        0.016     &    62.279  &         0.000        &        0.963    &        1.026     \\\\\n",
       "\\bottomrule\n",
       "\\end{tabular}\n",
       "\\begin{tabular}{lclc}\n",
       "\\textbf{Omnibus:}       & 3639.718 & \\textbf{  Durbin-Watson:     } &     1.643  \\\\\n",
       "\\textbf{Prob(Omnibus):} &   0.000  & \\textbf{  Jarque-Bera (JB):  } & 16168.457  \\\\\n",
       "\\textbf{Skew:}          &   1.107  & \\textbf{  Prob(JB):          } &      0.00  \\\\\n",
       "\\textbf{Kurtosis:}      &   7.542  & \\textbf{  Cond. No.          } &      2.78  \\\\\n",
       "\\bottomrule\n",
       "\\end{tabular}\n",
       "%\\caption{OLS Regression Results}\n",
       "\\end{center}\n",
       "\n",
       "Notes: \\newline\n",
       " [1] Standard Errors assume that the covariance matrix of the errors is correctly specified."
      ],
      "text/plain": [
       "<class 'statsmodels.iolib.summary.Summary'>\n",
       "\"\"\"\n",
       "                            OLS Regression Results                            \n",
       "==============================================================================\n",
       "Dep. Variable:          np.log(price)   R-squared:                       0.203\n",
       "Model:                            OLS   Adj. R-squared:                  0.203\n",
       "Method:                 Least Squares   F-statistic:                     3879.\n",
       "Date:                Wed, 15 May 2024   Prob (F-statistic):               0.00\n",
       "Time:                        19:45:20   Log-Likelihood:                -16913.\n",
       "No. Observations:               15200   AIC:                         3.383e+04\n",
       "Df Residuals:                   15198   BIC:                         3.385e+04\n",
       "Df Model:                           1                                         \n",
       "Covariance Type:            nonrobust                                         \n",
       "====================================================================================\n",
       "                       coef    std err          t      P>|t|      [0.025      0.975]\n",
       "------------------------------------------------------------------------------------\n",
       "Intercept            7.0144      0.007   1052.126      0.000       7.001       7.027\n",
       "np.log(bedrooms)     0.9946      0.016     62.279      0.000       0.963       1.026\n",
       "==============================================================================\n",
       "Omnibus:                     3639.718   Durbin-Watson:                   1.643\n",
       "Prob(Omnibus):                  0.000   Jarque-Bera (JB):            16168.457\n",
       "Skew:                           1.107   Prob(JB):                         0.00\n",
       "Kurtosis:                       7.542   Cond. No.                         2.78\n",
       "==============================================================================\n",
       "\n",
       "Notes:\n",
       "[1] Standard Errors assume that the covariance matrix of the errors is correctly specified.\n",
       "\"\"\""
      ]
     },
     "execution_count": 84,
     "metadata": {},
     "output_type": "execute_result"
    }
   ],
   "source": [
    "m2 = smf.ols('np.log(price) ~ np.log(bedrooms)', data = clean_airbnb).fit()\n",
    "m2.summary()"
   ]
  },
  {
   "cell_type": "markdown",
   "metadata": {},
   "source": [
    "This value indicates that the model explains about 20.3% of the variance in the logarithm of the price, which is a significant improvement from the 3.4% R-squared in the previous model where price was not log-transformed. This suggests that using the logarithmic scale for both variables improves the model's explanatory power and is a beter fit. The coefficient for np.log(bedrooms) can be interpreted as for a 1% increase in the number of bedrooms, there is an approximate 0.9946% increase in the price. This almost direct relationship indicates a very proportional impact of bedroom count on price in percentage terms. P-value for np.log(bedrooms): 0.000 indicates that the number of bedrooms has a statistically significant effect on the price at any conventional significance level.\n",
    "Intercept: 7.0144 in a log-log model can be tricky to interpret directly in the context of the variables involved, but it essentially represents the factor that scales the relationship between the logarithm of the price and the logarithm of the bedrooms when the number of bedrooms approaches zero."
   ]
  },
  {
   "cell_type": "code",
   "execution_count": 85,
   "metadata": {},
   "outputs": [
    {
     "data": {
      "text/plain": [
       "room_type\n",
       "Entire home/apt    8324\n",
       "Private room       5467\n",
       "Hotel room          751\n",
       "Shared room         658\n",
       "Name: count, dtype: int64"
      ]
     },
     "execution_count": 85,
     "metadata": {},
     "output_type": "execute_result"
    }
   ],
   "source": [
    "clean_airbnb['room_type'].value_counts()"
   ]
  },
  {
   "cell_type": "code",
   "execution_count": 86,
   "metadata": {},
   "outputs": [
    {
     "data": {
      "text/plain": [
       "accommodates\n",
       "2    7895\n",
       "4    4568\n",
       "3    2050\n",
       "1     687\n",
       "Name: count, dtype: int64"
      ]
     },
     "execution_count": 86,
     "metadata": {},
     "output_type": "execute_result"
    }
   ],
   "source": [
    "clean_airbnb.loc[clean_airbnb['accommodates'] >= 4, 'accommodates'] = 4\n",
    "clean_airbnb['accommodates'].value_counts()"
   ]
  },
  {
   "cell_type": "code",
   "execution_count": 87,
   "metadata": {},
   "outputs": [
    {
     "data": {
      "text/html": [
       "<table class=\"simpletable\">\n",
       "<caption>OLS Regression Results</caption>\n",
       "<tr>\n",
       "  <th>Dep. Variable:</th>      <td>np.log(price)</td>  <th>  R-squared:         </th> <td>   0.241</td> \n",
       "</tr>\n",
       "<tr>\n",
       "  <th>Model:</th>                   <td>OLS</td>       <th>  Adj. R-squared:    </th> <td>   0.241</td> \n",
       "</tr>\n",
       "<tr>\n",
       "  <th>Method:</th>             <td>Least Squares</td>  <th>  F-statistic:       </th> <td>   965.5</td> \n",
       "</tr>\n",
       "<tr>\n",
       "  <th>Date:</th>             <td>Wed, 15 May 2024</td> <th>  Prob (F-statistic):</th>  <td>  0.00</td>  \n",
       "</tr>\n",
       "<tr>\n",
       "  <th>Time:</th>                 <td>19:45:20</td>     <th>  Log-Likelihood:    </th> <td> -16544.</td> \n",
       "</tr>\n",
       "<tr>\n",
       "  <th>No. Observations:</th>      <td> 15200</td>      <th>  AIC:               </th> <td>3.310e+04</td>\n",
       "</tr>\n",
       "<tr>\n",
       "  <th>Df Residuals:</th>          <td> 15194</td>      <th>  BIC:               </th> <td>3.315e+04</td>\n",
       "</tr>\n",
       "<tr>\n",
       "  <th>Df Model:</th>              <td>     5</td>      <th>                     </th>     <td> </td>    \n",
       "</tr>\n",
       "<tr>\n",
       "  <th>Covariance Type:</th>      <td>nonrobust</td>    <th>                     </th>     <td> </td>    \n",
       "</tr>\n",
       "</table>\n",
       "<table class=\"simpletable\">\n",
       "<tr>\n",
       "              <td></td>                 <th>coef</th>     <th>std err</th>      <th>t</th>      <th>P>|t|</th>  <th>[0.025</th>    <th>0.975]</th>  \n",
       "</tr>\n",
       "<tr>\n",
       "  <th>Intercept</th>                 <td>    6.8676</td> <td>    0.021</td> <td>  323.992</td> <td> 0.000</td> <td>    6.826</td> <td>    6.909</td>\n",
       "</tr>\n",
       "<tr>\n",
       "  <th>room_type[T.Hotel room]</th>   <td>    0.1351</td> <td>    0.028</td> <td>    4.909</td> <td> 0.000</td> <td>    0.081</td> <td>    0.189</td>\n",
       "</tr>\n",
       "<tr>\n",
       "  <th>room_type[T.Private room]</th> <td>   -0.0541</td> <td>    0.013</td> <td>   -4.219</td> <td> 0.000</td> <td>   -0.079</td> <td>   -0.029</td>\n",
       "</tr>\n",
       "<tr>\n",
       "  <th>room_type[T.Shared room]</th>  <td>   -0.7005</td> <td>    0.029</td> <td>  -23.821</td> <td> 0.000</td> <td>   -0.758</td> <td>   -0.643</td>\n",
       "</tr>\n",
       "<tr>\n",
       "  <th>np.log(bedrooms)</th>          <td>    0.8267</td> <td>    0.019</td> <td>   42.588</td> <td> 0.000</td> <td>    0.789</td> <td>    0.865</td>\n",
       "</tr>\n",
       "<tr>\n",
       "  <th>accommodates</th>              <td>    0.0822</td> <td>    0.008</td> <td>   10.732</td> <td> 0.000</td> <td>    0.067</td> <td>    0.097</td>\n",
       "</tr>\n",
       "</table>\n",
       "<table class=\"simpletable\">\n",
       "<tr>\n",
       "  <th>Omnibus:</th>       <td>4388.218</td> <th>  Durbin-Watson:     </th> <td>   1.646</td> \n",
       "</tr>\n",
       "<tr>\n",
       "  <th>Prob(Omnibus):</th>  <td> 0.000</td>  <th>  Jarque-Bera (JB):  </th> <td>22475.983</td>\n",
       "</tr>\n",
       "<tr>\n",
       "  <th>Skew:</th>           <td> 1.302</td>  <th>  Prob(JB):          </th> <td>    0.00</td> \n",
       "</tr>\n",
       "<tr>\n",
       "  <th>Kurtosis:</th>       <td> 8.358</td>  <th>  Cond. No.          </th> <td>    16.1</td> \n",
       "</tr>\n",
       "</table><br/><br/>Notes:<br/>[1] Standard Errors assume that the covariance matrix of the errors is correctly specified."
      ],
      "text/latex": [
       "\\begin{center}\n",
       "\\begin{tabular}{lclc}\n",
       "\\toprule\n",
       "\\textbf{Dep. Variable:}             &  np.log(price)   & \\textbf{  R-squared:         } &     0.241   \\\\\n",
       "\\textbf{Model:}                     &       OLS        & \\textbf{  Adj. R-squared:    } &     0.241   \\\\\n",
       "\\textbf{Method:}                    &  Least Squares   & \\textbf{  F-statistic:       } &     965.5   \\\\\n",
       "\\textbf{Date:}                      & Wed, 15 May 2024 & \\textbf{  Prob (F-statistic):} &     0.00    \\\\\n",
       "\\textbf{Time:}                      &     19:45:20     & \\textbf{  Log-Likelihood:    } &   -16544.   \\\\\n",
       "\\textbf{No. Observations:}          &       15200      & \\textbf{  AIC:               } & 3.310e+04   \\\\\n",
       "\\textbf{Df Residuals:}              &       15194      & \\textbf{  BIC:               } & 3.315e+04   \\\\\n",
       "\\textbf{Df Model:}                  &           5      & \\textbf{                     } &             \\\\\n",
       "\\textbf{Covariance Type:}           &    nonrobust     & \\textbf{                     } &             \\\\\n",
       "\\bottomrule\n",
       "\\end{tabular}\n",
       "\\begin{tabular}{lcccccc}\n",
       "                                    & \\textbf{coef} & \\textbf{std err} & \\textbf{t} & \\textbf{P$> |$t$|$} & \\textbf{[0.025} & \\textbf{0.975]}  \\\\\n",
       "\\midrule\n",
       "\\textbf{Intercept}                  &       6.8676  &        0.021     &   323.992  &         0.000        &        6.826    &        6.909     \\\\\n",
       "\\textbf{room\\_type[T.Hotel room]}   &       0.1351  &        0.028     &     4.909  &         0.000        &        0.081    &        0.189     \\\\\n",
       "\\textbf{room\\_type[T.Private room]} &      -0.0541  &        0.013     &    -4.219  &         0.000        &       -0.079    &       -0.029     \\\\\n",
       "\\textbf{room\\_type[T.Shared room]}  &      -0.7005  &        0.029     &   -23.821  &         0.000        &       -0.758    &       -0.643     \\\\\n",
       "\\textbf{np.log(bedrooms)}           &       0.8267  &        0.019     &    42.588  &         0.000        &        0.789    &        0.865     \\\\\n",
       "\\textbf{accommodates}               &       0.0822  &        0.008     &    10.732  &         0.000        &        0.067    &        0.097     \\\\\n",
       "\\bottomrule\n",
       "\\end{tabular}\n",
       "\\begin{tabular}{lclc}\n",
       "\\textbf{Omnibus:}       & 4388.218 & \\textbf{  Durbin-Watson:     } &     1.646  \\\\\n",
       "\\textbf{Prob(Omnibus):} &   0.000  & \\textbf{  Jarque-Bera (JB):  } & 22475.983  \\\\\n",
       "\\textbf{Skew:}          &   1.302  & \\textbf{  Prob(JB):          } &      0.00  \\\\\n",
       "\\textbf{Kurtosis:}      &   8.358  & \\textbf{  Cond. No.          } &      16.1  \\\\\n",
       "\\bottomrule\n",
       "\\end{tabular}\n",
       "%\\caption{OLS Regression Results}\n",
       "\\end{center}\n",
       "\n",
       "Notes: \\newline\n",
       " [1] Standard Errors assume that the covariance matrix of the errors is correctly specified."
      ],
      "text/plain": [
       "<class 'statsmodels.iolib.summary.Summary'>\n",
       "\"\"\"\n",
       "                            OLS Regression Results                            \n",
       "==============================================================================\n",
       "Dep. Variable:          np.log(price)   R-squared:                       0.241\n",
       "Model:                            OLS   Adj. R-squared:                  0.241\n",
       "Method:                 Least Squares   F-statistic:                     965.5\n",
       "Date:                Wed, 15 May 2024   Prob (F-statistic):               0.00\n",
       "Time:                        19:45:20   Log-Likelihood:                -16544.\n",
       "No. Observations:               15200   AIC:                         3.310e+04\n",
       "Df Residuals:                   15194   BIC:                         3.315e+04\n",
       "Df Model:                           5                                         \n",
       "Covariance Type:            nonrobust                                         \n",
       "=============================================================================================\n",
       "                                coef    std err          t      P>|t|      [0.025      0.975]\n",
       "---------------------------------------------------------------------------------------------\n",
       "Intercept                     6.8676      0.021    323.992      0.000       6.826       6.909\n",
       "room_type[T.Hotel room]       0.1351      0.028      4.909      0.000       0.081       0.189\n",
       "room_type[T.Private room]    -0.0541      0.013     -4.219      0.000      -0.079      -0.029\n",
       "room_type[T.Shared room]     -0.7005      0.029    -23.821      0.000      -0.758      -0.643\n",
       "np.log(bedrooms)              0.8267      0.019     42.588      0.000       0.789       0.865\n",
       "accommodates                  0.0822      0.008     10.732      0.000       0.067       0.097\n",
       "==============================================================================\n",
       "Omnibus:                     4388.218   Durbin-Watson:                   1.646\n",
       "Prob(Omnibus):                  0.000   Jarque-Bera (JB):            22475.983\n",
       "Skew:                           1.302   Prob(JB):                         0.00\n",
       "Kurtosis:                       8.358   Cond. No.                         16.1\n",
       "==============================================================================\n",
       "\n",
       "Notes:\n",
       "[1] Standard Errors assume that the covariance matrix of the errors is correctly specified.\n",
       "\"\"\""
      ]
     },
     "execution_count": 87,
     "metadata": {},
     "output_type": "execute_result"
    }
   ],
   "source": [
    "m3 = smf.ols('np.log(price) ~ np.log(bedrooms) + room_type + accommodates', data = clean_airbnb).fit()\n",
    "m3.summary()"
   ]
  },
  {
   "cell_type": "markdown",
   "metadata": {},
   "source": [
    "**Model Summary:**\n",
    "\n",
    "- Dependent Variable: np.log(price)\n",
    "\n",
    "- R-squared: 0.241\n",
    "This indicates that approximately 24.1% of the variability in the logarithmic transformation of the price is explained by the model. This is a slight improvement from the previous model, suggesting that the addition of these variables adds some explanatory power.\n",
    "\n",
    "**Coefficients:**\n",
    "\n",
    "- Intercept: 6.8676\n",
    "\n",
    "The intercept can be interpreted as the expected log price when all other variables are at their reference levels or zero.\n",
    "\n",
    "- Room Type:\n",
    "\n",
    "Reference(baseline) Category: \n",
    "\n",
    "Hotel Room: Coefficient of 0.1351 suggests that, holding other factors constant, being a hotel room is associated with a 13.51% increase in price compared to reference category\n",
    "\n",
    "Private Room: Coefficient of -0.0541 indicates a decrease of 5.41% in price compared to the reference category.\n",
    "\n",
    "Shared Room: Coefficient of -0.7005 indicates a decrease of 70.05% in price compared to the reference category.\n",
    "\n",
    "- np.log(bedrooms): 0.8267\n",
    "\n",
    "A 1% increase in bedrooms is associated with an approximate 0.8267% increase in price. This relationship remains strong and significant.\n",
    "\n",
    "- Accommodates: 0.0822\n",
    "\n",
    "Each additional person accommodated increases the expected log price by 8.22%.\n",
    "\n",
    "**Statistical Significance:**\n",
    "All variables are statistically significant with p-values of 0.000, indicating strong evidence against the null hypothesis for each predictor's effect on price."
   ]
  },
  {
   "cell_type": "markdown",
   "metadata": {},
   "source": [
    "### 3 Logistic Regression: Heart Attack"
   ]
  },
  {
   "cell_type": "markdown",
   "metadata": {},
   "source": [
    "#### 3.1 Prepare Data"
   ]
  },
  {
   "cell_type": "markdown",
   "metadata": {},
   "source": [
    "1."
   ]
  },
  {
   "cell_type": "code",
   "execution_count": 88,
   "metadata": {},
   "outputs": [
    {
     "data": {
      "text/html": [
       "<div>\n",
       "<style scoped>\n",
       "    .dataframe tbody tr th:only-of-type {\n",
       "        vertical-align: middle;\n",
       "    }\n",
       "\n",
       "    .dataframe tbody tr th {\n",
       "        vertical-align: top;\n",
       "    }\n",
       "\n",
       "    .dataframe thead th {\n",
       "        text-align: right;\n",
       "    }\n",
       "</style>\n",
       "<table border=\"1\" class=\"dataframe\">\n",
       "  <thead>\n",
       "    <tr style=\"text-align: right;\">\n",
       "      <th></th>\n",
       "      <th>age</th>\n",
       "      <th>sex</th>\n",
       "      <th>cp</th>\n",
       "      <th>trtbps</th>\n",
       "      <th>chol</th>\n",
       "      <th>fbs</th>\n",
       "      <th>restecg</th>\n",
       "      <th>thalachh</th>\n",
       "      <th>exng</th>\n",
       "      <th>oldpeak</th>\n",
       "      <th>slp</th>\n",
       "      <th>caa</th>\n",
       "      <th>thall</th>\n",
       "      <th>output</th>\n",
       "    </tr>\n",
       "  </thead>\n",
       "  <tbody>\n",
       "    <tr>\n",
       "      <th>0</th>\n",
       "      <td>63</td>\n",
       "      <td>1</td>\n",
       "      <td>3</td>\n",
       "      <td>145</td>\n",
       "      <td>233</td>\n",
       "      <td>1</td>\n",
       "      <td>0</td>\n",
       "      <td>150</td>\n",
       "      <td>0</td>\n",
       "      <td>2.3</td>\n",
       "      <td>0</td>\n",
       "      <td>0</td>\n",
       "      <td>1</td>\n",
       "      <td>1</td>\n",
       "    </tr>\n",
       "    <tr>\n",
       "      <th>1</th>\n",
       "      <td>37</td>\n",
       "      <td>1</td>\n",
       "      <td>2</td>\n",
       "      <td>130</td>\n",
       "      <td>250</td>\n",
       "      <td>0</td>\n",
       "      <td>1</td>\n",
       "      <td>187</td>\n",
       "      <td>0</td>\n",
       "      <td>3.5</td>\n",
       "      <td>0</td>\n",
       "      <td>0</td>\n",
       "      <td>2</td>\n",
       "      <td>1</td>\n",
       "    </tr>\n",
       "    <tr>\n",
       "      <th>2</th>\n",
       "      <td>41</td>\n",
       "      <td>0</td>\n",
       "      <td>1</td>\n",
       "      <td>130</td>\n",
       "      <td>204</td>\n",
       "      <td>0</td>\n",
       "      <td>0</td>\n",
       "      <td>172</td>\n",
       "      <td>0</td>\n",
       "      <td>1.4</td>\n",
       "      <td>2</td>\n",
       "      <td>0</td>\n",
       "      <td>2</td>\n",
       "      <td>1</td>\n",
       "    </tr>\n",
       "    <tr>\n",
       "      <th>3</th>\n",
       "      <td>56</td>\n",
       "      <td>1</td>\n",
       "      <td>1</td>\n",
       "      <td>120</td>\n",
       "      <td>236</td>\n",
       "      <td>0</td>\n",
       "      <td>1</td>\n",
       "      <td>178</td>\n",
       "      <td>0</td>\n",
       "      <td>0.8</td>\n",
       "      <td>2</td>\n",
       "      <td>0</td>\n",
       "      <td>2</td>\n",
       "      <td>1</td>\n",
       "    </tr>\n",
       "    <tr>\n",
       "      <th>4</th>\n",
       "      <td>57</td>\n",
       "      <td>0</td>\n",
       "      <td>0</td>\n",
       "      <td>120</td>\n",
       "      <td>354</td>\n",
       "      <td>0</td>\n",
       "      <td>1</td>\n",
       "      <td>163</td>\n",
       "      <td>1</td>\n",
       "      <td>0.6</td>\n",
       "      <td>2</td>\n",
       "      <td>0</td>\n",
       "      <td>2</td>\n",
       "      <td>1</td>\n",
       "    </tr>\n",
       "    <tr>\n",
       "      <th>...</th>\n",
       "      <td>...</td>\n",
       "      <td>...</td>\n",
       "      <td>...</td>\n",
       "      <td>...</td>\n",
       "      <td>...</td>\n",
       "      <td>...</td>\n",
       "      <td>...</td>\n",
       "      <td>...</td>\n",
       "      <td>...</td>\n",
       "      <td>...</td>\n",
       "      <td>...</td>\n",
       "      <td>...</td>\n",
       "      <td>...</td>\n",
       "      <td>...</td>\n",
       "    </tr>\n",
       "    <tr>\n",
       "      <th>298</th>\n",
       "      <td>57</td>\n",
       "      <td>0</td>\n",
       "      <td>0</td>\n",
       "      <td>140</td>\n",
       "      <td>241</td>\n",
       "      <td>0</td>\n",
       "      <td>1</td>\n",
       "      <td>123</td>\n",
       "      <td>1</td>\n",
       "      <td>0.2</td>\n",
       "      <td>1</td>\n",
       "      <td>0</td>\n",
       "      <td>3</td>\n",
       "      <td>0</td>\n",
       "    </tr>\n",
       "    <tr>\n",
       "      <th>299</th>\n",
       "      <td>45</td>\n",
       "      <td>1</td>\n",
       "      <td>3</td>\n",
       "      <td>110</td>\n",
       "      <td>264</td>\n",
       "      <td>0</td>\n",
       "      <td>1</td>\n",
       "      <td>132</td>\n",
       "      <td>0</td>\n",
       "      <td>1.2</td>\n",
       "      <td>1</td>\n",
       "      <td>0</td>\n",
       "      <td>3</td>\n",
       "      <td>0</td>\n",
       "    </tr>\n",
       "    <tr>\n",
       "      <th>300</th>\n",
       "      <td>68</td>\n",
       "      <td>1</td>\n",
       "      <td>0</td>\n",
       "      <td>144</td>\n",
       "      <td>193</td>\n",
       "      <td>1</td>\n",
       "      <td>1</td>\n",
       "      <td>141</td>\n",
       "      <td>0</td>\n",
       "      <td>3.4</td>\n",
       "      <td>1</td>\n",
       "      <td>2</td>\n",
       "      <td>3</td>\n",
       "      <td>0</td>\n",
       "    </tr>\n",
       "    <tr>\n",
       "      <th>301</th>\n",
       "      <td>57</td>\n",
       "      <td>1</td>\n",
       "      <td>0</td>\n",
       "      <td>130</td>\n",
       "      <td>131</td>\n",
       "      <td>0</td>\n",
       "      <td>1</td>\n",
       "      <td>115</td>\n",
       "      <td>1</td>\n",
       "      <td>1.2</td>\n",
       "      <td>1</td>\n",
       "      <td>1</td>\n",
       "      <td>3</td>\n",
       "      <td>0</td>\n",
       "    </tr>\n",
       "    <tr>\n",
       "      <th>302</th>\n",
       "      <td>57</td>\n",
       "      <td>0</td>\n",
       "      <td>1</td>\n",
       "      <td>130</td>\n",
       "      <td>236</td>\n",
       "      <td>0</td>\n",
       "      <td>0</td>\n",
       "      <td>174</td>\n",
       "      <td>0</td>\n",
       "      <td>0.0</td>\n",
       "      <td>1</td>\n",
       "      <td>1</td>\n",
       "      <td>2</td>\n",
       "      <td>0</td>\n",
       "    </tr>\n",
       "  </tbody>\n",
       "</table>\n",
       "<p>303 rows × 14 columns</p>\n",
       "</div>"
      ],
      "text/plain": [
       "     age  sex  cp  trtbps  chol  fbs  restecg  thalachh  exng  oldpeak  slp  \\\n",
       "0     63    1   3     145   233    1        0       150     0      2.3    0   \n",
       "1     37    1   2     130   250    0        1       187     0      3.5    0   \n",
       "2     41    0   1     130   204    0        0       172     0      1.4    2   \n",
       "3     56    1   1     120   236    0        1       178     0      0.8    2   \n",
       "4     57    0   0     120   354    0        1       163     1      0.6    2   \n",
       "..   ...  ...  ..     ...   ...  ...      ...       ...   ...      ...  ...   \n",
       "298   57    0   0     140   241    0        1       123     1      0.2    1   \n",
       "299   45    1   3     110   264    0        1       132     0      1.2    1   \n",
       "300   68    1   0     144   193    1        1       141     0      3.4    1   \n",
       "301   57    1   0     130   131    0        1       115     1      1.2    1   \n",
       "302   57    0   1     130   236    0        0       174     0      0.0    1   \n",
       "\n",
       "     caa  thall  output  \n",
       "0      0      1       1  \n",
       "1      0      2       1  \n",
       "2      0      2       1  \n",
       "3      0      2       1  \n",
       "4      0      2       1  \n",
       "..   ...    ...     ...  \n",
       "298    0      3       0  \n",
       "299    0      3       0  \n",
       "300    2      3       0  \n",
       "301    1      3       0  \n",
       "302    1      2       0  \n",
       "\n",
       "[303 rows x 14 columns]"
      ]
     },
     "execution_count": 88,
     "metadata": {},
     "output_type": "execute_result"
    }
   ],
   "source": [
    "heart = pd.read_csv('heart.csv.bz2', sep=',')\n",
    "heart"
   ]
  },
  {
   "cell_type": "markdown",
   "metadata": {},
   "source": [
    "2."
   ]
  },
  {
   "cell_type": "code",
   "execution_count": 89,
   "metadata": {},
   "outputs": [
    {
     "data": {
      "text/plain": [
       "age         0\n",
       "sex         0\n",
       "cp          0\n",
       "trtbps      0\n",
       "chol        0\n",
       "fbs         0\n",
       "restecg     0\n",
       "thalachh    0\n",
       "exng        0\n",
       "oldpeak     0\n",
       "slp         0\n",
       "caa         0\n",
       "thall       0\n",
       "output      0\n",
       "dtype: int64"
      ]
     },
     "execution_count": 89,
     "metadata": {},
     "output_type": "execute_result"
    }
   ],
   "source": [
    "heart.isna().sum()"
   ]
  },
  {
   "cell_type": "code",
   "execution_count": 90,
   "metadata": {},
   "outputs": [
    {
     "name": "stdout",
     "output_type": "stream",
     "text": [
      "<class 'pandas.core.frame.DataFrame'>\n",
      "RangeIndex: 303 entries, 0 to 302\n",
      "Data columns (total 14 columns):\n",
      " #   Column    Non-Null Count  Dtype  \n",
      "---  ------    --------------  -----  \n",
      " 0   age       303 non-null    int64  \n",
      " 1   sex       303 non-null    int64  \n",
      " 2   cp        303 non-null    int64  \n",
      " 3   trtbps    303 non-null    int64  \n",
      " 4   chol      303 non-null    int64  \n",
      " 5   fbs       303 non-null    int64  \n",
      " 6   restecg   303 non-null    int64  \n",
      " 7   thalachh  303 non-null    int64  \n",
      " 8   exng      303 non-null    int64  \n",
      " 9   oldpeak   303 non-null    float64\n",
      " 10  slp       303 non-null    int64  \n",
      " 11  caa       303 non-null    int64  \n",
      " 12  thall     303 non-null    int64  \n",
      " 13  output    303 non-null    int64  \n",
      "dtypes: float64(1), int64(13)\n",
      "memory usage: 33.3 KB\n"
     ]
    }
   ],
   "source": [
    "heart.info()"
   ]
  },
  {
   "cell_type": "code",
   "execution_count": 91,
   "metadata": {},
   "outputs": [
    {
     "data": {
      "text/plain": [
       "count    303.000000\n",
       "mean      54.366337\n",
       "std        9.082101\n",
       "min       29.000000\n",
       "25%       47.500000\n",
       "50%       55.000000\n",
       "75%       61.000000\n",
       "max       77.000000\n",
       "Name: age, dtype: float64"
      ]
     },
     "execution_count": 91,
     "metadata": {},
     "output_type": "execute_result"
    }
   ],
   "source": [
    "heart.age.describe()"
   ]
  },
  {
   "cell_type": "code",
   "execution_count": 92,
   "metadata": {},
   "outputs": [
    {
     "data": {
      "text/plain": [
       "sex\n",
       "1    207\n",
       "0     96\n",
       "Name: count, dtype: int64"
      ]
     },
     "execution_count": 92,
     "metadata": {},
     "output_type": "execute_result"
    }
   ],
   "source": [
    "heart.sex.value_counts()"
   ]
  },
  {
   "cell_type": "code",
   "execution_count": 93,
   "metadata": {},
   "outputs": [
    {
     "data": {
      "text/plain": [
       "cp\n",
       "0    143\n",
       "2     87\n",
       "1     50\n",
       "3     23\n",
       "Name: count, dtype: int64"
      ]
     },
     "execution_count": 93,
     "metadata": {},
     "output_type": "execute_result"
    }
   ],
   "source": [
    "heart.cp.value_counts()"
   ]
  },
  {
   "cell_type": "code",
   "execution_count": 94,
   "metadata": {},
   "outputs": [
    {
     "data": {
      "text/plain": [
       "count    303.000000\n",
       "mean     131.623762\n",
       "std       17.538143\n",
       "min       94.000000\n",
       "25%      120.000000\n",
       "50%      130.000000\n",
       "75%      140.000000\n",
       "max      200.000000\n",
       "Name: trtbps, dtype: float64"
      ]
     },
     "execution_count": 94,
     "metadata": {},
     "output_type": "execute_result"
    }
   ],
   "source": [
    "heart.trtbps.describe()"
   ]
  },
  {
   "cell_type": "code",
   "execution_count": 95,
   "metadata": {},
   "outputs": [
    {
     "data": {
      "text/plain": [
       "count    303.000000\n",
       "mean     246.264026\n",
       "std       51.830751\n",
       "min      126.000000\n",
       "25%      211.000000\n",
       "50%      240.000000\n",
       "75%      274.500000\n",
       "max      564.000000\n",
       "Name: chol, dtype: float64"
      ]
     },
     "execution_count": 95,
     "metadata": {},
     "output_type": "execute_result"
    }
   ],
   "source": [
    "heart.chol.describe()"
   ]
  },
  {
   "cell_type": "code",
   "execution_count": 96,
   "metadata": {},
   "outputs": [
    {
     "data": {
      "text/plain": [
       "fbs\n",
       "0    258\n",
       "1     45\n",
       "Name: count, dtype: int64"
      ]
     },
     "execution_count": 96,
     "metadata": {},
     "output_type": "execute_result"
    }
   ],
   "source": [
    "heart.fbs.value_counts()"
   ]
  },
  {
   "cell_type": "code",
   "execution_count": 97,
   "metadata": {},
   "outputs": [
    {
     "data": {
      "text/plain": [
       "restecg\n",
       "1    152\n",
       "0    147\n",
       "2      4\n",
       "Name: count, dtype: int64"
      ]
     },
     "execution_count": 97,
     "metadata": {},
     "output_type": "execute_result"
    }
   ],
   "source": [
    "heart.restecg.value_counts()"
   ]
  },
  {
   "cell_type": "code",
   "execution_count": 98,
   "metadata": {},
   "outputs": [
    {
     "data": {
      "text/plain": [
       "count    303.000000\n",
       "mean     149.646865\n",
       "std       22.905161\n",
       "min       71.000000\n",
       "25%      133.500000\n",
       "50%      153.000000\n",
       "75%      166.000000\n",
       "max      202.000000\n",
       "Name: thalachh, dtype: float64"
      ]
     },
     "execution_count": 98,
     "metadata": {},
     "output_type": "execute_result"
    }
   ],
   "source": [
    "heart.thalachh.describe()"
   ]
  },
  {
   "cell_type": "code",
   "execution_count": 99,
   "metadata": {},
   "outputs": [
    {
     "data": {
      "text/plain": [
       "exng\n",
       "0    204\n",
       "1     99\n",
       "Name: count, dtype: int64"
      ]
     },
     "execution_count": 99,
     "metadata": {},
     "output_type": "execute_result"
    }
   ],
   "source": [
    "heart.exng.value_counts()"
   ]
  },
  {
   "cell_type": "code",
   "execution_count": 100,
   "metadata": {},
   "outputs": [
    {
     "data": {
      "text/plain": [
       "caa\n",
       "0    175\n",
       "1     65\n",
       "2     38\n",
       "3     20\n",
       "4      5\n",
       "Name: count, dtype: int64"
      ]
     },
     "execution_count": 100,
     "metadata": {},
     "output_type": "execute_result"
    }
   ],
   "source": [
    "heart.caa.value_counts()"
   ]
  },
  {
   "cell_type": "code",
   "execution_count": 101,
   "metadata": {},
   "outputs": [
    {
     "data": {
      "text/plain": [
       "output\n",
       "1    165\n",
       "0    138\n",
       "Name: count, dtype: int64"
      ]
     },
     "execution_count": 101,
     "metadata": {},
     "output_type": "execute_result"
    }
   ],
   "source": [
    "heart.output.value_counts()"
   ]
  },
  {
   "cell_type": "code",
   "execution_count": 102,
   "metadata": {},
   "outputs": [
    {
     "name": "stdout",
     "output_type": "stream",
     "text": [
      "0.54\n"
     ]
    }
   ],
   "source": [
    "percentage_heart_attack = (heart['output'] == 1).mean()\n",
    "print(round(percentage_heart_attack, 2))"
   ]
  },
  {
   "cell_type": "markdown",
   "metadata": {},
   "source": [
    "The percentage of heart attacks among these patients is 54%"
   ]
  },
  {
   "cell_type": "markdown",
   "metadata": {},
   "source": [
    "3."
   ]
  },
  {
   "cell_type": "markdown",
   "metadata": {},
   "source": [
    "Nominal/Ordinal Variables: sex, cp, fbs, restecg, exng, output"
   ]
  },
  {
   "cell_type": "markdown",
   "metadata": {},
   "source": [
    "#### 3.2 Logistic Regression"
   ]
  },
  {
   "cell_type": "markdown",
   "metadata": {},
   "source": [
    "1."
   ]
  },
  {
   "cell_type": "code",
   "execution_count": 103,
   "metadata": {},
   "outputs": [
    {
     "data": {
      "image/png": "[encoded data removed]",
      "text/plain": [
       "<Figure size 640x480 with 1 Axes>"
      ]
     },
     "metadata": {},
     "output_type": "display_data"
    }
   ],
   "source": [
    "x = heart.age\n",
    "y = heart.output\n",
    "_ = plt.scatter(x, y, edgecolor = \"k\")"
   ]
  },
  {
   "cell_type": "code",
   "execution_count": 104,
   "metadata": {},
   "outputs": [
    {
     "data": {
      "text/plain": [
       "0.5445544554455446"
      ]
     },
     "execution_count": 104,
     "metadata": {},
     "output_type": "execute_result"
    }
   ],
   "source": [
    "majority_class = heart['output'].mode()[0]  # This finds the most common outcome\n",
    "naive_accuracy = (heart['output'] == majority_class).mean()\n",
    "naive_accuracy"
   ]
  },
  {
   "cell_type": "markdown",
   "metadata": {},
   "source": [
    "2."
   ]
  },
  {
   "cell_type": "code",
   "execution_count": 105,
   "metadata": {},
   "outputs": [
    {
     "data": {
      "text/html": [
       "<div>\n",
       "<style scoped>\n",
       "    .dataframe tbody tr th:only-of-type {\n",
       "        vertical-align: middle;\n",
       "    }\n",
       "\n",
       "    .dataframe tbody tr th {\n",
       "        vertical-align: top;\n",
       "    }\n",
       "\n",
       "    .dataframe thead th {\n",
       "        text-align: right;\n",
       "    }\n",
       "</style>\n",
       "<table border=\"1\" class=\"dataframe\">\n",
       "  <thead>\n",
       "    <tr style=\"text-align: right;\">\n",
       "      <th></th>\n",
       "      <th>age</th>\n",
       "      <th>sex</th>\n",
       "      <th>trtbps</th>\n",
       "      <th>chol</th>\n",
       "      <th>fbs</th>\n",
       "      <th>thalachh</th>\n",
       "      <th>exng</th>\n",
       "      <th>oldpeak</th>\n",
       "      <th>caa</th>\n",
       "      <th>output</th>\n",
       "      <th>...</th>\n",
       "      <th>restecg_0</th>\n",
       "      <th>restecg_1</th>\n",
       "      <th>restecg_2</th>\n",
       "      <th>slp_0</th>\n",
       "      <th>slp_1</th>\n",
       "      <th>slp_2</th>\n",
       "      <th>thall_0</th>\n",
       "      <th>thall_1</th>\n",
       "      <th>thall_2</th>\n",
       "      <th>thall_3</th>\n",
       "    </tr>\n",
       "  </thead>\n",
       "  <tbody>\n",
       "    <tr>\n",
       "      <th>0</th>\n",
       "      <td>63</td>\n",
       "      <td>1</td>\n",
       "      <td>145</td>\n",
       "      <td>233</td>\n",
       "      <td>1</td>\n",
       "      <td>150</td>\n",
       "      <td>0</td>\n",
       "      <td>2.3</td>\n",
       "      <td>0</td>\n",
       "      <td>1</td>\n",
       "      <td>...</td>\n",
       "      <td>1</td>\n",
       "      <td>0</td>\n",
       "      <td>0</td>\n",
       "      <td>1</td>\n",
       "      <td>0</td>\n",
       "      <td>0</td>\n",
       "      <td>0</td>\n",
       "      <td>1</td>\n",
       "      <td>0</td>\n",
       "      <td>0</td>\n",
       "    </tr>\n",
       "    <tr>\n",
       "      <th>1</th>\n",
       "      <td>37</td>\n",
       "      <td>1</td>\n",
       "      <td>130</td>\n",
       "      <td>250</td>\n",
       "      <td>0</td>\n",
       "      <td>187</td>\n",
       "      <td>0</td>\n",
       "      <td>3.5</td>\n",
       "      <td>0</td>\n",
       "      <td>1</td>\n",
       "      <td>...</td>\n",
       "      <td>0</td>\n",
       "      <td>1</td>\n",
       "      <td>0</td>\n",
       "      <td>1</td>\n",
       "      <td>0</td>\n",
       "      <td>0</td>\n",
       "      <td>0</td>\n",
       "      <td>0</td>\n",
       "      <td>1</td>\n",
       "      <td>0</td>\n",
       "    </tr>\n",
       "    <tr>\n",
       "      <th>2</th>\n",
       "      <td>41</td>\n",
       "      <td>0</td>\n",
       "      <td>130</td>\n",
       "      <td>204</td>\n",
       "      <td>0</td>\n",
       "      <td>172</td>\n",
       "      <td>0</td>\n",
       "      <td>1.4</td>\n",
       "      <td>0</td>\n",
       "      <td>1</td>\n",
       "      <td>...</td>\n",
       "      <td>1</td>\n",
       "      <td>0</td>\n",
       "      <td>0</td>\n",
       "      <td>0</td>\n",
       "      <td>0</td>\n",
       "      <td>1</td>\n",
       "      <td>0</td>\n",
       "      <td>0</td>\n",
       "      <td>1</td>\n",
       "      <td>0</td>\n",
       "    </tr>\n",
       "    <tr>\n",
       "      <th>3</th>\n",
       "      <td>56</td>\n",
       "      <td>1</td>\n",
       "      <td>120</td>\n",
       "      <td>236</td>\n",
       "      <td>0</td>\n",
       "      <td>178</td>\n",
       "      <td>0</td>\n",
       "      <td>0.8</td>\n",
       "      <td>0</td>\n",
       "      <td>1</td>\n",
       "      <td>...</td>\n",
       "      <td>0</td>\n",
       "      <td>1</td>\n",
       "      <td>0</td>\n",
       "      <td>0</td>\n",
       "      <td>0</td>\n",
       "      <td>1</td>\n",
       "      <td>0</td>\n",
       "      <td>0</td>\n",
       "      <td>1</td>\n",
       "      <td>0</td>\n",
       "    </tr>\n",
       "    <tr>\n",
       "      <th>4</th>\n",
       "      <td>57</td>\n",
       "      <td>0</td>\n",
       "      <td>120</td>\n",
       "      <td>354</td>\n",
       "      <td>0</td>\n",
       "      <td>163</td>\n",
       "      <td>1</td>\n",
       "      <td>0.6</td>\n",
       "      <td>0</td>\n",
       "      <td>1</td>\n",
       "      <td>...</td>\n",
       "      <td>0</td>\n",
       "      <td>1</td>\n",
       "      <td>0</td>\n",
       "      <td>0</td>\n",
       "      <td>0</td>\n",
       "      <td>1</td>\n",
       "      <td>0</td>\n",
       "      <td>0</td>\n",
       "      <td>1</td>\n",
       "      <td>0</td>\n",
       "    </tr>\n",
       "  </tbody>\n",
       "</table>\n",
       "<p>5 rows × 24 columns</p>\n",
       "</div>"
      ],
      "text/plain": [
       "   age  sex  trtbps  chol  fbs  thalachh  exng  oldpeak  caa  output  ...  \\\n",
       "0   63    1     145   233    1       150     0      2.3    0       1  ...   \n",
       "1   37    1     130   250    0       187     0      3.5    0       1  ...   \n",
       "2   41    0     130   204    0       172     0      1.4    0       1  ...   \n",
       "3   56    1     120   236    0       178     0      0.8    0       1  ...   \n",
       "4   57    0     120   354    0       163     1      0.6    0       1  ...   \n",
       "\n",
       "   restecg_0  restecg_1  restecg_2  slp_0  slp_1  slp_2  thall_0  thall_1  \\\n",
       "0          1          0          0      1      0      0        0        1   \n",
       "1          0          1          0      1      0      0        0        0   \n",
       "2          1          0          0      0      0      1        0        0   \n",
       "3          0          1          0      0      0      1        0        0   \n",
       "4          0          1          0      0      0      1        0        0   \n",
       "\n",
       "   thall_2  thall_3  \n",
       "0        0        0  \n",
       "1        1        0  \n",
       "2        1        0  \n",
       "3        1        0  \n",
       "4        1        0  \n",
       "\n",
       "[5 rows x 24 columns]"
      ]
     },
     "execution_count": 105,
     "metadata": {},
     "output_type": "execute_result"
    }
   ],
   "source": [
    "# Convert categorical variables to dummy/indicator variables\n",
    "heart_dummies = pd.get_dummies(heart, columns=['cp', 'restecg', 'slp', 'thall'], dtype=int)\n",
    "# heart_dummies = pd.get_dummies(heart, columns=['cp', 'restecg'])\n",
    "\n",
    "# pd.set_option('display.max_columns', None)\n",
    "# heart_dummies = heart_dummies.drop(columns=['slp', 'oldpeak', 'thall'])\n",
    "# Display the new DataFrame with dummy variables\n",
    "heart_dummies.head()"
   ]
  },
  {
   "cell_type": "code",
   "execution_count": 106,
   "metadata": {},
   "outputs": [],
   "source": [
    "# heart_dummies['cp_0'] = heart_dummies['cp_0'] + 0\n",
    "# heart_dummies['cp_1'] = heart_dummies['cp_1'] + 0\n",
    "# heart_dummies['cp_2'] = heart_dummies['cp_2'] + 0\n",
    "# heart_dummies['cp_3'] = heart_dummies['cp_3'] + 0\n",
    "# heart_dummies['restecg_0'] = heart_dummies['restecg_0'] + 0\n",
    "# heart_dummies['restecg_1'] = heart_dummies['restecg_1'] + 0\n",
    "# heart_dummies['restecg_2'] = heart_dummies['restecg_2'] + 0 \n",
    "# heart_dummies['slp_0'] = heart_dummies['slp_0'] + 0\n",
    "# heart_dummies['slp_1'] = heart_dummies['slp_1'] + 0 \n",
    "# heart_dummies['slp_2'] = heart_dummies['slp_2'] + 0\n",
    "# heart_dummies['thall_0'] = heart_dummies['thall_0'] + 0\n",
    "# heart_dummies['thall_1'] = heart_dummies['thall_1'] + 0\n",
    "# heart_dummies['thall_2'] = heart_dummies['thall_2'] + 0\n",
    "# heart_dummies['thall_3'] = heart_dummies['thall_3'] + 0\n",
    "# heart_dummies.head()"
   ]
  },
  {
   "cell_type": "code",
   "execution_count": 107,
   "metadata": {},
   "outputs": [
    {
     "name": "stdout",
     "output_type": "stream",
     "text": [
      "Warning: Maximum number of iterations has been exceeded.\n",
      "         Current function value: 0.332828\n",
      "         Iterations: 35\n"
     ]
    },
    {
     "name": "stderr",
     "output_type": "stream",
     "text": [
      "c:\\Python312\\Lib\\site-packages\\statsmodels\\base\\model.py:607: ConvergenceWarning: Maximum Likelihood optimization failed to converge. Check mle_retvals\n",
      "  warnings.warn(\"Maximum Likelihood optimization failed to \"\n"
     ]
    },
    {
     "data": {
      "text/html": [
       "<table class=\"simpletable\">\n",
       "<caption>Logit Regression Results</caption>\n",
       "<tr>\n",
       "  <th>Dep. Variable:</th>        <td>output</td>      <th>  No. Observations:  </th>  <td>   303</td>  \n",
       "</tr>\n",
       "<tr>\n",
       "  <th>Model:</th>                 <td>Logit</td>      <th>  Df Residuals:      </th>  <td>   283</td>  \n",
       "</tr>\n",
       "<tr>\n",
       "  <th>Method:</th>                 <td>MLE</td>       <th>  Df Model:          </th>  <td>    19</td>  \n",
       "</tr>\n",
       "<tr>\n",
       "  <th>Date:</th>            <td>Wed, 15 May 2024</td> <th>  Pseudo R-squ.:     </th>  <td>0.5171</td>  \n",
       "</tr>\n",
       "<tr>\n",
       "  <th>Time:</th>                <td>19:45:21</td>     <th>  Log-Likelihood:    </th> <td> -100.85</td> \n",
       "</tr>\n",
       "<tr>\n",
       "  <th>converged:</th>             <td>False</td>      <th>  LL-Null:           </th> <td> -208.82</td> \n",
       "</tr>\n",
       "<tr>\n",
       "  <th>Covariance Type:</th>     <td>nonrobust</td>    <th>  LLR p-value:       </th> <td>2.239e-35</td>\n",
       "</tr>\n",
       "</table>\n",
       "<table class=\"simpletable\">\n",
       "<tr>\n",
       "      <td></td>         <th>coef</th>     <th>std err</th>      <th>z</th>      <th>P>|z|</th>  <th>[0.025</th>    <th>0.975]</th>  \n",
       "</tr>\n",
       "<tr>\n",
       "  <th>Intercept</th> <td>    1.5217</td> <td>      nan</td> <td>      nan</td> <td>   nan</td> <td>      nan</td> <td>      nan</td>\n",
       "</tr>\n",
       "<tr>\n",
       "  <th>age</th>       <td>   -0.0006</td> <td>    0.024</td> <td>   -0.024</td> <td> 0.981</td> <td>   -0.047</td> <td>    0.046</td>\n",
       "</tr>\n",
       "<tr>\n",
       "  <th>sex</th>       <td>   -1.5149</td> <td>    0.521</td> <td>   -2.906</td> <td> 0.004</td> <td>   -2.537</td> <td>   -0.493</td>\n",
       "</tr>\n",
       "<tr>\n",
       "  <th>trtbps</th>    <td>   -0.0171</td> <td>    0.011</td> <td>   -1.596</td> <td> 0.111</td> <td>   -0.038</td> <td>    0.004</td>\n",
       "</tr>\n",
       "<tr>\n",
       "  <th>chol</th>      <td>   -0.0043</td> <td>    0.004</td> <td>   -1.114</td> <td> 0.265</td> <td>   -0.012</td> <td>    0.003</td>\n",
       "</tr>\n",
       "<tr>\n",
       "  <th>fbs</th>       <td>    0.1764</td> <td>    0.566</td> <td>    0.312</td> <td> 0.755</td> <td>   -0.933</td> <td>    1.286</td>\n",
       "</tr>\n",
       "<tr>\n",
       "  <th>thalachh</th>  <td>    0.0171</td> <td>    0.011</td> <td>    1.596</td> <td> 0.111</td> <td>   -0.004</td> <td>    0.038</td>\n",
       "</tr>\n",
       "<tr>\n",
       "  <th>exng</th>      <td>   -0.7631</td> <td>    0.426</td> <td>   -1.791</td> <td> 0.073</td> <td>   -1.598</td> <td>    0.072</td>\n",
       "</tr>\n",
       "<tr>\n",
       "  <th>oldpeak</th>   <td>   -0.4893</td> <td>    0.226</td> <td>   -2.167</td> <td> 0.030</td> <td>   -0.932</td> <td>   -0.047</td>\n",
       "</tr>\n",
       "<tr>\n",
       "  <th>caa</th>       <td>   -0.8332</td> <td>    0.204</td> <td>   -4.078</td> <td> 0.000</td> <td>   -1.234</td> <td>   -0.433</td>\n",
       "</tr>\n",
       "<tr>\n",
       "  <th>cp_0</th>      <td>   -0.8557</td> <td> 1.56e+07</td> <td> -5.5e-08</td> <td> 1.000</td> <td>-3.05e+07</td> <td> 3.05e+07</td>\n",
       "</tr>\n",
       "<tr>\n",
       "  <th>cp_1</th>      <td>    0.1276</td> <td> 1.54e+07</td> <td>  8.3e-09</td> <td> 1.000</td> <td>-3.01e+07</td> <td> 3.01e+07</td>\n",
       "</tr>\n",
       "<tr>\n",
       "  <th>cp_2</th>      <td>    1.0896</td> <td> 1.53e+07</td> <td>  7.1e-08</td> <td> 1.000</td> <td>-3.01e+07</td> <td> 3.01e+07</td>\n",
       "</tr>\n",
       "<tr>\n",
       "  <th>cp_3</th>      <td>    1.1603</td> <td> 1.61e+07</td> <td>  7.2e-08</td> <td> 1.000</td> <td>-3.16e+07</td> <td> 3.16e+07</td>\n",
       "</tr>\n",
       "<tr>\n",
       "  <th>restecg_0</th> <td>    0.4094</td> <td>      nan</td> <td>      nan</td> <td>   nan</td> <td>      nan</td> <td>      nan</td>\n",
       "</tr>\n",
       "<tr>\n",
       "  <th>restecg_1</th> <td>    0.9796</td> <td>      nan</td> <td>      nan</td> <td>   nan</td> <td>      nan</td> <td>      nan</td>\n",
       "</tr>\n",
       "<tr>\n",
       "  <th>restecg_2</th> <td>    0.1327</td> <td>      nan</td> <td>      nan</td> <td>   nan</td> <td>      nan</td> <td>      nan</td>\n",
       "</tr>\n",
       "<tr>\n",
       "  <th>slp_0</th>     <td>    0.6799</td> <td>      nan</td> <td>      nan</td> <td>   nan</td> <td>      nan</td> <td>      nan</td>\n",
       "</tr>\n",
       "<tr>\n",
       "  <th>slp_1</th>     <td>   -0.0397</td> <td>      nan</td> <td>      nan</td> <td>   nan</td> <td>      nan</td> <td>      nan</td>\n",
       "</tr>\n",
       "<tr>\n",
       "  <th>slp_2</th>     <td>    0.8815</td> <td>      nan</td> <td>      nan</td> <td>   nan</td> <td>      nan</td> <td>      nan</td>\n",
       "</tr>\n",
       "<tr>\n",
       "  <th>thall_0</th>   <td>   -0.6549</td> <td>      nan</td> <td>      nan</td> <td>   nan</td> <td>      nan</td> <td>      nan</td>\n",
       "</tr>\n",
       "<tr>\n",
       "  <th>thall_1</th>   <td>    1.1598</td> <td>      nan</td> <td>      nan</td> <td>   nan</td> <td>      nan</td> <td>      nan</td>\n",
       "</tr>\n",
       "<tr>\n",
       "  <th>thall_2</th>   <td>    1.1984</td> <td>      nan</td> <td>      nan</td> <td>   nan</td> <td>      nan</td> <td>      nan</td>\n",
       "</tr>\n",
       "<tr>\n",
       "  <th>thall_3</th>   <td>   -0.1816</td> <td>      nan</td> <td>      nan</td> <td>   nan</td> <td>      nan</td> <td>      nan</td>\n",
       "</tr>\n",
       "</table>"
      ],
      "text/latex": [
       "\\begin{center}\n",
       "\\begin{tabular}{lclc}\n",
       "\\toprule\n",
       "\\textbf{Dep. Variable:}   &      output      & \\textbf{  No. Observations:  } &      303    \\\\\n",
       "\\textbf{Model:}           &      Logit       & \\textbf{  Df Residuals:      } &      283    \\\\\n",
       "\\textbf{Method:}          &       MLE        & \\textbf{  Df Model:          } &       19    \\\\\n",
       "\\textbf{Date:}            & Wed, 15 May 2024 & \\textbf{  Pseudo R-squ.:     } &   0.5171    \\\\\n",
       "\\textbf{Time:}            &     19:45:21     & \\textbf{  Log-Likelihood:    } &   -100.85   \\\\\n",
       "\\textbf{converged:}       &      False       & \\textbf{  LL-Null:           } &   -208.82   \\\\\n",
       "\\textbf{Covariance Type:} &    nonrobust     & \\textbf{  LLR p-value:       } & 2.239e-35   \\\\\n",
       "\\bottomrule\n",
       "\\end{tabular}\n",
       "\\begin{tabular}{lcccccc}\n",
       "                    & \\textbf{coef} & \\textbf{std err} & \\textbf{z} & \\textbf{P$> |$z$|$} & \\textbf{[0.025} & \\textbf{0.975]}  \\\\\n",
       "\\midrule\n",
       "\\textbf{Intercept}  &       1.5217  &          nan     &       nan  &           nan        &          nan    &          nan     \\\\\n",
       "\\textbf{age}        &      -0.0006  &        0.024     &    -0.024  &         0.981        &       -0.047    &        0.046     \\\\\n",
       "\\textbf{sex}        &      -1.5149  &        0.521     &    -2.906  &         0.004        &       -2.537    &       -0.493     \\\\\n",
       "\\textbf{trtbps}     &      -0.0171  &        0.011     &    -1.596  &         0.111        &       -0.038    &        0.004     \\\\\n",
       "\\textbf{chol}       &      -0.0043  &        0.004     &    -1.114  &         0.265        &       -0.012    &        0.003     \\\\\n",
       "\\textbf{fbs}        &       0.1764  &        0.566     &     0.312  &         0.755        &       -0.933    &        1.286     \\\\\n",
       "\\textbf{thalachh}   &       0.0171  &        0.011     &     1.596  &         0.111        &       -0.004    &        0.038     \\\\\n",
       "\\textbf{exng}       &      -0.7631  &        0.426     &    -1.791  &         0.073        &       -1.598    &        0.072     \\\\\n",
       "\\textbf{oldpeak}    &      -0.4893  &        0.226     &    -2.167  &         0.030        &       -0.932    &       -0.047     \\\\\n",
       "\\textbf{caa}        &      -0.8332  &        0.204     &    -4.078  &         0.000        &       -1.234    &       -0.433     \\\\\n",
       "\\textbf{cp\\_0}      &      -0.8557  &     1.56e+07     &  -5.5e-08  &         1.000        &    -3.05e+07    &     3.05e+07     \\\\\n",
       "\\textbf{cp\\_1}      &       0.1276  &     1.54e+07     &   8.3e-09  &         1.000        &    -3.01e+07    &     3.01e+07     \\\\\n",
       "\\textbf{cp\\_2}      &       1.0896  &     1.53e+07     &   7.1e-08  &         1.000        &    -3.01e+07    &     3.01e+07     \\\\\n",
       "\\textbf{cp\\_3}      &       1.1603  &     1.61e+07     &   7.2e-08  &         1.000        &    -3.16e+07    &     3.16e+07     \\\\\n",
       "\\textbf{restecg\\_0} &       0.4094  &          nan     &       nan  &           nan        &          nan    &          nan     \\\\\n",
       "\\textbf{restecg\\_1} &       0.9796  &          nan     &       nan  &           nan        &          nan    &          nan     \\\\\n",
       "\\textbf{restecg\\_2} &       0.1327  &          nan     &       nan  &           nan        &          nan    &          nan     \\\\\n",
       "\\textbf{slp\\_0}     &       0.6799  &          nan     &       nan  &           nan        &          nan    &          nan     \\\\\n",
       "\\textbf{slp\\_1}     &      -0.0397  &          nan     &       nan  &           nan        &          nan    &          nan     \\\\\n",
       "\\textbf{slp\\_2}     &       0.8815  &          nan     &       nan  &           nan        &          nan    &          nan     \\\\\n",
       "\\textbf{thall\\_0}   &      -0.6549  &          nan     &       nan  &           nan        &          nan    &          nan     \\\\\n",
       "\\textbf{thall\\_1}   &       1.1598  &          nan     &       nan  &           nan        &          nan    &          nan     \\\\\n",
       "\\textbf{thall\\_2}   &       1.1984  &          nan     &       nan  &           nan        &          nan    &          nan     \\\\\n",
       "\\textbf{thall\\_3}   &      -0.1816  &          nan     &       nan  &           nan        &          nan    &          nan     \\\\\n",
       "\\bottomrule\n",
       "\\end{tabular}\n",
       "%\\caption{Logit Regression Results}\n",
       "\\end{center}"
      ],
      "text/plain": [
       "<class 'statsmodels.iolib.summary.Summary'>\n",
       "\"\"\"\n",
       "                           Logit Regression Results                           \n",
       "==============================================================================\n",
       "Dep. Variable:                 output   No. Observations:                  303\n",
       "Model:                          Logit   Df Residuals:                      283\n",
       "Method:                           MLE   Df Model:                           19\n",
       "Date:                Wed, 15 May 2024   Pseudo R-squ.:                  0.5171\n",
       "Time:                        19:45:21   Log-Likelihood:                -100.85\n",
       "converged:                      False   LL-Null:                       -208.82\n",
       "Covariance Type:            nonrobust   LLR p-value:                 2.239e-35\n",
       "==============================================================================\n",
       "                 coef    std err          z      P>|z|      [0.025      0.975]\n",
       "------------------------------------------------------------------------------\n",
       "Intercept      1.5217        nan        nan        nan         nan         nan\n",
       "age           -0.0006      0.024     -0.024      0.981      -0.047       0.046\n",
       "sex           -1.5149      0.521     -2.906      0.004      -2.537      -0.493\n",
       "trtbps        -0.0171      0.011     -1.596      0.111      -0.038       0.004\n",
       "chol          -0.0043      0.004     -1.114      0.265      -0.012       0.003\n",
       "fbs            0.1764      0.566      0.312      0.755      -0.933       1.286\n",
       "thalachh       0.0171      0.011      1.596      0.111      -0.004       0.038\n",
       "exng          -0.7631      0.426     -1.791      0.073      -1.598       0.072\n",
       "oldpeak       -0.4893      0.226     -2.167      0.030      -0.932      -0.047\n",
       "caa           -0.8332      0.204     -4.078      0.000      -1.234      -0.433\n",
       "cp_0          -0.8557   1.56e+07   -5.5e-08      1.000   -3.05e+07    3.05e+07\n",
       "cp_1           0.1276   1.54e+07    8.3e-09      1.000   -3.01e+07    3.01e+07\n",
       "cp_2           1.0896   1.53e+07    7.1e-08      1.000   -3.01e+07    3.01e+07\n",
       "cp_3           1.1603   1.61e+07    7.2e-08      1.000   -3.16e+07    3.16e+07\n",
       "restecg_0      0.4094        nan        nan        nan         nan         nan\n",
       "restecg_1      0.9796        nan        nan        nan         nan         nan\n",
       "restecg_2      0.1327        nan        nan        nan         nan         nan\n",
       "slp_0          0.6799        nan        nan        nan         nan         nan\n",
       "slp_1         -0.0397        nan        nan        nan         nan         nan\n",
       "slp_2          0.8815        nan        nan        nan         nan         nan\n",
       "thall_0       -0.6549        nan        nan        nan         nan         nan\n",
       "thall_1        1.1598        nan        nan        nan         nan         nan\n",
       "thall_2        1.1984        nan        nan        nan         nan         nan\n",
       "thall_3       -0.1816        nan        nan        nan         nan         nan\n",
       "==============================================================================\n",
       "\"\"\""
      ]
     },
     "execution_count": 107,
     "metadata": {},
     "output_type": "execute_result"
    }
   ],
   "source": [
    "m = smf.logit(\"output ~ age + sex + trtbps + chol + fbs + thalachh + exng + oldpeak + caa + cp_0 + cp_1 + cp_2 + cp_3 + restecg_0 + restecg_1 + restecg_2 + slp_0 + slp_1 + slp_2 + thall_0 + thall_1 + thall_2 + thall_3\", data= heart_dummies).fit()\n",
    "m.summary()"
   ]
  },
  {
   "cell_type": "markdown",
   "metadata": {},
   "source": [
    "3."
   ]
  },
  {
   "cell_type": "markdown",
   "metadata": {},
   "source": [
    "a) \n",
    "\n",
    "The coefficient for age is -0.0006. A negative coefficient indicates that as age increases, the probability of having a heart attack decreases.\n",
    "However, the magnitude of this coefficient is very small, suggesting that the effect of age on the probability of a heart attack is very slight.\n",
    "\n",
    "The p-value for age is 0.981.\n",
    "In this case, the p-value of 0.981 is much greater than 0.05, meaning that the effect of age on the probability of a heart attack is not statistically significant."
   ]
  },
  {
   "cell_type": "markdown",
   "metadata": {},
   "source": [
    "b)"
   ]
  },
  {
   "cell_type": "markdown",
   "metadata": {},
   "source": [
    "The coefficient for sex is -1.5149. In this dataset, sex is likely coded as 1 for male and 0 for female.\n",
    "A negative coefficient indicates that being male (sex = 1) is associated with a lower probability of having a heart attack compared to being female (sex = 0).\n",
    "\n",
    "The p-value of 0.004 is much less than 0.05, meaning that the effect of sex on the probability of a heart attack is statistically significant."
   ]
  },
  {
   "cell_type": "code",
   "execution_count": 108,
   "metadata": {},
   "outputs": [
    {
     "data": {
      "text/plain": [
       "0.5016999934493637"
      ]
     },
     "execution_count": 108,
     "metadata": {},
     "output_type": "execute_result"
    }
   ],
   "source": [
    "b0 = 1.5217\n",
    "b1 = -1.5149\n",
    "sex_male = 1\n",
    "y = b0 + b1 * sex_male\n",
    "pr_m = 1/(1 + np.exp(-y))\n",
    "pr_m"
   ]
  },
  {
   "cell_type": "code",
   "execution_count": 109,
   "metadata": {},
   "outputs": [
    {
     "data": {
      "text/plain": [
       "0.820788677836263"
      ]
     },
     "execution_count": 109,
     "metadata": {},
     "output_type": "execute_result"
    }
   ],
   "source": [
    "b0 = 1.5217\n",
    "b1 = -1.5149\n",
    "sex_female = 0\n",
    "y = b0 + b1 * sex_female\n",
    "pr_f = 1/(1 + np.exp(-y))\n",
    "pr_f"
   ]
  },
  {
   "cell_type": "code",
   "execution_count": 110,
   "metadata": {},
   "outputs": [
    {
     "data": {
      "text/plain": [
       "0.3190886843868993"
      ]
     },
     "execution_count": 110,
     "metadata": {},
     "output_type": "execute_result"
    }
   ],
   "source": [
    "pr_diff = pr_f - pr_m\n",
    "pr_diff"
   ]
  },
  {
   "cell_type": "markdown",
   "metadata": {},
   "source": [
    "Women are about 31.9% more likely to have a heart attack than men."
   ]
  },
  {
   "cell_type": "markdown",
   "metadata": {},
   "source": [
    "c)"
   ]
  },
  {
   "cell_type": "markdown",
   "metadata": {},
   "source": [
    "No, higher blood pressure is not significantly associated with more heart attacks. The coefficient of -0.0171 means that for each unit increase in resting blood pressure (trtbps), the log-odds of having a heart attack decreases by 0.0171, which is not much but still a decrease. The p-value for the coefficient of trtbps is 0.111, which indicates that the association between resting blood pressure and heart attacks is not statistically significant."
   ]
  },
  {
   "cell_type": "markdown",
   "metadata": {},
   "source": [
    "d)"
   ]
  },
  {
   "cell_type": "code",
   "execution_count": 111,
   "metadata": {},
   "outputs": [
    {
     "data": {
      "text/plain": [
       "0.6606069144942678"
      ]
     },
     "execution_count": 111,
     "metadata": {},
     "output_type": "execute_result"
    }
   ],
   "source": [
    "b0 = 1.5217\n",
    "b1 = -0.8557\n",
    "cp_0 = 1\n",
    "y = b0 + b1 * cp_0\n",
    "pr_cp1 = 1/(1 + np.exp(-y))\n",
    "pr_cp1"
   ]
  },
  {
   "cell_type": "code",
   "execution_count": 112,
   "metadata": {},
   "outputs": [
    {
     "data": {
      "text/plain": [
       "0.9315852971471074"
      ]
     },
     "execution_count": 112,
     "metadata": {},
     "output_type": "execute_result"
    }
   ],
   "source": [
    "b0 = 1.5217\n",
    "b1 = 1.0896\n",
    "cp_2 = 1\n",
    "y = b0 + b1 * cp_2\n",
    "pr_cp3 = 1/(1 + np.exp(-y))\n",
    "pr_cp3"
   ]
  },
  {
   "cell_type": "code",
   "execution_count": 113,
   "metadata": {},
   "outputs": [
    {
     "data": {
      "text/plain": [
       "0.2709783826528396"
      ]
     },
     "execution_count": 113,
     "metadata": {},
     "output_type": "execute_result"
    }
   ],
   "source": [
    "cp_diff = pr_cp3 - pr_cp1\n",
    "cp_diff"
   ]
  },
  {
   "cell_type": "markdown",
   "metadata": {},
   "source": [
    "A heart attack is approximately 27.09% less likely for a person with chest pain of type 1 compared to someone with chest pain of type 3"
   ]
  },
  {
   "cell_type": "code",
   "execution_count": 114,
   "metadata": {},
   "outputs": [
    {
     "data": {
      "text/plain": [
       "0.1331871496005706"
      ]
     },
     "execution_count": 114,
     "metadata": {},
     "output_type": "execute_result"
    }
   ],
   "source": [
    "# Coefficients for chest pain types\n",
    "beta_cp1 = -0.8557\n",
    "beta_cp3 = 1.1603\n",
    "\n",
    "# Calculate the difference in coefficients\n",
    "diff = beta_cp1 - beta_cp3\n",
    "\n",
    "# Calculate the odds ratio\n",
    "odds_ratio = np.exp(diff)\n",
    "odds_ratio"
   ]
  },
  {
   "cell_type": "markdown",
   "metadata": {},
   "source": [
    "The odds ratio of 0.1334 indicates that  someone with chest pain type 1 is significantly less likely to have a heart attack compared to someone with chest pain type 3. Specifically, they are about 86.66% less likely (since 1 − 0.1334 = 0.8666)"
   ]
  },
  {
   "cell_type": "markdown",
   "metadata": {},
   "source": [
    "e) "
   ]
  },
  {
   "cell_type": "markdown",
   "metadata": {},
   "source": [
    "The reference category for rest ECG (restecg) is 'normal'\n",
    "\n",
    "None of the categories (restecg_1, restecg_2, restecg_3) are statistically significant predictors of a heart attack, as all p-values are greater than 0.05.\n",
    "This means there is no significant difference in the probability of a heart attack when comparing the reference category (normal ECG) to any of the other restecg categories, and the type of ECG (whether normal or showing abnormalities) is not a statistically significant predictor of a heart attack."
   ]
  }
 ],
 "metadata": {
  "kernelspec": {
   "display_name": "Python 3",
   "language": "python",
   "name": "python3"
  },
  "language_info": {
   "codemirror_mode": {
    "name": "ipython",
    "version": 3
   },
   "file_extension": ".py",
   "mimetype": "text/x-python",
   "name": "python",
   "nbconvert_exporter": "python",
   "pygments_lexer": "ipython3",
   "version": "3.12.0"
  }
 },
 "nbformat": 4,
 "nbformat_minor": 2
}
